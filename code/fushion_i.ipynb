{
 "cells": [
  {
   "cell_type": "markdown",
   "id": "ba034b0f",
   "metadata": {},
   "source": [
    "Now that we've settled on our final model, let us start putting together what we'll use for the app.\n",
    "\n",
    "Ultimately this file just contains my 'sketches' at trying to plan how I'll put everything together. I may even just delete this/add it to the gitignore."
   ]
  },
  {
   "cell_type": "code",
   "execution_count": 4,
   "id": "525a9648",
   "metadata": {},
   "outputs": [],
   "source": [
    "import pandas as pd\n",
    "import numpy as np\n",
    "import matplotlib.pyplot as plt"
   ]
  },
  {
   "cell_type": "code",
   "execution_count": 5,
   "id": "dc161642",
   "metadata": {},
   "outputs": [],
   "source": [
    "from bs4 import BeautifulSoup\n",
    "import regex as re\n",
    "from nltk.stem.porter import PorterStemmer\n",
    "\n",
    "from sklearn.pipeline import Pipeline\n",
    "from sklearn.model_selection import GridSearchCV\n",
    "from sklearn.model_selection import train_test_split\n",
    "from sklearn.preprocessing import FunctionTransformer\n",
    "\n",
    "from sklearn.feature_extraction.text import TfidfVectorizer\n",
    "\n",
    "from sklearn.linear_model import LogisticRegression\n",
    "\n",
    "import warnings\n",
    "warnings.simplefilter(action='ignore', category=FutureWarning);\n",
    "\n",
    "from sklearn.metrics import confusion_matrix, ConfusionMatrixDisplay\n",
    "\n",
    "from sklearn.metrics import make_scorer\n",
    "from sklearn.metrics import recall_score\n",
    "\n",
    "from random import choices\n",
    "\n",
    "import pickle"
   ]
  },
  {
   "cell_type": "code",
   "execution_count": 7,
   "id": "e428e4b2",
   "metadata": {},
   "outputs": [],
   "source": [
    "with open('model_base.pkl', 'rb') as f: #reading bytes\n",
    "    foo = pickle.load(f)"
   ]
  },
  {
   "cell_type": "code",
   "execution_count": 8,
   "id": "e62325ed",
   "metadata": {},
   "outputs": [
    {
     "name": "stdout",
     "output_type": "stream",
     "text": [
      "(39565, 60)\n"
     ]
    },
    {
     "data": {
      "text/html": [
       "<div>\n",
       "<style scoped>\n",
       "    .dataframe tbody tr th:only-of-type {\n",
       "        vertical-align: middle;\n",
       "    }\n",
       "\n",
       "    .dataframe tbody tr th {\n",
       "        vertical-align: top;\n",
       "    }\n",
       "\n",
       "    .dataframe thead th {\n",
       "        text-align: right;\n",
       "    }\n",
       "</style>\n",
       "<table border=\"1\" class=\"dataframe\">\n",
       "  <thead>\n",
       "    <tr style=\"text-align: right;\">\n",
       "      <th></th>\n",
       "      <th>platform</th>\n",
       "      <th>text</th>\n",
       "      <th>hate_speech_score</th>\n",
       "      <th>target_race_asian</th>\n",
       "      <th>target_race_black</th>\n",
       "      <th>target_race_latinx</th>\n",
       "      <th>target_race_middle_eastern</th>\n",
       "      <th>target_race_native_american</th>\n",
       "      <th>target_race_pacific_islander</th>\n",
       "      <th>target_race_white</th>\n",
       "      <th>...</th>\n",
       "      <th>target_disability_neurological</th>\n",
       "      <th>target_disability_visually_impaired</th>\n",
       "      <th>target_disability_hearing_impaired</th>\n",
       "      <th>target_disability_unspecific</th>\n",
       "      <th>target_disability_other</th>\n",
       "      <th>target_disability</th>\n",
       "      <th>hate_rank</th>\n",
       "      <th>capital_sentance</th>\n",
       "      <th>cleaned_text</th>\n",
       "      <th>wc_cleaned_text</th>\n",
       "    </tr>\n",
       "  </thead>\n",
       "  <tbody>\n",
       "    <tr>\n",
       "      <th>0</th>\n",
       "      <td>0</td>\n",
       "      <td>White people are trash.</td>\n",
       "      <td>0.46</td>\n",
       "      <td>0.0</td>\n",
       "      <td>0.0</td>\n",
       "      <td>0.0</td>\n",
       "      <td>0.0</td>\n",
       "      <td>0.0</td>\n",
       "      <td>0.0</td>\n",
       "      <td>1.0</td>\n",
       "      <td>...</td>\n",
       "      <td>0.0</td>\n",
       "      <td>0.0</td>\n",
       "      <td>0.0</td>\n",
       "      <td>0.0</td>\n",
       "      <td>0.0</td>\n",
       "      <td>0.0</td>\n",
       "      <td>0</td>\n",
       "      <td>0</td>\n",
       "      <td>white peopl are trash</td>\n",
       "      <td>4</td>\n",
       "    </tr>\n",
       "    <tr>\n",
       "      <th>1</th>\n",
       "      <td>0</td>\n",
       "      <td>You've caught the big gay, it's known to be ai...</td>\n",
       "      <td>0.03</td>\n",
       "      <td>0.0</td>\n",
       "      <td>0.0</td>\n",
       "      <td>0.0</td>\n",
       "      <td>0.0</td>\n",
       "      <td>0.0</td>\n",
       "      <td>0.0</td>\n",
       "      <td>0.0</td>\n",
       "      <td>...</td>\n",
       "      <td>0.0</td>\n",
       "      <td>0.0</td>\n",
       "      <td>0.0</td>\n",
       "      <td>0.0</td>\n",
       "      <td>0.0</td>\n",
       "      <td>0.0</td>\n",
       "      <td>0</td>\n",
       "      <td>0</td>\n",
       "      <td>you ve caught the big gay it s known to be air...</td>\n",
       "      <td>14</td>\n",
       "    </tr>\n",
       "    <tr>\n",
       "      <th>2</th>\n",
       "      <td>0</td>\n",
       "      <td>I'm not saying you said that, I'm just saying ...</td>\n",
       "      <td>-1.29</td>\n",
       "      <td>0.0</td>\n",
       "      <td>1.0</td>\n",
       "      <td>0.0</td>\n",
       "      <td>0.0</td>\n",
       "      <td>0.0</td>\n",
       "      <td>0.0</td>\n",
       "      <td>0.0</td>\n",
       "      <td>...</td>\n",
       "      <td>0.0</td>\n",
       "      <td>0.0</td>\n",
       "      <td>0.0</td>\n",
       "      <td>0.0</td>\n",
       "      <td>0.0</td>\n",
       "      <td>0.0</td>\n",
       "      <td>0</td>\n",
       "      <td>0</td>\n",
       "      <td>i m not say you said that i m just say that if...</td>\n",
       "      <td>75</td>\n",
       "    </tr>\n",
       "    <tr>\n",
       "      <th>3</th>\n",
       "      <td>0</td>\n",
       "      <td>Donald Trump. Yeet myself off a building onto ...</td>\n",
       "      <td>-0.24</td>\n",
       "      <td>0.0</td>\n",
       "      <td>0.0</td>\n",
       "      <td>0.0</td>\n",
       "      <td>0.0</td>\n",
       "      <td>0.0</td>\n",
       "      <td>0.0</td>\n",
       "      <td>0.0</td>\n",
       "      <td>...</td>\n",
       "      <td>0.0</td>\n",
       "      <td>0.0</td>\n",
       "      <td>0.0</td>\n",
       "      <td>0.0</td>\n",
       "      <td>0.0</td>\n",
       "      <td>0.0</td>\n",
       "      <td>0</td>\n",
       "      <td>0</td>\n",
       "      <td>donald trump yeet myself off a build onto a ga...</td>\n",
       "      <td>20</td>\n",
       "    </tr>\n",
       "    <tr>\n",
       "      <th>4</th>\n",
       "      <td>0</td>\n",
       "      <td>Fabrice Fabrice is ostensibly black or black/l...</td>\n",
       "      <td>-2.84</td>\n",
       "      <td>0.0</td>\n",
       "      <td>1.0</td>\n",
       "      <td>1.0</td>\n",
       "      <td>0.0</td>\n",
       "      <td>0.0</td>\n",
       "      <td>0.0</td>\n",
       "      <td>0.0</td>\n",
       "      <td>...</td>\n",
       "      <td>0.0</td>\n",
       "      <td>0.0</td>\n",
       "      <td>0.0</td>\n",
       "      <td>0.0</td>\n",
       "      <td>0.0</td>\n",
       "      <td>0.0</td>\n",
       "      <td>0</td>\n",
       "      <td>0</td>\n",
       "      <td>fabric fabric is ostens black or black latino ...</td>\n",
       "      <td>19</td>\n",
       "    </tr>\n",
       "  </tbody>\n",
       "</table>\n",
       "<p>5 rows × 60 columns</p>\n",
       "</div>"
      ],
      "text/plain": [
       "   platform                                               text  \\\n",
       "0         0                            White people are trash.   \n",
       "1         0  You've caught the big gay, it's known to be ai...   \n",
       "2         0  I'm not saying you said that, I'm just saying ...   \n",
       "3         0  Donald Trump. Yeet myself off a building onto ...   \n",
       "4         0  Fabrice Fabrice is ostensibly black or black/l...   \n",
       "\n",
       "   hate_speech_score  target_race_asian  target_race_black  \\\n",
       "0               0.46                0.0                0.0   \n",
       "1               0.03                0.0                0.0   \n",
       "2              -1.29                0.0                1.0   \n",
       "3              -0.24                0.0                0.0   \n",
       "4              -2.84                0.0                1.0   \n",
       "\n",
       "   target_race_latinx  target_race_middle_eastern  \\\n",
       "0                 0.0                         0.0   \n",
       "1                 0.0                         0.0   \n",
       "2                 0.0                         0.0   \n",
       "3                 0.0                         0.0   \n",
       "4                 1.0                         0.0   \n",
       "\n",
       "   target_race_native_american  target_race_pacific_islander  \\\n",
       "0                          0.0                           0.0   \n",
       "1                          0.0                           0.0   \n",
       "2                          0.0                           0.0   \n",
       "3                          0.0                           0.0   \n",
       "4                          0.0                           0.0   \n",
       "\n",
       "   target_race_white  ...  target_disability_neurological  \\\n",
       "0                1.0  ...                             0.0   \n",
       "1                0.0  ...                             0.0   \n",
       "2                0.0  ...                             0.0   \n",
       "3                0.0  ...                             0.0   \n",
       "4                0.0  ...                             0.0   \n",
       "\n",
       "   target_disability_visually_impaired  target_disability_hearing_impaired  \\\n",
       "0                                  0.0                                 0.0   \n",
       "1                                  0.0                                 0.0   \n",
       "2                                  0.0                                 0.0   \n",
       "3                                  0.0                                 0.0   \n",
       "4                                  0.0                                 0.0   \n",
       "\n",
       "   target_disability_unspecific  target_disability_other  target_disability  \\\n",
       "0                           0.0                      0.0                0.0   \n",
       "1                           0.0                      0.0                0.0   \n",
       "2                           0.0                      0.0                0.0   \n",
       "3                           0.0                      0.0                0.0   \n",
       "4                           0.0                      0.0                0.0   \n",
       "\n",
       "   hate_rank  capital_sentance  \\\n",
       "0          0                 0   \n",
       "1          0                 0   \n",
       "2          0                 0   \n",
       "3          0                 0   \n",
       "4          0                 0   \n",
       "\n",
       "                                        cleaned_text  wc_cleaned_text  \n",
       "0                              white peopl are trash                4  \n",
       "1  you ve caught the big gay it s known to be air...               14  \n",
       "2  i m not say you said that i m just say that if...               75  \n",
       "3  donald trump yeet myself off a build onto a ga...               20  \n",
       "4  fabric fabric is ostens black or black latino ...               19  \n",
       "\n",
       "[5 rows x 60 columns]"
      ]
     },
     "execution_count": 8,
     "metadata": {},
     "output_type": "execute_result"
    }
   ],
   "source": [
    "df = pd.read_csv('../data/cleaned_02_ii.csv')\n",
    "print(df.shape)\n",
    "df.head()"
   ]
  },
  {
   "cell_type": "code",
   "execution_count": 9,
   "id": "f3640eeb",
   "metadata": {},
   "outputs": [],
   "source": [
    "X = df['cleaned_text']\n",
    "y = df['hate_rank']\n",
    "\n",
    "X_train, X_test, y_train, y_test = train_test_split(X,\n",
    "                                                    y,\n",
    "                                                    test_size = 3785, #To have a clean 200 2s in the test 3785 pref\n",
    "                                                    random_state = 26, #I like this number\n",
    "                                                    stratify=y) #Particularly important in this case with 3 targets"
   ]
  },
  {
   "cell_type": "code",
   "execution_count": 10,
   "id": "d82f298b",
   "metadata": {},
   "outputs": [
    {
     "name": "stdout",
     "output_type": "stream",
     "text": [
      "(12000, 2)\n"
     ]
    },
    {
     "data": {
      "text/html": [
       "<div>\n",
       "<style scoped>\n",
       "    .dataframe tbody tr th:only-of-type {\n",
       "        vertical-align: middle;\n",
       "    }\n",
       "\n",
       "    .dataframe tbody tr th {\n",
       "        vertical-align: top;\n",
       "    }\n",
       "\n",
       "    .dataframe thead th {\n",
       "        text-align: right;\n",
       "    }\n",
       "</style>\n",
       "<table border=\"1\" class=\"dataframe\">\n",
       "  <thead>\n",
       "    <tr style=\"text-align: right;\">\n",
       "      <th></th>\n",
       "      <th>cleaned_text</th>\n",
       "      <th>hate_rank</th>\n",
       "    </tr>\n",
       "  </thead>\n",
       "  <tbody>\n",
       "    <tr>\n",
       "      <th>9021</th>\n",
       "      <td>i doubt satan ha ani author to bargain with go...</td>\n",
       "      <td>0</td>\n",
       "    </tr>\n",
       "    <tr>\n",
       "      <th>10138</th>\n",
       "      <td>how are there still peopl in 2019 who think th...</td>\n",
       "      <td>0</td>\n",
       "    </tr>\n",
       "    <tr>\n",
       "      <th>7384</th>\n",
       "      <td>i never said becom a minor holi shit i just wa...</td>\n",
       "      <td>0</td>\n",
       "    </tr>\n",
       "    <tr>\n",
       "      <th>7309</th>\n",
       "      <td>if she can perform the part well she wa a good...</td>\n",
       "      <td>0</td>\n",
       "    </tr>\n",
       "    <tr>\n",
       "      <th>7534</th>\n",
       "      <td>jesu that a name i havent heard in a long time...</td>\n",
       "      <td>0</td>\n",
       "    </tr>\n",
       "  </tbody>\n",
       "</table>\n",
       "</div>"
      ],
      "text/plain": [
       "                                            cleaned_text  hate_rank\n",
       "9021   i doubt satan ha ani author to bargain with go...          0\n",
       "10138  how are there still peopl in 2019 who think th...          0\n",
       "7384   i never said becom a minor holi shit i just wa...          0\n",
       "7309   if she can perform the part well she wa a good...          0\n",
       "7534   jesu that a name i havent heard in a long time...          0"
      ]
     },
     "execution_count": 10,
     "metadata": {},
     "output_type": "execute_result"
    }
   ],
   "source": [
    "data = pd.DataFrame(X_train)\n",
    "data['hate_rank'] = y_train\n",
    "data_names = []\n",
    "for i in range(3):\n",
    "    data_names.append(f\"data_{i}\")\n",
    "col_size = 4000\n",
    "for i in range(len(data_names)):#Recall that we're still planning on doing replace=True even for 0.\n",
    "    data_names[i] = data[data['hate_rank']==i].sample(col_size, replace=True, random_state=26)\n",
    "data = pd.concat(data_names)\n",
    "print(data.shape)\n",
    "data.head()"
   ]
  },
  {
   "cell_type": "code",
   "execution_count": 11,
   "id": "190ce0be",
   "metadata": {},
   "outputs": [],
   "source": [
    "X_train = data['cleaned_text']\n",
    "y_train = data['hate_rank']"
   ]
  },
  {
   "cell_type": "code",
   "execution_count": 12,
   "id": "0f6cefea",
   "metadata": {},
   "outputs": [],
   "source": [
    "def custom_recall(y, ypred, weight_list):   \n",
    "    num = 0\n",
    "    recall_base = recall_score(y, ypred, average=None)[1:]\n",
    "    for i in range(len(weight_list)):\n",
    "        num += recall_base[i] * weight_list[i]\n",
    "    return num/sum(weight_list)"
   ]
  },
  {
   "cell_type": "code",
   "execution_count": 13,
   "id": "727c8883",
   "metadata": {},
   "outputs": [
    {
     "name": "stdout",
     "output_type": "stream",
     "text": [
      "[3, 6]\n"
     ]
    }
   ],
   "source": [
    "current_weights={\n",
    "    0:.8\n",
    "    ,1:3\n",
    "    ,2:6\n",
    "}\n",
    "cw_values = list(current_weights.values())[1:]\n",
    "print(cw_values)"
   ]
  },
  {
   "cell_type": "code",
   "execution_count": 14,
   "id": "549876d1",
   "metadata": {},
   "outputs": [
    {
     "name": "stdout",
     "output_type": "stream",
     "text": [
      "0.9036666666666666 0.4501981505944518\n"
     ]
    },
    {
     "data": {
      "image/png": "[encoded data removed]",
      "text/plain": [
       "<Figure size 640x480 with 2 Axes>"
      ]
     },
     "metadata": {},
     "output_type": "display_data"
    }
   ],
   "source": [
    "trial_model = foo #Should change the code later.... but eh\n",
    "trial_model.fit(X_train,y_train)\n",
    "print(trial_model.score(X_train, y_train), trial_model.score(X_test, y_test))\n",
    "\n",
    "preds = trial_model.predict(X_test)\n",
    "preds_prob = trial_model.predict_proba(X_test)\n",
    "hyper_pred_comparer = pd.DataFrame({\n",
    "    'cleaned_text':X_test\n",
    "    ,'actual':y_test\n",
    "    ,'pred':preds\n",
    "    ,'p_0':preds_prob[:,0]\n",
    "    ,'p_1':preds_prob[:,1]\n",
    "    ,'p_2':preds_prob[:,2]\n",
    "})\n",
    "\n",
    "ConfusionMatrixDisplay.from_estimator(trial_model,X_test,y_test, cmap='Greens');"
   ]
  },
  {
   "cell_type": "code",
   "execution_count": 15,
   "id": "05c336ca",
   "metadata": {},
   "outputs": [
    {
     "data": {
      "text/plain": [
       "0.6277581120943954"
      ]
     },
     "execution_count": 15,
     "metadata": {},
     "output_type": "execute_result"
    }
   ],
   "source": [
    "custom_recall(y_test, preds, cw_values)"
   ]
  },
  {
   "cell_type": "code",
   "execution_count": 24,
   "id": "4fabbd7d",
   "metadata": {},
   "outputs": [
    {
     "data": {
      "text/plain": [
       "array([[1161, 1118,  515],\n",
       "       [  50,  406,  335],\n",
       "       [   7,   56,  137]], dtype=int64)"
      ]
     },
     "execution_count": 24,
     "metadata": {},
     "output_type": "execute_result"
    }
   ],
   "source": [
    "bro = confusion_matrix(y_test, preds)\n",
    "bro"
   ]
  },
  {
   "cell_type": "code",
   "execution_count": 25,
   "id": "5200dea8",
   "metadata": {},
   "outputs": [
    {
     "data": {
      "text/plain": [
       "(200, 791)"
      ]
     },
     "execution_count": 25,
     "metadata": {},
     "output_type": "execute_result"
    }
   ],
   "source": [
    "sum(bro[2]), sum(bro[1])"
   ]
  },
  {
   "cell_type": "code",
   "execution_count": 26,
   "id": "51597ad9",
   "metadata": {},
   "outputs": [
    {
     "data": {
      "text/plain": [
       "0.9424823410696267"
      ]
     },
     "execution_count": 26,
     "metadata": {},
     "output_type": "execute_result"
    }
   ],
   "source": [
    "(991-57)/991"
   ]
  },
  {
   "cell_type": "code",
   "execution_count": 16,
   "id": "51528bcb",
   "metadata": {},
   "outputs": [
    {
     "data": {
      "text/html": [
       "<div>\n",
       "<style scoped>\n",
       "    .dataframe tbody tr th:only-of-type {\n",
       "        vertical-align: middle;\n",
       "    }\n",
       "\n",
       "    .dataframe tbody tr th {\n",
       "        vertical-align: top;\n",
       "    }\n",
       "\n",
       "    .dataframe thead th {\n",
       "        text-align: right;\n",
       "    }\n",
       "</style>\n",
       "<table border=\"1\" class=\"dataframe\">\n",
       "  <thead>\n",
       "    <tr style=\"text-align: right;\">\n",
       "      <th></th>\n",
       "      <th>cleaned_text</th>\n",
       "      <th>actual</th>\n",
       "      <th>pred</th>\n",
       "      <th>p_0</th>\n",
       "      <th>p_1</th>\n",
       "      <th>p_2</th>\n",
       "    </tr>\n",
       "  </thead>\n",
       "  <tbody>\n",
       "    <tr>\n",
       "      <th>11319</th>\n",
       "      <td>white trash</td>\n",
       "      <td>0</td>\n",
       "      <td>1</td>\n",
       "      <td>0.013821</td>\n",
       "      <td>0.939824</td>\n",
       "      <td>0.046355</td>\n",
       "    </tr>\n",
       "    <tr>\n",
       "      <th>5256</th>\n",
       "      <td>ugh i m not say they re the sourc i said they ...</td>\n",
       "      <td>0</td>\n",
       "      <td>0</td>\n",
       "      <td>0.567876</td>\n",
       "      <td>0.296856</td>\n",
       "      <td>0.135268</td>\n",
       "    </tr>\n",
       "    <tr>\n",
       "      <th>16919</th>\n",
       "      <td>latina on their way to school url</td>\n",
       "      <td>0</td>\n",
       "      <td>0</td>\n",
       "      <td>0.581017</td>\n",
       "      <td>0.347669</td>\n",
       "      <td>0.071315</td>\n",
       "    </tr>\n",
       "    <tr>\n",
       "      <th>39197</th>\n",
       "      <td>awesom group of athlet and i do support their ...</td>\n",
       "      <td>0</td>\n",
       "      <td>0</td>\n",
       "      <td>0.640133</td>\n",
       "      <td>0.134688</td>\n",
       "      <td>0.225179</td>\n",
       "    </tr>\n",
       "    <tr>\n",
       "      <th>35367</th>\n",
       "      <td>befor i forget they rape littil boy 2 in europ...</td>\n",
       "      <td>0</td>\n",
       "      <td>1</td>\n",
       "      <td>0.078951</td>\n",
       "      <td>0.572913</td>\n",
       "      <td>0.348136</td>\n",
       "    </tr>\n",
       "    <tr>\n",
       "      <th>...</th>\n",
       "      <td>...</td>\n",
       "      <td>...</td>\n",
       "      <td>...</td>\n",
       "      <td>...</td>\n",
       "      <td>...</td>\n",
       "      <td>...</td>\n",
       "    </tr>\n",
       "    <tr>\n",
       "      <th>20521</th>\n",
       "      <td>march onward racist too becaus we don t like a...</td>\n",
       "      <td>0</td>\n",
       "      <td>1</td>\n",
       "      <td>0.197211</td>\n",
       "      <td>0.633729</td>\n",
       "      <td>0.169061</td>\n",
       "    </tr>\n",
       "    <tr>\n",
       "      <th>30163</th>\n",
       "      <td>thandiswa mawisa a black person is abl to say ...</td>\n",
       "      <td>0</td>\n",
       "      <td>0</td>\n",
       "      <td>0.687453</td>\n",
       "      <td>0.240931</td>\n",
       "      <td>0.071616</td>\n",
       "    </tr>\n",
       "    <tr>\n",
       "      <th>25834</th>\n",
       "      <td>cold hoe that s a must bitch bodi a plu bitch ...</td>\n",
       "      <td>0</td>\n",
       "      <td>1</td>\n",
       "      <td>0.025997</td>\n",
       "      <td>0.711919</td>\n",
       "      <td>0.262084</td>\n",
       "    </tr>\n",
       "    <tr>\n",
       "      <th>2808</th>\n",
       "      <td>you guy realli are a bunch of faggot here</td>\n",
       "      <td>1</td>\n",
       "      <td>1</td>\n",
       "      <td>0.078266</td>\n",
       "      <td>0.731792</td>\n",
       "      <td>0.189942</td>\n",
       "    </tr>\n",
       "    <tr>\n",
       "      <th>4976</th>\n",
       "      <td>they re cross the border illeg they re crimin</td>\n",
       "      <td>0</td>\n",
       "      <td>1</td>\n",
       "      <td>0.116510</td>\n",
       "      <td>0.642710</td>\n",
       "      <td>0.240779</td>\n",
       "    </tr>\n",
       "  </tbody>\n",
       "</table>\n",
       "<p>3785 rows × 6 columns</p>\n",
       "</div>"
      ],
      "text/plain": [
       "                                            cleaned_text  actual  pred  \\\n",
       "11319                                        white trash       0     1   \n",
       "5256   ugh i m not say they re the sourc i said they ...       0     0   \n",
       "16919                  latina on their way to school url       0     0   \n",
       "39197  awesom group of athlet and i do support their ...       0     0   \n",
       "35367  befor i forget they rape littil boy 2 in europ...       0     1   \n",
       "...                                                  ...     ...   ...   \n",
       "20521  march onward racist too becaus we don t like a...       0     1   \n",
       "30163  thandiswa mawisa a black person is abl to say ...       0     0   \n",
       "25834  cold hoe that s a must bitch bodi a plu bitch ...       0     1   \n",
       "2808           you guy realli are a bunch of faggot here       1     1   \n",
       "4976       they re cross the border illeg they re crimin       0     1   \n",
       "\n",
       "            p_0       p_1       p_2  \n",
       "11319  0.013821  0.939824  0.046355  \n",
       "5256   0.567876  0.296856  0.135268  \n",
       "16919  0.581017  0.347669  0.071315  \n",
       "39197  0.640133  0.134688  0.225179  \n",
       "35367  0.078951  0.572913  0.348136  \n",
       "...         ...       ...       ...  \n",
       "20521  0.197211  0.633729  0.169061  \n",
       "30163  0.687453  0.240931  0.071616  \n",
       "25834  0.025997  0.711919  0.262084  \n",
       "2808   0.078266  0.731792  0.189942  \n",
       "4976   0.116510  0.642710  0.240779  \n",
       "\n",
       "[3785 rows x 6 columns]"
      ]
     },
     "execution_count": 16,
     "metadata": {},
     "output_type": "execute_result"
    }
   ],
   "source": [
    "hyper_pred_comparer"
   ]
  },
  {
   "cell_type": "code",
   "execution_count": 17,
   "id": "7349ca5c",
   "metadata": {},
   "outputs": [
    {
     "data": {
      "text/html": [
       "<div>\n",
       "<style scoped>\n",
       "    .dataframe tbody tr th:only-of-type {\n",
       "        vertical-align: middle;\n",
       "    }\n",
       "\n",
       "    .dataframe tbody tr th {\n",
       "        vertical-align: top;\n",
       "    }\n",
       "\n",
       "    .dataframe thead th {\n",
       "        text-align: right;\n",
       "    }\n",
       "</style>\n",
       "<table border=\"1\" class=\"dataframe\">\n",
       "  <thead>\n",
       "    <tr style=\"text-align: right;\">\n",
       "      <th></th>\n",
       "      <th>cleaned_text</th>\n",
       "      <th>actual</th>\n",
       "      <th>pred</th>\n",
       "      <th>p_0</th>\n",
       "      <th>p_1</th>\n",
       "      <th>p_2</th>\n",
       "      <th>max_prob</th>\n",
       "    </tr>\n",
       "  </thead>\n",
       "  <tbody>\n",
       "    <tr>\n",
       "      <th>11319</th>\n",
       "      <td>white trash</td>\n",
       "      <td>0</td>\n",
       "      <td>1</td>\n",
       "      <td>0.013821</td>\n",
       "      <td>0.939824</td>\n",
       "      <td>0.046355</td>\n",
       "      <td>0.939824</td>\n",
       "    </tr>\n",
       "    <tr>\n",
       "      <th>5256</th>\n",
       "      <td>ugh i m not say they re the sourc i said they ...</td>\n",
       "      <td>0</td>\n",
       "      <td>0</td>\n",
       "      <td>0.567876</td>\n",
       "      <td>0.296856</td>\n",
       "      <td>0.135268</td>\n",
       "      <td>0.567876</td>\n",
       "    </tr>\n",
       "    <tr>\n",
       "      <th>16919</th>\n",
       "      <td>latina on their way to school url</td>\n",
       "      <td>0</td>\n",
       "      <td>0</td>\n",
       "      <td>0.581017</td>\n",
       "      <td>0.347669</td>\n",
       "      <td>0.071315</td>\n",
       "      <td>0.581017</td>\n",
       "    </tr>\n",
       "    <tr>\n",
       "      <th>39197</th>\n",
       "      <td>awesom group of athlet and i do support their ...</td>\n",
       "      <td>0</td>\n",
       "      <td>0</td>\n",
       "      <td>0.640133</td>\n",
       "      <td>0.134688</td>\n",
       "      <td>0.225179</td>\n",
       "      <td>0.640133</td>\n",
       "    </tr>\n",
       "    <tr>\n",
       "      <th>35367</th>\n",
       "      <td>befor i forget they rape littil boy 2 in europ...</td>\n",
       "      <td>0</td>\n",
       "      <td>1</td>\n",
       "      <td>0.078951</td>\n",
       "      <td>0.572913</td>\n",
       "      <td>0.348136</td>\n",
       "      <td>0.572913</td>\n",
       "    </tr>\n",
       "    <tr>\n",
       "      <th>...</th>\n",
       "      <td>...</td>\n",
       "      <td>...</td>\n",
       "      <td>...</td>\n",
       "      <td>...</td>\n",
       "      <td>...</td>\n",
       "      <td>...</td>\n",
       "      <td>...</td>\n",
       "    </tr>\n",
       "    <tr>\n",
       "      <th>20521</th>\n",
       "      <td>march onward racist too becaus we don t like a...</td>\n",
       "      <td>0</td>\n",
       "      <td>1</td>\n",
       "      <td>0.197211</td>\n",
       "      <td>0.633729</td>\n",
       "      <td>0.169061</td>\n",
       "      <td>0.633729</td>\n",
       "    </tr>\n",
       "    <tr>\n",
       "      <th>30163</th>\n",
       "      <td>thandiswa mawisa a black person is abl to say ...</td>\n",
       "      <td>0</td>\n",
       "      <td>0</td>\n",
       "      <td>0.687453</td>\n",
       "      <td>0.240931</td>\n",
       "      <td>0.071616</td>\n",
       "      <td>0.687453</td>\n",
       "    </tr>\n",
       "    <tr>\n",
       "      <th>25834</th>\n",
       "      <td>cold hoe that s a must bitch bodi a plu bitch ...</td>\n",
       "      <td>0</td>\n",
       "      <td>1</td>\n",
       "      <td>0.025997</td>\n",
       "      <td>0.711919</td>\n",
       "      <td>0.262084</td>\n",
       "      <td>0.711919</td>\n",
       "    </tr>\n",
       "    <tr>\n",
       "      <th>2808</th>\n",
       "      <td>you guy realli are a bunch of faggot here</td>\n",
       "      <td>1</td>\n",
       "      <td>1</td>\n",
       "      <td>0.078266</td>\n",
       "      <td>0.731792</td>\n",
       "      <td>0.189942</td>\n",
       "      <td>0.731792</td>\n",
       "    </tr>\n",
       "    <tr>\n",
       "      <th>4976</th>\n",
       "      <td>they re cross the border illeg they re crimin</td>\n",
       "      <td>0</td>\n",
       "      <td>1</td>\n",
       "      <td>0.116510</td>\n",
       "      <td>0.642710</td>\n",
       "      <td>0.240779</td>\n",
       "      <td>0.642710</td>\n",
       "    </tr>\n",
       "  </tbody>\n",
       "</table>\n",
       "<p>3785 rows × 7 columns</p>\n",
       "</div>"
      ],
      "text/plain": [
       "                                            cleaned_text  actual  pred  \\\n",
       "11319                                        white trash       0     1   \n",
       "5256   ugh i m not say they re the sourc i said they ...       0     0   \n",
       "16919                  latina on their way to school url       0     0   \n",
       "39197  awesom group of athlet and i do support their ...       0     0   \n",
       "35367  befor i forget they rape littil boy 2 in europ...       0     1   \n",
       "...                                                  ...     ...   ...   \n",
       "20521  march onward racist too becaus we don t like a...       0     1   \n",
       "30163  thandiswa mawisa a black person is abl to say ...       0     0   \n",
       "25834  cold hoe that s a must bitch bodi a plu bitch ...       0     1   \n",
       "2808           you guy realli are a bunch of faggot here       1     1   \n",
       "4976       they re cross the border illeg they re crimin       0     1   \n",
       "\n",
       "            p_0       p_1       p_2  max_prob  \n",
       "11319  0.013821  0.939824  0.046355  0.939824  \n",
       "5256   0.567876  0.296856  0.135268  0.567876  \n",
       "16919  0.581017  0.347669  0.071315  0.581017  \n",
       "39197  0.640133  0.134688  0.225179  0.640133  \n",
       "35367  0.078951  0.572913  0.348136  0.572913  \n",
       "...         ...       ...       ...       ...  \n",
       "20521  0.197211  0.633729  0.169061  0.633729  \n",
       "30163  0.687453  0.240931  0.071616  0.687453  \n",
       "25834  0.025997  0.711919  0.262084  0.711919  \n",
       "2808   0.078266  0.731792  0.189942  0.731792  \n",
       "4976   0.116510  0.642710  0.240779  0.642710  \n",
       "\n",
       "[3785 rows x 7 columns]"
      ]
     },
     "execution_count": 17,
     "metadata": {},
     "output_type": "execute_result"
    }
   ],
   "source": [
    "hyper_pred_comparer['max_prob'] = hyper_pred_comparer[['p_0','p_1','p_2']].max(axis=1)\n",
    "hyper_pred_comparer"
   ]
  },
  {
   "cell_type": "code",
   "execution_count": 18,
   "id": "df77c9b1",
   "metadata": {},
   "outputs": [
    {
     "data": {
      "text/plain": [
       "1"
      ]
     },
     "execution_count": 18,
     "metadata": {},
     "output_type": "execute_result"
    }
   ],
   "source": [
    "hyper_pred_comparer.iloc[0,2]"
   ]
  },
  {
   "cell_type": "code",
   "execution_count": 19,
   "id": "fa2747b0",
   "metadata": {},
   "outputs": [
    {
     "data": {
      "text/plain": [
       "count    3785.000000\n",
       "mean        0.298754\n",
       "std         0.215922\n",
       "min         0.005584\n",
       "25%         0.126369\n",
       "50%         0.239242\n",
       "75%         0.422391\n",
       "max         0.994436\n",
       "Name: p_2, dtype: float64"
      ]
     },
     "execution_count": 19,
     "metadata": {},
     "output_type": "execute_result"
    }
   ],
   "source": [
    "hyper_pred_comparer['p_2'].describe()"
   ]
  },
  {
   "cell_type": "code",
   "execution_count": 21,
   "id": "e868fb58",
   "metadata": {},
   "outputs": [
    {
     "data": {
      "text/plain": [
       "count    1580.000000\n",
       "mean        0.568095\n",
       "std         0.116949\n",
       "min         0.337866\n",
       "25%         0.478188\n",
       "50%         0.551373\n",
       "75%         0.643524\n",
       "max         0.957785\n",
       "Name: p_1, dtype: float64"
      ]
     },
     "execution_count": 21,
     "metadata": {},
     "output_type": "execute_result"
    }
   ],
   "source": [
    "hyper_pred_comparer[hyper_pred_comparer['pred']==1]['p_1'].describe()"
   ]
  },
  {
   "cell_type": "code",
   "execution_count": 22,
   "id": "646e6094",
   "metadata": {},
   "outputs": [
    {
     "data": {
      "text/plain": [
       "count    987.000000\n",
       "mean       0.601528\n",
       "std        0.150055\n",
       "min        0.338017\n",
       "25%        0.484154\n",
       "50%        0.581038\n",
       "75%        0.702853\n",
       "max        0.994436\n",
       "Name: p_2, dtype: float64"
      ]
     },
     "execution_count": 22,
     "metadata": {},
     "output_type": "execute_result"
    }
   ],
   "source": [
    "hyper_pred_comparer[hyper_pred_comparer['pred']==2]['p_2'].describe()#Hmm, so even within this category we have\n",
    "#quite a bit of doubt.... thankfully the mean and median are above half,b ut still..."
   ]
  },
  {
   "cell_type": "markdown",
   "id": "3850d0ae",
   "metadata": {},
   "source": [
    "Fine, now let's figure out some scenarios:\n",
    "\n",
    "Let's start out simply:\n",
    "If 0 we have a majority probability it's fine, but some possibility that it's not. Essentially, it would become\n",
    "binomial then as the probability it's fin again for a second... nth time decreases. Ie p0**n times p1, 2\n",
    "\n",
    "So, perhaps we can say if p0 s not that high such that after 5 times a message like this is still not within a certain range then we'd flag it. Cause, the probablity always exists....\n",
    "\n",
    "Hmm, should I try to do something fancy re. variances?Eh....\n",
    "\n",
    "Regardless, that would be the approach for 0s.\n",
    "\n",
    "If 2s (ie plurality....) we could do a few things:\n",
    "One - Change it's not really a 2, ie give them the benefit of the doubt(0, maybe augmented per 1) for a bit... which wouldn't last long as the probability it's not 2 is low...\n",
    "Two - Confirm a number more 2s like that until calling for review.\n",
    "\n",
    "And I guess if 1s the same thing -\n",
    "However, after thinking about it more,inclined th second approach - assume it for what it is, but give a degree of\n",
    "tolerance for mistakes/whatever.\n",
    "\n",
    "Hmm, so, let's say we get a very negative hate post, then what? Perhaps we can start off that if the initial probability is less than .05, etc. of not being 2... Cause, look for example, albeit 1, at the first post in our hyper: 'white trash'...\n",
    "our model is so confident that it's a 1, almost .94!, yet it's a 0... Likely a lot of context is rmoved, but regardless...\n",
    "\n",
    "One comment vs many should be the same."
   ]
  },
  {
   "cell_type": "code",
   "execution_count": null,
   "id": "4f07bc1e",
   "metadata": {},
   "outputs": [],
   "source": [
    "#Hmm, unsure what to return.... I like percentags so we'll do that for now.\n",
    "def prob_scanner(p_dominant, category, n=1):\n",
    "    base = 1-p_dominant\n",
    "    if base < .05 and category==2:\n",
    "        print(f\"With a probability of {round(p_dominant,3)} we really think the cops should be called.\")\n",
    "    base = round((base**n)*(p_dominant),3)\n",
    "    if base < 10**-2:#Might want to change threshold for 2s later, in that case...\n",
    "        if category==2:\n",
    "            print(f\"With a probability of {1-base} we really think the cops should be called.\")\n",
    "        else:\n",
    "            print(f\"With a probability of {1-base}, the students' guardians should be contacted.\")\n",
    "    else:\n",
    "        print(f\"At least for now, with a probability of {1-base} we aren't convinced to monitor this student.\")"
   ]
  },
  {
   "cell_type": "code",
   "execution_count": null,
   "id": "cbe94a54",
   "metadata": {},
   "outputs": [],
   "source": [
    "user1_logs[\n",
    "    {'comment':'','pred':'','prob'}\n",
    "    \n",
    "    \n",
    "]"
   ]
  },
  {
   "cell_type": "code",
   "execution_count": null,
   "id": "994db514",
   "metadata": {},
   "outputs": [],
   "source": [
    "c = -1"
   ]
  },
  {
   "cell_type": "code",
   "execution_count": null,
   "id": "7440b13c",
   "metadata": {},
   "outputs": [],
   "source": [
    "c += 1\n",
    "print(c)\n",
    "print(hyper_pred_comparer.iloc[c,0], hyper_pred_comparer.iloc[c,1], hyper_pred_comparer.iloc[c,2])\n",
    "prob_scanner(hyper_pred_comparer.iloc[c,6],hyper_pred_comparer.iloc[c,2],1)"
   ]
  },
  {
   "cell_type": "code",
   "execution_count": null,
   "id": "6bffe4ce",
   "metadata": {},
   "outputs": [],
   "source": [
    "print(c)\n",
    "print(hyper_pred_comparer.iloc[c,0], hyper_pred_comparer.iloc[c,1], hyper_pred_comparer.iloc[c,2])\n",
    "prob_scanner(hyper_pred_comparer.iloc[c,6],hyper_pred_comparer.iloc[c,2],6)"
   ]
  },
  {
   "cell_type": "code",
   "execution_count": null,
   "id": "d13d6a62",
   "metadata": {},
   "outputs": [],
   "source": [
    "p_dominant = hyper_pred_comparer.iloc[0,4]\n",
    "base = 1-p_dominant\n",
    "n= 10"
   ]
  },
  {
   "cell_type": "code",
   "execution_count": null,
   "id": "c19d2bc2",
   "metadata": {},
   "outputs": [],
   "source": [
    "base = round((base**n)*(p_dominant),3)\n",
    "base"
   ]
  },
  {
   "cell_type": "markdown",
   "id": "c41f557c",
   "metadata": {},
   "source": [
    "Great! We have the base down. Now, let's get ready to make it user inputted:"
   ]
  },
  {
   "cell_type": "code",
   "execution_count": null,
   "id": "b7b626e6",
   "metadata": {},
   "outputs": [],
   "source": [
    "raw_comment = 'bro mang you a stanky bagel boi zionist'\n",
    "raw_comment2 = \"lul I'm sure after he fired off all those loyal employees he was drinking their blood and tears on Passover #Zionist\"\n",
    "raw_comment3 = 'AND HE STILL DOESNT HAVE ENOUGH MONY TO FIX HIS UGLY GIANT ZIONIST NOSE???'"
   ]
  },
  {
   "cell_type": "code",
   "execution_count": null,
   "id": "bd02ed73",
   "metadata": {},
   "outputs": [],
   "source": [
    "user1_logs=[\n",
    "    {'comment':raw_comment,'occur':1}\n",
    "    ,{'comment':raw_comment2,'occur':2}\n",
    "    ,{'comment':raw_comment3,'occur':3}\n",
    "]"
   ]
  },
  {
   "cell_type": "code",
   "execution_count": null,
   "id": "9955701a",
   "metadata": {},
   "outputs": [],
   "source": [
    "#Let's start with organizing the cleansngs:\n",
    "def document_words(raw_document):\n",
    "\n",
    "    #Remove some various html hiccups that may have crept in.\n",
    "    document_text = BeautifulSoup(raw_document).get_text()\n",
    "    \n",
    "    #Further purge it via regex to keep only characters per Regex. For sure in this case I'm keeping numbers\n",
    "    letters_only = re.sub(\"[^a-zA-Z0-9]\", \" \", document_text)\n",
    "    #Convert to lower case, split into individual words.\n",
    "    \n",
    "    words = letters_only.split()\n",
    "    words = [w.lower() for w in words]\n",
    " \n",
    "    p_stemmer = PorterStemmer()\n",
    "    stemmed_words = [p_stemmer.stem(i, to_lowercase=False) for i in words]\n",
    "    \n",
    "    #And finally, let us merge back everything to a new document.\n",
    "    return(\" \".join(stemmed_words))"
   ]
  },
  {
   "cell_type": "code",
   "execution_count": null,
   "id": "e9db6582",
   "metadata": {},
   "outputs": [],
   "source": [
    "cleaned_comment = document_words(raw_comment2)\n",
    "cleaned_comment"
   ]
  },
  {
   "cell_type": "code",
   "execution_count": null,
   "id": "5b009de1",
   "metadata": {},
   "outputs": [],
   "source": [
    "user1_logs[0]['comment']"
   ]
  },
  {
   "cell_type": "code",
   "execution_count": null,
   "id": "9f992c86",
   "metadata": {},
   "outputs": [],
   "source": [
    "len(user1_logs)"
   ]
  },
  {
   "cell_type": "code",
   "execution_count": null,
   "id": "6970e3fd",
   "metadata": {},
   "outputs": [],
   "source": [
    "sample_comments = [user1_logs[i]['comment'] for i in range(len(user1_logs))]\n",
    "sample_comments"
   ]
  },
  {
   "cell_type": "code",
   "execution_count": null,
   "id": "cc038fd4",
   "metadata": {},
   "outputs": [],
   "source": [
    "# np.array(sample_comments)"
   ]
  },
  {
   "cell_type": "code",
   "execution_count": null,
   "id": "3b57e652",
   "metadata": {},
   "outputs": [],
   "source": [
    "sample = pd.DataFrame(data={'cleaned_comments':sample_comments})\n",
    "sample"
   ]
  },
  {
   "cell_type": "code",
   "execution_count": null,
   "id": "317c438e",
   "metadata": {},
   "outputs": [],
   "source": [
    "sample['cleaned_comments'] = sample['cleaned_comments'].apply(document_words)\n",
    "sample"
   ]
  },
  {
   "cell_type": "code",
   "execution_count": null,
   "id": "5d0b4f3e",
   "metadata": {},
   "outputs": [],
   "source": [
    "preds = trial_model.predict(sample)\n",
    "preds_prob = trial_model.predict_proba(sample)"
   ]
  },
  {
   "cell_type": "code",
   "execution_count": null,
   "id": "f888c730",
   "metadata": {},
   "outputs": [],
   "source": [
    "preds = trial_model.predict(sample['cleaned_comments'])\n",
    "preds_prob = trial_model.predict_proba(sample['cleaned_comments'])\n",
    "sample_pred_comparer = pd.DataFrame({\n",
    "    #'cleaned_text':X_test\n",
    "    #,'actual':y_test\n",
    "    'pred':preds\n",
    "    ,'p_0':preds_prob[:,0]\n",
    "    ,'p_1':preds_prob[:,1]\n",
    "    ,'p_2':preds_prob[:,2]\n",
    "})\n",
    "sample_pred_comparer['max_prob'] = sample_pred_comparer[['p_0','p_1','p_2']].max(axis=1)\n",
    "sample_pred_comparer"
   ]
  },
  {
   "cell_type": "code",
   "execution_count": null,
   "id": "e9adddca",
   "metadata": {},
   "outputs": [],
   "source": [
    "sample_pred_comparer['occur'] = [user1_logs[i]['occur'] for i in range(len(user1_logs))]\n",
    "sample_pred_comparer"
   ]
  },
  {
   "cell_type": "markdown",
   "id": "cf318384",
   "metadata": {},
   "source": [
    "We need to go over the cases again:\n",
    "\n",
    "We see a predicted 0 post. Liklihood that it's iindeed 0 is p0"
   ]
  },
  {
   "cell_type": "code",
   "execution_count": null,
   "id": "a7ab4689",
   "metadata": {},
   "outputs": [],
   "source": [
    "def prob_scanner_calc(p_dominant, category, n=1):\n",
    "    if category!=0:\n",
    "        q = 1-p_dominant #HMMMM this is technically not true, iewe need it 0 for it to not be actionable... ie so\n",
    "        #it should b in the 2 case: 1 - p2 -p1... or at least a fraction of p1...\n",
    "        return round(q**n, 3)\n",
    "    else: #It actually is a 0, ie the liklihood of seeing htis many comments and it's benign\n",
    "        return round(p_dominant**n, 3)"
   ]
  },
  {
   "cell_type": "code",
   "execution_count": null,
   "id": "d92111a9",
   "metadata": {},
   "outputs": [],
   "source": [
    "for i in range(sample_pred_comparer.shape[0]):\n",
    "    print(prob_scanner_calc(sample_pred_comparer.iloc[i]['max_prob'],sample_pred_comparer.iloc[i]['pred'],sample_pred_comparer.iloc[i]['occur']))"
   ]
  },
  {
   "cell_type": "code",
   "execution_count": null,
   "id": "0e533ceb",
   "metadata": {},
   "outputs": [],
   "source": [
    "def prob_scanner_account(df):\n",
    "    overall = 1\n",
    "    for i in range(df.shape[0]):\n",
    "        overall *= prob_scanner_calc(df.iloc[i]['max_prob'],df.iloc[i]['pred'],df.iloc[i]['occur'])\n",
    "    return overall #Ie the probability that all these posts are benign"
   ]
  },
  {
   "cell_type": "code",
   "execution_count": null,
   "id": "25f08a66",
   "metadata": {},
   "outputs": [],
   "source": [
    "prob_scanner_account(sample_pred_comparer)"
   ]
  },
  {
   "cell_type": "code",
   "execution_count": null,
   "id": "e3d2c3aa",
   "metadata": {},
   "outputs": [],
   "source": [
    "#Hmm, so we should have it: make df/csv/whatever of commnts with their frequncy\n",
    "#2 - run above to get ovrall probability\n",
    "\n",
    "#What remains would be tinkerng with features such as overall 2 predictions, indv. probabilitys, etc..."
   ]
  },
  {
   "cell_type": "code",
   "execution_count": null,
   "id": "ca16c3d0",
   "metadata": {},
   "outputs": [],
   "source": [
    "count = -1"
   ]
  },
  {
   "cell_type": "code",
   "execution_count": null,
   "id": "5a9fba94",
   "metadata": {},
   "outputs": [],
   "source": [
    "hyper_2 = hyper_pred_comparer[hyper_pred_comparer['pred']==2][['cleaned_text', 'max_prob', 'actual']]"
   ]
  },
  {
   "cell_type": "code",
   "execution_count": null,
   "id": "525a2977",
   "metadata": {},
   "outputs": [],
   "source": [
    "hyper_2.head()"
   ]
  },
  {
   "cell_type": "code",
   "execution_count": null,
   "id": "d3a89f21",
   "metadata": {},
   "outputs": [],
   "source": [
    "count += 1\n",
    "print(f\"{count} is where we're up to.\")\n",
    "print(hyper_2.iloc[count][2])\n",
    "print(hyper_2.iloc[count][1])\n",
    "hyper_2.iloc[count][0]\n"
   ]
  },
  {
   "cell_type": "code",
   "execution_count": null,
   "id": "acc14e25",
   "metadata": {},
   "outputs": [],
   "source": [
    "hyper_2_extreme = hyper_2[hyper_2['max_prob']>.8]\n",
    "count = -1"
   ]
  },
  {
   "cell_type": "code",
   "execution_count": null,
   "id": "930256de",
   "metadata": {},
   "outputs": [],
   "source": [
    "count += 1\n",
    "print(f\"{count} is where we're up to.\")\n",
    "print(hyper_2_extreme.iloc[count][2])\n",
    "print(hyper_2_extreme.iloc[count][1])\n",
    "hyper_2_extreme.iloc[count][0]"
   ]
  }
 ],
 "metadata": {
  "kernelspec": {
   "display_name": "Python 3 (ipykernel)",
   "language": "python",
   "name": "python3"
  },
  "language_info": {
   "codemirror_mode": {
    "name": "ipython",
    "version": 3
   },
   "file_extension": ".py",
   "mimetype": "text/x-python",
   "name": "python",
   "nbconvert_exporter": "python",
   "pygments_lexer": "ipython3",
   "version": "3.11.5"
  }
 },
 "nbformat": 4,
 "nbformat_minor": 5
}
