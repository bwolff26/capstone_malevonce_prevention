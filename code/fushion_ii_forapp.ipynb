{
 "cells": [
  {
   "cell_type": "code",
   "execution_count": 1,
   "id": "80b95a00",
   "metadata": {},
   "outputs": [],
   "source": [
    "#To confirm what we really need...\n",
    "import pickle\n",
    "\n",
    "from bs4 import BeautifulSoup\n",
    "import regex as re\n",
    "from nltk.stem.porter import PorterStemmer"
   ]
  },
  {
   "cell_type": "code",
   "execution_count": 2,
   "id": "604200b2",
   "metadata": {},
   "outputs": [],
   "source": [
    "import pandas as pd"
   ]
  },
  {
   "cell_type": "code",
   "execution_count": 14,
   "id": "1e8f2c25",
   "metadata": {},
   "outputs": [],
   "source": [
    "import streamlit as st"
   ]
  },
  {
   "cell_type": "code",
   "execution_count": 3,
   "id": "dcc079a8",
   "metadata": {},
   "outputs": [],
   "source": [
    "with open('model_base.pkl', 'rb') as f: #reading bytes\n",
    "    foo = pickle.load(f)"
   ]
  },
  {
   "cell_type": "code",
   "execution_count": 4,
   "id": "0c8452d7",
   "metadata": {},
   "outputs": [],
   "source": [
    "trial_model = foo"
   ]
  },
  {
   "cell_type": "code",
   "execution_count": 5,
   "id": "8360284d",
   "metadata": {},
   "outputs": [],
   "source": [
    "def document_words(raw_document):\n",
    "\n",
    "    document_text = BeautifulSoup(raw_document).get_text()\n",
    "    \n",
    "    letters_only = re.sub(\"[^a-zA-Z0-9]\", \" \", document_text)\n",
    "    \n",
    "    words = letters_only.split()\n",
    "    words = [w.lower() for w in words]\n",
    " \n",
    "    p_stemmer = PorterStemmer()\n",
    "    stemmed_words = [p_stemmer.stem(i, to_lowercase=False) for i in words]\n",
    "\n",
    "    return(\" \".join(stemmed_words))"
   ]
  },
  {
   "cell_type": "markdown",
   "id": "b282ae5f",
   "metadata": {},
   "source": [
    "IE insert here the stuff for h streamlit to gather the following:"
   ]
  },
  {
   "cell_type": "code",
   "execution_count": 23,
   "id": "856bcc4d",
   "metadata": {},
   "outputs": [],
   "source": [
    "raw_comment = 'bro mang you a stanky bagel boi zionist'\n",
    "raw_comment2 = \"lul I'm sure after he fired off all those loyal employees he was drinking their blood and tears on Passover #Zionist\"\n",
    "raw_comment3 = 'AND HE STILL DOESNT HAVE ENOUGH MONY TO FIX HIS UGLY GIANT ZIONIST NOSE???'"
   ]
  },
  {
   "cell_type": "code",
   "execution_count": 27,
   "id": "19497ea4",
   "metadata": {},
   "outputs": [],
   "source": [
    "user1 = \"bro mang you a stanky bagel boi zionist;lul I'm sure after he fired off all those loyal employees he was drinking their blood and tears on Passover #Zionist;AND HE STILL DOESNT HAVE ENOUGH MONY TO FIX HIS UGLY GIANT ZIONIST NOSE???\""
   ]
  },
  {
   "cell_type": "code",
   "execution_count": 31,
   "id": "dd610de5",
   "metadata": {},
   "outputs": [
    {
     "data": {
      "text/plain": [
       "3"
      ]
     },
     "execution_count": 31,
     "metadata": {},
     "output_type": "execute_result"
    }
   ],
   "source": [
    "# posts = len(user1.split(';'))\n",
    "# posts"
   ]
  },
  {
   "cell_type": "code",
   "execution_count": 41,
   "id": "7b0aa6a0",
   "metadata": {},
   "outputs": [],
   "source": [
    "user1_logs=user1.split(';')"
   ]
  },
  {
   "cell_type": "code",
   "execution_count": 33,
   "id": "0d02d7d9",
   "metadata": {},
   "outputs": [],
   "source": [
    "# user1_logs=[\n",
    "#     {'comment':raw_comment,'occur':1}\n",
    "#     ,{'comment':raw_comment2,'occur':2}\n",
    "#     ,{'comment':raw_comment3,'occur':3}\n",
    "# ]"
   ]
  },
  {
   "cell_type": "markdown",
   "id": "f2f70e9d",
   "metadata": {},
   "source": [
    "End of streamlit userinput<br>\n",
    "<Br>\n",
    " finally we do the following:"
   ]
  },
  {
   "cell_type": "code",
   "execution_count": 44,
   "id": "38a59b4b",
   "metadata": {},
   "outputs": [],
   "source": [
    "sample = pd.DataFrame({'cleaned_comments':user1_logs})\n",
    "sample['cleaned_comments'] = sample['cleaned_comments'].apply(document_words)"
   ]
  },
  {
   "cell_type": "code",
   "execution_count": 60,
   "id": "c83f82ef",
   "metadata": {},
   "outputs": [
    {
     "data": {
      "text/html": [
       "<div>\n",
       "<style scoped>\n",
       "    .dataframe tbody tr th:only-of-type {\n",
       "        vertical-align: middle;\n",
       "    }\n",
       "\n",
       "    .dataframe tbody tr th {\n",
       "        vertical-align: top;\n",
       "    }\n",
       "\n",
       "    .dataframe thead th {\n",
       "        text-align: right;\n",
       "    }\n",
       "</style>\n",
       "<table border=\"1\" class=\"dataframe\">\n",
       "  <thead>\n",
       "    <tr style=\"text-align: right;\">\n",
       "      <th></th>\n",
       "      <th>pred</th>\n",
       "      <th>p_0</th>\n",
       "      <th>p_1</th>\n",
       "      <th>p_2</th>\n",
       "      <th>max_prob</th>\n",
       "      <th>1_prob</th>\n",
       "    </tr>\n",
       "  </thead>\n",
       "  <tbody>\n",
       "    <tr>\n",
       "      <th>0</th>\n",
       "      <td>1</td>\n",
       "      <td>0.138888</td>\n",
       "      <td>0.685333</td>\n",
       "      <td>0.175779</td>\n",
       "      <td>0.685333</td>\n",
       "      <td>0.861112</td>\n",
       "    </tr>\n",
       "    <tr>\n",
       "      <th>1</th>\n",
       "      <td>2</td>\n",
       "      <td>0.133519</td>\n",
       "      <td>0.216752</td>\n",
       "      <td>0.649729</td>\n",
       "      <td>0.649729</td>\n",
       "      <td>0.866481</td>\n",
       "    </tr>\n",
       "    <tr>\n",
       "      <th>2</th>\n",
       "      <td>1</td>\n",
       "      <td>0.150192</td>\n",
       "      <td>0.687045</td>\n",
       "      <td>0.162763</td>\n",
       "      <td>0.687045</td>\n",
       "      <td>0.849808</td>\n",
       "    </tr>\n",
       "  </tbody>\n",
       "</table>\n",
       "</div>"
      ],
      "text/plain": [
       "   pred       p_0       p_1       p_2  max_prob    1_prob\n",
       "0     1  0.138888  0.685333  0.175779  0.685333  0.861112\n",
       "1     2  0.133519  0.216752  0.649729  0.649729  0.866481\n",
       "2     1  0.150192  0.687045  0.162763  0.687045  0.849808"
      ]
     },
     "execution_count": 60,
     "metadata": {},
     "output_type": "execute_result"
    }
   ],
   "source": [
    "preds = trial_model.predict(sample['cleaned_comments'])\n",
    "preds_prob = trial_model.predict_proba(sample['cleaned_comments'])\n",
    "sample_pred_comparer = pd.DataFrame({\n",
    "    #'cleaned_text':X_test\n",
    "    #,'actual':y_test\n",
    "    'pred':preds\n",
    "    ,'p_0':preds_prob[:,0]\n",
    "    ,'p_1':preds_prob[:,1]\n",
    "    ,'p_2':preds_prob[:,2]\n",
    "})\n",
    "sample_pred_comparer['max_prob'] = sample_pred_comparer[['p_0','p_1','p_2']].max(axis=1)\n",
    "sample_pred_comparer['1_prob'] = [sample_pred_comparer.loc[i, 'p_0'] if sample_pred_comparer.loc[i, 'pred'] == 0\n",
    "                                                      else (1-sample_pred_comparer.loc[i, 'p_0'])\n",
    "                                                      for i in range(sample_pred_comparer.shape[0])]\n",
    "\n",
    "#The idea behind the 1_prob is as follows: A statement that's actually a 2 is just as toxic as a 1, so in a way the probability\n",
    "#that it is AT LEAST a 1 would be p1 +p2.So toof row a predicted 1: There's still a probability that it's actually a 2, so\n",
    "#we should be able to add that probability back to p_1 to reflect a more solid liklihood that the post is at least a 1 -\n",
    "#as once again, anything htat's a 2 is also a 1. Hence, add them...\n",
    "\n",
    "#sample_pred_comparer['occur'] = [user1_logs[i]['occur'] for i in range(len(user1_logs))]\n",
    "sample_pred_comparer"
   ]
  },
  {
   "cell_type": "code",
   "execution_count": null,
   "id": "d1a6f788",
   "metadata": {},
   "outputs": [],
   "source": [
    "sample_pred_comparer['1_prob'] = [\n",
    "    sample_pred_comparer.loc[i, 'max_prob'] if sample_pred_comparer.loc[i, 'pred'] != 1\n",
    "    else (1 - sample_pred_comparer.loc[i, 'p_0'])\n",
    "    for i in range(sample_pred_comparer.shape[0])"
   ]
  },
  {
   "cell_type": "code",
   "execution_count": 54,
   "id": "2da392b7",
   "metadata": {},
   "outputs": [
    {
     "data": {
      "text/plain": [
       "3"
      ]
     },
     "execution_count": 54,
     "metadata": {},
     "output_type": "execute_result"
    }
   ],
   "source": [
    "sample_pred_comparer.shape[0]"
   ]
  },
  {
   "cell_type": "code",
   "execution_count": 46,
   "id": "0816756b",
   "metadata": {},
   "outputs": [],
   "source": [
    "def prob_scanner_calc(p_dominant, category):\n",
    "    if category!=0:\n",
    "        q = 1-p_dominant #HMMMM this is technically not true, iewe need it 0 for it to not be actionable... ie so\n",
    "        #it should b in the 2 case: 1 - p2 -p1... or at least a fraction of p1... we'll keep it at ease though\n",
    "        return round(q, 3)\n",
    "    else: #It actually is a 0, ie the liklihood of seeing htis many comments and it's benign\n",
    "        return round(p_dominant, 3)"
   ]
  },
  {
   "cell_type": "code",
   "execution_count": 49,
   "id": "52f5985f",
   "metadata": {},
   "outputs": [],
   "source": [
    "def prob_scanner_account(df):\n",
    "    overall = 1\n",
    "    for i in range(df.shape[0]):\n",
    "        overall *= prob_scanner_calc(df.iloc[i]['max_prob'],df.iloc[i]['pred'])\n",
    "    return overall #Ie the probability that all these posts are benign"
   ]
  },
  {
   "cell_type": "code",
   "execution_count": 97,
   "id": "07341f36",
   "metadata": {},
   "outputs": [],
   "source": [
    "#We'lldo 2s first then 1s\n",
    "\n",
    "def prob_scanner_account(df, thresh_2=.58, thresh_1=.94, one_response=3):\n",
    "    overall = 1\n",
    "    count_2s = df['pred'].value_counts()[2]\n",
    "    thresh_2 -= .05 * count_2s\n",
    "    if df[df['max_prob']==df['max_prob'].max()].iloc[0]['p_2'] > thresh_2 and df[df['max_prob']==df['max_prob'].max()].iloc[0]['pred'] == 2:\n",
    "        return \"calling the principal AND your guardians\"\n",
    "    count_1s = df['pred'].value_counts()[1] + df['pred'].value_counts()[2]\n",
    "    thresh_1 -= .03 * count_1s\n",
    "    if df[df['pred']!=0]['1_prob'].mean() > thresh_1 and count_1s >= one_response:\n",
    "        return \"calling the principal\""
   ]
  },
  {
   "cell_type": "code",
   "execution_count": 98,
   "id": "ee2b0bfc",
   "metadata": {},
   "outputs": [
    {
     "data": {
      "text/plain": [
       "'calling the principal'"
      ]
     },
     "execution_count": 98,
     "metadata": {},
     "output_type": "execute_result"
    }
   ],
   "source": [
    "prob_scanner_account(sample_pred_comparer)"
   ]
  },
  {
   "cell_type": "code",
   "execution_count": 67,
   "id": "07bda4aa",
   "metadata": {},
   "outputs": [
    {
     "data": {
      "text/html": [
       "<div>\n",
       "<style scoped>\n",
       "    .dataframe tbody tr th:only-of-type {\n",
       "        vertical-align: middle;\n",
       "    }\n",
       "\n",
       "    .dataframe tbody tr th {\n",
       "        vertical-align: top;\n",
       "    }\n",
       "\n",
       "    .dataframe thead th {\n",
       "        text-align: right;\n",
       "    }\n",
       "</style>\n",
       "<table border=\"1\" class=\"dataframe\">\n",
       "  <thead>\n",
       "    <tr style=\"text-align: right;\">\n",
       "      <th></th>\n",
       "      <th>pred</th>\n",
       "      <th>p_0</th>\n",
       "      <th>p_1</th>\n",
       "      <th>p_2</th>\n",
       "      <th>max_prob</th>\n",
       "      <th>1_prob</th>\n",
       "    </tr>\n",
       "  </thead>\n",
       "  <tbody>\n",
       "    <tr>\n",
       "      <th>0</th>\n",
       "      <td>1</td>\n",
       "      <td>0.138888</td>\n",
       "      <td>0.685333</td>\n",
       "      <td>0.175779</td>\n",
       "      <td>0.685333</td>\n",
       "      <td>0.861112</td>\n",
       "    </tr>\n",
       "    <tr>\n",
       "      <th>1</th>\n",
       "      <td>2</td>\n",
       "      <td>0.133519</td>\n",
       "      <td>0.216752</td>\n",
       "      <td>0.649729</td>\n",
       "      <td>0.649729</td>\n",
       "      <td>0.866481</td>\n",
       "    </tr>\n",
       "    <tr>\n",
       "      <th>2</th>\n",
       "      <td>1</td>\n",
       "      <td>0.150192</td>\n",
       "      <td>0.687045</td>\n",
       "      <td>0.162763</td>\n",
       "      <td>0.687045</td>\n",
       "      <td>0.849808</td>\n",
       "    </tr>\n",
       "  </tbody>\n",
       "</table>\n",
       "</div>"
      ],
      "text/plain": [
       "   pred       p_0       p_1       p_2  max_prob    1_prob\n",
       "0     1  0.138888  0.685333  0.175779  0.685333  0.861112\n",
       "1     2  0.133519  0.216752  0.649729  0.649729  0.866481\n",
       "2     1  0.150192  0.687045  0.162763  0.687045  0.849808"
      ]
     },
     "execution_count": 67,
     "metadata": {},
     "output_type": "execute_result"
    }
   ],
   "source": [
    "df = sample_pred_comparer.copy()\n",
    "df.head()"
   ]
  },
  {
   "cell_type": "code",
   "execution_count": 74,
   "id": "b84636c6",
   "metadata": {},
   "outputs": [
    {
     "data": {
      "text/plain": [
       "1"
      ]
     },
     "execution_count": 74,
     "metadata": {},
     "output_type": "execute_result"
    }
   ],
   "source": [
    "df['pred'].value_counts()[2]"
   ]
  },
  {
   "cell_type": "code",
   "execution_count": 76,
   "id": "7ec6f310",
   "metadata": {},
   "outputs": [
    {
     "data": {
      "text/html": [
       "<div>\n",
       "<style scoped>\n",
       "    .dataframe tbody tr th:only-of-type {\n",
       "        vertical-align: middle;\n",
       "    }\n",
       "\n",
       "    .dataframe tbody tr th {\n",
       "        vertical-align: top;\n",
       "    }\n",
       "\n",
       "    .dataframe thead th {\n",
       "        text-align: right;\n",
       "    }\n",
       "</style>\n",
       "<table border=\"1\" class=\"dataframe\">\n",
       "  <thead>\n",
       "    <tr style=\"text-align: right;\">\n",
       "      <th></th>\n",
       "      <th>pred</th>\n",
       "      <th>p_0</th>\n",
       "      <th>p_1</th>\n",
       "      <th>p_2</th>\n",
       "      <th>max_prob</th>\n",
       "      <th>1_prob</th>\n",
       "    </tr>\n",
       "  </thead>\n",
       "  <tbody>\n",
       "    <tr>\n",
       "      <th>2</th>\n",
       "      <td>1</td>\n",
       "      <td>0.150192</td>\n",
       "      <td>0.687045</td>\n",
       "      <td>0.162763</td>\n",
       "      <td>0.687045</td>\n",
       "      <td>0.849808</td>\n",
       "    </tr>\n",
       "  </tbody>\n",
       "</table>\n",
       "</div>"
      ],
      "text/plain": [
       "   pred       p_0       p_1       p_2  max_prob    1_prob\n",
       "2     1  0.150192  0.687045  0.162763  0.687045  0.849808"
      ]
     },
     "execution_count": 76,
     "metadata": {},
     "output_type": "execute_result"
    }
   ],
   "source": [
    "df[df['max_prob']==df['max_prob'].max()]"
   ]
  },
  {
   "cell_type": "code",
   "execution_count": 92,
   "id": "f6d69899",
   "metadata": {},
   "outputs": [
    {
     "data": {
      "text/plain": [
       "0.16276300492892715"
      ]
     },
     "execution_count": 92,
     "metadata": {},
     "output_type": "execute_result"
    }
   ],
   "source": [
    "df[df['max_prob']==df['max_prob'].max()].iloc[0]['p_2']"
   ]
  },
  {
   "cell_type": "code",
   "execution_count": 94,
   "id": "6679b215",
   "metadata": {},
   "outputs": [
    {
     "data": {
      "text/plain": [
       "0.8591339751964998"
      ]
     },
     "execution_count": 94,
     "metadata": {},
     "output_type": "execute_result"
    }
   ],
   "source": [
    "df[df['pred']!=0]['1_prob'].mean()"
   ]
  },
  {
   "cell_type": "code",
   "execution_count": null,
   "id": "85af26ce",
   "metadata": {},
   "outputs": [],
   "source": [
    "df[df['max_prob']==df['max_prob'].max()]"
   ]
  },
  {
   "cell_type": "code",
   "execution_count": 52,
   "id": "6e5142f9",
   "metadata": {},
   "outputs": [],
   "source": [
    "# python -m streamlit run app_malevonce.py"
   ]
  },
  {
   "cell_type": "code",
   "execution_count": 51,
   "id": "00b300fc",
   "metadata": {},
   "outputs": [],
   "source": [
    "# streamlit run app_malevonce.py"
   ]
  },
  {
   "cell_type": "code",
   "execution_count": null,
   "id": "8707aaa5",
   "metadata": {},
   "outputs": [],
   "source": [
    "#User should be threshed..."
   ]
  },
  {
   "cell_type": "markdown",
   "id": "3178356a",
   "metadata": {},
   "source": [
    "Hmm, now we gotta figur out probability stuff:\n",
    "\n",
    "Theoretically,our tolerance for hate speach, albit for a review, would be with one two. For ones, let's say 2.\n",
    "\n",
    "We'll work on the 2 case first:\n",
    "\n",
    "pn2 off the bae, yet 1-pn2 if it's not.Then, we se a second post\n",
    "that one has pn22 in of its own right, then 1-pn2 that it's not.\n",
    "\n",
    "\n",
    "Hmm, I see a few things:\n",
    "m1 - hte pure 2 approch, ie if probabilities of it being that noneof ht posts contain a 2,ieprobability among all the posts\n",
    "that at least 1 is a 2,then review them: \n",
    "    However, as time goes on.... \n",
    "Def,and usre eough some are, mins are a third... \n",
    "\n",
    "Approach1 - Average the guys...perhaps have a guy to increase nominally as n increases.... ie a 90 for one; 85 for 2...\n",
    "    Re. 1s - .95, .91, .87...\n",
    "    \n",
    "Using the example above: Hmm, I'd say all those would call,not for level 2, but at least level one...\n",
    "\n",
    "Re. fushions: Hmm, perhaps I could just say p2 includes p1...\n",
    "\n",
    "\n",
    "NOOOO I don't like it. Ie then I'd always be assuming to take action per the basis of my model being right...\n",
    "\n",
    "Well, tthen again, it is a sliding scale - we assum accuracy, but a combination of of givng the benefit of the doubtand a continual\n",
    "\n",
    "Gah, I might just need to call it here for now and bank on detection. Furthermore, recall: The median for both 1s and 2s are .55 and .58....\n",
    "\n",
    "Re 2s:Given that a definite 2 would warrant action we could say: If pred2 p's is greater than .58 then we call in.\n",
    "If two, then it'd be .55"
   ]
  }
 ],
 "metadata": {
  "kernelspec": {
   "display_name": "Python 3 (ipykernel)",
   "language": "python",
   "name": "python3"
  },
  "language_info": {
   "codemirror_mode": {
    "name": "ipython",
    "version": 3
   },
   "file_extension": ".py",
   "mimetype": "text/x-python",
   "name": "python",
   "nbconvert_exporter": "python",
   "pygments_lexer": "ipython3",
   "version": "3.11.5"
  }
 },
 "nbformat": 4,
 "nbformat_minor": 5
}
