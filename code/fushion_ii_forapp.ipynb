{
 "cells": [
  {
   "cell_type": "code",
   "execution_count": 1,
   "id": "80b95a00",
   "metadata": {},
   "outputs": [],
   "source": [
    "#To confirm what we really need...\n",
    "import pickle\n",
    "\n",
    "from bs4 import BeautifulSoup\n",
    "import regex as re\n",
    "from nltk.stem.porter import PorterStemmer"
   ]
  },
  {
   "cell_type": "code",
   "execution_count": 5,
   "id": "604200b2",
   "metadata": {},
   "outputs": [],
   "source": [
    "import pandas as pd"
   ]
  },
  {
   "cell_type": "code",
   "execution_count": 6,
   "id": "dcc079a8",
   "metadata": {},
   "outputs": [],
   "source": [
    "with open('model_base.pkl', 'rb') as f: #reading bytes\n",
    "    foo = pickle.load(f)"
   ]
  },
  {
   "cell_type": "code",
   "execution_count": 10,
   "id": "0c8452d7",
   "metadata": {},
   "outputs": [],
   "source": [
    "trial_model = foo"
   ]
  },
  {
   "cell_type": "code",
   "execution_count": 7,
   "id": "8360284d",
   "metadata": {},
   "outputs": [],
   "source": [
    "def document_words(raw_document):\n",
    "\n",
    "    document_text = BeautifulSoup(raw_document).get_text()\n",
    "    \n",
    "    letters_only = re.sub(\"[^a-zA-Z0-9]\", \" \", document_text)\n",
    "    \n",
    "    words = letters_only.split()\n",
    "    words = [w.lower() for w in words]\n",
    " \n",
    "    p_stemmer = PorterStemmer()\n",
    "    stemmed_words = [p_stemmer.stem(i, to_lowercase=False) for i in words]\n",
    "\n",
    "    return(\" \".join(stemmed_words))"
   ]
  },
  {
   "cell_type": "markdown",
   "id": "b282ae5f",
   "metadata": {},
   "source": [
    "IE insert here the stuff for h streamlit to gather the following:"
   ]
  },
  {
   "cell_type": "code",
   "execution_count": 3,
   "id": "856bcc4d",
   "metadata": {},
   "outputs": [],
   "source": [
    "raw_comment = 'bro mang you a stanky bagel boi zionist'\n",
    "raw_comment2 = \"lul I'm sure after he fired off all those loyal employees he was drinking their blood and tears on Passover #Zionist\"\n",
    "raw_comment3 = 'AND HE STILL DOESNT HAVE ENOUGH MONY TO FIX HIS UGLY GIANT ZIONIST NOSE???'"
   ]
  },
  {
   "cell_type": "code",
   "execution_count": 4,
   "id": "0d02d7d9",
   "metadata": {},
   "outputs": [],
   "source": [
    "user1_logs=[\n",
    "    {'comment':raw_comment,'occur':1}\n",
    "    ,{'comment':raw_comment2,'occur':2}\n",
    "    ,{'comment':raw_comment3,'occur':3}\n",
    "]"
   ]
  },
  {
   "cell_type": "markdown",
   "id": "f2f70e9d",
   "metadata": {},
   "source": [
    "End of streamlit userinput<br>\n",
    "<Br>\n",
    " finally we do the following:"
   ]
  },
  {
   "cell_type": "code",
   "execution_count": 8,
   "id": "38a59b4b",
   "metadata": {},
   "outputs": [],
   "source": [
    "sample_comments = [user1_logs[i]['comment'] for i in range(len(user1_logs))]\n",
    "sample = pd.DataFrame(data={'cleaned_comments':sample_comments})\n",
    "sample['cleaned_comments'] = sample['cleaned_comments'].apply(document_words)"
   ]
  },
  {
   "cell_type": "code",
   "execution_count": 13,
   "id": "c83f82ef",
   "metadata": {},
   "outputs": [
    {
     "data": {
      "text/html": [
       "<div>\n",
       "<style scoped>\n",
       "    .dataframe tbody tr th:only-of-type {\n",
       "        vertical-align: middle;\n",
       "    }\n",
       "\n",
       "    .dataframe tbody tr th {\n",
       "        vertical-align: top;\n",
       "    }\n",
       "\n",
       "    .dataframe thead th {\n",
       "        text-align: right;\n",
       "    }\n",
       "</style>\n",
       "<table border=\"1\" class=\"dataframe\">\n",
       "  <thead>\n",
       "    <tr style=\"text-align: right;\">\n",
       "      <th></th>\n",
       "      <th>pred</th>\n",
       "      <th>p_0</th>\n",
       "      <th>p_1</th>\n",
       "      <th>p_2</th>\n",
       "      <th>max_prob</th>\n",
       "      <th>occur</th>\n",
       "    </tr>\n",
       "  </thead>\n",
       "  <tbody>\n",
       "    <tr>\n",
       "      <th>0</th>\n",
       "      <td>1</td>\n",
       "      <td>0.138888</td>\n",
       "      <td>0.685333</td>\n",
       "      <td>0.175779</td>\n",
       "      <td>0.685333</td>\n",
       "      <td>1</td>\n",
       "    </tr>\n",
       "    <tr>\n",
       "      <th>1</th>\n",
       "      <td>2</td>\n",
       "      <td>0.133519</td>\n",
       "      <td>0.216752</td>\n",
       "      <td>0.649729</td>\n",
       "      <td>0.649729</td>\n",
       "      <td>2</td>\n",
       "    </tr>\n",
       "    <tr>\n",
       "      <th>2</th>\n",
       "      <td>1</td>\n",
       "      <td>0.150192</td>\n",
       "      <td>0.687045</td>\n",
       "      <td>0.162763</td>\n",
       "      <td>0.687045</td>\n",
       "      <td>3</td>\n",
       "    </tr>\n",
       "  </tbody>\n",
       "</table>\n",
       "</div>"
      ],
      "text/plain": [
       "   pred       p_0       p_1       p_2  max_prob  occur\n",
       "0     1  0.138888  0.685333  0.175779  0.685333      1\n",
       "1     2  0.133519  0.216752  0.649729  0.649729      2\n",
       "2     1  0.150192  0.687045  0.162763  0.687045      3"
      ]
     },
     "execution_count": 13,
     "metadata": {},
     "output_type": "execute_result"
    }
   ],
   "source": [
    "preds = trial_model.predict(sample['cleaned_comments'])\n",
    "preds_prob = trial_model.predict_proba(sample['cleaned_comments'])\n",
    "sample_pred_comparer = pd.DataFrame({\n",
    "    #'cleaned_text':X_test\n",
    "    #,'actual':y_test\n",
    "    'pred':preds\n",
    "    ,'p_0':preds_prob[:,0]\n",
    "    ,'p_1':preds_prob[:,1]\n",
    "    ,'p_2':preds_prob[:,2]\n",
    "})\n",
    "sample_pred_comparer['max_prob'] = sample_pred_comparer[['p_0','p_1','p_2']].max(axis=1)\n",
    "sample_pred_comparer['occur'] = [user1_logs[i]['occur'] for i in range(len(user1_logs))]\n",
    "sample_pred_comparer"
   ]
  },
  {
   "cell_type": "code",
   "execution_count": 14,
   "id": "0816756b",
   "metadata": {},
   "outputs": [],
   "source": [
    "def prob_scanner_calc(p_dominant, category, n=1):\n",
    "    if category!=0:\n",
    "        q = 1-p_dominant #HMMMM this is technically not true, iewe need it 0 for it to not be actionable... ie so\n",
    "        #it should b in the 2 case: 1 - p2 -p1... or at least a fraction of p1... we'll keep it at ease though\n",
    "        return round(q**n, 3)\n",
    "    else: #It actually is a 0, ie the liklihood of seeing htis many comments and it's benign\n",
    "        return round(p_dominant**n, 3)"
   ]
  },
  {
   "cell_type": "code",
   "execution_count": 15,
   "id": "52f5985f",
   "metadata": {},
   "outputs": [],
   "source": [
    "def prob_scanner_account(df):\n",
    "    overall = 1\n",
    "    for i in range(df.shape[0]):\n",
    "        overall *= prob_scanner_calc(df.iloc[i]['max_prob'],df.iloc[i]['pred'],df.iloc[i]['occur'])\n",
    "    return overall #Ie the probability that all these posts are benign"
   ]
  },
  {
   "cell_type": "code",
   "execution_count": 16,
   "id": "ee2b0bfc",
   "metadata": {},
   "outputs": [
    {
     "data": {
      "text/plain": [
       "0.0012010950000000001"
      ]
     },
     "execution_count": 16,
     "metadata": {},
     "output_type": "execute_result"
    }
   ],
   "source": [
    "prob_scanner_account(sample_pred_comparer)"
   ]
  },
  {
   "cell_type": "code",
   "execution_count": null,
   "id": "6e5142f9",
   "metadata": {},
   "outputs": [],
   "source": []
  },
  {
   "cell_type": "code",
   "execution_count": null,
   "id": "00b300fc",
   "metadata": {},
   "outputs": [],
   "source": []
  },
  {
   "cell_type": "code",
   "execution_count": null,
   "id": "8707aaa5",
   "metadata": {},
   "outputs": [],
   "source": []
  }
 ],
 "metadata": {
  "kernelspec": {
   "display_name": "Python 3 (ipykernel)",
   "language": "python",
   "name": "python3"
  },
  "language_info": {
   "codemirror_mode": {
    "name": "ipython",
    "version": 3
   },
   "file_extension": ".py",
   "mimetype": "text/x-python",
   "name": "python",
   "nbconvert_exporter": "python",
   "pygments_lexer": "ipython3",
   "version": "3.11.5"
  }
 },
 "nbformat": 4,
 "nbformat_minor": 5
}
