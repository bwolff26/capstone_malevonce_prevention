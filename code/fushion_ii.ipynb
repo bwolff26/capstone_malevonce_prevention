{
 "cells": [
  {
   "cell_type": "code",
   "execution_count": 1,
   "id": "80b95a00",
   "metadata": {},
   "outputs": [],
   "source": [
    "#To confirm what we really need...\n",
    "import pandas as pd\n",
    "\n",
    "import streamlit as st\n",
    "import pickle\n",
    "\n",
    "from bs4 import BeautifulSoup\n",
    "import regex as re\n",
    "from nltk.stem.porter import PorterStemmer"
   ]
  },
  {
   "cell_type": "code",
   "execution_count": 4,
   "id": "dcc079a8",
   "metadata": {},
   "outputs": [],
   "source": [
    "with open('model_base.pkl', 'rb') as f: #reading bytes\n",
    "    foo = pickle.load(f)\n",
    "    \n",
    "trial_model = foo"
   ]
  },
  {
   "cell_type": "code",
   "execution_count": 6,
   "id": "8360284d",
   "metadata": {},
   "outputs": [],
   "source": [
    "def document_words(raw_document):\n",
    "\n",
    "    document_text = BeautifulSoup(raw_document).get_text()\n",
    "    \n",
    "    letters_only = re.sub(\"[^a-zA-Z0-9]\", \" \", document_text)\n",
    "    \n",
    "    words = letters_only.split()\n",
    "    words = [w.lower() for w in words]\n",
    " \n",
    "    p_stemmer = PorterStemmer()\n",
    "    stemmed_words = [p_stemmer.stem(i, to_lowercase=False) for i in words]\n",
    "\n",
    "    return(\" \".join(stemmed_words))"
   ]
  },
  {
   "cell_type": "markdown",
   "id": "b282ae5f",
   "metadata": {},
   "source": [
    "IE insert here the stuff for the streamlit to gather the following:"
   ]
  },
  {
   "cell_type": "code",
   "execution_count": 63,
   "id": "19497ea4",
   "metadata": {},
   "outputs": [],
   "source": [
    "# user1 = \"Where's a good place to eat food?\" #Wow, honestly was harder than I thought to get a 0 prediction... Again, worst case scenario is just having a teacher waste their time - much better than the alternative...\n",
    "user1 = \"bro mang you a stanky bagel boi zionist;lul I'm sure after he fired off all those loyal employees he was drinking their blood and tears on Passover #Zionist;AND HE STILL DOESNT HAVE ENOUGH MONY TO FIX HIS UGLY GIANT ZIONIST NOSE???\"\n",
    "\n",
    "user1_logs=user1.split(';')"
   ]
  },
  {
   "cell_type": "markdown",
   "id": "f2f70e9d",
   "metadata": {},
   "source": [
    "End of streamlit userinput<br>\n",
    "<Br>\n",
    " Finally, we do the following:"
   ]
  },
  {
   "cell_type": "code",
   "execution_count": 78,
   "id": "38a59b4b",
   "metadata": {},
   "outputs": [],
   "source": [
    "sample = pd.DataFrame({'comments':user1_logs})\n",
    "sample['cleaned_comments'] = sample['comments'].apply(document_words)"
   ]
  },
  {
   "cell_type": "code",
   "execution_count": 87,
   "id": "c83f82ef",
   "metadata": {},
   "outputs": [
    {
     "data": {
      "text/html": [
       "<div>\n",
       "<style scoped>\n",
       "    .dataframe tbody tr th:only-of-type {\n",
       "        vertical-align: middle;\n",
       "    }\n",
       "\n",
       "    .dataframe tbody tr th {\n",
       "        vertical-align: top;\n",
       "    }\n",
       "\n",
       "    .dataframe thead th {\n",
       "        text-align: right;\n",
       "    }\n",
       "</style>\n",
       "<table border=\"1\" class=\"dataframe\">\n",
       "  <thead>\n",
       "    <tr style=\"text-align: right;\">\n",
       "      <th></th>\n",
       "      <th>text</th>\n",
       "      <th>pred</th>\n",
       "      <th>prob</th>\n",
       "    </tr>\n",
       "  </thead>\n",
       "  <tbody>\n",
       "    <tr>\n",
       "      <th>1</th>\n",
       "      <td>lul I'm sure after he fired off all those loya...</td>\n",
       "      <td>2</td>\n",
       "      <td>0.649729</td>\n",
       "    </tr>\n",
       "    <tr>\n",
       "      <th>2</th>\n",
       "      <td>AND HE STILL DOESNT HAVE ENOUGH MONY TO FIX HI...</td>\n",
       "      <td>1</td>\n",
       "      <td>0.687045</td>\n",
       "    </tr>\n",
       "    <tr>\n",
       "      <th>0</th>\n",
       "      <td>bro mang you a stanky bagel boi zionist</td>\n",
       "      <td>1</td>\n",
       "      <td>0.685333</td>\n",
       "    </tr>\n",
       "  </tbody>\n",
       "</table>\n",
       "</div>"
      ],
      "text/plain": [
       "                                                text  pred      prob\n",
       "1  lul I'm sure after he fired off all those loya...     2  0.649729\n",
       "2  AND HE STILL DOESNT HAVE ENOUGH MONY TO FIX HI...     1  0.687045\n",
       "0            bro mang you a stanky bagel boi zionist     1  0.685333"
      ]
     },
     "execution_count": 87,
     "metadata": {},
     "output_type": "execute_result"
    }
   ],
   "source": [
    "#I'm still not so into this double df being created, but whatever...\n",
    "\n",
    "preds = trial_model.predict(sample['cleaned_comments'])\n",
    "preds_prob = trial_model.predict_proba(sample['cleaned_comments'])\n",
    "sample_pred_comparer = pd.DataFrame({\n",
    "    #'cleaned_text':X_test\n",
    "    'text':sample['comments']\n",
    "    ,'pred':preds\n",
    "    ,'p_0':preds_prob[:,0]\n",
    "    ,'p_1':preds_prob[:,1]\n",
    "    ,'p_2':preds_prob[:,2]\n",
    "})\n",
    "sample_pred_comparer['prob'] = sample_pred_comparer[['p_0','p_1','p_2']].max(axis=1)\n",
    "sample_pred_comparer['1_prob'] = [sample_pred_comparer.loc[i, 'p_1'] if sample_pred_comparer.loc[i, 'pred'] == 0\n",
    "                                                      else (1-sample_pred_comparer.loc[i, 'p_0'])\n",
    "                                                      for i in range(sample_pred_comparer.shape[0])]\n",
    "#The 1 prob is a bit irrelevant at the moment, but eh... never know. I'm still somewhat concerned of people always going below the radar...\n",
    "\n",
    "\n",
    "#The idea behind the 1_prob is as follows: A statement that's actually a 2 is just as toxic as a 1, so in a way the probability\n",
    "#that it is AT LEAST a 1 would be p1 +p2.So toof row a predicted 1: There's still a probability that it's actually a 2, so\n",
    "#we should be able to add that probability back to p_1 to reflect a more solid liklihood that the post is at least a 1 -\n",
    "#as once again, anything htat's a 2 is also a 1. Hence, add them...\n",
    "\n",
    "sample_pred_comparer.sort_values('prob', ascending=False).sort_values('pred', ascending=False).loc[:,[\"text\",\"pred\",\"prob\"]]"
   ]
  },
  {
   "cell_type": "code",
   "execution_count": 71,
   "id": "07341f36",
   "metadata": {},
   "outputs": [],
   "source": [
    "def prob_scanner_account(df, thresh_2=.58, thresh_1=.94, one_response=3):\n",
    "    overall = 1\n",
    "    try: #In case a profile doesn't have any 2s... s to with the 1s later on.\n",
    "        count_2s = df['pred'].value_counts()[2]\n",
    "        thresh_2 -= .05 * count_2s #Eh, could have simplified in one line, but whatever.\n",
    "        if df[df['prob']==df['prob'].max()].iloc[0]['p_2'] > thresh_2 and df[df['prob']==df['prob'].max()].iloc[0]['pred'] == 2:\n",
    "            return \"calling the principal AND your guardians\"\n",
    "    except:\n",
    "        pass\n",
    "    count_1s = 0\n",
    "    try:\n",
    "        count_1s += df['pred'].value_counts()[1]\n",
    "    except:\n",
    "        pass\n",
    "    try:\n",
    "        count_1s += df['pred'].value_counts()[2]\n",
    "    except:\n",
    "        pass\n",
    "    thresh_1 -= .03 * count_1s\n",
    "    if df[df['pred']!=0]['1_prob'].mean() > thresh_1 and count_1s >= one_response:\n",
    "        return \"calling the principal\"\n",
    "    else:\n",
    "        return \"free...for now\""
   ]
  },
  {
   "cell_type": "code",
   "execution_count": 72,
   "id": "ee2b0bfc",
   "metadata": {},
   "outputs": [
    {
     "data": {
      "text/plain": [
       "'calling the principal'"
      ]
     },
     "execution_count": 72,
     "metadata": {},
     "output_type": "execute_result"
    }
   ],
   "source": [
    "prob_scanner_account(sample_pred_comparer)"
   ]
  },
  {
   "cell_type": "code",
   "execution_count": 27,
   "id": "07bda4aa",
   "metadata": {},
   "outputs": [
    {
     "data": {
      "text/html": [
       "<div>\n",
       "<style scoped>\n",
       "    .dataframe tbody tr th:only-of-type {\n",
       "        vertical-align: middle;\n",
       "    }\n",
       "\n",
       "    .dataframe tbody tr th {\n",
       "        vertical-align: top;\n",
       "    }\n",
       "\n",
       "    .dataframe thead th {\n",
       "        text-align: right;\n",
       "    }\n",
       "</style>\n",
       "<table border=\"1\" class=\"dataframe\">\n",
       "  <thead>\n",
       "    <tr style=\"text-align: right;\">\n",
       "      <th></th>\n",
       "      <th>pred</th>\n",
       "      <th>p_0</th>\n",
       "      <th>p_1</th>\n",
       "      <th>p_2</th>\n",
       "      <th>max_prob</th>\n",
       "      <th>1_prob</th>\n",
       "    </tr>\n",
       "  </thead>\n",
       "  <tbody>\n",
       "    <tr>\n",
       "      <th>0</th>\n",
       "      <td>1</td>\n",
       "      <td>0.138888</td>\n",
       "      <td>0.685333</td>\n",
       "      <td>0.175779</td>\n",
       "      <td>0.685333</td>\n",
       "      <td>0.861112</td>\n",
       "    </tr>\n",
       "    <tr>\n",
       "      <th>1</th>\n",
       "      <td>2</td>\n",
       "      <td>0.133519</td>\n",
       "      <td>0.216752</td>\n",
       "      <td>0.649729</td>\n",
       "      <td>0.649729</td>\n",
       "      <td>0.649729</td>\n",
       "    </tr>\n",
       "    <tr>\n",
       "      <th>2</th>\n",
       "      <td>1</td>\n",
       "      <td>0.150192</td>\n",
       "      <td>0.687045</td>\n",
       "      <td>0.162763</td>\n",
       "      <td>0.687045</td>\n",
       "      <td>0.849808</td>\n",
       "    </tr>\n",
       "  </tbody>\n",
       "</table>\n",
       "</div>"
      ],
      "text/plain": [
       "   pred       p_0       p_1       p_2  max_prob    1_prob\n",
       "0     1  0.138888  0.685333  0.175779  0.685333  0.861112\n",
       "1     2  0.133519  0.216752  0.649729  0.649729  0.649729\n",
       "2     1  0.150192  0.687045  0.162763  0.687045  0.849808"
      ]
     },
     "execution_count": 27,
     "metadata": {},
     "output_type": "execute_result"
    }
   ],
   "source": [
    "df = sample_pred_comparer.copy()\n",
    "df.head()"
   ]
  },
  {
   "cell_type": "code",
   "execution_count": null,
   "id": "6e5142f9",
   "metadata": {},
   "outputs": [],
   "source": [
    "# python -m streamlit run app_malevonce.py"
   ]
  },
  {
   "cell_type": "code",
   "execution_count": null,
   "id": "00b300fc",
   "metadata": {},
   "outputs": [],
   "source": [
    "# streamlit run app_malevonce.py"
   ]
  },
  {
   "cell_type": "markdown",
   "id": "3178356a",
   "metadata": {},
   "source": [
    "Ultimately re. balancing the account: We'll still go multi-class with 2s yet essentially go binary with 1s, including the probablity that it's more dangerous then it actually is with a given 1 identification (similaily re 2s (that the formula wasn't confident enough to call out already)). However, we'll account for potential pitfalls by having a sliding scale in the confidence required to summon a teacher(s) to review the social media posts. Such numbers, .05 and .03 (and on that note a one_response of 3 before making an action) are somewhat arbitrary.\n",
    "\n",
    "One can argue that a slight weight should be added to at least the cases where the model identifid a post as a 2 yet went underneath the initial radar that those probabilities that it's indeed a 2 shouldn't be banally added to the p_1 - but with a scalar of some kind. In short, per philosophies I am influnced by, once we bring down a a stricter thing to something more lenient thing to combin to the volume needed to activate said lenient thing, we treat it entirely as a more lenient thing. Hence it's more 'toxic' nature is ignored and merely nominally considered to be a p_1 via p_1 + p_2."
   ]
  }
 ],
 "metadata": {
  "kernelspec": {
   "display_name": "Python 3 (ipykernel)",
   "language": "python",
   "name": "python3"
  },
  "language_info": {
   "codemirror_mode": {
    "name": "ipython",
    "version": 3
   },
   "file_extension": ".py",
   "mimetype": "text/x-python",
   "name": "python",
   "nbconvert_exporter": "python",
   "pygments_lexer": "ipython3",
   "version": "3.11.5"
  }
 },
 "nbformat": 4,
 "nbformat_minor": 5
}
