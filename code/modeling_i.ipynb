{
 "cells": [
  {
   "cell_type": "code",
   "execution_count": 1,
   "id": "020d6110",
   "metadata": {},
   "outputs": [],
   "source": [
    "import pandas as pd\n",
    "import matplotlib.pyplot as plt\n",
    "import numpy as np\n",
    "import scipy.sparse as ss"
   ]
  },
  {
   "cell_type": "code",
   "execution_count": 2,
   "id": "bcef7492",
   "metadata": {},
   "outputs": [],
   "source": [
    "from nltk.corpus import stopwords\n",
    "import regex as re\n",
    "\n",
    "from sklearn.pipeline import Pipeline\n",
    "from sklearn.model_selection import GridSearchCV\n",
    "from sklearn.model_selection import train_test_split\n",
    "from sklearn.preprocessing import FunctionTransformer\n",
    "\n",
    "from sklearn.feature_extraction.text import CountVectorizer\n",
    "from sklearn.feature_extraction.text import TfidfVectorizer\n",
    "\n",
    "from sklearn.linear_model import LogisticRegression\n",
    "#from sklearn.neighbors import KNeighborsClassifier\n",
    "from sklearn.naive_bayes import MultinomialNB, GaussianNB, CategoricalNB, ComplementNB\n",
    "from sklearn.svm import SVC\n",
    "\n",
    "import warnings\n",
    "warnings.simplefilter(action='ignore', category=FutureWarning);\n",
    "\n",
    "from sklearn.metrics import confusion_matrix, ConfusionMatrixDisplay"
   ]
  },
  {
   "cell_type": "code",
   "execution_count": 3,
   "id": "96bd8a95",
   "metadata": {},
   "outputs": [],
   "source": [
    "from imblearn.pipeline import make_pipeline\n",
    "from imblearn.over_sampling import RandomOverSampler\n",
    "from imblearn.over_sampling import SMOTE\n",
    "from sklearn.metrics import make_scorer\n",
    "from sklearn.metrics import recall_score"
   ]
  },
  {
   "cell_type": "code",
   "execution_count": 84,
   "id": "8a6a1d25",
   "metadata": {},
   "outputs": [],
   "source": [
    "from random import choices"
   ]
  },
  {
   "cell_type": "code",
   "execution_count": 4,
   "id": "534221c5",
   "metadata": {},
   "outputs": [
    {
     "name": "stdout",
     "output_type": "stream",
     "text": [
      "(39565, 60)\n"
     ]
    },
    {
     "data": {
      "text/html": [
       "<div>\n",
       "<style scoped>\n",
       "    .dataframe tbody tr th:only-of-type {\n",
       "        vertical-align: middle;\n",
       "    }\n",
       "\n",
       "    .dataframe tbody tr th {\n",
       "        vertical-align: top;\n",
       "    }\n",
       "\n",
       "    .dataframe thead th {\n",
       "        text-align: right;\n",
       "    }\n",
       "</style>\n",
       "<table border=\"1\" class=\"dataframe\">\n",
       "  <thead>\n",
       "    <tr style=\"text-align: right;\">\n",
       "      <th></th>\n",
       "      <th>platform</th>\n",
       "      <th>text</th>\n",
       "      <th>hate_speech_score</th>\n",
       "      <th>target_race_asian</th>\n",
       "      <th>target_race_black</th>\n",
       "      <th>target_race_latinx</th>\n",
       "      <th>target_race_middle_eastern</th>\n",
       "      <th>target_race_native_american</th>\n",
       "      <th>target_race_pacific_islander</th>\n",
       "      <th>target_race_white</th>\n",
       "      <th>...</th>\n",
       "      <th>target_disability_neurological</th>\n",
       "      <th>target_disability_visually_impaired</th>\n",
       "      <th>target_disability_hearing_impaired</th>\n",
       "      <th>target_disability_unspecific</th>\n",
       "      <th>target_disability_other</th>\n",
       "      <th>target_disability</th>\n",
       "      <th>hate_rank</th>\n",
       "      <th>capital_sentance</th>\n",
       "      <th>cleaned_text</th>\n",
       "      <th>wc_cleaned_text</th>\n",
       "    </tr>\n",
       "  </thead>\n",
       "  <tbody>\n",
       "    <tr>\n",
       "      <th>0</th>\n",
       "      <td>0</td>\n",
       "      <td>White people are trash.</td>\n",
       "      <td>0.46</td>\n",
       "      <td>0.0</td>\n",
       "      <td>0.0</td>\n",
       "      <td>0.0</td>\n",
       "      <td>0.0</td>\n",
       "      <td>0.0</td>\n",
       "      <td>0.0</td>\n",
       "      <td>1.0</td>\n",
       "      <td>...</td>\n",
       "      <td>0.0</td>\n",
       "      <td>0.0</td>\n",
       "      <td>0.0</td>\n",
       "      <td>0.0</td>\n",
       "      <td>0.0</td>\n",
       "      <td>0.0</td>\n",
       "      <td>1</td>\n",
       "      <td>0</td>\n",
       "      <td>white peopl are trash</td>\n",
       "      <td>4</td>\n",
       "    </tr>\n",
       "    <tr>\n",
       "      <th>1</th>\n",
       "      <td>0</td>\n",
       "      <td>You've caught the big gay, it's known to be ai...</td>\n",
       "      <td>0.03</td>\n",
       "      <td>0.0</td>\n",
       "      <td>0.0</td>\n",
       "      <td>0.0</td>\n",
       "      <td>0.0</td>\n",
       "      <td>0.0</td>\n",
       "      <td>0.0</td>\n",
       "      <td>0.0</td>\n",
       "      <td>...</td>\n",
       "      <td>0.0</td>\n",
       "      <td>0.0</td>\n",
       "      <td>0.0</td>\n",
       "      <td>0.0</td>\n",
       "      <td>0.0</td>\n",
       "      <td>0.0</td>\n",
       "      <td>1</td>\n",
       "      <td>0</td>\n",
       "      <td>you ve caught the big gay it s known to be air...</td>\n",
       "      <td>14</td>\n",
       "    </tr>\n",
       "    <tr>\n",
       "      <th>2</th>\n",
       "      <td>0</td>\n",
       "      <td>I'm not saying you said that, I'm just saying ...</td>\n",
       "      <td>-1.29</td>\n",
       "      <td>0.0</td>\n",
       "      <td>1.0</td>\n",
       "      <td>0.0</td>\n",
       "      <td>0.0</td>\n",
       "      <td>0.0</td>\n",
       "      <td>0.0</td>\n",
       "      <td>0.0</td>\n",
       "      <td>...</td>\n",
       "      <td>0.0</td>\n",
       "      <td>0.0</td>\n",
       "      <td>0.0</td>\n",
       "      <td>0.0</td>\n",
       "      <td>0.0</td>\n",
       "      <td>0.0</td>\n",
       "      <td>0</td>\n",
       "      <td>0</td>\n",
       "      <td>i m not say you said that i m just say that if...</td>\n",
       "      <td>75</td>\n",
       "    </tr>\n",
       "    <tr>\n",
       "      <th>3</th>\n",
       "      <td>0</td>\n",
       "      <td>Donald Trump. Yeet myself off a building onto ...</td>\n",
       "      <td>-0.24</td>\n",
       "      <td>0.0</td>\n",
       "      <td>0.0</td>\n",
       "      <td>0.0</td>\n",
       "      <td>0.0</td>\n",
       "      <td>0.0</td>\n",
       "      <td>0.0</td>\n",
       "      <td>0.0</td>\n",
       "      <td>...</td>\n",
       "      <td>0.0</td>\n",
       "      <td>0.0</td>\n",
       "      <td>0.0</td>\n",
       "      <td>0.0</td>\n",
       "      <td>0.0</td>\n",
       "      <td>0.0</td>\n",
       "      <td>1</td>\n",
       "      <td>0</td>\n",
       "      <td>donald trump yeet myself off a build onto a ga...</td>\n",
       "      <td>20</td>\n",
       "    </tr>\n",
       "    <tr>\n",
       "      <th>4</th>\n",
       "      <td>0</td>\n",
       "      <td>Fabrice Fabrice is ostensibly black or black/l...</td>\n",
       "      <td>-2.84</td>\n",
       "      <td>0.0</td>\n",
       "      <td>1.0</td>\n",
       "      <td>1.0</td>\n",
       "      <td>0.0</td>\n",
       "      <td>0.0</td>\n",
       "      <td>0.0</td>\n",
       "      <td>0.0</td>\n",
       "      <td>...</td>\n",
       "      <td>0.0</td>\n",
       "      <td>0.0</td>\n",
       "      <td>0.0</td>\n",
       "      <td>0.0</td>\n",
       "      <td>0.0</td>\n",
       "      <td>0.0</td>\n",
       "      <td>0</td>\n",
       "      <td>0</td>\n",
       "      <td>fabric fabric is ostens black or black latino ...</td>\n",
       "      <td>19</td>\n",
       "    </tr>\n",
       "  </tbody>\n",
       "</table>\n",
       "<p>5 rows × 60 columns</p>\n",
       "</div>"
      ],
      "text/plain": [
       "   platform                                               text  \\\n",
       "0         0                            White people are trash.   \n",
       "1         0  You've caught the big gay, it's known to be ai...   \n",
       "2         0  I'm not saying you said that, I'm just saying ...   \n",
       "3         0  Donald Trump. Yeet myself off a building onto ...   \n",
       "4         0  Fabrice Fabrice is ostensibly black or black/l...   \n",
       "\n",
       "   hate_speech_score  target_race_asian  target_race_black  \\\n",
       "0               0.46                0.0                0.0   \n",
       "1               0.03                0.0                0.0   \n",
       "2              -1.29                0.0                1.0   \n",
       "3              -0.24                0.0                0.0   \n",
       "4              -2.84                0.0                1.0   \n",
       "\n",
       "   target_race_latinx  target_race_middle_eastern  \\\n",
       "0                 0.0                         0.0   \n",
       "1                 0.0                         0.0   \n",
       "2                 0.0                         0.0   \n",
       "3                 0.0                         0.0   \n",
       "4                 1.0                         0.0   \n",
       "\n",
       "   target_race_native_american  target_race_pacific_islander  \\\n",
       "0                          0.0                           0.0   \n",
       "1                          0.0                           0.0   \n",
       "2                          0.0                           0.0   \n",
       "3                          0.0                           0.0   \n",
       "4                          0.0                           0.0   \n",
       "\n",
       "   target_race_white  ...  target_disability_neurological  \\\n",
       "0                1.0  ...                             0.0   \n",
       "1                0.0  ...                             0.0   \n",
       "2                0.0  ...                             0.0   \n",
       "3                0.0  ...                             0.0   \n",
       "4                0.0  ...                             0.0   \n",
       "\n",
       "   target_disability_visually_impaired  target_disability_hearing_impaired  \\\n",
       "0                                  0.0                                 0.0   \n",
       "1                                  0.0                                 0.0   \n",
       "2                                  0.0                                 0.0   \n",
       "3                                  0.0                                 0.0   \n",
       "4                                  0.0                                 0.0   \n",
       "\n",
       "   target_disability_unspecific  target_disability_other  target_disability  \\\n",
       "0                           0.0                      0.0                0.0   \n",
       "1                           0.0                      0.0                0.0   \n",
       "2                           0.0                      0.0                0.0   \n",
       "3                           0.0                      0.0                0.0   \n",
       "4                           0.0                      0.0                0.0   \n",
       "\n",
       "   hate_rank  capital_sentance  \\\n",
       "0          1                 0   \n",
       "1          1                 0   \n",
       "2          0                 0   \n",
       "3          1                 0   \n",
       "4          0                 0   \n",
       "\n",
       "                                        cleaned_text  wc_cleaned_text  \n",
       "0                              white peopl are trash                4  \n",
       "1  you ve caught the big gay it s known to be air...               14  \n",
       "2  i m not say you said that i m just say that if...               75  \n",
       "3  donald trump yeet myself off a build onto a ga...               20  \n",
       "4  fabric fabric is ostens black or black latino ...               19  \n",
       "\n",
       "[5 rows x 60 columns]"
      ]
     },
     "execution_count": 4,
     "metadata": {},
     "output_type": "execute_result"
    }
   ],
   "source": [
    "df = pd.read_csv('../data/cleaned_02_ii.csv')\n",
    "print(df.shape)\n",
    "df.head()"
   ]
  },
  {
   "cell_type": "code",
   "execution_count": 188,
   "id": "871b9cb8",
   "metadata": {},
   "outputs": [
    {
     "data": {
      "text/plain": [
       "hate_rank\n",
       "0    0.738304\n",
       "1    0.208973\n",
       "2    0.052723\n",
       "Name: proportion, dtype: float64"
      ]
     },
     "execution_count": 188,
     "metadata": {},
     "output_type": "execute_result"
    }
   ],
   "source": [
    "# h wait, let me copy over the fllowing:\n",
    "# hate_speech_score - continuous hate speech measure, where higher = more hateful and lower = less hateful. \n",
    "# > 0.5 is approximately hate speech, < -1 is counter or supportive speech, and -1 to +0.5 is neutral or ambiguous.\n",
    "\n",
    "# ...Misread this - ambiguous also goes below...\n",
    "\n",
    "lower_limit, upper_limit = .5, 2\n",
    "df['hate_rank'] = [2 if i > upper_limit\n",
    "                  else 1 if i > lower_limit else 0\n",
    "                  for i in df['hate_speech_score']]\n",
    "df['hate_rank'].value_counts(normalize=True)"
   ]
  },
  {
   "cell_type": "markdown",
   "id": "37e15fe5",
   "metadata": {},
   "source": [
    "# Round I of modeling!\n",
    "\n",
    "Reminder again that our target is somewhat ambiguous, tweaks to be adjusted to the 'cleaned text' among other things before the anticipated 'fun' of adding in other factors such as platform and target."
   ]
  },
  {
   "cell_type": "code",
   "execution_count": 6,
   "id": "9c091129",
   "metadata": {},
   "outputs": [],
   "source": [
    "X = df['cleaned_text']\n",
    "y = df['hate_rank']\n",
    "\n",
    "X_train, X_test, y_train, y_test = train_test_split(X,\n",
    "                                                    y,\n",
    "                                                    test_size = 0.25, #Given the size we'll start with this, a bit larger than what I'd usually do\n",
    "                                                    random_state = 26, #I like this number\n",
    "                                                    stratify=y) #Particularly important in this case with 3 targets"
   ]
  },
  {
   "cell_type": "code",
   "execution_count": 22,
   "id": "b191bbe6",
   "metadata": {},
   "outputs": [
    {
     "data": {
      "image/png": "[encoded data removed]",
      "text/plain": [
       "<Figure size 640x480 with 1 Axes>"
      ]
     },
     "metadata": {},
     "output_type": "display_data"
    }
   ],
   "source": [
    "#For kicks, to get a bit of a taste of the upcoming data. \n",
    "cvec_ex = CountVectorizer(stop_words='english')\n",
    "X_train_cvec_ex = cvec_ex.fit_transform(X_train)\n",
    "X_train_ex = pd.DataFrame(X_train_cvec_ex.todense(),\n",
    "                          columns=cvec_ex.get_feature_names_out())\n",
    "\n",
    "X_train_ex.sum().sort_values().tail(30).plot(kind=\"barh\");"
   ]
  },
  {
   "cell_type": "markdown",
   "id": "5e039b36",
   "metadata": {},
   "source": [
    "Unsurprising, the 'f' word is high up there being the second mst common (only behind 'this'). Likely its presence, along with any other similar word, is more indicative of hate speech.\n",
    "\n",
    "Other interesting words (tokens) include: just, b****, a**, white, black, woman, countri, n****, gay, men, and girl. Of particular interst to me is 'just'. Albeit it is a stopword, however"
   ]
  },
  {
   "cell_type": "code",
   "execution_count": 16,
   "id": "0446e0c5",
   "metadata": {},
   "outputs": [
    {
     "data": {
      "text/plain": [
       "3083"
      ]
     },
     "execution_count": 16,
     "metadata": {},
     "output_type": "execute_result"
    }
   ],
   "source": [
    "# stopwords.words().index('just')"
   ]
  },
  {
   "cell_type": "code",
   "execution_count": 18,
   "id": "fc0d26ff",
   "metadata": {},
   "outputs": [
    {
     "data": {
      "text/plain": [
       "28445"
      ]
     },
     "execution_count": 18,
     "metadata": {},
     "output_type": "execute_result"
    }
   ],
   "source": [
    "X_train_ex.shape[1]#Ww, quite a lot of words..."
   ]
  },
  {
   "cell_type": "code",
   "execution_count": null,
   "id": "ce80738c",
   "metadata": {},
   "outputs": [],
   "source": [
    "# pipe = Pipeline([\n",
    "#     ('cvec', CountVectorizer(lowercase=False))\n",
    "#     ,('lr', LogisticRegression(max_iter=2500, multi_class='multinomial'))\n",
    "# ])\n",
    "\n",
    "# pipe_params = {'cvec__min_df' : [.05, .00]\n",
    "#                ,'cvec__max_df' : [.95, 1.00]\n",
    "#                ,'cvec__ngram_range' : [(1, 1)]\n",
    "#                ,'cvec__max_features' : [2000, 5000]\n",
    "#                ,'cvec__stop_words' : ['english', None]\n",
    "#               }\n",
    "\n",
    "# gs = GridSearchCV(pipe,\n",
    "#                   param_grid=pipe_params,\n",
    "#                   cv=5)\n",
    "# gs.fit(X_train, y_train)\n",
    "\n",
    "# print(gs.score(X_train, y_train), gs.score(X_test, y_test))\n",
    "# print(gs.best_score_)\n",
    "# print(gs.best_params_)\n",
    "\n",
    "# #Output:\n",
    "# 0.7661510464058234 0.7093610998786899\n",
    "# 0.7039399584704426\n",
    "# {'cvec__max_df': 0.95, 'cvec__max_features': 2000, 'cvec__min_df': 0.0, 'cvec__ngram_range': (1, 1), 'cvec__stop_words': None}"
   ]
  },
  {
   "cell_type": "markdown",
   "id": "82d0ee9c",
   "metadata": {},
   "source": [
    "Above is a copy of the first iteration I ran, and will serve as a general template describing my thought process for the rest of this project:\n",
    "\n",
    "Well, we got a nice bit of overfitting and overall not the greatest accuracy. Recall how we're\n",
    "dealng with multi-class classification and would need to properly address the metrics - as now sensitivity seems a bit more abstruse.\n",
    "\n",
    "Regardless, I'll keep the metrics as overall accuracy for now, as I want to do a lot better than a mere 70%.\n",
    "\n",
    "Anyways, regarding going forward with hyper-parameters: Notice the selection of specific feature and explore that trend more. Ex. we chose .95 for max df when we had two options: .95 and 1.00. Likely let us explor if that .95 preference is even lower (such as next trying maybe .925) or a bit higher (such as .975) yet not as big as the original alternative of 1.00.\n",
    "\n",
    "Only other parameter I'll call attention to is rejection of using English stopwords. Among other theories, perhaps related to the trend we noticed of more positive posts often being longer in length."
   ]
  },
  {
   "cell_type": "code",
   "execution_count": 56,
   "id": "46c656dd",
   "metadata": {},
   "outputs": [
    {
     "name": "stdout",
     "output_type": "stream",
     "text": [
      "0.7661510464058234 0.7093610998786899\n"
     ]
    }
   ],
   "source": [
    "# trial_model = gs.best_estimator_\n",
    "# trial_model.fit(X_train,y_train)\n",
    "# print(trial_model.score(X_train, y_train), trial_model.score(X_test, y_test))\n",
    "\n",
    "# preds = gs.predict(X_test)\n",
    "# preds_prob = gs.predict_proba(X_test)\n",
    "# hyper_pred_comparer = pd.DataFrame({\n",
    "#     'cleaned_text':X_test\n",
    "#     ,'actual':y_test\n",
    "#     ,'pred':preds\n",
    "#     ,'p_0':preds_prob[:,0]\n",
    "#     ,'p_1':preds_prob[:,1]\n",
    "#     ,'p_2':preds_prob[:,2]\n",
    "# })"
   ]
  },
  {
   "cell_type": "code",
   "execution_count": 57,
   "id": "e2b6a9f6",
   "metadata": {},
   "outputs": [],
   "source": [
    "# hyper_misses = hyper_pred_comparer[hyper_pred_comparer['actual']!=hyper_pred_comparer['pred']]\n",
    "# i = -1"
   ]
  },
  {
   "cell_type": "code",
   "execution_count": 59,
   "id": "d7cd04dd",
   "metadata": {},
   "outputs": [
    {
     "name": "stdout",
     "output_type": "stream",
     "text": [
      "1\n",
      "actual    0\n",
      "pred      2\n",
      "Name: 37719, dtype: object\n",
      "p_0    0.006897\n",
      "p_1    0.490072\n",
      "p_2    0.503031\n",
      "Name: 37719, dtype: object\n"
     ]
    },
    {
     "data": {
      "text/plain": [
       "'non white american pleas relax and don t worri about what crazi trump and hi mental sick support are say becaus thi countri is your and will be onli your soon these ignor pig will disappear soon if you want them to go you are go too'"
      ]
     },
     "execution_count": 59,
     "metadata": {},
     "output_type": "execute_result"
    }
   ],
   "source": [
    "# i += 1\n",
    "# print(i)\n",
    "# print(hyper_misses.iloc[i, 1:3])\n",
    "# print(hyper_misses.iloc[i, 3:6])\n",
    "# hyper_misses.iloc[i, 0]"
   ]
  },
  {
   "cell_type": "code",
   "execution_count": 60,
   "id": "05714afc",
   "metadata": {},
   "outputs": [
    {
     "name": "stdout",
     "output_type": "stream",
     "text": [
      "1\n",
      "actual    0\n",
      "pred      2\n",
      "Name: 37719, dtype: object\n",
      "p_0    0.006897\n",
      "p_1    0.490072\n",
      "p_2    0.503031\n",
      "Name: 37719, dtype: object\n"
     ]
    },
    {
     "data": {
      "text/plain": [
       "'non white american pleas relax and don t worri about what crazi trump and hi mental sick support are say becaus thi countri is your and will be onli your soon these ignor pig will disappear soon if you want them to go you are go too'"
      ]
     },
     "execution_count": 60,
     "metadata": {},
     "output_type": "execute_result"
    }
   ],
   "source": [
    "# print(1)\n",
    "# print(hyper_misses.iloc[1, 1:3])\n",
    "# print(hyper_misses.iloc[i, 3:6])\n",
    "# hyper_misses.iloc[1, 0]\n",
    "# We'll look at this example (current per the - our model thought it was a 2:\n",
    "\n",
    "#Yeah, I'm not surprised when it makes references to say many groups AND in a somewhat edgy way.\n",
    "#Ie 'disappear' 'soon' 'crazi' 'mental/sick',etc."
   ]
  },
  {
   "cell_type": "code",
   "execution_count": 66,
   "id": "57d7f71f",
   "metadata": {},
   "outputs": [
    {
     "name": "stdout",
     "output_type": "stream",
     "text": [
      "0.7487952010245004 0.7071370804690659\n",
      "0.7110505535617999\n",
      "{'cvec__max_df': 0.95, 'cvec__max_features': 1200, 'cvec__min_df': 0.0, 'cvec__ngram_range': (1, 1), 'cvec__stop_words': None}\n"
     ]
    }
   ],
   "source": [
    "#All right, we got our basic methodology done. It's tuning time!!!!!!\n",
    "#Think I'm excited?\n",
    "\n",
    "pipe = Pipeline([\n",
    "    ('cvec', CountVectorizer(lowercase=False))\n",
    "    ,('lr', LogisticRegression(max_iter=2500, multi_class='multinomial'))\n",
    "])\n",
    "\n",
    "pipe_params = {'cvec__min_df' : [.00]\n",
    "               ,'cvec__max_df' : [.95]\n",
    "               ,'cvec__ngram_range' : [(1, 1)]\n",
    "               ,'cvec__max_features' : [1175, 1225, 1200]\n",
    "               ,'cvec__stop_words' : [None]\n",
    "              }\n",
    "gs = GridSearchCV(pipe\n",
    "                  ,param_grid=pipe_params\n",
    "                  ,cv=5)\n",
    "gs.fit(X_train, y_train)\n",
    "\n",
    "print(gs.score(X_train, y_train), gs.score(X_test, y_test))\n",
    "print(gs.best_score_)\n",
    "print(gs.best_params_)"
   ]
  },
  {
   "cell_type": "code",
   "execution_count": 67,
   "id": "cc0de94d",
   "metadata": {},
   "outputs": [],
   "source": [
    "#Hmm, it looks like this is the best we're going to get... a mere 70%... For now we'll take it.\n",
    "#Note, that even with the cvec we can hopefully improve accuracy via the addition of the other featues\n",
    "#such as word count, type of discrimination, etc."
   ]
  },
  {
   "cell_type": "code",
   "execution_count": 72,
   "id": "0d9f9d24",
   "metadata": {},
   "outputs": [
    {
     "name": "stdout",
     "output_type": "stream",
     "text": [
      "0.7571529673440501 0.7175495349777598\n",
      "0.7184985244882702\n",
      "{'tvec__max_df': 0.95, 'tvec__max_features': 2125, 'tvec__min_df': 0.0, 'tvec__ngram_range': (1, 1), 'tvec__stop_words': None}\n"
     ]
    }
   ],
   "source": [
    "#Continuing with Tiffany:\n",
    "pipe = Pipeline([\n",
    "    ('tvec', TfidfVectorizer(lowercase=False))\n",
    "    ,('lr', LogisticRegression(max_iter=3000, multi_class='multinomial'))\n",
    "])\n",
    "pipe_params = {'tvec__min_df' : [.0]\n",
    "               ,'tvec__max_df' : [.95]\n",
    "               ,'tvec__ngram_range' : [(1,1)]\n",
    "               ,'tvec__max_features' : [2100, 2150, 2125]\n",
    "               ,'tvec__stop_words' : [None]\n",
    "               }\n",
    "gs = GridSearchCV(pipe\n",
    "                  ,param_grid=pipe_params\n",
    "                  ,cv=5)\n",
    "\n",
    "gs.fit(X_train, y_train)\n",
    "\n",
    "print(gs.score(X_train, y_train), gs.score(X_test, y_test))\n",
    "print(gs.best_score_)\n",
    "print(gs.best_params_)"
   ]
  },
  {
   "cell_type": "code",
   "execution_count": null,
   "id": "23788cf5",
   "metadata": {},
   "outputs": [],
   "source": [
    "#Gah, honestly also lackluster. A bit better albit, now being over 71%. #I'll still continue a bt\n",
    "#more in this brutish approach."
   ]
  },
  {
   "cell_type": "code",
   "execution_count": null,
   "id": "43d6d4b7",
   "metadata": {},
   "outputs": [],
   "source": []
  },
  {
   "cell_type": "code",
   "execution_count": 76,
   "id": "3efdc697",
   "metadata": {},
   "outputs": [
    {
     "name": "stdout",
     "output_type": "stream",
     "text": [
      "0.7473123715161931 0.7098665588354226\n",
      "0.7110843655384744\n",
      "{'cvec__max_df': 0.95, 'cvec__max_features': 4500, 'cvec__min_df': 0.0, 'cvec__ngram_range': (1, 1), 'cvec__stop_words': 'english', 'mnb__alpha': 1.0}\n"
     ]
    }
   ],
   "source": [
    "pipe = Pipeline([\n",
    "    ('cvec', CountVectorizer(lowercase=False))\n",
    "    ,('to_dense', FunctionTransformer(lambda x: x.toarray(), accept_sparse=True))\n",
    "    ,('mnb', MultinomialNB())\n",
    "])\n",
    "pipe_params = {'cvec__min_df' : [.0]\n",
    "               ,'cvec__max_df' : [.95]\n",
    "               ,'cvec__ngram_range' : [(1, 1)]\n",
    "               ,'cvec__max_features' : [4500, 4600, 4400]\n",
    "               ,'cvec__stop_words' : ['english']\n",
    "               ,'mnb__alpha': [1.0]\n",
    "              }\n",
    "gs = GridSearchCV(pipe\n",
    "                  ,param_grid=pipe_params\n",
    "                  ,cv=5)\n",
    "\n",
    "gs.fit(X_train, y_train)\n",
    "\n",
    "print(gs.score(X_train, y_train), gs.score(X_test, y_test))\n",
    "print(gs.best_score_)\n",
    "print(gs.best_params_)"
   ]
  },
  {
   "cell_type": "code",
   "execution_count": null,
   "id": "bf1d22b4",
   "metadata": {},
   "outputs": [],
   "source": [
    "#Might as well try also with Tiffany, especially when I'm just grasping for at least an itial\n",
    "#guess model to be above80%..."
   ]
  },
  {
   "cell_type": "code",
   "execution_count": 80,
   "id": "3fc1bd61",
   "metadata": {},
   "outputs": [
    {
     "name": "stdout",
     "output_type": "stream",
     "text": [
      "0.7474134735281233 0.7213910230489284\n",
      "0.7207563740317886\n",
      "{'mnb__alpha': 0.98, 'tvec__max_df': 0.95, 'tvec__max_features': 4400, 'tvec__min_df': 0.0, 'tvec__ngram_range': (1, 1), 'tvec__stop_words': None}\n"
     ]
    }
   ],
   "source": [
    "#TBD if we'll do pipes for both cvec and Tiffany, but we have to at least try the others:\n",
    "pipe = Pipeline([\n",
    "    ('tvec', TfidfVectorizer(lowercase=False))\n",
    "    ,('to_dense', FunctionTransformer(lambda x: x.toarray(), accept_sparse=True))\n",
    "    ,('mnb', MultinomialNB())\n",
    "])\n",
    "pipe_params = {'tvec__min_df' : [.0]\n",
    "               ,'tvec__max_df' : [.95]\n",
    "               ,'tvec__ngram_range' : [(1,1)]\n",
    "               ,'tvec__max_features' : [4500, 4400, 4600]\n",
    "               ,'tvec__stop_words' : ['english', None]\n",
    "               ,'mnb__alpha': [.98]\n",
    "              }\n",
    "gs = GridSearchCV(pipe\n",
    "                  ,param_grid=pipe_params\n",
    "                  ,cv=5)\n",
    "\n",
    "gs.fit(X_train, y_train)\n",
    "\n",
    "print(gs.score(X_train, y_train), gs.score(X_test, y_test))\n",
    "print(gs.best_score_)\n",
    "print(gs.best_params_)"
   ]
  },
  {
   "cell_type": "code",
   "execution_count": 88,
   "id": "36b0df2e",
   "metadata": {},
   "outputs": [
    {
     "name": "stdout",
     "output_type": "stream",
     "text": [
      "0.5166986823037778 0.5109179134654266\n",
      "0.5184172712530903\n",
      "{'cvec__max_df': 0.95, 'cvec__max_features': 1750, 'cvec__min_df': 0.05, 'cvec__ngram_range': (1, 1), 'cvec__stop_words': 'english'}\n"
     ]
    }
   ],
   "source": [
    "pipe = Pipeline([\n",
    "    ('cvec', CountVectorizer(lowercase=False))\n",
    "    ,('to_dense', FunctionTransformer(lambda x: x.toarray(), accept_sparse=True))\n",
    "    ,('gnb', GaussianNB())\n",
    "])\n",
    "pipe_params = {'cvec__min_df' : [.05]\n",
    "               ,'cvec__max_df' : [.95]\n",
    "               ,'cvec__ngram_range' : [(1, 1)]\n",
    "               ,'cvec__max_features' : [1750, 1775, 1725]\n",
    "               ,'cvec__stop_words' : ['english']\n",
    "              }\n",
    "gs = GridSearchCV(pipe\n",
    "                  ,param_grid=pipe_params\n",
    "                  ,cv=5)\n",
    "\n",
    "gs.fit(X_train, y_train)\n",
    "\n",
    "print(gs.score(X_train, y_train), gs.score(X_test, y_test))\n",
    "print(gs.best_score_)\n",
    "print(gs.best_params_)\n",
    "#Oh wow, this one did terrible... did I forget a paramter to tune?!?!Seemngly not..."
   ]
  },
  {
   "cell_type": "code",
   "execution_count": 5,
   "id": "e2545031",
   "metadata": {},
   "outputs": [],
   "source": [
    "# #Unfortunately I was unable to fit this one (perhaps with the parameters) ie it took too long for me to bother...\n",
    "# pipe = Pipeline([\n",
    "#     ('cvec', CountVectorizer(lowercase=False))\n",
    "#     ,('to_dense', FunctionTransformer(lambda x: x.toarray(), accept_sparse=True))\n",
    "#     ,('canb', CategoricalNB())\n",
    "# ])\n",
    "# pipe_params = {'cvec__min_df' : [.0, .05]\n",
    "#                ,'cvec__max_df' : [.95, 1.0]\n",
    "#                ,'cvec__ngram_range' : [(1, 1), (1,2)]\n",
    "#                ,'cvec__max_features' : [2000, 3000, 4000]\n",
    "#                ,'cvec__stop_words' : ['english', None]\n",
    "#                ,'canb__alpha': [.95, 1.0]\n",
    "#               }\n",
    "# gs = GridSearchCV(pipe\n",
    "#                   ,param_grid=pipe_params\n",
    "#                   ,cv=5)\n",
    "\n",
    "# gs.fit(X_train, y_train)\n",
    "\n",
    "# print(gs.score(X_train, y_train), gs.score(X_test, y_test))\n",
    "# print(gs.best_score_)\n",
    "# print(gs.best_params_)"
   ]
  },
  {
   "cell_type": "code",
   "execution_count": 10,
   "id": "38f386d8",
   "metadata": {},
   "outputs": [
    {
     "name": "stdout",
     "output_type": "stream",
     "text": [
      "0.7402015300104472 0.715729882733522\n",
      "0.7165437560994585\n",
      "{'conb__alpha': 1.0, 'cvec__max_df': 0.95, 'cvec__max_features': 4400, 'cvec__min_df': 0.0, 'cvec__ngram_range': (1, 1), 'cvec__stop_words': None}\n"
     ]
    }
   ],
   "source": [
    "pipe = Pipeline([\n",
    "    ('cvec', CountVectorizer(lowercase=False))\n",
    "    ,('to_dense', FunctionTransformer(lambda x: x.toarray(), accept_sparse=True))\n",
    "    ,('conb', ComplementNB())\n",
    "])\n",
    "pipe_params = {'cvec__min_df' : [.0]\n",
    "               ,'cvec__max_df' : [.95]\n",
    "               ,'cvec__ngram_range' : [(1, 1)]\n",
    "               ,'cvec__max_features' : [4400, 4350, 4450]\n",
    "               ,'cvec__stop_words' : [None]\n",
    "               ,'conb__alpha': [1.0]\n",
    "              }\n",
    "gs = GridSearchCV(pipe\n",
    "                  ,param_grid=pipe_params\n",
    "                  ,cv=5)\n",
    "\n",
    "gs.fit(X_train, y_train)\n",
    "\n",
    "print(gs.score(X_train, y_train), gs.score(X_test, y_test))\n",
    "print(gs.best_score_)\n",
    "print(gs.best_params_)"
   ]
  },
  {
   "cell_type": "code",
   "execution_count": null,
   "id": "b03e37d8",
   "metadata": {},
   "outputs": [],
   "source": []
  },
  {
   "cell_type": "code",
   "execution_count": null,
   "id": "d88fb54a",
   "metadata": {},
   "outputs": [],
   "source": [
    "#Reminder for the the others... we have to do them this time..."
   ]
  },
  {
   "cell_type": "code",
   "execution_count": 12,
   "id": "8593293c",
   "metadata": {},
   "outputs": [],
   "source": [
    "##Also didn't get this one either...\n",
    "# pipe = Pipeline([\n",
    "#     ('cvec', CountVectorizer(lowercase=False))\n",
    "#     ,('to_dense', FunctionTransformer(lambda x: x.toarray(), accept_sparse=True))\n",
    "#     ,('svc', SVC())\n",
    "# ])\n",
    "# pipe_params = {'cvec__min_df' : [.0]\n",
    "#                ,'cvec__max_df' : [1.0]\n",
    "#                ,'cvec__ngram_range' : [(1,1), (1,2)]\n",
    "#                ,'cvec__max_features' : [2000, 4000]\n",
    "#                ,'cvec__stop_words' : ['english', None]\n",
    "#                ,'svc__kernel': ['linear']\n",
    "#                ,'svc__C': [.95, .1]\n",
    "#               }\n",
    "# gs = GridSearchCV(pipe\n",
    "#                   ,param_grid=pipe_params\n",
    "#                   ,cv=5)\n",
    "# gs.fit(X_train, y_train)\n",
    "\n",
    "# print(gs.score(X_train, y_train), gs.score(X_test, y_test))\n",
    "# print(gs.best_score_)\n",
    "# print(gs.best_params_)"
   ]
  },
  {
   "cell_type": "code",
   "execution_count": 13,
   "id": "c8dc4e84",
   "metadata": {},
   "outputs": [],
   "source": [
    "# #Won't even bother...\n",
    "# pipe = Pipeline([\n",
    "#     ('tvec', TfidfVectorizer(lowercase=False))\n",
    "#     ,('to_dense', FunctionTransformer(lambda x: x.toarray(), accept_sparse=True))\n",
    "#     ,('svc', SVC())\n",
    "# ])\n",
    "# pipe_params = {'tvec__min_df' : [.0]\n",
    "#                ,'tvec__max_df' : [1.0]\n",
    "#                ,'tvec__ngram_range' : [(1,2), (1,1)]\n",
    "#                ,'tvec__max_features' : [2000, 4000]\n",
    "#                ,'tvec__stop_words' : ['english']\n",
    "#                ,'svc__kernel': ['linear']\n",
    "#                ,'svc__C': [.95]\n",
    "#               }\n",
    "# gs = GridSearchCV(pipe\n",
    "#                   ,param_grid=pipe_params\n",
    "#                   ,cv=5)\n",
    "# gs.fit(X_train, y_train)\n",
    "\n",
    "# print(gs.score(X_train, y_train), gs.score(X_test, y_test))\n",
    "# print(gs.best_score_)\n",
    "# print(gs.best_params_)"
   ]
  },
  {
   "cell_type": "markdown",
   "id": "98cb4456",
   "metadata": {},
   "source": [
    "## Re-evaluation\n",
    "\n",
    "So, this approach cleearly isn't working with bottom line getting accuracies in the mere 70s. Sure, perhaps we should\n",
    "redefine the borderline of hateful speach, but still...\n",
    "\n",
    "I'll do at least one redefine before trying something else...\n",
    "\n",
    "Recall from camp we had a few approaches with underrepresented classes. The fourth was something we'll explore momentarily."
   ]
  },
  {
   "cell_type": "code",
   "execution_count": 15,
   "id": "f163acb0",
   "metadata": {},
   "outputs": [
    {
     "data": {
      "text/plain": [
       "count    39565.000000\n",
       "mean        -0.943911\n",
       "std          2.073087\n",
       "min         -8.340000\n",
       "25%         -2.330000\n",
       "50%         -0.700000\n",
       "75%          0.570000\n",
       "max          6.300000\n",
       "Name: hate_speech_score, dtype: float64"
      ]
     },
     "execution_count": 15,
     "metadata": {},
     "output_type": "execute_result"
    }
   ],
   "source": [
    "df['hate_speech_score'].describe()"
   ]
  },
  {
   "cell_type": "code",
   "execution_count": 19,
   "id": "f8601649",
   "metadata": {},
   "outputs": [
    {
     "data": {
      "text/plain": [
       "2.04"
      ]
     },
     "execution_count": 19,
     "metadata": {},
     "output_type": "execute_result"
    }
   ],
   "source": [
    "df['hate_speech_score'].quantile(.95) #Eh, we'll keep it as is... \n",
    "\n",
    "#So, before we go again, I want to run again the 'baseline' logistic regression with a few changes:"
   ]
  },
  {
   "cell_type": "code",
   "execution_count": null,
   "id": "0a153a71",
   "metadata": {},
   "outputs": [],
   "source": []
  },
  {
   "cell_type": "code",
   "execution_count": null,
   "id": "423877fb",
   "metadata": {},
   "outputs": [],
   "source": []
  },
  {
   "cell_type": "code",
   "execution_count": 47,
   "id": "60007e32",
   "metadata": {},
   "outputs": [],
   "source": [
    "# #Wait, will this even work with a sparse matrix?.... Let me try with weights first...\n",
    "# ros = RandomOverSampler(random_state=26)\n",
    "# X_ros, y_ros = ros.fit_resample(X, y)\n",
    "# X_train_ros, X_test_ros, y_train_ros, y_test_ros = train_test_split(X\n",
    "#                                                     ,y\n",
    "#                                                     ,test_size = 0.25\n",
    "#                                                     ,random_state = 26\n",
    "#                                                     ,stratify=y_ros)"
   ]
  },
  {
   "cell_type": "code",
   "execution_count": 50,
   "id": "cfed81ad",
   "metadata": {},
   "outputs": [
    {
     "data": {
      "text/plain": [
       "((39565,), (39565,))"
      ]
     },
     "execution_count": 50,
     "metadata": {},
     "output_type": "execute_result"
    }
   ],
   "source": [
    "X.shape, y.shape"
   ]
  },
  {
   "cell_type": "code",
   "execution_count": 18,
   "id": "950ab0a3",
   "metadata": {},
   "outputs": [],
   "source": [
    "# smote = SMOTE(random_state=26)\n",
    "# X_smote, y_smote = smote.fit_resample(X, y)\n",
    "# X_train_smote, X_test_smote, y_train_smote, y_test_smote = train_test_split(X\n",
    "#                                                     ,y\n",
    "#                                                     ,test_size = 0.25\n",
    "#                                                     ,random_state = 26\n",
    "#                                                     ,stratify=y_smote)"
   ]
  },
  {
   "cell_type": "code",
   "execution_count": 69,
   "id": "342c6b49",
   "metadata": {},
   "outputs": [],
   "source": [
    "# pipe = Pipeline([\n",
    "#     ('tvec', TfidfVectorizer(lowercase=False))\n",
    "#     ,('lr', LogisticRegression(max_iter=3000, multi_class='multinomial'))\n",
    "# ])\n",
    "# pipe_params = {'tvec__min_df' : [.0]\n",
    "#                ,'tvec__max_df' : [.95]\n",
    "#                ,'tvec__ngram_range' : [(1,1)]\n",
    "#                ,'tvec__max_features' : [2125]\n",
    "#                ,'tvec__stop_words' : [None]\n",
    "#                }\n",
    "# scorer = make_scorer(recall_score, average = None) #Syntax essentially from Gunes of StackExchange\n",
    "# gs = GridSearchCV(pipe\n",
    "#                   ,param_grid=pipe_params\n",
    "#                   ,cv=5\n",
    "#                  ,scoring=scorer)\n",
    "\n",
    "# gs.fit(X_train, y_train)\n",
    "\n",
    "# print(gs.score(X_train, y_train), gs.score(X_test, y_test))\n",
    "# print(gs.best_score_)\n",
    "# print(gs.best_params_)"
   ]
  },
  {
   "cell_type": "code",
   "execution_count": 96,
   "id": "be9d9574",
   "metadata": {},
   "outputs": [],
   "source": [
    "# def class_recall(class_location):\n",
    "#     score = recall_score(y_true, y_pred, average = None)\n",
    "#     return score[class_location]"
   ]
  },
  {
   "cell_type": "code",
   "execution_count": 79,
   "id": "6fcc5d3b",
   "metadata": {},
   "outputs": [
    {
     "name": "stdout",
     "output_type": "stream",
     "text": [
      "0.7942237050517306 0.7551556813586737\n",
      "0.7548275796468256\n",
      "{'tvec__max_df': 0.95, 'tvec__max_features': 2125, 'tvec__min_df': 0.0, 'tvec__ngram_range': (1, 1), 'tvec__stop_words': None}\n"
     ]
    }
   ],
   "source": [
    "pipe = Pipeline([\n",
    "    ('tvec', TfidfVectorizer(lowercase=False))\n",
    "    ,('lr', LogisticRegression(max_iter=3000, multi_class='multinomial', class_weight={0:1,1:1.25,2:4}))\n",
    "])\n",
    "pipe_params = {'tvec__min_df' : [.0]\n",
    "               ,'tvec__max_df' : [.95]\n",
    "               ,'tvec__ngram_range' : [(1,1)]\n",
    "               ,'tvec__max_features' : [2125]\n",
    "               ,'tvec__stop_words' : [None]\n",
    "               }\n",
    "scorer = make_scorer(recall_score, average = 'weighted')#Syntax essentially from Gunes of StackExchange\n",
    "gs = GridSearchCV(pipe\n",
    "                  ,param_grid=pipe_params\n",
    "                  ,cv=5\n",
    "                  ,scoring=scorer\n",
    "                 )\n",
    "\n",
    "gs.fit(X_train, y_train)\n",
    "\n",
    "print(gs.score(X_train, y_train), gs.score(X_test, y_test))\n",
    "print(gs.best_score_)\n",
    "print(gs.best_params_)"
   ]
  },
  {
   "cell_type": "code",
   "execution_count": 80,
   "id": "3102e3e5",
   "metadata": {},
   "outputs": [
    {
     "name": "stdout",
     "output_type": "stream",
     "text": [
      "0.7942237050517306 0.7551556813586737\n"
     ]
    }
   ],
   "source": [
    "trial_model = gs.best_estimator_\n",
    "trial_model.fit(X_train,y_train)\n",
    "print(trial_model.score(X_train, y_train), trial_model.score(X_test, y_test))\n",
    "\n",
    "preds = trial_model.predict(X_test)\n",
    "preds_prob = trial_model.predict_proba(X_test)\n",
    "hyper_pred_comparer = pd.DataFrame({\n",
    "    'cleaned_text':X_test\n",
    "    ,'actual':y_test\n",
    "    ,'pred':preds\n",
    "    ,'p_0':preds_prob[:,0]\n",
    "    ,'p_1':preds_prob[:,1]\n",
    "    ,'p_2':preds_prob[:,2]\n",
    "})"
   ]
  },
  {
   "cell_type": "code",
   "execution_count": 81,
   "id": "b811dac0",
   "metadata": {},
   "outputs": [
    {
     "data": {
      "image/png": "[encoded data removed]",
      "text/plain": [
       "<Figure size 640x480 with 2 Axes>"
      ]
     },
     "metadata": {},
     "output_type": "display_data"
    }
   ],
   "source": [
    "ConfusionMatrixDisplay.from_estimator(trial_model,X_test,y_test, cmap='Greens');"
   ]
  },
  {
   "cell_type": "code",
   "execution_count": 13,
   "id": "52098e52",
   "metadata": {},
   "outputs": [
    {
     "data": {
      "text/plain": [
       "array([185, 134, 203], dtype=int64)"
      ]
     },
     "execution_count": 13,
     "metadata": {},
     "output_type": "execute_result"
    }
   ],
   "source": [
    "confusion_matrix(y_test, preds)[2]"
   ]
  },
  {
   "cell_type": "code",
   "execution_count": null,
   "id": "07f597e5",
   "metadata": {},
   "outputs": [],
   "source": [
    "#Hmm, let's finally get the scoring down. We're most interested in category 2; however, per revisioning the problm statement\n",
    "#likely a focus on one is enough. So, this would basically be correctly identifying the negatives of 0, is tn/tn+fp is specificity\n",
    "    #Ie specificity of 2s.\n",
    "#Alt, go back to focusing on the most toxic 2s: tp/tp+fn sensitivity of 2s."
   ]
  },
  {
   "cell_type": "code",
   "execution_count": 83,
   "id": "90362f98",
   "metadata": {},
   "outputs": [
    {
     "data": {
      "text/plain": [
       "hate_rank\n",
       "0    29211\n",
       "1     8268\n",
       "2     2086\n",
       "Name: count, dtype: int64"
      ]
     },
     "execution_count": 83,
     "metadata": {},
     "output_type": "execute_result"
    }
   ],
   "source": [
    "#Hmm, so after the ponderings and wanderings let us go back to our original dataframe, resample 1s and 2s, then run everything anew\n",
    "df['hate_rank'].value_counts()"
   ]
  },
  {
   "cell_type": "code",
   "execution_count": 87,
   "id": "ca236725",
   "metadata": {},
   "outputs": [
    {
     "data": {
      "text/plain": [
       "14"
      ]
     },
     "execution_count": 87,
     "metadata": {},
     "output_type": "execute_result"
    }
   ],
   "source": [
    "(df.shape[0]//3000)+1 #Somewhat arbitrary number, but in short I want to: \n",
    "#1) Limit the 0 category\n",
    "#2) Resample the 1 and 2 category\n",
    "#14k per group was chosen to be 'as big as the original' yet still being small enough to practically work with.\n",
    "    #I might change this later, as now group 2 is sooo overused. I'd be comfortable off hand with 6kish, with each post\n",
    "    #likly being used 3 times each, but an on-average of 7 seems excesive... And, for whatever it matters: The other\n",
    "    #big project we did with Reddit titles had 1.5kish per group...\n",
    "#For consistency's sake, I will also sample 0 with replacement.\n",
    "\n",
    "#Also, I don't think I'll bother to worry aobut original comment id. But we'll see."
   ]
  },
  {
   "cell_type": "code",
   "execution_count": 90,
   "id": "28b206ba",
   "metadata": {},
   "outputs": [
    {
     "data": {
      "text/html": [
       "<div>\n",
       "<style scoped>\n",
       "    .dataframe tbody tr th:only-of-type {\n",
       "        vertical-align: middle;\n",
       "    }\n",
       "\n",
       "    .dataframe tbody tr th {\n",
       "        vertical-align: top;\n",
       "    }\n",
       "\n",
       "    .dataframe thead th {\n",
       "        text-align: right;\n",
       "    }\n",
       "</style>\n",
       "<table border=\"1\" class=\"dataframe\">\n",
       "  <thead>\n",
       "    <tr style=\"text-align: right;\">\n",
       "      <th></th>\n",
       "      <th>platform</th>\n",
       "      <th>text</th>\n",
       "      <th>hate_speech_score</th>\n",
       "      <th>target_race_asian</th>\n",
       "      <th>target_race_black</th>\n",
       "      <th>target_race_latinx</th>\n",
       "      <th>target_race_middle_eastern</th>\n",
       "      <th>target_race_native_american</th>\n",
       "      <th>target_race_pacific_islander</th>\n",
       "      <th>target_race_white</th>\n",
       "      <th>...</th>\n",
       "      <th>target_disability_neurological</th>\n",
       "      <th>target_disability_visually_impaired</th>\n",
       "      <th>target_disability_hearing_impaired</th>\n",
       "      <th>target_disability_unspecific</th>\n",
       "      <th>target_disability_other</th>\n",
       "      <th>target_disability</th>\n",
       "      <th>hate_rank</th>\n",
       "      <th>capital_sentance</th>\n",
       "      <th>cleaned_text</th>\n",
       "      <th>wc_cleaned_text</th>\n",
       "    </tr>\n",
       "  </thead>\n",
       "  <tbody>\n",
       "    <tr>\n",
       "      <th>28703</th>\n",
       "      <td>2</td>\n",
       "      <td>@ramprasad_c @kaypeekps75 Media slept for 70 y...</td>\n",
       "      <td>-1.18</td>\n",
       "      <td>0.000000</td>\n",
       "      <td>0.000000</td>\n",
       "      <td>0.000000</td>\n",
       "      <td>0.000000</td>\n",
       "      <td>0.000000</td>\n",
       "      <td>0.000000</td>\n",
       "      <td>0.000000</td>\n",
       "      <td>...</td>\n",
       "      <td>0.0</td>\n",
       "      <td>0.0</td>\n",
       "      <td>0.0</td>\n",
       "      <td>0.0</td>\n",
       "      <td>0.0</td>\n",
       "      <td>0.0</td>\n",
       "      <td>0</td>\n",
       "      <td>0</td>\n",
       "      <td>ramprasad c kaypeekps75 media slept for 70 yr ...</td>\n",
       "      <td>48</td>\n",
       "    </tr>\n",
       "    <tr>\n",
       "      <th>29938</th>\n",
       "      <td>2</td>\n",
       "      <td>WAKE UP AMERICA! This is coming from a Member ...</td>\n",
       "      <td>-1.16</td>\n",
       "      <td>0.333333</td>\n",
       "      <td>0.333333</td>\n",
       "      <td>0.333333</td>\n",
       "      <td>0.333333</td>\n",
       "      <td>0.333333</td>\n",
       "      <td>0.333333</td>\n",
       "      <td>0.333333</td>\n",
       "      <td>...</td>\n",
       "      <td>0.0</td>\n",
       "      <td>0.0</td>\n",
       "      <td>0.0</td>\n",
       "      <td>0.0</td>\n",
       "      <td>0.0</td>\n",
       "      <td>0.0</td>\n",
       "      <td>0</td>\n",
       "      <td>0</td>\n",
       "      <td>wake up america thi is come from a member of c...</td>\n",
       "      <td>49</td>\n",
       "    </tr>\n",
       "    <tr>\n",
       "      <th>13426</th>\n",
       "      <td>0</td>\n",
       "      <td>To date: antifa death count 0. How about that ...</td>\n",
       "      <td>-0.45</td>\n",
       "      <td>0.000000</td>\n",
       "      <td>0.000000</td>\n",
       "      <td>0.000000</td>\n",
       "      <td>0.000000</td>\n",
       "      <td>0.000000</td>\n",
       "      <td>0.000000</td>\n",
       "      <td>1.000000</td>\n",
       "      <td>...</td>\n",
       "      <td>0.0</td>\n",
       "      <td>0.0</td>\n",
       "      <td>0.0</td>\n",
       "      <td>0.0</td>\n",
       "      <td>0.0</td>\n",
       "      <td>0.0</td>\n",
       "      <td>0</td>\n",
       "      <td>0</td>\n",
       "      <td>to date antifa death count 0 how about that wh...</td>\n",
       "      <td>19</td>\n",
       "    </tr>\n",
       "    <tr>\n",
       "      <th>14170</th>\n",
       "      <td>0</td>\n",
       "      <td>stop posting faggot</td>\n",
       "      <td>-0.01</td>\n",
       "      <td>0.000000</td>\n",
       "      <td>0.000000</td>\n",
       "      <td>0.000000</td>\n",
       "      <td>0.000000</td>\n",
       "      <td>0.000000</td>\n",
       "      <td>0.000000</td>\n",
       "      <td>0.000000</td>\n",
       "      <td>...</td>\n",
       "      <td>0.0</td>\n",
       "      <td>0.0</td>\n",
       "      <td>0.0</td>\n",
       "      <td>0.0</td>\n",
       "      <td>0.0</td>\n",
       "      <td>0.0</td>\n",
       "      <td>0</td>\n",
       "      <td>0</td>\n",
       "      <td>stop post faggot</td>\n",
       "      <td>3</td>\n",
       "    </tr>\n",
       "    <tr>\n",
       "      <th>34617</th>\n",
       "      <td>3</td>\n",
       "      <td>+amy benje So true that is to exterminate the ...</td>\n",
       "      <td>-0.60</td>\n",
       "      <td>0.000000</td>\n",
       "      <td>1.000000</td>\n",
       "      <td>0.000000</td>\n",
       "      <td>0.000000</td>\n",
       "      <td>0.000000</td>\n",
       "      <td>0.000000</td>\n",
       "      <td>0.000000</td>\n",
       "      <td>...</td>\n",
       "      <td>0.0</td>\n",
       "      <td>0.0</td>\n",
       "      <td>0.0</td>\n",
       "      <td>0.0</td>\n",
       "      <td>0.0</td>\n",
       "      <td>0.0</td>\n",
       "      <td>0</td>\n",
       "      <td>0</td>\n",
       "      <td>ami benj so true that is to extermin the black...</td>\n",
       "      <td>25</td>\n",
       "    </tr>\n",
       "  </tbody>\n",
       "</table>\n",
       "<p>5 rows × 60 columns</p>\n",
       "</div>"
      ],
      "text/plain": [
       "       platform                                               text  \\\n",
       "28703         2  @ramprasad_c @kaypeekps75 Media slept for 70 y...   \n",
       "29938         2  WAKE UP AMERICA! This is coming from a Member ...   \n",
       "13426         0  To date: antifa death count 0. How about that ...   \n",
       "14170         0                                stop posting faggot   \n",
       "34617         3  +amy benje So true that is to exterminate the ...   \n",
       "\n",
       "       hate_speech_score  target_race_asian  target_race_black  \\\n",
       "28703              -1.18           0.000000           0.000000   \n",
       "29938              -1.16           0.333333           0.333333   \n",
       "13426              -0.45           0.000000           0.000000   \n",
       "14170              -0.01           0.000000           0.000000   \n",
       "34617              -0.60           0.000000           1.000000   \n",
       "\n",
       "       target_race_latinx  target_race_middle_eastern  \\\n",
       "28703            0.000000                    0.000000   \n",
       "29938            0.333333                    0.333333   \n",
       "13426            0.000000                    0.000000   \n",
       "14170            0.000000                    0.000000   \n",
       "34617            0.000000                    0.000000   \n",
       "\n",
       "       target_race_native_american  target_race_pacific_islander  \\\n",
       "28703                     0.000000                      0.000000   \n",
       "29938                     0.333333                      0.333333   \n",
       "13426                     0.000000                      0.000000   \n",
       "14170                     0.000000                      0.000000   \n",
       "34617                     0.000000                      0.000000   \n",
       "\n",
       "       target_race_white  ...  target_disability_neurological  \\\n",
       "28703           0.000000  ...                             0.0   \n",
       "29938           0.333333  ...                             0.0   \n",
       "13426           1.000000  ...                             0.0   \n",
       "14170           0.000000  ...                             0.0   \n",
       "34617           0.000000  ...                             0.0   \n",
       "\n",
       "       target_disability_visually_impaired  \\\n",
       "28703                                  0.0   \n",
       "29938                                  0.0   \n",
       "13426                                  0.0   \n",
       "14170                                  0.0   \n",
       "34617                                  0.0   \n",
       "\n",
       "       target_disability_hearing_impaired  target_disability_unspecific  \\\n",
       "28703                                 0.0                           0.0   \n",
       "29938                                 0.0                           0.0   \n",
       "13426                                 0.0                           0.0   \n",
       "14170                                 0.0                           0.0   \n",
       "34617                                 0.0                           0.0   \n",
       "\n",
       "       target_disability_other  target_disability  hate_rank  \\\n",
       "28703                      0.0                0.0          0   \n",
       "29938                      0.0                0.0          0   \n",
       "13426                      0.0                0.0          0   \n",
       "14170                      0.0                0.0          0   \n",
       "34617                      0.0                0.0          0   \n",
       "\n",
       "       capital_sentance                                       cleaned_text  \\\n",
       "28703                 0  ramprasad c kaypeekps75 media slept for 70 yr ...   \n",
       "29938                 0  wake up america thi is come from a member of c...   \n",
       "13426                 0  to date antifa death count 0 how about that wh...   \n",
       "14170                 0                                   stop post faggot   \n",
       "34617                 0  ami benj so true that is to extermin the black...   \n",
       "\n",
       "       wc_cleaned_text  \n",
       "28703               48  \n",
       "29938               49  \n",
       "13426               19  \n",
       "14170                3  \n",
       "34617               25  \n",
       "\n",
       "[5 rows x 60 columns]"
      ]
     },
     "execution_count": 90,
     "metadata": {},
     "output_type": "execute_result"
    }
   ],
   "source": [
    "df_0 = df[df['hate_rank']==0].sample(14_000, replace=True, random_state=26)\n",
    "df_0.head()"
   ]
  },
  {
   "cell_type": "code",
   "execution_count": 91,
   "id": "b1e07111",
   "metadata": {},
   "outputs": [
    {
     "data": {
      "text/html": [
       "<div>\n",
       "<style scoped>\n",
       "    .dataframe tbody tr th:only-of-type {\n",
       "        vertical-align: middle;\n",
       "    }\n",
       "\n",
       "    .dataframe tbody tr th {\n",
       "        vertical-align: top;\n",
       "    }\n",
       "\n",
       "    .dataframe thead th {\n",
       "        text-align: right;\n",
       "    }\n",
       "</style>\n",
       "<table border=\"1\" class=\"dataframe\">\n",
       "  <thead>\n",
       "    <tr style=\"text-align: right;\">\n",
       "      <th></th>\n",
       "      <th>platform</th>\n",
       "      <th>text</th>\n",
       "      <th>hate_speech_score</th>\n",
       "      <th>target_race_asian</th>\n",
       "      <th>target_race_black</th>\n",
       "      <th>target_race_latinx</th>\n",
       "      <th>target_race_middle_eastern</th>\n",
       "      <th>target_race_native_american</th>\n",
       "      <th>target_race_pacific_islander</th>\n",
       "      <th>target_race_white</th>\n",
       "      <th>...</th>\n",
       "      <th>target_disability_neurological</th>\n",
       "      <th>target_disability_visually_impaired</th>\n",
       "      <th>target_disability_hearing_impaired</th>\n",
       "      <th>target_disability_unspecific</th>\n",
       "      <th>target_disability_other</th>\n",
       "      <th>target_disability</th>\n",
       "      <th>hate_rank</th>\n",
       "      <th>capital_sentance</th>\n",
       "      <th>cleaned_text</th>\n",
       "      <th>wc_cleaned_text</th>\n",
       "    </tr>\n",
       "  </thead>\n",
       "  <tbody>\n",
       "    <tr>\n",
       "      <th>23889</th>\n",
       "      <td>2</td>\n",
       "      <td>all she do is run her mouth tell that hoe to s...</td>\n",
       "      <td>1.83</td>\n",
       "      <td>0.0</td>\n",
       "      <td>0.0</td>\n",
       "      <td>0.000000</td>\n",
       "      <td>0.000000</td>\n",
       "      <td>0.0</td>\n",
       "      <td>0.0</td>\n",
       "      <td>0.0</td>\n",
       "      <td>...</td>\n",
       "      <td>0.0</td>\n",
       "      <td>0.0</td>\n",
       "      <td>0.0</td>\n",
       "      <td>0.0</td>\n",
       "      <td>0.0</td>\n",
       "      <td>0.0</td>\n",
       "      <td>1</td>\n",
       "      <td>0</td>\n",
       "      <td>all she do is run her mouth tell that hoe to s...</td>\n",
       "      <td>14</td>\n",
       "    </tr>\n",
       "    <tr>\n",
       "      <th>28822</th>\n",
       "      <td>2</td>\n",
       "      <td>it's ALWAYS the fucking whites who be commitin...</td>\n",
       "      <td>1.42</td>\n",
       "      <td>0.0</td>\n",
       "      <td>0.0</td>\n",
       "      <td>0.000000</td>\n",
       "      <td>0.000000</td>\n",
       "      <td>0.0</td>\n",
       "      <td>0.0</td>\n",
       "      <td>1.0</td>\n",
       "      <td>...</td>\n",
       "      <td>0.0</td>\n",
       "      <td>0.0</td>\n",
       "      <td>0.0</td>\n",
       "      <td>0.0</td>\n",
       "      <td>0.0</td>\n",
       "      <td>0.0</td>\n",
       "      <td>1</td>\n",
       "      <td>0</td>\n",
       "      <td>it s alway the fuck white who be commit the wo...</td>\n",
       "      <td>21</td>\n",
       "    </tr>\n",
       "    <tr>\n",
       "      <th>37998</th>\n",
       "      <td>3</td>\n",
       "      <td>Fuck the Mexican President! How can you let il...</td>\n",
       "      <td>1.44</td>\n",
       "      <td>0.0</td>\n",
       "      <td>0.0</td>\n",
       "      <td>0.333333</td>\n",
       "      <td>0.000000</td>\n",
       "      <td>0.0</td>\n",
       "      <td>0.0</td>\n",
       "      <td>0.0</td>\n",
       "      <td>...</td>\n",
       "      <td>0.0</td>\n",
       "      <td>0.0</td>\n",
       "      <td>0.0</td>\n",
       "      <td>0.0</td>\n",
       "      <td>0.0</td>\n",
       "      <td>0.0</td>\n",
       "      <td>1</td>\n",
       "      <td>0</td>\n",
       "      <td>fuck the mexican presid how can you let illeg ...</td>\n",
       "      <td>26</td>\n",
       "    </tr>\n",
       "    <tr>\n",
       "      <th>35109</th>\n",
       "      <td>3</td>\n",
       "      <td>Saudi should attack Iran and see what happens ...</td>\n",
       "      <td>1.48</td>\n",
       "      <td>0.0</td>\n",
       "      <td>0.0</td>\n",
       "      <td>0.000000</td>\n",
       "      <td>0.333333</td>\n",
       "      <td>0.0</td>\n",
       "      <td>0.0</td>\n",
       "      <td>0.0</td>\n",
       "      <td>...</td>\n",
       "      <td>0.0</td>\n",
       "      <td>0.0</td>\n",
       "      <td>0.0</td>\n",
       "      <td>0.0</td>\n",
       "      <td>0.0</td>\n",
       "      <td>0.0</td>\n",
       "      <td>1</td>\n",
       "      <td>0</td>\n",
       "      <td>saudi should attack iran and see what happen t...</td>\n",
       "      <td>19</td>\n",
       "    </tr>\n",
       "    <tr>\n",
       "      <th>31009</th>\n",
       "      <td>2</td>\n",
       "      <td>Im stuck with the same niggas I been starving ...</td>\n",
       "      <td>1.83</td>\n",
       "      <td>0.0</td>\n",
       "      <td>1.0</td>\n",
       "      <td>0.000000</td>\n",
       "      <td>0.000000</td>\n",
       "      <td>0.0</td>\n",
       "      <td>0.0</td>\n",
       "      <td>0.0</td>\n",
       "      <td>...</td>\n",
       "      <td>0.0</td>\n",
       "      <td>0.0</td>\n",
       "      <td>0.0</td>\n",
       "      <td>0.0</td>\n",
       "      <td>0.0</td>\n",
       "      <td>0.0</td>\n",
       "      <td>1</td>\n",
       "      <td>0</td>\n",
       "      <td>im stuck with the same nigga i been starv with...</td>\n",
       "      <td>14</td>\n",
       "    </tr>\n",
       "  </tbody>\n",
       "</table>\n",
       "<p>5 rows × 60 columns</p>\n",
       "</div>"
      ],
      "text/plain": [
       "       platform                                               text  \\\n",
       "23889         2  all she do is run her mouth tell that hoe to s...   \n",
       "28822         2  it's ALWAYS the fucking whites who be commitin...   \n",
       "37998         3  Fuck the Mexican President! How can you let il...   \n",
       "35109         3  Saudi should attack Iran and see what happens ...   \n",
       "31009         2  Im stuck with the same niggas I been starving ...   \n",
       "\n",
       "       hate_speech_score  target_race_asian  target_race_black  \\\n",
       "23889               1.83                0.0                0.0   \n",
       "28822               1.42                0.0                0.0   \n",
       "37998               1.44                0.0                0.0   \n",
       "35109               1.48                0.0                0.0   \n",
       "31009               1.83                0.0                1.0   \n",
       "\n",
       "       target_race_latinx  target_race_middle_eastern  \\\n",
       "23889            0.000000                    0.000000   \n",
       "28822            0.000000                    0.000000   \n",
       "37998            0.333333                    0.000000   \n",
       "35109            0.000000                    0.333333   \n",
       "31009            0.000000                    0.000000   \n",
       "\n",
       "       target_race_native_american  target_race_pacific_islander  \\\n",
       "23889                          0.0                           0.0   \n",
       "28822                          0.0                           0.0   \n",
       "37998                          0.0                           0.0   \n",
       "35109                          0.0                           0.0   \n",
       "31009                          0.0                           0.0   \n",
       "\n",
       "       target_race_white  ...  target_disability_neurological  \\\n",
       "23889                0.0  ...                             0.0   \n",
       "28822                1.0  ...                             0.0   \n",
       "37998                0.0  ...                             0.0   \n",
       "35109                0.0  ...                             0.0   \n",
       "31009                0.0  ...                             0.0   \n",
       "\n",
       "       target_disability_visually_impaired  \\\n",
       "23889                                  0.0   \n",
       "28822                                  0.0   \n",
       "37998                                  0.0   \n",
       "35109                                  0.0   \n",
       "31009                                  0.0   \n",
       "\n",
       "       target_disability_hearing_impaired  target_disability_unspecific  \\\n",
       "23889                                 0.0                           0.0   \n",
       "28822                                 0.0                           0.0   \n",
       "37998                                 0.0                           0.0   \n",
       "35109                                 0.0                           0.0   \n",
       "31009                                 0.0                           0.0   \n",
       "\n",
       "       target_disability_other  target_disability  hate_rank  \\\n",
       "23889                      0.0                0.0          1   \n",
       "28822                      0.0                0.0          1   \n",
       "37998                      0.0                0.0          1   \n",
       "35109                      0.0                0.0          1   \n",
       "31009                      0.0                0.0          1   \n",
       "\n",
       "       capital_sentance                                       cleaned_text  \\\n",
       "23889                 0  all she do is run her mouth tell that hoe to s...   \n",
       "28822                 0  it s alway the fuck white who be commit the wo...   \n",
       "37998                 0  fuck the mexican presid how can you let illeg ...   \n",
       "35109                 0  saudi should attack iran and see what happen t...   \n",
       "31009                 0  im stuck with the same nigga i been starv with...   \n",
       "\n",
       "       wc_cleaned_text  \n",
       "23889               14  \n",
       "28822               21  \n",
       "37998               26  \n",
       "35109               19  \n",
       "31009               14  \n",
       "\n",
       "[5 rows x 60 columns]"
      ]
     },
     "execution_count": 91,
     "metadata": {},
     "output_type": "execute_result"
    }
   ],
   "source": [
    "df_1 = df[df['hate_rank']==1].sample(14_000, replace=True, random_state=26) #Eh, just three so I won't bother making a for loop\n",
    "df_1.head()"
   ]
  },
  {
   "cell_type": "code",
   "execution_count": 92,
   "id": "7f649f60",
   "metadata": {},
   "outputs": [
    {
     "data": {
      "text/html": [
       "<div>\n",
       "<style scoped>\n",
       "    .dataframe tbody tr th:only-of-type {\n",
       "        vertical-align: middle;\n",
       "    }\n",
       "\n",
       "    .dataframe tbody tr th {\n",
       "        vertical-align: top;\n",
       "    }\n",
       "\n",
       "    .dataframe thead th {\n",
       "        text-align: right;\n",
       "    }\n",
       "</style>\n",
       "<table border=\"1\" class=\"dataframe\">\n",
       "  <thead>\n",
       "    <tr style=\"text-align: right;\">\n",
       "      <th></th>\n",
       "      <th>platform</th>\n",
       "      <th>text</th>\n",
       "      <th>hate_speech_score</th>\n",
       "      <th>target_race_asian</th>\n",
       "      <th>target_race_black</th>\n",
       "      <th>target_race_latinx</th>\n",
       "      <th>target_race_middle_eastern</th>\n",
       "      <th>target_race_native_american</th>\n",
       "      <th>target_race_pacific_islander</th>\n",
       "      <th>target_race_white</th>\n",
       "      <th>...</th>\n",
       "      <th>target_disability_neurological</th>\n",
       "      <th>target_disability_visually_impaired</th>\n",
       "      <th>target_disability_hearing_impaired</th>\n",
       "      <th>target_disability_unspecific</th>\n",
       "      <th>target_disability_other</th>\n",
       "      <th>target_disability</th>\n",
       "      <th>hate_rank</th>\n",
       "      <th>capital_sentance</th>\n",
       "      <th>cleaned_text</th>\n",
       "      <th>wc_cleaned_text</th>\n",
       "    </tr>\n",
       "  </thead>\n",
       "  <tbody>\n",
       "    <tr>\n",
       "      <th>12833</th>\n",
       "      <td>0</td>\n",
       "      <td>Poland fu*king sucks penis get blown and fu*k ...</td>\n",
       "      <td>2.11</td>\n",
       "      <td>0.0</td>\n",
       "      <td>0.0</td>\n",
       "      <td>0.0</td>\n",
       "      <td>0.0</td>\n",
       "      <td>0.0</td>\n",
       "      <td>0.0</td>\n",
       "      <td>0.0</td>\n",
       "      <td>...</td>\n",
       "      <td>0.0</td>\n",
       "      <td>0.0</td>\n",
       "      <td>0.0</td>\n",
       "      <td>0.0</td>\n",
       "      <td>0.0</td>\n",
       "      <td>0.0</td>\n",
       "      <td>2</td>\n",
       "      <td>0</td>\n",
       "      <td>poland fu king suck peni get blown and fu k ou...</td>\n",
       "      <td>29</td>\n",
       "    </tr>\n",
       "    <tr>\n",
       "      <th>23644</th>\n",
       "      <td>2</td>\n",
       "      <td>@amnesty Lock them up and bounce them ASAP</td>\n",
       "      <td>2.27</td>\n",
       "      <td>0.0</td>\n",
       "      <td>0.0</td>\n",
       "      <td>0.0</td>\n",
       "      <td>0.0</td>\n",
       "      <td>0.0</td>\n",
       "      <td>0.0</td>\n",
       "      <td>0.0</td>\n",
       "      <td>...</td>\n",
       "      <td>0.0</td>\n",
       "      <td>0.0</td>\n",
       "      <td>0.0</td>\n",
       "      <td>0.0</td>\n",
       "      <td>0.0</td>\n",
       "      <td>0.0</td>\n",
       "      <td>2</td>\n",
       "      <td>0</td>\n",
       "      <td>amnesti lock them up and bounc them asap</td>\n",
       "      <td>8</td>\n",
       "    </tr>\n",
       "    <tr>\n",
       "      <th>34827</th>\n",
       "      <td>3</td>\n",
       "      <td>That stupid dyke should be hung from a tree ASAP!</td>\n",
       "      <td>3.21</td>\n",
       "      <td>0.0</td>\n",
       "      <td>0.0</td>\n",
       "      <td>0.0</td>\n",
       "      <td>0.0</td>\n",
       "      <td>0.0</td>\n",
       "      <td>0.0</td>\n",
       "      <td>0.0</td>\n",
       "      <td>...</td>\n",
       "      <td>0.0</td>\n",
       "      <td>0.0</td>\n",
       "      <td>0.0</td>\n",
       "      <td>0.0</td>\n",
       "      <td>0.0</td>\n",
       "      <td>0.0</td>\n",
       "      <td>2</td>\n",
       "      <td>0</td>\n",
       "      <td>that stupid dyke should be hung from a tree asap</td>\n",
       "      <td>10</td>\n",
       "    </tr>\n",
       "    <tr>\n",
       "      <th>27148</th>\n",
       "      <td>2</td>\n",
       "      <td>if i was a simp i would simply remove myself f...</td>\n",
       "      <td>4.32</td>\n",
       "      <td>0.0</td>\n",
       "      <td>0.0</td>\n",
       "      <td>0.0</td>\n",
       "      <td>0.0</td>\n",
       "      <td>0.0</td>\n",
       "      <td>0.0</td>\n",
       "      <td>0.0</td>\n",
       "      <td>...</td>\n",
       "      <td>0.0</td>\n",
       "      <td>0.0</td>\n",
       "      <td>0.0</td>\n",
       "      <td>0.0</td>\n",
       "      <td>0.0</td>\n",
       "      <td>1.0</td>\n",
       "      <td>2</td>\n",
       "      <td>0</td>\n",
       "      <td>if i wa a simp i would simpli remov myself fro...</td>\n",
       "      <td>13</td>\n",
       "    </tr>\n",
       "    <tr>\n",
       "      <th>37780</th>\n",
       "      <td>3</td>\n",
       "      <td>Trump that fucking disgusting pig 🐖 and That s...</td>\n",
       "      <td>2.87</td>\n",
       "      <td>0.0</td>\n",
       "      <td>0.0</td>\n",
       "      <td>0.5</td>\n",
       "      <td>0.0</td>\n",
       "      <td>0.0</td>\n",
       "      <td>0.0</td>\n",
       "      <td>0.5</td>\n",
       "      <td>...</td>\n",
       "      <td>0.0</td>\n",
       "      <td>0.0</td>\n",
       "      <td>0.0</td>\n",
       "      <td>0.0</td>\n",
       "      <td>0.0</td>\n",
       "      <td>0.5</td>\n",
       "      <td>2</td>\n",
       "      <td>0</td>\n",
       "      <td>trump that fuck disgust pig and that sex slave...</td>\n",
       "      <td>41</td>\n",
       "    </tr>\n",
       "  </tbody>\n",
       "</table>\n",
       "<p>5 rows × 60 columns</p>\n",
       "</div>"
      ],
      "text/plain": [
       "       platform                                               text  \\\n",
       "12833         0  Poland fu*king sucks penis get blown and fu*k ...   \n",
       "23644         2         @amnesty Lock them up and bounce them ASAP   \n",
       "34827         3  That stupid dyke should be hung from a tree ASAP!   \n",
       "27148         2  if i was a simp i would simply remove myself f...   \n",
       "37780         3  Trump that fucking disgusting pig 🐖 and That s...   \n",
       "\n",
       "       hate_speech_score  target_race_asian  target_race_black  \\\n",
       "12833               2.11                0.0                0.0   \n",
       "23644               2.27                0.0                0.0   \n",
       "34827               3.21                0.0                0.0   \n",
       "27148               4.32                0.0                0.0   \n",
       "37780               2.87                0.0                0.0   \n",
       "\n",
       "       target_race_latinx  target_race_middle_eastern  \\\n",
       "12833                 0.0                         0.0   \n",
       "23644                 0.0                         0.0   \n",
       "34827                 0.0                         0.0   \n",
       "27148                 0.0                         0.0   \n",
       "37780                 0.5                         0.0   \n",
       "\n",
       "       target_race_native_american  target_race_pacific_islander  \\\n",
       "12833                          0.0                           0.0   \n",
       "23644                          0.0                           0.0   \n",
       "34827                          0.0                           0.0   \n",
       "27148                          0.0                           0.0   \n",
       "37780                          0.0                           0.0   \n",
       "\n",
       "       target_race_white  ...  target_disability_neurological  \\\n",
       "12833                0.0  ...                             0.0   \n",
       "23644                0.0  ...                             0.0   \n",
       "34827                0.0  ...                             0.0   \n",
       "27148                0.0  ...                             0.0   \n",
       "37780                0.5  ...                             0.0   \n",
       "\n",
       "       target_disability_visually_impaired  \\\n",
       "12833                                  0.0   \n",
       "23644                                  0.0   \n",
       "34827                                  0.0   \n",
       "27148                                  0.0   \n",
       "37780                                  0.0   \n",
       "\n",
       "       target_disability_hearing_impaired  target_disability_unspecific  \\\n",
       "12833                                 0.0                           0.0   \n",
       "23644                                 0.0                           0.0   \n",
       "34827                                 0.0                           0.0   \n",
       "27148                                 0.0                           0.0   \n",
       "37780                                 0.0                           0.0   \n",
       "\n",
       "       target_disability_other  target_disability  hate_rank  \\\n",
       "12833                      0.0                0.0          2   \n",
       "23644                      0.0                0.0          2   \n",
       "34827                      0.0                0.0          2   \n",
       "27148                      0.0                1.0          2   \n",
       "37780                      0.0                0.5          2   \n",
       "\n",
       "       capital_sentance                                       cleaned_text  \\\n",
       "12833                 0  poland fu king suck peni get blown and fu k ou...   \n",
       "23644                 0           amnesti lock them up and bounc them asap   \n",
       "34827                 0   that stupid dyke should be hung from a tree asap   \n",
       "27148                 0  if i wa a simp i would simpli remov myself fro...   \n",
       "37780                 0  trump that fuck disgust pig and that sex slave...   \n",
       "\n",
       "       wc_cleaned_text  \n",
       "12833               29  \n",
       "23644                8  \n",
       "34827               10  \n",
       "27148               13  \n",
       "37780               41  \n",
       "\n",
       "[5 rows x 60 columns]"
      ]
     },
     "execution_count": 92,
     "metadata": {},
     "output_type": "execute_result"
    }
   ],
   "source": [
    "df_2 = df[df['hate_rank']==2].sample(14_000, replace=True, random_state=26)\n",
    "df_2.head()"
   ]
  },
  {
   "cell_type": "code",
   "execution_count": 95,
   "id": "4f6a9a50",
   "metadata": {},
   "outputs": [
    {
     "name": "stdout",
     "output_type": "stream",
     "text": [
      "(42000, 60)\n"
     ]
    },
    {
     "data": {
      "text/plain": [
       "hate_rank\n",
       "0    0.333333\n",
       "1    0.333333\n",
       "2    0.333333\n",
       "Name: proportion, dtype: float64"
      ]
     },
     "execution_count": 95,
     "metadata": {},
     "output_type": "execute_result"
    }
   ],
   "source": [
    "data = pd.concat([df_0, df_1, df_2])\n",
    "print(data.shape)\n",
    "data['hate_rank'].value_counts(normalize=True) #All right. Now let's do this."
   ]
  },
  {
   "cell_type": "code",
   "execution_count": 102,
   "id": "7d7ca2c0",
   "metadata": {},
   "outputs": [
    {
     "data": {
      "text/plain": [
       "500.0"
      ]
     },
     "execution_count": 102,
     "metadata": {},
     "output_type": "execute_result"
    }
   ],
   "source": [
    "#Oh wait, I just realized that likly many of the \"test\" results are being also used in train... hmm, yeah we need\n",
    "#to do the split afterwards. Hmm, with a stratified split we'd get like .05 to be 2...\n",
    "10_000/20"
   ]
  },
  {
   "cell_type": "markdown",
   "id": "84b90051",
   "metadata": {},
   "source": [
    "A note I'd like to make before contiuing: A very practical application and need I see for this project is the assumption that a user will post multiple messages. So, even if ONE message is not caught, when you consider more and more...\n",
    "\n",
    "In a way, that assumption arguably helps the cause to sampe with replacement, as likly hate messages would be spammed multiple times..."
   ]
  },
  {
   "cell_type": "code",
   "execution_count": 143,
   "id": "6ba2603d",
   "metadata": {},
   "outputs": [],
   "source": [
    "X = df['cleaned_text']\n",
    "y = df['hate_rank']\n",
    "\n",
    "X_train, X_test, y_train, y_test = train_test_split(X,\n",
    "                                                    y,\n",
    "                                                    test_size = 10_500, #Given the size we'll start with this, a bit larger than what I'd usually do\n",
    "                                                    random_state = 26, #I like this number\n",
    "                                                    stratify=y) #Particularly important in this case with 3 targets\n",
    "\n",
    "# Hmm, as it stands right now y_test has mostly 0s... eh, I think htat's fine as it's like new data. So, cvs might be a little\n",
    "# scruff now with seeing thet sam thing,b ut eh, better htan nothing.... And, likely such is the inhernt issue of\n",
    "# using such methodologies..."
   ]
  },
  {
   "cell_type": "code",
   "execution_count": 144,
   "id": "e18838be",
   "metadata": {},
   "outputs": [
    {
     "data": {
      "text/html": [
       "<div>\n",
       "<style scoped>\n",
       "    .dataframe tbody tr th:only-of-type {\n",
       "        vertical-align: middle;\n",
       "    }\n",
       "\n",
       "    .dataframe tbody tr th {\n",
       "        vertical-align: top;\n",
       "    }\n",
       "\n",
       "    .dataframe thead th {\n",
       "        text-align: right;\n",
       "    }\n",
       "</style>\n",
       "<table border=\"1\" class=\"dataframe\">\n",
       "  <thead>\n",
       "    <tr style=\"text-align: right;\">\n",
       "      <th></th>\n",
       "      <th>cleaned_text</th>\n",
       "      <th>hate_rank</th>\n",
       "    </tr>\n",
       "  </thead>\n",
       "  <tbody>\n",
       "    <tr>\n",
       "      <th>19152</th>\n",
       "      <td>dumb clown slutti bitch and dumb bitch</td>\n",
       "      <td>0</td>\n",
       "    </tr>\n",
       "    <tr>\n",
       "      <th>18994</th>\n",
       "      <td>meerasrini groundview the hindu typic indian i...</td>\n",
       "      <td>0</td>\n",
       "    </tr>\n",
       "    <tr>\n",
       "      <th>2396</th>\n",
       "      <td>i want to eat your pussi while my wife suck on...</td>\n",
       "      <td>0</td>\n",
       "    </tr>\n",
       "    <tr>\n",
       "      <th>32568</th>\n",
       "      <td>i hate them all i m a christian and i know non...</td>\n",
       "      <td>0</td>\n",
       "    </tr>\n",
       "    <tr>\n",
       "      <th>21748</th>\n",
       "      <td>blackmediagrp metaphorr i hope that brotha sue...</td>\n",
       "      <td>1</td>\n",
       "    </tr>\n",
       "  </tbody>\n",
       "</table>\n",
       "</div>"
      ],
      "text/plain": [
       "                                            cleaned_text  hate_rank\n",
       "19152             dumb clown slutti bitch and dumb bitch          0\n",
       "18994  meerasrini groundview the hindu typic indian i...          0\n",
       "2396   i want to eat your pussi while my wife suck on...          0\n",
       "32568  i hate them all i m a christian and i know non...          0\n",
       "21748  blackmediagrp metaphorr i hope that brotha sue...          1"
      ]
     },
     "execution_count": 144,
     "metadata": {},
     "output_type": "execute_result"
    }
   ],
   "source": [
    "data = pd.DataFrame(X_train)\n",
    "data['hate_rank'] = y_train\n",
    "data.head()"
   ]
  },
  {
   "cell_type": "code",
   "execution_count": 145,
   "id": "e7f7ce15",
   "metadata": {},
   "outputs": [
    {
     "data": {
      "text/plain": [
       "hate_rank\n",
       "0    0.738311\n",
       "1    0.208980\n",
       "2    0.052709\n",
       "Name: proportion, dtype: float64"
      ]
     },
     "execution_count": 145,
     "metadata": {},
     "output_type": "execute_result"
    }
   ],
   "source": [
    "data['hate_rank'].value_counts(normalize=True)"
   ]
  },
  {
   "cell_type": "code",
   "execution_count": 146,
   "id": "d66f4155",
   "metadata": {},
   "outputs": [
    {
     "data": {
      "text/plain": [
       "((29065,), (10500,))"
      ]
     },
     "execution_count": 146,
     "metadata": {},
     "output_type": "execute_result"
    }
   ],
   "source": [
    "y_train.shape, y_test.shape"
   ]
  },
  {
   "cell_type": "code",
   "execution_count": 147,
   "id": "52c48dd0",
   "metadata": {},
   "outputs": [
    {
     "data": {
      "text/plain": [
       "10500"
      ]
     },
     "execution_count": 147,
     "metadata": {},
     "output_type": "execute_result"
    }
   ],
   "source": [
    "#Hmm, originally we wanted to do 10k... eh\n",
    "col_size = int((42000-y_test.shape[0])/3)\n",
    "col_size"
   ]
  },
  {
   "cell_type": "code",
   "execution_count": 148,
   "id": "05182ef3",
   "metadata": {},
   "outputs": [
    {
     "data": {
      "text/plain": [
       "['data_0', 'data_1', 'data_2']"
      ]
     },
     "execution_count": 148,
     "metadata": {},
     "output_type": "execute_result"
    }
   ],
   "source": [
    "data_names = []\n",
    "for i in range(3):\n",
    "    data_names.append(f\"data_{i}\")\n",
    "df_names"
   ]
  },
  {
   "cell_type": "code",
   "execution_count": 149,
   "id": "c519fdc8",
   "metadata": {},
   "outputs": [],
   "source": [
    "for i in range(len(data_names)):\n",
    "    data_names[i] = data[data['hate_rank']==i].sample(col_size, replace=True, random_state=26)"
   ]
  },
  {
   "cell_type": "code",
   "execution_count": 150,
   "id": "7b334441",
   "metadata": {},
   "outputs": [
    {
     "name": "stdout",
     "output_type": "stream",
     "text": [
      "(31500, 2)\n"
     ]
    },
    {
     "data": {
      "text/html": [
       "<div>\n",
       "<style scoped>\n",
       "    .dataframe tbody tr th:only-of-type {\n",
       "        vertical-align: middle;\n",
       "    }\n",
       "\n",
       "    .dataframe tbody tr th {\n",
       "        vertical-align: top;\n",
       "    }\n",
       "\n",
       "    .dataframe thead th {\n",
       "        text-align: right;\n",
       "    }\n",
       "</style>\n",
       "<table border=\"1\" class=\"dataframe\">\n",
       "  <thead>\n",
       "    <tr style=\"text-align: right;\">\n",
       "      <th></th>\n",
       "      <th>cleaned_text</th>\n",
       "      <th>hate_rank</th>\n",
       "    </tr>\n",
       "  </thead>\n",
       "  <tbody>\n",
       "    <tr>\n",
       "      <th>27456</th>\n",
       "      <td>bad bitch small waist pretti face</td>\n",
       "      <td>0</td>\n",
       "    </tr>\n",
       "    <tr>\n",
       "      <th>38304</th>\n",
       "      <td>i am a muslim immigr l fulli support presid tr...</td>\n",
       "      <td>0</td>\n",
       "    </tr>\n",
       "    <tr>\n",
       "      <th>21639</th>\n",
       "      <td>women are the most affect in conflict rape ha ...</td>\n",
       "      <td>0</td>\n",
       "    </tr>\n",
       "    <tr>\n",
       "      <th>8521</th>\n",
       "      <td>you look like a gaylord though</td>\n",
       "      <td>0</td>\n",
       "    </tr>\n",
       "    <tr>\n",
       "      <th>23372</th>\n",
       "      <td>deadass tho smfh</td>\n",
       "      <td>0</td>\n",
       "    </tr>\n",
       "  </tbody>\n",
       "</table>\n",
       "</div>"
      ],
      "text/plain": [
       "                                            cleaned_text  hate_rank\n",
       "27456                  bad bitch small waist pretti face          0\n",
       "38304  i am a muslim immigr l fulli support presid tr...          0\n",
       "21639  women are the most affect in conflict rape ha ...          0\n",
       "8521                      you look like a gaylord though          0\n",
       "23372                                   deadass tho smfh          0"
      ]
     },
     "execution_count": 150,
     "metadata": {},
     "output_type": "execute_result"
    }
   ],
   "source": [
    "data = pd.concat(data_names)\n",
    "print(data.shape)\n",
    "data.head()"
   ]
  },
  {
   "cell_type": "code",
   "execution_count": 151,
   "id": "1ff2e347",
   "metadata": {},
   "outputs": [
    {
     "data": {
      "text/plain": [
       "hate_rank\n",
       "0    10500\n",
       "1    10500\n",
       "2    10500\n",
       "Name: count, dtype: int64"
      ]
     },
     "execution_count": 151,
     "metadata": {},
     "output_type": "execute_result"
    }
   ],
   "source": [
    "data['hate_rank'].value_counts() #There we go! Now let's do this!"
   ]
  },
  {
   "cell_type": "code",
   "execution_count": 152,
   "id": "673aa356",
   "metadata": {},
   "outputs": [],
   "source": [
    "#Awww yeah.... almost there! Now, let's return to the X_train and y_train:\n",
    "X_train = data['cleaned_text']\n",
    "y_train = data['hate_rank']"
   ]
  },
  {
   "cell_type": "code",
   "execution_count": null,
   "id": "534e2513",
   "metadata": {},
   "outputs": [],
   "source": []
  },
  {
   "cell_type": "code",
   "execution_count": 185,
   "id": "4250055c",
   "metadata": {},
   "outputs": [
    {
     "name": "stdout",
     "output_type": "stream",
     "text": [
      "0.8685079365079366 0.6295238095238095\n",
      "0.7897777777777778\n",
      "{'tvec__max_df': 0.95, 'tvec__max_features': 6500, 'tvec__min_df': 0.0, 'tvec__ngram_range': (1, 2), 'tvec__stop_words': None}\n"
     ]
    }
   ],
   "source": [
    "pipe = Pipeline([\n",
    "    ('tvec', TfidfVectorizer(lowercase=False))\n",
    "    ,('lr', LogisticRegression(max_iter=3000, multi_class='multinomial', class_weight={0:1,1:1.5,2:2}))\n",
    "])\n",
    "pipe_params = {'tvec__min_df' : [.0]\n",
    "               ,'tvec__max_df' : [.95]\n",
    "               ,'tvec__ngram_range' : [(1,2)]\n",
    "               ,'tvec__max_features' : [4500, 5500, 6500]\n",
    "               ,'tvec__stop_words' : [None]\n",
    "               }\n",
    "scorer = make_scorer(recall_score, average = 'weighted')#Syntax essentially from Gunes of StackExchange\n",
    "gs = GridSearchCV(pipe\n",
    "                  ,param_grid=pipe_params\n",
    "                  ,cv=5\n",
    "                  ,scoring=scorer\n",
    "                 )\n",
    "\n",
    "gs.fit(X_train, y_train)\n",
    "\n",
    "print(gs.score(X_train, y_train), gs.score(X_test, y_test))\n",
    "print(gs.best_score_)\n",
    "print(gs.best_params_)"
   ]
  },
  {
   "cell_type": "code",
   "execution_count": 186,
   "id": "1eb59663",
   "metadata": {},
   "outputs": [
    {
     "name": "stdout",
     "output_type": "stream",
     "text": [
      "0.8685079365079366 0.6295238095238095\n"
     ]
    }
   ],
   "source": [
    "trial_model = gs.best_estimator_\n",
    "trial_model.fit(X_train,y_train)\n",
    "print(trial_model.score(X_train, y_train), trial_model.score(X_test, y_test))\n",
    "\n",
    "preds = trial_model.predict(X_test)\n",
    "preds_prob = trial_model.predict_proba(X_test)\n",
    "hyper_pred_comparer = pd.DataFrame({\n",
    "    'cleaned_text':X_test\n",
    "    ,'actual':y_test\n",
    "    ,'pred':preds\n",
    "    ,'p_0':preds_prob[:,0]\n",
    "    ,'p_1':preds_prob[:,1]\n",
    "    ,'p_2':preds_prob[:,2]\n",
    "})"
   ]
  },
  {
   "cell_type": "code",
   "execution_count": 187,
   "id": "048df2ed",
   "metadata": {},
   "outputs": [
    {
     "data": {
      "image/png": "[encoded data removed]",
      "text/plain": [
       "<Figure size 640x480 with 2 Axes>"
      ]
     },
     "metadata": {},
     "output_type": "display_data"
    }
   ],
   "source": [
    "ConfusionMatrixDisplay.from_estimator(trial_model,X_test,y_test, cmap='Greens');"
   ]
  },
  {
   "cell_type": "code",
   "execution_count": 180,
   "id": "caa0954c",
   "metadata": {},
   "outputs": [
    {
     "data": {
      "text/plain": [
       "array([[5462, 1747,  543],\n",
       "       [ 522, 1121,  551],\n",
       "       [  58,  237,  259]], dtype=int64)"
      ]
     },
     "execution_count": 180,
     "metadata": {},
     "output_type": "execute_result"
    }
   ],
   "source": [
    "confusion_matrix(y_test, preds)"
   ]
  },
  {
   "cell_type": "code",
   "execution_count": 181,
   "id": "85474ef5",
   "metadata": {},
   "outputs": [
    {
     "data": {
      "text/plain": [
       "0.6814079422382672"
      ]
     },
     "execution_count": 181,
     "metadata": {},
     "output_type": "execute_result"
    }
   ],
   "source": [
    "three = confusion_matrix(y_test, preds)[2]\n",
    "(three[2]+three[1]*.5)/sum(three)"
   ]
  },
  {
   "cell_type": "code",
   "execution_count": null,
   "id": "f96354eb",
   "metadata": {},
   "outputs": [],
   "source": [
    "#Let's try now via randomly sampling the 2 category from the start...\n",
    "\n"
   ]
  },
  {
   "cell_type": "code",
   "execution_count": null,
   "id": "6b813531",
   "metadata": {},
   "outputs": [],
   "source": []
  }
 ],
 "metadata": {
  "kernelspec": {
   "display_name": "Python 3 (ipykernel)",
   "language": "python",
   "name": "python3"
  },
  "language_info": {
   "codemirror_mode": {
    "name": "ipython",
    "version": 3
   },
   "file_extension": ".py",
   "mimetype": "text/x-python",
   "name": "python",
   "nbconvert_exporter": "python",
   "pygments_lexer": "ipython3",
   "version": "3.11.5"
  }
 },
 "nbformat": 4,
 "nbformat_minor": 5
}
