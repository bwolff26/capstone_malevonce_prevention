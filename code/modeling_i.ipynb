{
 "cells": [
  {
   "cell_type": "code",
   "execution_count": 1,
   "id": "020d6110",
   "metadata": {},
   "outputs": [],
   "source": [
    "import pandas as pd\n",
    "import matplotlib.pyplot as plt\n",
    "import numpy as np\n",
    "from random import choices\n",
    "import scipy.sparse as ss"
   ]
  },
  {
   "cell_type": "code",
   "execution_count": 37,
   "id": "bcef7492",
   "metadata": {},
   "outputs": [],
   "source": [
    "from nltk.corpus import stopwords\n",
    "import regex as re\n",
    "\n",
    "from sklearn.pipeline import Pipeline\n",
    "from sklearn.preprocessing import FunctionTransformer\n",
    "from sklearn.metrics import make_scorer\n",
    "from sklearn.metrics import recall_score\n",
    "from sklearn.metrics import confusion_matrix, ConfusionMatrixDisplay\n",
    "from sklearn.model_selection import GridSearchCV\n",
    "from sklearn.model_selection import train_test_split\n",
    "\n",
    "from sklearn.feature_extraction.text import CountVectorizer\n",
    "from sklearn.feature_extraction.text import TfidfVectorizer\n",
    "\n",
    "from sklearn.linear_model import LogisticRegression\n",
    "from sklearn.naive_bayes import MultinomialNB, GaussianNB, ComplementNB\n",
    "from sklearn.svm import SVC\n",
    "#Forests #Unfotunately I never got around to using them, however on principal I'd hope to at least try them at a later point in time\n",
    "\n",
    "# from imblearn.over_sampling import RandomOverSampler\n",
    "# from imblearn.over_sampling import SMOTE\n",
    "\n",
    "import warnings\n",
    "warnings.simplefilter(action='ignore', category=FutureWarning);\n",
    "\n",
    "import pickle"
   ]
  },
  {
   "cell_type": "code",
   "execution_count": 3,
   "id": "534221c5",
   "metadata": {},
   "outputs": [
    {
     "name": "stdout",
     "output_type": "stream",
     "text": [
      "(39565, 60)\n"
     ]
    },
    {
     "data": {
      "text/html": [
       "<div>\n",
       "<style scoped>\n",
       "    .dataframe tbody tr th:only-of-type {\n",
       "        vertical-align: middle;\n",
       "    }\n",
       "\n",
       "    .dataframe tbody tr th {\n",
       "        vertical-align: top;\n",
       "    }\n",
       "\n",
       "    .dataframe thead th {\n",
       "        text-align: right;\n",
       "    }\n",
       "</style>\n",
       "<table border=\"1\" class=\"dataframe\">\n",
       "  <thead>\n",
       "    <tr style=\"text-align: right;\">\n",
       "      <th></th>\n",
       "      <th>platform</th>\n",
       "      <th>text</th>\n",
       "      <th>hate_speech_score</th>\n",
       "      <th>target_race_asian</th>\n",
       "      <th>target_race_black</th>\n",
       "      <th>target_race_latinx</th>\n",
       "      <th>target_race_middle_eastern</th>\n",
       "      <th>target_race_native_american</th>\n",
       "      <th>target_race_pacific_islander</th>\n",
       "      <th>target_race_white</th>\n",
       "      <th>...</th>\n",
       "      <th>target_disability_neurological</th>\n",
       "      <th>target_disability_visually_impaired</th>\n",
       "      <th>target_disability_hearing_impaired</th>\n",
       "      <th>target_disability_unspecific</th>\n",
       "      <th>target_disability_other</th>\n",
       "      <th>target_disability</th>\n",
       "      <th>hate_rank</th>\n",
       "      <th>capital_sentance</th>\n",
       "      <th>cleaned_text</th>\n",
       "      <th>wc_cleaned_text</th>\n",
       "    </tr>\n",
       "  </thead>\n",
       "  <tbody>\n",
       "    <tr>\n",
       "      <th>0</th>\n",
       "      <td>0</td>\n",
       "      <td>White people are trash.</td>\n",
       "      <td>0.46</td>\n",
       "      <td>0.0</td>\n",
       "      <td>0.0</td>\n",
       "      <td>0.0</td>\n",
       "      <td>0.0</td>\n",
       "      <td>0.0</td>\n",
       "      <td>0.0</td>\n",
       "      <td>1.0</td>\n",
       "      <td>...</td>\n",
       "      <td>0.0</td>\n",
       "      <td>0.0</td>\n",
       "      <td>0.0</td>\n",
       "      <td>0.0</td>\n",
       "      <td>0.0</td>\n",
       "      <td>0.0</td>\n",
       "      <td>0</td>\n",
       "      <td>0</td>\n",
       "      <td>white peopl are trash</td>\n",
       "      <td>4</td>\n",
       "    </tr>\n",
       "    <tr>\n",
       "      <th>1</th>\n",
       "      <td>0</td>\n",
       "      <td>You've caught the big gay, it's known to be ai...</td>\n",
       "      <td>0.03</td>\n",
       "      <td>0.0</td>\n",
       "      <td>0.0</td>\n",
       "      <td>0.0</td>\n",
       "      <td>0.0</td>\n",
       "      <td>0.0</td>\n",
       "      <td>0.0</td>\n",
       "      <td>0.0</td>\n",
       "      <td>...</td>\n",
       "      <td>0.0</td>\n",
       "      <td>0.0</td>\n",
       "      <td>0.0</td>\n",
       "      <td>0.0</td>\n",
       "      <td>0.0</td>\n",
       "      <td>0.0</td>\n",
       "      <td>0</td>\n",
       "      <td>0</td>\n",
       "      <td>you ve caught the big gay it s known to be air...</td>\n",
       "      <td>14</td>\n",
       "    </tr>\n",
       "    <tr>\n",
       "      <th>2</th>\n",
       "      <td>0</td>\n",
       "      <td>I'm not saying you said that, I'm just saying ...</td>\n",
       "      <td>-1.29</td>\n",
       "      <td>0.0</td>\n",
       "      <td>1.0</td>\n",
       "      <td>0.0</td>\n",
       "      <td>0.0</td>\n",
       "      <td>0.0</td>\n",
       "      <td>0.0</td>\n",
       "      <td>0.0</td>\n",
       "      <td>...</td>\n",
       "      <td>0.0</td>\n",
       "      <td>0.0</td>\n",
       "      <td>0.0</td>\n",
       "      <td>0.0</td>\n",
       "      <td>0.0</td>\n",
       "      <td>0.0</td>\n",
       "      <td>0</td>\n",
       "      <td>0</td>\n",
       "      <td>i m not say you said that i m just say that if...</td>\n",
       "      <td>75</td>\n",
       "    </tr>\n",
       "    <tr>\n",
       "      <th>3</th>\n",
       "      <td>0</td>\n",
       "      <td>Donald Trump. Yeet myself off a building onto ...</td>\n",
       "      <td>-0.24</td>\n",
       "      <td>0.0</td>\n",
       "      <td>0.0</td>\n",
       "      <td>0.0</td>\n",
       "      <td>0.0</td>\n",
       "      <td>0.0</td>\n",
       "      <td>0.0</td>\n",
       "      <td>0.0</td>\n",
       "      <td>...</td>\n",
       "      <td>0.0</td>\n",
       "      <td>0.0</td>\n",
       "      <td>0.0</td>\n",
       "      <td>0.0</td>\n",
       "      <td>0.0</td>\n",
       "      <td>0.0</td>\n",
       "      <td>0</td>\n",
       "      <td>0</td>\n",
       "      <td>donald trump yeet myself off a build onto a ga...</td>\n",
       "      <td>20</td>\n",
       "    </tr>\n",
       "    <tr>\n",
       "      <th>4</th>\n",
       "      <td>0</td>\n",
       "      <td>Fabrice Fabrice is ostensibly black or black/l...</td>\n",
       "      <td>-2.84</td>\n",
       "      <td>0.0</td>\n",
       "      <td>1.0</td>\n",
       "      <td>1.0</td>\n",
       "      <td>0.0</td>\n",
       "      <td>0.0</td>\n",
       "      <td>0.0</td>\n",
       "      <td>0.0</td>\n",
       "      <td>...</td>\n",
       "      <td>0.0</td>\n",
       "      <td>0.0</td>\n",
       "      <td>0.0</td>\n",
       "      <td>0.0</td>\n",
       "      <td>0.0</td>\n",
       "      <td>0.0</td>\n",
       "      <td>0</td>\n",
       "      <td>0</td>\n",
       "      <td>fabric fabric is ostens black or black latino ...</td>\n",
       "      <td>19</td>\n",
       "    </tr>\n",
       "  </tbody>\n",
       "</table>\n",
       "<p>5 rows × 60 columns</p>\n",
       "</div>"
      ],
      "text/plain": [
       "   platform                                               text  \\\n",
       "0         0                            White people are trash.   \n",
       "1         0  You've caught the big gay, it's known to be ai...   \n",
       "2         0  I'm not saying you said that, I'm just saying ...   \n",
       "3         0  Donald Trump. Yeet myself off a building onto ...   \n",
       "4         0  Fabrice Fabrice is ostensibly black or black/l...   \n",
       "\n",
       "   hate_speech_score  target_race_asian  target_race_black  \\\n",
       "0               0.46                0.0                0.0   \n",
       "1               0.03                0.0                0.0   \n",
       "2              -1.29                0.0                1.0   \n",
       "3              -0.24                0.0                0.0   \n",
       "4              -2.84                0.0                1.0   \n",
       "\n",
       "   target_race_latinx  target_race_middle_eastern  \\\n",
       "0                 0.0                         0.0   \n",
       "1                 0.0                         0.0   \n",
       "2                 0.0                         0.0   \n",
       "3                 0.0                         0.0   \n",
       "4                 1.0                         0.0   \n",
       "\n",
       "   target_race_native_american  target_race_pacific_islander  \\\n",
       "0                          0.0                           0.0   \n",
       "1                          0.0                           0.0   \n",
       "2                          0.0                           0.0   \n",
       "3                          0.0                           0.0   \n",
       "4                          0.0                           0.0   \n",
       "\n",
       "   target_race_white  ...  target_disability_neurological  \\\n",
       "0                1.0  ...                             0.0   \n",
       "1                0.0  ...                             0.0   \n",
       "2                0.0  ...                             0.0   \n",
       "3                0.0  ...                             0.0   \n",
       "4                0.0  ...                             0.0   \n",
       "\n",
       "   target_disability_visually_impaired  target_disability_hearing_impaired  \\\n",
       "0                                  0.0                                 0.0   \n",
       "1                                  0.0                                 0.0   \n",
       "2                                  0.0                                 0.0   \n",
       "3                                  0.0                                 0.0   \n",
       "4                                  0.0                                 0.0   \n",
       "\n",
       "   target_disability_unspecific  target_disability_other  target_disability  \\\n",
       "0                           0.0                      0.0                0.0   \n",
       "1                           0.0                      0.0                0.0   \n",
       "2                           0.0                      0.0                0.0   \n",
       "3                           0.0                      0.0                0.0   \n",
       "4                           0.0                      0.0                0.0   \n",
       "\n",
       "   hate_rank  capital_sentance  \\\n",
       "0          0                 0   \n",
       "1          0                 0   \n",
       "2          0                 0   \n",
       "3          0                 0   \n",
       "4          0                 0   \n",
       "\n",
       "                                        cleaned_text  wc_cleaned_text  \n",
       "0                              white peopl are trash                4  \n",
       "1  you ve caught the big gay it s known to be air...               14  \n",
       "2  i m not say you said that i m just say that if...               75  \n",
       "3  donald trump yeet myself off a build onto a ga...               20  \n",
       "4  fabric fabric is ostens black or black latino ...               19  \n",
       "\n",
       "[5 rows x 60 columns]"
      ]
     },
     "execution_count": 3,
     "metadata": {},
     "output_type": "execute_result"
    }
   ],
   "source": [
    "df = pd.read_csv('../data/cleaned_02_ii.csv')\n",
    "print(df.shape)\n",
    "df.head()"
   ]
  },
  {
   "cell_type": "markdown",
   "id": "37e15fe5",
   "metadata": {},
   "source": [
    "# Round I of modeling!\n",
    "\n",
    "Reminder again that our target is somewhat ambiguous, tweaks to be adjusted to the 'cleaned text' among other things before the anticipated 'fun' of adding in other factors such as platform and target."
   ]
  },
  {
   "cell_type": "code",
   "execution_count": 4,
   "id": "9c091129",
   "metadata": {},
   "outputs": [],
   "source": [
    "X = df['cleaned_text']\n",
    "y = df['hate_rank']\n",
    "\n",
    "X_train, X_test, y_train, y_test = train_test_split(X,\n",
    "                                                    y,\n",
    "                                                    test_size = 0.25, #Given the size we'll start with this, a bit larger than what I'd usually do\n",
    "                                                    random_state = 26, #I like this number\n",
    "                                                    stratify=y) #Particularly important in this case with 3 targets"
   ]
  },
  {
   "cell_type": "code",
   "execution_count": 5,
   "id": "b191bbe6",
   "metadata": {},
   "outputs": [
    {
     "data": {
      "image/png": "[encoded data removed]",
      "text/plain": [
       "<Figure size 640x480 with 1 Axes>"
      ]
     },
     "metadata": {},
     "output_type": "display_data"
    }
   ],
   "source": [
    "#For kicks, to get a bit of a taste of the upcoming data. \n",
    "cvec_ex = CountVectorizer(stop_words='english')\n",
    "X_train_cvec_ex = cvec_ex.fit_transform(X_train)\n",
    "X_train_ex = pd.DataFrame(X_train_cvec_ex.todense(),\n",
    "                          columns=cvec_ex.get_feature_names_out())\n",
    "\n",
    "X_train_ex.sum().sort_values().tail(30).plot(kind=\"barh\");"
   ]
  },
  {
   "cell_type": "markdown",
   "id": "5e039b36",
   "metadata": {},
   "source": [
    "Unsurprising, the 'f' word is high up there being the second mst common (only behind 'this'). Likely its presence, along with any other similar word, is more indicative of hate speech.\n",
    "\n",
    "Other interesting words (tokens) include: just, b****, a**, white, black, woman, countri, n****, gay, men, and girl. Of particular interst to me is 'just'. Albeit it is a stopword, however"
   ]
  },
  {
   "cell_type": "markdown",
   "id": "0c68ba35",
   "metadata": {},
   "source": [
    "### Note:\n",
    "\n",
    "Pragmatically go down to the next header. However, I wanted to preserve the following if you're really interested/bored."
   ]
  },
  {
   "cell_type": "code",
   "execution_count": 6,
   "id": "ce80738c",
   "metadata": {},
   "outputs": [],
   "source": [
    "# pipe = Pipeline([\n",
    "#     ('cvec', CountVectorizer(lowercase=False))\n",
    "#     ,('lr', LogisticRegression(max_iter=2500, multi_class='multinomial'))\n",
    "# ])\n",
    "\n",
    "# pipe_params = {'cvec__min_df' : [.05, .00]\n",
    "#                ,'cvec__max_df' : [.95, 1.00]\n",
    "#                ,'cvec__ngram_range' : [(1, 1)]\n",
    "#                ,'cvec__max_features' : [2000, 5000]\n",
    "#                ,'cvec__stop_words' : ['english', None]\n",
    "#               }\n",
    "\n",
    "# gs = GridSearchCV(pipe,\n",
    "#                   param_grid=pipe_params,\n",
    "#                   cv=5)\n",
    "# gs.fit(X_train, y_train)\n",
    "\n",
    "# print(gs.score(X_train, y_train), gs.score(X_test, y_test))\n",
    "# print(gs.best_score_)\n",
    "# print(gs.best_params_)\n",
    "\n",
    "# #Output:\n",
    "# 0.7661510464058234 0.7093610998786899\n",
    "# 0.7039399584704426\n",
    "# {'cvec__max_df': 0.95, 'cvec__max_features': 2000, 'cvec__min_df': 0.0, 'cvec__ngram_range': (1, 1), 'cvec__stop_words': None}"
   ]
  },
  {
   "cell_type": "markdown",
   "id": "82d0ee9c",
   "metadata": {},
   "source": [
    "Above is a copy of the first iteration I ran, and will serve as a general template describing my thought process for the rest of this project:\n",
    "\n",
    "Well, we got a nice bit of overfitting and overall not the greatest accuracy. Recall how we're\n",
    "dealng with multi-class classification and would need to properly address the metrics - as now sensitivity seems a bit more abstruse.\n",
    "\n",
    "Regardless, I'll keep the metrics as overall accuracy for now, as I want to do a lot better than a mere 70%.\n",
    "\n",
    "Anyways, regarding going forward with hyper-parameters: Notice the selection of specific feature and explore that trend more. Ex. we chose .95 for max df when we had two options: .95 and 1.00. Likely let us explor if that .95 preference is even lower (such as next trying maybe .925) or a bit higher (such as .975) yet not as big as the original alternative of 1.00.\n",
    "\n",
    "Only other parameter I'll call attention to is rejection of using English stopwords. Among other theories, perhaps related to the trend we noticed of more positive posts often being longer in length."
   ]
  },
  {
   "cell_type": "code",
   "execution_count": 7,
   "id": "46c656dd",
   "metadata": {},
   "outputs": [],
   "source": [
    "# trial_model = gs.best_estimator_\n",
    "# trial_model.fit(X_train,y_train)\n",
    "# print(trial_model.score(X_train, y_train), trial_model.score(X_test, y_test))\n",
    "\n",
    "# preds = gs.predict(X_test)\n",
    "# preds_prob = gs.predict_proba(X_test)\n",
    "# hyper_pred_comparer = pd.DataFrame({\n",
    "#     'cleaned_text':X_test\n",
    "#     ,'actual':y_test\n",
    "#     ,'pred':preds\n",
    "#     ,'p_0':preds_prob[:,0]\n",
    "#     ,'p_1':preds_prob[:,1]\n",
    "#     ,'p_2':preds_prob[:,2]\n",
    "# })"
   ]
  },
  {
   "cell_type": "code",
   "execution_count": 8,
   "id": "e2b6a9f6",
   "metadata": {},
   "outputs": [],
   "source": [
    "# hyper_misses = hyper_pred_comparer[hyper_pred_comparer['actual']!=hyper_pred_comparer['pred']]\n",
    "# i = -1"
   ]
  },
  {
   "cell_type": "code",
   "execution_count": 9,
   "id": "d7cd04dd",
   "metadata": {},
   "outputs": [],
   "source": [
    "# i += 1\n",
    "# print(i)\n",
    "# print(hyper_misses.iloc[i, 1:3])\n",
    "# print(hyper_misses.iloc[i, 3:6])\n",
    "# hyper_misses.iloc[i, 0]"
   ]
  },
  {
   "cell_type": "code",
   "execution_count": 10,
   "id": "05714afc",
   "metadata": {},
   "outputs": [],
   "source": [
    "# print(1)\n",
    "# print(hyper_misses.iloc[1, 1:3])\n",
    "# print(hyper_misses.iloc[i, 3:6])\n",
    "# hyper_misses.iloc[1, 0]\n",
    "# We'll look at this example (current per the - our model thought it was a 2:\n",
    "\n",
    "#Yeah, I'm not surprised when it makes references to say many groups AND in a somewhat edgy way.\n",
    "#Ie 'disappear' 'soon' 'crazi' 'mental/sick',etc."
   ]
  },
  {
   "cell_type": "code",
   "execution_count": 11,
   "id": "57d7f71f",
   "metadata": {},
   "outputs": [],
   "source": [
    "# #All right, we got our basic methodology done. It's tuning time!!!!!!\n",
    "# #Think I'm excited?\n",
    "\n",
    "# pipe = Pipeline([\n",
    "#     ('cvec', CountVectorizer(lowercase=False))\n",
    "#     ,('lr', LogisticRegression(max_iter=2500, multi_class='multinomial'))\n",
    "# ])\n",
    "\n",
    "# pipe_params = {'cvec__min_df' : [.00]\n",
    "#                ,'cvec__max_df' : [.95]\n",
    "#                ,'cvec__ngram_range' : [(1, 1)]\n",
    "#                ,'cvec__max_features' : [1175, 1225, 1200]\n",
    "#                ,'cvec__stop_words' : [None]\n",
    "#               }\n",
    "# gs = GridSearchCV(pipe\n",
    "#                   ,param_grid=pipe_params\n",
    "#                   ,cv=5)\n",
    "# gs.fit(X_train, y_train)\n",
    "\n",
    "# print(gs.score(X_train, y_train), gs.score(X_test, y_test))\n",
    "# print(gs.best_score_)\n",
    "# print(gs.best_params_)"
   ]
  },
  {
   "cell_type": "code",
   "execution_count": 12,
   "id": "cc0de94d",
   "metadata": {},
   "outputs": [],
   "source": [
    "#Hmm, it looks like this is the best we're going to get... a mere 70%... For now we'll take it.\n",
    "#Note, that even with the cvec we can hopefully improve accuracy via the addition of the other featues\n",
    "#such as word count, type of discrimination, etc."
   ]
  },
  {
   "cell_type": "markdown",
   "id": "78c385b8",
   "metadata": {},
   "source": [
    "In short, I originally tried going with a default 'accuracy' approach, yet it failed for many reasons. Primarily: We don't care about 0s. Furthermore, with this giant class imbalance... things need to change. Hence:"
   ]
  },
  {
   "cell_type": "markdown",
   "id": "892c94e9",
   "metadata": {},
   "source": [
    "## The revival"
   ]
  },
  {
   "cell_type": "markdown",
   "id": "84b90051",
   "metadata": {},
   "source": [
    "A note I'd like to make before contiuing: A very practical application and need I see for this project is the assumption that a user will post multiple messages. So, even if ONE message is not caught, when you consider more and more...\n",
    "\n",
    "In a way, that assumption arguably helps the cause to sampe with replacement, as likly hate messages would be spammed multiple times..."
   ]
  },
  {
   "cell_type": "code",
   "execution_count": 13,
   "id": "6ba2603d",
   "metadata": {},
   "outputs": [],
   "source": [
    "X = df['cleaned_text']\n",
    "y = df['hate_rank']\n",
    "\n",
    "X_train, X_test, y_train, y_test = train_test_split(X,\n",
    "                                                    y,\n",
    "                                                    test_size = 3785, #To have a clean 200 2s in the test 3785 pref\n",
    "                                                    random_state = 26, #I like this number\n",
    "                                                    stratify=y) #Particularly important in this case with 3 targets\n",
    "\n",
    "# Hmm, as it stands right now y_test has mostly 0s... eh, I think htat's fine as it's like new data. So, cvs might be a little\n",
    "# scruff now with seeing thet sam thing,b ut eh, better htan nothing.... And, likely such is the inhernt issue of\n",
    "# using such methodologies..."
   ]
  },
  {
   "cell_type": "code",
   "execution_count": 14,
   "id": "4003799c",
   "metadata": {},
   "outputs": [
    {
     "data": {
      "text/plain": [
       "200"
      ]
     },
     "execution_count": 14,
     "metadata": {},
     "output_type": "execute_result"
    }
   ],
   "source": [
    "len(y_test[y_test==2])"
   ]
  },
  {
   "cell_type": "code",
   "execution_count": 15,
   "id": "e18838be",
   "metadata": {},
   "outputs": [
    {
     "data": {
      "text/html": [
       "<div>\n",
       "<style scoped>\n",
       "    .dataframe tbody tr th:only-of-type {\n",
       "        vertical-align: middle;\n",
       "    }\n",
       "\n",
       "    .dataframe tbody tr th {\n",
       "        vertical-align: top;\n",
       "    }\n",
       "\n",
       "    .dataframe thead th {\n",
       "        text-align: right;\n",
       "    }\n",
       "</style>\n",
       "<table border=\"1\" class=\"dataframe\">\n",
       "  <thead>\n",
       "    <tr style=\"text-align: right;\">\n",
       "      <th></th>\n",
       "      <th>cleaned_text</th>\n",
       "      <th>hate_rank</th>\n",
       "    </tr>\n",
       "  </thead>\n",
       "  <tbody>\n",
       "    <tr>\n",
       "      <th>33114</th>\n",
       "      <td>yea those lino do need to be turn straight bec...</td>\n",
       "      <td>1</td>\n",
       "    </tr>\n",
       "    <tr>\n",
       "      <th>36787</th>\n",
       "      <td>the world is come un kill billion of peopl nw ...</td>\n",
       "      <td>0</td>\n",
       "    </tr>\n",
       "    <tr>\n",
       "      <th>4386</th>\n",
       "      <td>grant all thot are gone except you you are the...</td>\n",
       "      <td>1</td>\n",
       "    </tr>\n",
       "    <tr>\n",
       "      <th>36692</th>\n",
       "      <td>i m atheist but my famili is christian</td>\n",
       "      <td>0</td>\n",
       "    </tr>\n",
       "    <tr>\n",
       "      <th>24323</th>\n",
       "      <td>norballin hpluckros but again by place such a ...</td>\n",
       "      <td>0</td>\n",
       "    </tr>\n",
       "  </tbody>\n",
       "</table>\n",
       "</div>"
      ],
      "text/plain": [
       "                                            cleaned_text  hate_rank\n",
       "33114  yea those lino do need to be turn straight bec...          1\n",
       "36787  the world is come un kill billion of peopl nw ...          0\n",
       "4386   grant all thot are gone except you you are the...          1\n",
       "36692             i m atheist but my famili is christian          0\n",
       "24323  norballin hpluckros but again by place such a ...          0"
      ]
     },
     "execution_count": 15,
     "metadata": {},
     "output_type": "execute_result"
    }
   ],
   "source": [
    "data = pd.DataFrame(X_train)\n",
    "data['hate_rank'] = y_train\n",
    "data.head()"
   ]
  },
  {
   "cell_type": "code",
   "execution_count": 16,
   "id": "e7f7ce15",
   "metadata": {},
   "outputs": [
    {
     "data": {
      "text/plain": [
       "hate_rank\n",
       "0    0.738317\n",
       "1    0.208971\n",
       "2    0.052711\n",
       "Name: proportion, dtype: float64"
      ]
     },
     "execution_count": 16,
     "metadata": {},
     "output_type": "execute_result"
    }
   ],
   "source": [
    "data['hate_rank'].value_counts(normalize=True)"
   ]
  },
  {
   "cell_type": "code",
   "execution_count": 17,
   "id": "d66f4155",
   "metadata": {},
   "outputs": [
    {
     "data": {
      "text/plain": [
       "((35780,), (3785,))"
      ]
     },
     "execution_count": 17,
     "metadata": {},
     "output_type": "execute_result"
    }
   ],
   "source": [
    "y_train.shape, y_test.shape"
   ]
  },
  {
   "cell_type": "code",
   "execution_count": 18,
   "id": "52c48dd0",
   "metadata": {},
   "outputs": [
    {
     "data": {
      "text/plain": [
       "4000"
      ]
     },
     "execution_count": 18,
     "metadata": {},
     "output_type": "execute_result"
    }
   ],
   "source": [
    "#Hmm, originally we wanted to do 10k... eh\n",
    "# col_size = int((42000-y_test.shape[0])/3)\n",
    "col_size = 4000 #testing now lke this... we'll\n",
    "col_size"
   ]
  },
  {
   "cell_type": "code",
   "execution_count": 19,
   "id": "05182ef3",
   "metadata": {},
   "outputs": [
    {
     "data": {
      "text/plain": [
       "['data_0', 'data_1', 'data_2']"
      ]
     },
     "execution_count": 19,
     "metadata": {},
     "output_type": "execute_result"
    }
   ],
   "source": [
    "data_names = [] #Neat bit of code coming up, if I do say so myself, re. prepping the sampling:\n",
    "for i in range(3):\n",
    "    data_names.append(f\"data_{i}\")\n",
    "data_names"
   ]
  },
  {
   "cell_type": "code",
   "execution_count": 20,
   "id": "c519fdc8",
   "metadata": {},
   "outputs": [],
   "source": [
    "for i in range(len(data_names)):#Recall that we're still planning on doing replace=True even for 0.\n",
    "    data_names[i] = data[data['hate_rank']==i].sample(col_size, replace=True, random_state=26)"
   ]
  },
  {
   "cell_type": "code",
   "execution_count": 21,
   "id": "7b334441",
   "metadata": {},
   "outputs": [
    {
     "name": "stdout",
     "output_type": "stream",
     "text": [
      "(12000, 2)\n"
     ]
    },
    {
     "data": {
      "text/html": [
       "<div>\n",
       "<style scoped>\n",
       "    .dataframe tbody tr th:only-of-type {\n",
       "        vertical-align: middle;\n",
       "    }\n",
       "\n",
       "    .dataframe tbody tr th {\n",
       "        vertical-align: top;\n",
       "    }\n",
       "\n",
       "    .dataframe thead th {\n",
       "        text-align: right;\n",
       "    }\n",
       "</style>\n",
       "<table border=\"1\" class=\"dataframe\">\n",
       "  <thead>\n",
       "    <tr style=\"text-align: right;\">\n",
       "      <th></th>\n",
       "      <th>cleaned_text</th>\n",
       "      <th>hate_rank</th>\n",
       "    </tr>\n",
       "  </thead>\n",
       "  <tbody>\n",
       "    <tr>\n",
       "      <th>9021</th>\n",
       "      <td>i doubt satan ha ani author to bargain with go...</td>\n",
       "      <td>0</td>\n",
       "    </tr>\n",
       "    <tr>\n",
       "      <th>10138</th>\n",
       "      <td>how are there still peopl in 2019 who think th...</td>\n",
       "      <td>0</td>\n",
       "    </tr>\n",
       "    <tr>\n",
       "      <th>7384</th>\n",
       "      <td>i never said becom a minor holi shit i just wa...</td>\n",
       "      <td>0</td>\n",
       "    </tr>\n",
       "    <tr>\n",
       "      <th>7309</th>\n",
       "      <td>if she can perform the part well she wa a good...</td>\n",
       "      <td>0</td>\n",
       "    </tr>\n",
       "    <tr>\n",
       "      <th>7534</th>\n",
       "      <td>jesu that a name i havent heard in a long time...</td>\n",
       "      <td>0</td>\n",
       "    </tr>\n",
       "  </tbody>\n",
       "</table>\n",
       "</div>"
      ],
      "text/plain": [
       "                                            cleaned_text  hate_rank\n",
       "9021   i doubt satan ha ani author to bargain with go...          0\n",
       "10138  how are there still peopl in 2019 who think th...          0\n",
       "7384   i never said becom a minor holi shit i just wa...          0\n",
       "7309   if she can perform the part well she wa a good...          0\n",
       "7534   jesu that a name i havent heard in a long time...          0"
      ]
     },
     "execution_count": 21,
     "metadata": {},
     "output_type": "execute_result"
    }
   ],
   "source": [
    "data = pd.concat(data_names)\n",
    "print(data.shape)\n",
    "data.head()"
   ]
  },
  {
   "cell_type": "code",
   "execution_count": 22,
   "id": "1ff2e347",
   "metadata": {},
   "outputs": [
    {
     "data": {
      "text/plain": [
       "hate_rank\n",
       "0    4000\n",
       "1    4000\n",
       "2    4000\n",
       "Name: count, dtype: int64"
      ]
     },
     "execution_count": 22,
     "metadata": {},
     "output_type": "execute_result"
    }
   ],
   "source": [
    "data['hate_rank'].value_counts() #There we go! Now let's do this!"
   ]
  },
  {
   "cell_type": "code",
   "execution_count": 23,
   "id": "1e5ae253",
   "metadata": {},
   "outputs": [
    {
     "data": {
      "text/plain": [
       "1644"
      ]
     },
     "execution_count": 23,
     "metadata": {},
     "output_type": "execute_result"
    }
   ],
   "source": [
    "len(data[data['hate_rank']==2]['cleaned_text'].unique()) #Didn't track this before, but eh, hopefully a lot bette. Now\n",
    "#A typicalpost would be repeated only 2.5 times..."
   ]
  },
  {
   "cell_type": "code",
   "execution_count": 24,
   "id": "673aa356",
   "metadata": {},
   "outputs": [],
   "source": [
    "#Awww yeah.... almost there! Now, let's return to the X_train and y_train:\n",
    "X_train = data['cleaned_text']\n",
    "y_train = data['hate_rank']"
   ]
  },
  {
   "cell_type": "code",
   "execution_count": 25,
   "id": "1087229f",
   "metadata": {},
   "outputs": [],
   "source": [
    "#Unfortunately the following is a bit scruff, but eh, once again timing...\n",
    "\n",
    "def custom_recall(y, ypred, weight_list):   \n",
    "    num = 0\n",
    "    recall_base = recall_score(y, ypred, average=None)[1:]\n",
    "    for i in range(len(weight_list)):\n",
    "        num += recall_base[i] * weight_list[i]\n",
    "    return num/sum(weight_list)"
   ]
  },
  {
   "cell_type": "code",
   "execution_count": 26,
   "id": "eccbcc4d",
   "metadata": {},
   "outputs": [
    {
     "name": "stdout",
     "output_type": "stream",
     "text": [
      "[3, 6]\n"
     ]
    }
   ],
   "source": [
    "current_weights={\n",
    "    0:.8\n",
    "    ,1:3\n",
    "    ,2:6\n",
    "}\n",
    "cw_values = list(current_weights.values())[1:]\n",
    "print(cw_values)"
   ]
  },
  {
   "cell_type": "code",
   "execution_count": 27,
   "id": "4250055c",
   "metadata": {},
   "outputs": [
    {
     "name": "stdout",
     "output_type": "stream",
     "text": [
      "0.9962500000000001 0.6277581120943954\n",
      "0.8456666666666667\n",
      "{'tvec__max_df': 0.95, 'tvec__max_features': None, 'tvec__min_df': 0.0, 'tvec__ngram_range': (1, 2), 'tvec__stop_words': None}\n"
     ]
    }
   ],
   "source": [
    "pipe = Pipeline([\n",
    "    ('tvec', TfidfVectorizer(lowercase=False))\n",
    "    ,('lr', LogisticRegression(max_iter=3000, multi_class='multinomial', class_weight=current_weights))\n",
    "])\n",
    "pipe_params = {'tvec__min_df' : [.0]\n",
    "               ,'tvec__max_df' : [.95]\n",
    "               ,'tvec__ngram_range' : [(1,2)]\n",
    "               ,'tvec__max_features' : [12000, None]\n",
    "               ,'tvec__stop_words' : [None]\n",
    "               }\n",
    "scorer = make_scorer(custom_recall, weight_list=cw_values) #Note the 1: as we're now ignoring 0 for the scoring\n",
    "gs = GridSearchCV(pipe\n",
    "                  ,param_grid=pipe_params\n",
    "                  ,cv=5\n",
    "                  ,scoring=scorer\n",
    "                 )\n",
    "\n",
    "gs.fit(X_train, y_train)\n",
    "\n",
    "print(gs.score(X_train, y_train), gs.score(X_test, y_test))\n",
    "print(gs.best_score_)\n",
    "print(gs.best_params_)"
   ]
  },
  {
   "cell_type": "markdown",
   "id": "7eebdd2c",
   "metadata": {},
   "source": [
    "Despite finally having a nice aproach to the scoring issue, focusing on both 2 and 1 is not effective with the current gridsearch. Ex. From 8k to 11k features, with the trend indicating to keep on going upwards, our nuaned weighted scorer is actually getting worse... With no end in sight I was pondering what it was, then it dawned on me - Recall that the cross val is using repeated data! Hence, with 7k posts per category in train and a total of 10500 in the the test there should be approximately 4.5 of the same 2 post in the train... So, far more often then not a post was already seen n each of the cvals so what a surprise that in the 'test' cval it would get it right... Hence, from the cval point of view things would be good and it's like hey, we got this - pound more features! Yet, henc the drop in test as those were all new.\n",
    "\n",
    "So, we have 2 things I immediately see to ponder: Wiggle around with the data size:\n",
    "1) Drop test size, giving more potential targets to use for 2 (and 1)\n",
    "2) Drop train size, having less repetition in 2s and 1s\n",
    "2.5) On the topic, potentially turn replace=False for the 0s...\n",
    "\n",
    "And, of recent revelation, and likly the core of the issue - Decrease the number of cvals. However, I'm a bit hesitant with this one. Eric Bayless made an interesting reminder to me to view the variance of the cval scores. Likely we won't need to get into it though, howeve indeed it is quite interesting.\n",
    "\n",
    "Finally, perhaps we will just have to focus on 2s. However, let's try this first."
   ]
  },
  {
   "cell_type": "code",
   "execution_count": 28,
   "id": "1eb59663",
   "metadata": {},
   "outputs": [
    {
     "name": "stdout",
     "output_type": "stream",
     "text": [
      "0.9036666666666666 0.4501981505944518\n"
     ]
    },
    {
     "data": {
      "image/png": "[encoded data removed]",
      "text/plain": [
       "<Figure size 640x480 with 2 Axes>"
      ]
     },
     "metadata": {},
     "output_type": "display_data"
    }
   ],
   "source": [
    "trial_model = gs.best_estimator_\n",
    "trial_model.fit(X_train,y_train)\n",
    "print(trial_model.score(X_train, y_train), trial_model.score(X_test, y_test))\n",
    "\n",
    "preds = trial_model.predict(X_test)\n",
    "preds_prob = trial_model.predict_proba(X_test)\n",
    "hyper_pred_comparer = pd.DataFrame({\n",
    "    'cleaned_text':X_test\n",
    "    ,'actual':y_test\n",
    "    ,'pred':preds\n",
    "    ,'p_0':preds_prob[:,0]\n",
    "    ,'p_1':preds_prob[:,1]\n",
    "    ,'p_2':preds_prob[:,2]\n",
    "})\n",
    "\n",
    "ConfusionMatrixDisplay.from_estimator(trial_model,X_test,y_test, cmap='Greens');"
   ]
  },
  {
   "cell_type": "code",
   "execution_count": 30,
   "id": "e682e9ed",
   "metadata": {},
   "outputs": [
    {
     "data": {
      "text/plain": [
       "0.6277581120943954"
      ]
     },
     "execution_count": 30,
     "metadata": {},
     "output_type": "execute_result"
    }
   ],
   "source": [
    "custom_recall(y_test, preds, cw_values)"
   ]
  },
  {
   "cell_type": "code",
   "execution_count": 31,
   "id": "118545c2",
   "metadata": {},
   "outputs": [
    {
     "data": {
      "text/plain": [
       "(791, 200)"
      ]
     },
     "execution_count": 31,
     "metadata": {},
     "output_type": "execute_result"
    }
   ],
   "source": [
    "50+406+335,7+56+137"
   ]
  },
  {
   "cell_type": "code",
   "execution_count": 34,
   "id": "054b9346",
   "metadata": {},
   "outputs": [
    {
     "data": {
      "text/plain": [
       "0.9424823410696266"
      ]
     },
     "execution_count": 34,
     "metadata": {},
     "output_type": "execute_result"
    }
   ],
   "source": [
    "1 - (57/991) #Boss - on a pure binary sensitivity scale we have ove 94%.... Use this later!!!"
   ]
  },
  {
   "cell_type": "markdown",
   "id": "8c6cd086",
   "metadata": {},
   "source": [
    "The following technically doesn't belong here, however I wanted to anyways as I already had the code for the replicated train data here. Hence, the pickle reference on principle..."
   ]
  },
  {
   "cell_type": "code",
   "execution_count": 38,
   "id": "28ea84f7",
   "metadata": {},
   "outputs": [],
   "source": [
    "with open('model_base.pkl', 'rb') as f:\n",
    "    foo = pickle.load(f)\n",
    "    \n",
    "trial_model = foo"
   ]
  },
  {
   "cell_type": "code",
   "execution_count": 40,
   "id": "94e2001f",
   "metadata": {},
   "outputs": [
    {
     "data": {
      "text/html": [
       "<style>#sk-container-id-2 {\n",
       "  /* Definition of color scheme common for light and dark mode */\n",
       "  --sklearn-color-text: black;\n",
       "  --sklearn-color-line: gray;\n",
       "  /* Definition of color scheme for unfitted estimators */\n",
       "  --sklearn-color-unfitted-level-0: #fff5e6;\n",
       "  --sklearn-color-unfitted-level-1: #f6e4d2;\n",
       "  --sklearn-color-unfitted-level-2: #ffe0b3;\n",
       "  --sklearn-color-unfitted-level-3: chocolate;\n",
       "  /* Definition of color scheme for fitted estimators */\n",
       "  --sklearn-color-fitted-level-0: #f0f8ff;\n",
       "  --sklearn-color-fitted-level-1: #d4ebff;\n",
       "  --sklearn-color-fitted-level-2: #b3dbfd;\n",
       "  --sklearn-color-fitted-level-3: cornflowerblue;\n",
       "\n",
       "  /* Specific color for light theme */\n",
       "  --sklearn-color-text-on-default-background: var(--sg-text-color, var(--theme-code-foreground, var(--jp-content-font-color1, black)));\n",
       "  --sklearn-color-background: var(--sg-background-color, var(--theme-background, var(--jp-layout-color0, white)));\n",
       "  --sklearn-color-border-box: var(--sg-text-color, var(--theme-code-foreground, var(--jp-content-font-color1, black)));\n",
       "  --sklearn-color-icon: #696969;\n",
       "\n",
       "  @media (prefers-color-scheme: dark) {\n",
       "    /* Redefinition of color scheme for dark theme */\n",
       "    --sklearn-color-text-on-default-background: var(--sg-text-color, var(--theme-code-foreground, var(--jp-content-font-color1, white)));\n",
       "    --sklearn-color-background: var(--sg-background-color, var(--theme-background, var(--jp-layout-color0, #111)));\n",
       "    --sklearn-color-border-box: var(--sg-text-color, var(--theme-code-foreground, var(--jp-content-font-color1, white)));\n",
       "    --sklearn-color-icon: #878787;\n",
       "  }\n",
       "}\n",
       "\n",
       "#sk-container-id-2 {\n",
       "  color: var(--sklearn-color-text);\n",
       "}\n",
       "\n",
       "#sk-container-id-2 pre {\n",
       "  padding: 0;\n",
       "}\n",
       "\n",
       "#sk-container-id-2 input.sk-hidden--visually {\n",
       "  border: 0;\n",
       "  clip: rect(1px 1px 1px 1px);\n",
       "  clip: rect(1px, 1px, 1px, 1px);\n",
       "  height: 1px;\n",
       "  margin: -1px;\n",
       "  overflow: hidden;\n",
       "  padding: 0;\n",
       "  position: absolute;\n",
       "  width: 1px;\n",
       "}\n",
       "\n",
       "#sk-container-id-2 div.sk-dashed-wrapped {\n",
       "  border: 1px dashed var(--sklearn-color-line);\n",
       "  margin: 0 0.4em 0.5em 0.4em;\n",
       "  box-sizing: border-box;\n",
       "  padding-bottom: 0.4em;\n",
       "  background-color: var(--sklearn-color-background);\n",
       "}\n",
       "\n",
       "#sk-container-id-2 div.sk-container {\n",
       "  /* jupyter's `normalize.less` sets `[hidden] { display: none; }`\n",
       "     but bootstrap.min.css set `[hidden] { display: none !important; }`\n",
       "     so we also need the `!important` here to be able to override the\n",
       "     default hidden behavior on the sphinx rendered scikit-learn.org.\n",
       "     See: https://github.com/scikit-learn/scikit-learn/issues/21755 */\n",
       "  display: inline-block !important;\n",
       "  position: relative;\n",
       "}\n",
       "\n",
       "#sk-container-id-2 div.sk-text-repr-fallback {\n",
       "  display: none;\n",
       "}\n",
       "\n",
       "div.sk-parallel-item,\n",
       "div.sk-serial,\n",
       "div.sk-item {\n",
       "  /* draw centered vertical line to link estimators */\n",
       "  background-image: linear-gradient(var(--sklearn-color-text-on-default-background), var(--sklearn-color-text-on-default-background));\n",
       "  background-size: 2px 100%;\n",
       "  background-repeat: no-repeat;\n",
       "  background-position: center center;\n",
       "}\n",
       "\n",
       "/* Parallel-specific style estimator block */\n",
       "\n",
       "#sk-container-id-2 div.sk-parallel-item::after {\n",
       "  content: \"\";\n",
       "  width: 100%;\n",
       "  border-bottom: 2px solid var(--sklearn-color-text-on-default-background);\n",
       "  flex-grow: 1;\n",
       "}\n",
       "\n",
       "#sk-container-id-2 div.sk-parallel {\n",
       "  display: flex;\n",
       "  align-items: stretch;\n",
       "  justify-content: center;\n",
       "  background-color: var(--sklearn-color-background);\n",
       "  position: relative;\n",
       "}\n",
       "\n",
       "#sk-container-id-2 div.sk-parallel-item {\n",
       "  display: flex;\n",
       "  flex-direction: column;\n",
       "}\n",
       "\n",
       "#sk-container-id-2 div.sk-parallel-item:first-child::after {\n",
       "  align-self: flex-end;\n",
       "  width: 50%;\n",
       "}\n",
       "\n",
       "#sk-container-id-2 div.sk-parallel-item:last-child::after {\n",
       "  align-self: flex-start;\n",
       "  width: 50%;\n",
       "}\n",
       "\n",
       "#sk-container-id-2 div.sk-parallel-item:only-child::after {\n",
       "  width: 0;\n",
       "}\n",
       "\n",
       "/* Serial-specific style estimator block */\n",
       "\n",
       "#sk-container-id-2 div.sk-serial {\n",
       "  display: flex;\n",
       "  flex-direction: column;\n",
       "  align-items: center;\n",
       "  background-color: var(--sklearn-color-background);\n",
       "  padding-right: 1em;\n",
       "  padding-left: 1em;\n",
       "}\n",
       "\n",
       "\n",
       "/* Toggleable style: style used for estimator/Pipeline/ColumnTransformer box that is\n",
       "clickable and can be expanded/collapsed.\n",
       "- Pipeline and ColumnTransformer use this feature and define the default style\n",
       "- Estimators will overwrite some part of the style using the `sk-estimator` class\n",
       "*/\n",
       "\n",
       "/* Pipeline and ColumnTransformer style (default) */\n",
       "\n",
       "#sk-container-id-2 div.sk-toggleable {\n",
       "  /* Default theme specific background. It is overwritten whether we have a\n",
       "  specific estimator or a Pipeline/ColumnTransformer */\n",
       "  background-color: var(--sklearn-color-background);\n",
       "}\n",
       "\n",
       "/* Toggleable label */\n",
       "#sk-container-id-2 label.sk-toggleable__label {\n",
       "  cursor: pointer;\n",
       "  display: block;\n",
       "  width: 100%;\n",
       "  margin-bottom: 0;\n",
       "  padding: 0.5em;\n",
       "  box-sizing: border-box;\n",
       "  text-align: center;\n",
       "}\n",
       "\n",
       "#sk-container-id-2 label.sk-toggleable__label-arrow:before {\n",
       "  /* Arrow on the left of the label */\n",
       "  content: \"▸\";\n",
       "  float: left;\n",
       "  margin-right: 0.25em;\n",
       "  color: var(--sklearn-color-icon);\n",
       "}\n",
       "\n",
       "#sk-container-id-2 label.sk-toggleable__label-arrow:hover:before {\n",
       "  color: var(--sklearn-color-text);\n",
       "}\n",
       "\n",
       "/* Toggleable content - dropdown */\n",
       "\n",
       "#sk-container-id-2 div.sk-toggleable__content {\n",
       "  max-height: 0;\n",
       "  max-width: 0;\n",
       "  overflow: hidden;\n",
       "  text-align: left;\n",
       "  /* unfitted */\n",
       "  background-color: var(--sklearn-color-unfitted-level-0);\n",
       "}\n",
       "\n",
       "#sk-container-id-2 div.sk-toggleable__content.fitted {\n",
       "  /* fitted */\n",
       "  background-color: var(--sklearn-color-fitted-level-0);\n",
       "}\n",
       "\n",
       "#sk-container-id-2 div.sk-toggleable__content pre {\n",
       "  margin: 0.2em;\n",
       "  border-radius: 0.25em;\n",
       "  color: var(--sklearn-color-text);\n",
       "  /* unfitted */\n",
       "  background-color: var(--sklearn-color-unfitted-level-0);\n",
       "}\n",
       "\n",
       "#sk-container-id-2 div.sk-toggleable__content.fitted pre {\n",
       "  /* unfitted */\n",
       "  background-color: var(--sklearn-color-fitted-level-0);\n",
       "}\n",
       "\n",
       "#sk-container-id-2 input.sk-toggleable__control:checked~div.sk-toggleable__content {\n",
       "  /* Expand drop-down */\n",
       "  max-height: 200px;\n",
       "  max-width: 100%;\n",
       "  overflow: auto;\n",
       "}\n",
       "\n",
       "#sk-container-id-2 input.sk-toggleable__control:checked~label.sk-toggleable__label-arrow:before {\n",
       "  content: \"▾\";\n",
       "}\n",
       "\n",
       "/* Pipeline/ColumnTransformer-specific style */\n",
       "\n",
       "#sk-container-id-2 div.sk-label input.sk-toggleable__control:checked~label.sk-toggleable__label {\n",
       "  color: var(--sklearn-color-text);\n",
       "  background-color: var(--sklearn-color-unfitted-level-2);\n",
       "}\n",
       "\n",
       "#sk-container-id-2 div.sk-label.fitted input.sk-toggleable__control:checked~label.sk-toggleable__label {\n",
       "  background-color: var(--sklearn-color-fitted-level-2);\n",
       "}\n",
       "\n",
       "/* Estimator-specific style */\n",
       "\n",
       "/* Colorize estimator box */\n",
       "#sk-container-id-2 div.sk-estimator input.sk-toggleable__control:checked~label.sk-toggleable__label {\n",
       "  /* unfitted */\n",
       "  background-color: var(--sklearn-color-unfitted-level-2);\n",
       "}\n",
       "\n",
       "#sk-container-id-2 div.sk-estimator.fitted input.sk-toggleable__control:checked~label.sk-toggleable__label {\n",
       "  /* fitted */\n",
       "  background-color: var(--sklearn-color-fitted-level-2);\n",
       "}\n",
       "\n",
       "#sk-container-id-2 div.sk-label label.sk-toggleable__label,\n",
       "#sk-container-id-2 div.sk-label label {\n",
       "  /* The background is the default theme color */\n",
       "  color: var(--sklearn-color-text-on-default-background);\n",
       "}\n",
       "\n",
       "/* On hover, darken the color of the background */\n",
       "#sk-container-id-2 div.sk-label:hover label.sk-toggleable__label {\n",
       "  color: var(--sklearn-color-text);\n",
       "  background-color: var(--sklearn-color-unfitted-level-2);\n",
       "}\n",
       "\n",
       "/* Label box, darken color on hover, fitted */\n",
       "#sk-container-id-2 div.sk-label.fitted:hover label.sk-toggleable__label.fitted {\n",
       "  color: var(--sklearn-color-text);\n",
       "  background-color: var(--sklearn-color-fitted-level-2);\n",
       "}\n",
       "\n",
       "/* Estimator label */\n",
       "\n",
       "#sk-container-id-2 div.sk-label label {\n",
       "  font-family: monospace;\n",
       "  font-weight: bold;\n",
       "  display: inline-block;\n",
       "  line-height: 1.2em;\n",
       "}\n",
       "\n",
       "#sk-container-id-2 div.sk-label-container {\n",
       "  text-align: center;\n",
       "}\n",
       "\n",
       "/* Estimator-specific */\n",
       "#sk-container-id-2 div.sk-estimator {\n",
       "  font-family: monospace;\n",
       "  border: 1px dotted var(--sklearn-color-border-box);\n",
       "  border-radius: 0.25em;\n",
       "  box-sizing: border-box;\n",
       "  margin-bottom: 0.5em;\n",
       "  /* unfitted */\n",
       "  background-color: var(--sklearn-color-unfitted-level-0);\n",
       "}\n",
       "\n",
       "#sk-container-id-2 div.sk-estimator.fitted {\n",
       "  /* fitted */\n",
       "  background-color: var(--sklearn-color-fitted-level-0);\n",
       "}\n",
       "\n",
       "/* on hover */\n",
       "#sk-container-id-2 div.sk-estimator:hover {\n",
       "  /* unfitted */\n",
       "  background-color: var(--sklearn-color-unfitted-level-2);\n",
       "}\n",
       "\n",
       "#sk-container-id-2 div.sk-estimator.fitted:hover {\n",
       "  /* fitted */\n",
       "  background-color: var(--sklearn-color-fitted-level-2);\n",
       "}\n",
       "\n",
       "/* Specification for estimator info (e.g. \"i\" and \"?\") */\n",
       "\n",
       "/* Common style for \"i\" and \"?\" */\n",
       "\n",
       ".sk-estimator-doc-link,\n",
       "a:link.sk-estimator-doc-link,\n",
       "a:visited.sk-estimator-doc-link {\n",
       "  float: right;\n",
       "  font-size: smaller;\n",
       "  line-height: 1em;\n",
       "  font-family: monospace;\n",
       "  background-color: var(--sklearn-color-background);\n",
       "  border-radius: 1em;\n",
       "  height: 1em;\n",
       "  width: 1em;\n",
       "  text-decoration: none !important;\n",
       "  margin-left: 1ex;\n",
       "  /* unfitted */\n",
       "  border: var(--sklearn-color-unfitted-level-1) 1pt solid;\n",
       "  color: var(--sklearn-color-unfitted-level-1);\n",
       "}\n",
       "\n",
       ".sk-estimator-doc-link.fitted,\n",
       "a:link.sk-estimator-doc-link.fitted,\n",
       "a:visited.sk-estimator-doc-link.fitted {\n",
       "  /* fitted */\n",
       "  border: var(--sklearn-color-fitted-level-1) 1pt solid;\n",
       "  color: var(--sklearn-color-fitted-level-1);\n",
       "}\n",
       "\n",
       "/* On hover */\n",
       "div.sk-estimator:hover .sk-estimator-doc-link:hover,\n",
       ".sk-estimator-doc-link:hover,\n",
       "div.sk-label-container:hover .sk-estimator-doc-link:hover,\n",
       ".sk-estimator-doc-link:hover {\n",
       "  /* unfitted */\n",
       "  background-color: var(--sklearn-color-unfitted-level-3);\n",
       "  color: var(--sklearn-color-background);\n",
       "  text-decoration: none;\n",
       "}\n",
       "\n",
       "div.sk-estimator.fitted:hover .sk-estimator-doc-link.fitted:hover,\n",
       ".sk-estimator-doc-link.fitted:hover,\n",
       "div.sk-label-container:hover .sk-estimator-doc-link.fitted:hover,\n",
       ".sk-estimator-doc-link.fitted:hover {\n",
       "  /* fitted */\n",
       "  background-color: var(--sklearn-color-fitted-level-3);\n",
       "  color: var(--sklearn-color-background);\n",
       "  text-decoration: none;\n",
       "}\n",
       "\n",
       "/* Span, style for the box shown on hovering the info icon */\n",
       ".sk-estimator-doc-link span {\n",
       "  display: none;\n",
       "  z-index: 9999;\n",
       "  position: relative;\n",
       "  font-weight: normal;\n",
       "  right: .2ex;\n",
       "  padding: .5ex;\n",
       "  margin: .5ex;\n",
       "  width: min-content;\n",
       "  min-width: 20ex;\n",
       "  max-width: 50ex;\n",
       "  color: var(--sklearn-color-text);\n",
       "  box-shadow: 2pt 2pt 4pt #999;\n",
       "  /* unfitted */\n",
       "  background: var(--sklearn-color-unfitted-level-0);\n",
       "  border: .5pt solid var(--sklearn-color-unfitted-level-3);\n",
       "}\n",
       "\n",
       ".sk-estimator-doc-link.fitted span {\n",
       "  /* fitted */\n",
       "  background: var(--sklearn-color-fitted-level-0);\n",
       "  border: var(--sklearn-color-fitted-level-3);\n",
       "}\n",
       "\n",
       ".sk-estimator-doc-link:hover span {\n",
       "  display: block;\n",
       "}\n",
       "\n",
       "/* \"?\"-specific style due to the `<a>` HTML tag */\n",
       "\n",
       "#sk-container-id-2 a.estimator_doc_link {\n",
       "  float: right;\n",
       "  font-size: 1rem;\n",
       "  line-height: 1em;\n",
       "  font-family: monospace;\n",
       "  background-color: var(--sklearn-color-background);\n",
       "  border-radius: 1rem;\n",
       "  height: 1rem;\n",
       "  width: 1rem;\n",
       "  text-decoration: none;\n",
       "  /* unfitted */\n",
       "  color: var(--sklearn-color-unfitted-level-1);\n",
       "  border: var(--sklearn-color-unfitted-level-1) 1pt solid;\n",
       "}\n",
       "\n",
       "#sk-container-id-2 a.estimator_doc_link.fitted {\n",
       "  /* fitted */\n",
       "  border: var(--sklearn-color-fitted-level-1) 1pt solid;\n",
       "  color: var(--sklearn-color-fitted-level-1);\n",
       "}\n",
       "\n",
       "/* On hover */\n",
       "#sk-container-id-2 a.estimator_doc_link:hover {\n",
       "  /* unfitted */\n",
       "  background-color: var(--sklearn-color-unfitted-level-3);\n",
       "  color: var(--sklearn-color-background);\n",
       "  text-decoration: none;\n",
       "}\n",
       "\n",
       "#sk-container-id-2 a.estimator_doc_link.fitted:hover {\n",
       "  /* fitted */\n",
       "  background-color: var(--sklearn-color-fitted-level-3);\n",
       "}\n",
       "</style><div id=\"sk-container-id-2\" class=\"sk-top-container\"><div class=\"sk-text-repr-fallback\"><pre>TfidfVectorizer(lowercase=False, max_df=0.95, min_df=0.0, ngram_range=(1, 2))</pre><b>In a Jupyter environment, please rerun this cell to show the HTML representation or trust the notebook. <br />On GitHub, the HTML representation is unable to render, please try loading this page with nbviewer.org.</b></div><div class=\"sk-container\" hidden><div class=\"sk-item\"><div class=\"sk-estimator fitted sk-toggleable\"><input class=\"sk-toggleable__control sk-hidden--visually\" id=\"sk-estimator-id-4\" type=\"checkbox\" checked><label for=\"sk-estimator-id-4\" class=\"sk-toggleable__label fitted sk-toggleable__label-arrow fitted\">&nbsp;&nbsp;TfidfVectorizer<a class=\"sk-estimator-doc-link fitted\" rel=\"noreferrer\" target=\"_blank\" href=\"https://scikit-learn.org/1.4/modules/generated/sklearn.feature_extraction.text.TfidfVectorizer.html\">?<span>Documentation for TfidfVectorizer</span></a><span class=\"sk-estimator-doc-link fitted\">i<span>Fitted</span></span></label><div class=\"sk-toggleable__content fitted\"><pre>TfidfVectorizer(lowercase=False, max_df=0.95, min_df=0.0, ngram_range=(1, 2))</pre></div> </div></div></div></div>"
      ],
      "text/plain": [
       "TfidfVectorizer(lowercase=False, max_df=0.95, min_df=0.0, ngram_range=(1, 2))"
      ]
     },
     "execution_count": 40,
     "metadata": {},
     "output_type": "execute_result"
    }
   ],
   "source": [
    "trial_model[0]"
   ]
  },
  {
   "cell_type": "code",
   "execution_count": 41,
   "id": "b3a378a0",
   "metadata": {},
   "outputs": [
    {
     "data": {
      "image/png": "[encoded data removed]",
      "text/plain": [
       "<Figure size 640x480 with 1 Axes>"
      ]
     },
     "metadata": {},
     "output_type": "display_data"
    }
   ],
   "source": [
    "# cvec_ex = CountVectorizer(stop_words='english')\n",
    "X_train_model = trial_model[0].fit_transform(X_train)\n",
    "X_train_model = pd.DataFrame(X_train_model.todense(),\n",
    "                          columns=trial_model[0].get_feature_names_out())"
   ]
  },
  {
   "cell_type": "code",
   "execution_count": 60,
   "id": "e2241893",
   "metadata": {},
   "outputs": [
    {
     "name": "stdout",
     "output_type": "stream",
     "text": [
      "(112179, 4)\n"
     ]
    }
   ],
   "source": [
    "df_tfidf = pd.DataFrame(data={\n",
    "    'token':trial_model[0].get_feature_names_out()\n",
    "    ,'0':list(trial_model.named_steps['lr'].coef_[0])\n",
    "    ,'1':list(trial_model.named_steps['lr'].coef_[1])\n",
    "    ,'2':list(trial_model.named_steps['lr'].coef_[2])\n",
    "})\n",
    "print(df_tfidf.shape)"
   ]
  },
  {
   "cell_type": "code",
   "execution_count": 62,
   "id": "bc782157",
   "metadata": {},
   "outputs": [
    {
     "data": {
      "text/html": [
       "<div>\n",
       "<style scoped>\n",
       "    .dataframe tbody tr th:only-of-type {\n",
       "        vertical-align: middle;\n",
       "    }\n",
       "\n",
       "    .dataframe tbody tr th {\n",
       "        vertical-align: top;\n",
       "    }\n",
       "\n",
       "    .dataframe thead th {\n",
       "        text-align: right;\n",
       "    }\n",
       "</style>\n",
       "<table border=\"1\" class=\"dataframe\">\n",
       "  <thead>\n",
       "    <tr style=\"text-align: right;\">\n",
       "      <th></th>\n",
       "      <th>token</th>\n",
       "      <th>0</th>\n",
       "      <th>1</th>\n",
       "      <th>2</th>\n",
       "    </tr>\n",
       "  </thead>\n",
       "  <tbody>\n",
       "    <tr>\n",
       "      <th>52660</th>\n",
       "      <td>kill</td>\n",
       "      <td>-3.853160</td>\n",
       "      <td>-2.193998</td>\n",
       "      <td>6.047158</td>\n",
       "    </tr>\n",
       "    <tr>\n",
       "      <th>64361</th>\n",
       "      <td>nigger</td>\n",
       "      <td>-3.548670</td>\n",
       "      <td>-0.853368</td>\n",
       "      <td>4.402038</td>\n",
       "    </tr>\n",
       "    <tr>\n",
       "      <th>35406</th>\n",
       "      <td>fuck</td>\n",
       "      <td>-5.217799</td>\n",
       "      <td>0.895805</td>\n",
       "      <td>4.321995</td>\n",
       "    </tr>\n",
       "    <tr>\n",
       "      <th>31387</th>\n",
       "      <td>faggot</td>\n",
       "      <td>-6.125869</td>\n",
       "      <td>1.978346</td>\n",
       "      <td>4.147522</td>\n",
       "    </tr>\n",
       "    <tr>\n",
       "      <th>76327</th>\n",
       "      <td>rape</td>\n",
       "      <td>-2.895911</td>\n",
       "      <td>-0.750569</td>\n",
       "      <td>3.646480</td>\n",
       "    </tr>\n",
       "    <tr>\n",
       "      <th>...</th>\n",
       "      <td>...</td>\n",
       "      <td>...</td>\n",
       "      <td>...</td>\n",
       "      <td>...</td>\n",
       "    </tr>\n",
       "    <tr>\n",
       "      <th>58588</th>\n",
       "      <td>mayb</td>\n",
       "      <td>1.012326</td>\n",
       "      <td>0.699369</td>\n",
       "      <td>-1.711695</td>\n",
       "    </tr>\n",
       "    <tr>\n",
       "      <th>14068</th>\n",
       "      <td>black</td>\n",
       "      <td>0.582412</td>\n",
       "      <td>1.361883</td>\n",
       "      <td>-1.944295</td>\n",
       "    </tr>\n",
       "    <tr>\n",
       "      <th>101733</th>\n",
       "      <td>url</td>\n",
       "      <td>2.810025</td>\n",
       "      <td>-0.661975</td>\n",
       "      <td>-2.148050</td>\n",
       "    </tr>\n",
       "    <tr>\n",
       "      <th>88151</th>\n",
       "      <td>stupid bitch</td>\n",
       "      <td>0.689643</td>\n",
       "      <td>1.682268</td>\n",
       "      <td>-2.371911</td>\n",
       "    </tr>\n",
       "    <tr>\n",
       "      <th>108147</th>\n",
       "      <td>women</td>\n",
       "      <td>2.002296</td>\n",
       "      <td>0.577244</td>\n",
       "      <td>-2.579540</td>\n",
       "    </tr>\n",
       "  </tbody>\n",
       "</table>\n",
       "<p>112179 rows × 4 columns</p>\n",
       "</div>"
      ],
      "text/plain": [
       "               token         0         1         2\n",
       "52660           kill -3.853160 -2.193998  6.047158\n",
       "64361         nigger -3.548670 -0.853368  4.402038\n",
       "35406           fuck -5.217799  0.895805  4.321995\n",
       "31387         faggot -6.125869  1.978346  4.147522\n",
       "76327           rape -2.895911 -0.750569  3.646480\n",
       "...              ...       ...       ...       ...\n",
       "58588           mayb  1.012326  0.699369 -1.711695\n",
       "14068          black  0.582412  1.361883 -1.944295\n",
       "101733           url  2.810025 -0.661975 -2.148050\n",
       "88151   stupid bitch  0.689643  1.682268 -2.371911\n",
       "108147         women  2.002296  0.577244 -2.579540\n",
       "\n",
       "[112179 rows x 4 columns]"
      ]
     },
     "execution_count": 62,
     "metadata": {},
     "output_type": "execute_result"
    }
   ],
   "source": [
    "df_tfidf.sort_values('2', ascending=False)"
   ]
  },
  {
   "cell_type": "code",
   "execution_count": 69,
   "id": "d79e5c58",
   "metadata": {},
   "outputs": [
    {
     "data": {
      "image/png": "[encoded data removed]",
      "text/plain": [
       "<Figure size 640x480 with 1 Axes>"
      ]
     },
     "metadata": {},
     "output_type": "display_data"
    }
   ],
   "source": [
    "terms = 30\n",
    "focus_tfidf = df_tfidf.sort_values('2', ascending=True).tail(terms)\n",
    "\n",
    "plt.barh(focus_tfidf['token'], focus_tfidf['2']);"
   ]
  },
  {
   "cell_type": "code",
   "execution_count": null,
   "id": "d241d128",
   "metadata": {},
   "outputs": [],
   "source": [
    "df_tfidf[df_tfidf['token']=='you'] #Hmm, perhaps making direct threats"
   ]
  },
  {
   "cell_type": "code",
   "execution_count": 83,
   "id": "a62b0579",
   "metadata": {},
   "outputs": [
    {
     "data": {
      "text/plain": [
       "['blue', 'blue', 'blue', 'gold', 'blue']"
      ]
     },
     "execution_count": 83,
     "metadata": {},
     "output_type": "execute_result"
    }
   ],
   "source": [
    "color_label = []\n",
    "for i in range(terms):\n",
    "    color_label.append('blue')\n",
    "questionable = [4,7,11,14,16,18,19,21,24]\n",
    "for i in questionable:\n",
    "    color_label[i-1]='gold'\n",
    "color_label[:5]"
   ]
  },
  {
   "cell_type": "code",
   "execution_count": 84,
   "id": "b28d1524",
   "metadata": {},
   "outputs": [
    {
     "data": {
      "image/png": "[encoded data removed]",
      "text/plain": [
       "<Figure size 640x480 with 1 Axes>"
      ]
     },
     "metadata": {},
     "output_type": "display_data"
    }
   ],
   "source": [
    "plt.barh(focus_tfidf['token'], focus_tfidf['2'], color=color_label);"
   ]
  },
  {
   "cell_type": "code",
   "execution_count": null,
   "id": "4337c699",
   "metadata": {},
   "outputs": [],
   "source": [
    "#Spoiler alert: Ultimately this one is the final model (and best... see at least SVMs). So, we'll go ahead and save it.\n",
    "\n",
    "# with open('model_base.pkl', 'wb') as f:#wb ie write bytes\n",
    "#     pickle.dump(trial_model, f)"
   ]
  },
  {
   "cell_type": "markdown",
   "id": "d0d97814",
   "metadata": {},
   "source": [
    "Some other code I used for a bit of EDA of sorts."
   ]
  },
  {
   "cell_type": "code",
   "execution_count": null,
   "id": "d209b5e3",
   "metadata": {},
   "outputs": [],
   "source": [
    "# trial_model.named_steps['lr'].coef_[0]"
   ]
  },
  {
   "cell_type": "code",
   "execution_count": null,
   "id": "46e951d3",
   "metadata": {},
   "outputs": [],
   "source": [
    "# trial_model.named_steps['lr'].coef_[2]"
   ]
  },
  {
   "cell_type": "code",
   "execution_count": null,
   "id": "d7f168ba",
   "metadata": {},
   "outputs": [],
   "source": [
    "# len(trial_model.named_steps['lr'].coef_[2]) == len(trial_model.named_steps['tvec'].get_feature_names_out())"
   ]
  },
  {
   "cell_type": "code",
   "execution_count": null,
   "id": "f53b288b",
   "metadata": {},
   "outputs": [],
   "source": [
    "# trial_model.named_steps['tvec'].get_feature_names_out()"
   ]
  },
  {
   "cell_type": "code",
   "execution_count": null,
   "id": "481a584f",
   "metadata": {},
   "outputs": [],
   "source": [
    "#Hmm, I'm honstly pretty pleased with those... Ie obviously, the higher the better. However, we have a lot of issues:\n",
    "#1 is that often neutral or defensive language is unclear/smudges between the more extreme categories.\n",
    "#2 Incitement aside, speach is not a crime. So, a one time offense woudln't likely call for confrontation. However,\n",
    "#depending upon the severity[ie really really bad....] AND most importantly frequently...\n",
    "\n",
    "#Let's examine a bit more. Maybe later we'll work on graphs... However, I think we'll keep this base approach.\n",
    "#Ie weights seem to be the way to go and just make sure to check like we've been ding that we don't keep on adding more features\n",
    "#and lose the 2 accuracy.\n",
    "\n",
    "#I'll make a graph later, but for now let's look at the relative probabilities. Ie the plan is to go with whatever model,\n",
    "#then have a variable of how many messages were sent like this? Ie let us confirm a few things:\n",
    "#1 Anyhing misclassified is NOT 'decently/significantly' misclassifid.\n",
    "    #or just hard things like a positive/defensive post that is vulgar...\n",
    "#2 That anything classified correctly is also 'decently/significantly' such."
   ]
  },
  {
   "cell_type": "code",
   "execution_count": null,
   "id": "b8e54d78",
   "metadata": {},
   "outputs": [],
   "source": [
    "hyper_pred_comparer"
   ]
  },
  {
   "cell_type": "markdown",
   "id": "b48ba425",
   "metadata": {},
   "source": [
    "## A second wind - continuing with modeling\n",
    "\n",
    "We'll keep the current data size, train test split, and weights. Now that we finally have a proper metric we're tuning for\n",
    "we got this.\n",
    "\n",
    "Note that I played around quite a bit with test size and noticed such great changes as it changed. Ie we were hovering\n",
    "at around .52 'originally' when test size was 10.5k; .63 with the current 3845; a shocking .34ish with 2735. So, this definitely would seem to be a hyperparameer to tune, being based upon the relative resample distribution, however I am satisfied with the current results. As, accordingly to everybody - this is quite a difficult issue to do. And, in all honesty, a model'sperformance isn't so critical when it's going to have multiple messages to compare each other with AND finally have a human visually inspect the messages...\n",
    "    Reminder that the above custom_recall accuracies were based upon Tiffany with Logreg.\n",
    "\n",
    "I think I had another proclaimation but whatever. Let us continue and finally build the models. Oh, perhaps it was the acceptance that likely we will end up using all the features. Perhaps that'll change with forests and the like, but I suspect that trend will continue by cvec x logreg at least."
   ]
  },
  {
   "cell_type": "code",
   "execution_count": null,
   "id": "f96354eb",
   "metadata": {},
   "outputs": [],
   "source": [
    "pipe = Pipeline([\n",
    "    ('cvec', CountVectorizer(lowercase=False))\n",
    "    ,('lr', LogisticRegression(max_iter=2500, multi_class='multinomial', class_weight=current_weights))\n",
    "])\n",
    "\n",
    "pipe_params = {'cvec__min_df' : [.00]\n",
    "               ,'cvec__max_df' : [.95]\n",
    "               ,'cvec__ngram_range' : [(1, 1),(1,2),(1,3)]\n",
    "               ,'cvec__max_features' : [2000, 4000, 8000, None]\n",
    "               ,'cvec__stop_words' : [None, 'english']\n",
    "               }\n",
    "scorer = make_scorer(custom_recall, weight_list=cw_values) #Note the 1: as we're now ignoring 0 for the scoring\n",
    "gs = GridSearchCV(pipe\n",
    "                  ,param_grid=pipe_params\n",
    "                  ,cv=5\n",
    "                  ,scoring=scorer\n",
    "                 )\n",
    "\n",
    "gs.fit(X_train, y_train)\n",
    "\n",
    "print(gs.score(X_train, y_train), gs.score(X_test, y_test))\n",
    "print(gs.best_score_)\n",
    "print(gs.best_params_)"
   ]
  },
  {
   "cell_type": "code",
   "execution_count": null,
   "id": "cac5d9a8",
   "metadata": {},
   "outputs": [],
   "source": [
    "trial_model = gs.best_estimator_\n",
    "trial_model.fit(X_train,y_train)\n",
    "print(trial_model.score(X_train, y_train), trial_model.score(X_test, y_test))\n",
    "\n",
    "preds = trial_model.predict(X_test)\n",
    "preds_prob = trial_model.predict_proba(X_test)\n",
    "hyper_pred_comparer = pd.DataFrame({\n",
    "    'cleaned_text':X_test\n",
    "    ,'actual':y_test\n",
    "    ,'pred':preds\n",
    "    ,'p_0':preds_prob[:,0]\n",
    "    ,'p_1':preds_prob[:,1]\n",
    "    ,'p_2':preds_prob[:,2]\n",
    "})\n",
    "\n",
    "ConfusionMatrixDisplay.from_estimator(trial_model,X_test,y_test, cmap='Greens');"
   ]
  },
  {
   "cell_type": "code",
   "execution_count": null,
   "id": "26f1d38d",
   "metadata": {},
   "outputs": [],
   "source": [
    "class_twos = confusion_matrix(y_test, preds)[2]\n",
    "class_ones = confusion_matrix(y_test, preds)[1]\n",
    "(cw_values[1]*(class_ones[1]/sum(class_ones))+cw_values[2]*(class_twos[2]/sum(class_twos)))/sum(cw_values[1:])\n",
    "\n",
    "#Not up to the challenge, but still 'decent'. Note the '1,3'"
   ]
  },
  {
   "cell_type": "markdown",
   "id": "081fd4bd",
   "metadata": {},
   "source": [
    "For the pevious cvec x logreg, as well as the many to com, they in short came disapointingly short of accurately predicting the matters. Perhaps I need to play with more hyperparameters though before I abandon thm.\n",
    "\n",
    "However,please bear in mind - unlike logreg the following don't have a class_weight parameter. So, as we noticed above, how much of a part that plays IN ADDITION to the theortical encouragement of our pipe to go for the customer. "
   ]
  },
  {
   "cell_type": "code",
   "execution_count": null,
   "id": "d9ddba63",
   "metadata": {},
   "outputs": [],
   "source": [
    "pipe = Pipeline([\n",
    "    ('cvec', CountVectorizer(lowercase=False))\n",
    "    ,('to_dense', FunctionTransformer(lambda x: x.toarray(), accept_sparse=True))\n",
    "    ,('mnb', MultinomialNB())\n",
    "])\n",
    "pipe_params = {'cvec__min_df' : [.0]\n",
    "               ,'cvec__max_df' : [.95]\n",
    "               ,'cvec__ngram_range' : [(1,3)]\n",
    "               ,'cvec__max_features' : [14850, 14875, 14900]\n",
    "               ,'cvec__stop_words' : ['english']\n",
    "               ,'mnb__alpha': [1.0]\n",
    "              }\n",
    "scorer = make_scorer(custom_recall, weight_list=cw_values[1:]) #Note the 1: as we're now ignoring 0 for the scoring\n",
    "gs = GridSearchCV(pipe\n",
    "                  ,param_grid=pipe_params\n",
    "                  ,cv=5\n",
    "                  ,scoring=scorer\n",
    "                 )\n",
    "\n",
    "gs.fit(X_train, y_train)\n",
    "\n",
    "print(gs.score(X_train, y_train), gs.score(X_test, y_test))\n",
    "print(gs.best_score_)\n",
    "print(gs.best_params_)"
   ]
  },
  {
   "cell_type": "code",
   "execution_count": null,
   "id": "cdb8c727",
   "metadata": {},
   "outputs": [],
   "source": [
    "trial_model = gs.best_estimator_\n",
    "trial_model.fit(X_train,y_train)\n",
    "print(trial_model.score(X_train, y_train), trial_model.score(X_test, y_test))\n",
    "print(trial_model.get_params)\n",
    "\n",
    "preds = trial_model.predict(X_test)\n",
    "preds_prob = trial_model.predict_proba(X_test)\n",
    "hyper_pred_comparer = pd.DataFrame({\n",
    "    'cleaned_text':X_test\n",
    "    ,'actual':y_test\n",
    "    ,'pred':preds\n",
    "    ,'p_0':preds_prob[:,0]\n",
    "    ,'p_1':preds_prob[:,1]\n",
    "    ,'p_2':preds_prob[:,2]\n",
    "})\n",
    "\n",
    "ConfusionMatrixDisplay.from_estimator(trial_model,X_test,y_test, cmap='Greens');"
   ]
  },
  {
   "cell_type": "code",
   "execution_count": null,
   "id": "49c1228c",
   "metadata": {},
   "outputs": [],
   "source": [
    "class_twos = confusion_matrix(y_test, preds)[2]\n",
    "class_ones = confusion_matrix(y_test, preds)[1]\n",
    "(cw_values[1]*(class_ones[1]/sum(class_ones))+cw_values[2]*(class_twos[2]/sum(class_twos)))/sum(cw_values[1:])\n",
    "#Hmm, yeah that's not good... decent on 1s though. Notice i the documentations that the "
   ]
  },
  {
   "cell_type": "code",
   "execution_count": null,
   "id": "533d0d19",
   "metadata": {},
   "outputs": [],
   "source": [
    "pipe = Pipeline([\n",
    "    ('tvec', TfidfVectorizer(lowercase=False))\n",
    "    ,('to_dense', FunctionTransformer(lambda x: x.toarray(), accept_sparse=True))\n",
    "    ,('mnb', MultinomialNB())\n",
    "])\n",
    "pipe_params = {'tvec__min_df' : [.0]\n",
    "               ,'tvec__max_df' : [.95]\n",
    "               ,'tvec__ngram_range' : [(1,3), (2,3),(1,4)]\n",
    "               ,'tvec__max_features' : [18000, 18050, 17950]\n",
    "               ,'tvec__stop_words' : ['english']\n",
    "               ,'mnb__alpha': [.98]\n",
    "              }\n",
    "scorer = make_scorer(custom_recall, weight_list=cw_values[1:]) #Note the 1: as we're now ignoring 0 for the scoring\n",
    "gs = GridSearchCV(pipe\n",
    "                  ,param_grid=pipe_params\n",
    "                  ,cv=5\n",
    "                  ,scoring=scorer\n",
    "                 )\n",
    "\n",
    "gs.fit(X_train, y_train)\n",
    "\n",
    "print(gs.score(X_train, y_train), gs.score(X_test, y_test))\n",
    "print(gs.best_score_)\n",
    "print(gs.best_params_)"
   ]
  },
  {
   "cell_type": "code",
   "execution_count": null,
   "id": "f3593ce5",
   "metadata": {},
   "outputs": [],
   "source": [
    "trial_model = gs.best_estimator_\n",
    "trial_model.fit(X_train,y_train)\n",
    "print(trial_model.score(X_train, y_train), trial_model.score(X_test, y_test))\n",
    "print(trial_model.get_params)\n",
    "\n",
    "preds = trial_model.predict(X_test)\n",
    "preds_prob = trial_model.predict_proba(X_test)\n",
    "hyper_pred_comparer = pd.DataFrame({\n",
    "    'cleaned_text':X_test\n",
    "    ,'actual':y_test\n",
    "    ,'pred':preds\n",
    "    ,'p_0':preds_prob[:,0]\n",
    "    ,'p_1':preds_prob[:,1]\n",
    "    ,'p_2':preds_prob[:,2]\n",
    "})\n",
    "\n",
    "ConfusionMatrixDisplay.from_estimator(trial_model,X_test,y_test, cmap='Greens');"
   ]
  },
  {
   "cell_type": "code",
   "execution_count": null,
   "id": "ad846788",
   "metadata": {},
   "outputs": [],
   "source": [
    "class_twos = confusion_matrix(y_test, preds)[2]\n",
    "class_ones = confusion_matrix(y_test, preds)[1]\n",
    "(cw_values[1]*(class_ones[1]/sum(class_ones))+cw_values[2]*(class_twos[2]/sum(class_twos)))/sum(cw_values[1:])"
   ]
  },
  {
   "cell_type": "code",
   "execution_count": null,
   "id": "65aab70f",
   "metadata": {},
   "outputs": [],
   "source": [
    "#ote, this one ran pretty quickly.\n",
    "pipe = Pipeline([\n",
    "    ('cvec', CountVectorizer(lowercase=False))\n",
    "    ,('to_dense', FunctionTransformer(lambda x: x.toarray(), accept_sparse=True))\n",
    "    ,('gnb', GaussianNB())\n",
    "])\n",
    "pipe_params = {'cvec__min_df' : [.05]\n",
    "               ,'cvec__max_df' : [.95]\n",
    "               ,'cvec__ngram_range' : [(1,2)]\n",
    "               ,'cvec__max_features' : [2000, 1975, 2025]\n",
    "               ,'cvec__stop_words' : [None]\n",
    "              }\n",
    "scorer = make_scorer(custom_recall, weight_list=cw_values[1:]) #Note the 1: as we're now ignoring 0 for the scoring\n",
    "gs = GridSearchCV(pipe\n",
    "                  ,param_grid=pipe_params\n",
    "                  ,cv=5\n",
    "                  ,scoring=scorer\n",
    "                 )\n",
    "\n",
    "gs.fit(X_train, y_train)\n",
    "\n",
    "print(gs.score(X_train, y_train), gs.score(X_test, y_test))\n",
    "print(gs.best_score_)\n",
    "print(gs.best_params_)"
   ]
  },
  {
   "cell_type": "code",
   "execution_count": null,
   "id": "ec57f967",
   "metadata": {},
   "outputs": [],
   "source": [
    "trial_model = gs.best_estimator_\n",
    "trial_model.fit(X_train,y_train)\n",
    "print(trial_model.score(X_train, y_train), trial_model.score(X_test, y_test))\n",
    "print(trial_model.get_params)\n",
    "\n",
    "preds = trial_model.predict(X_test)\n",
    "preds_prob = trial_model.predict_proba(X_test)\n",
    "hyper_pred_comparer = pd.DataFrame({\n",
    "    'cleaned_text':X_test\n",
    "    ,'actual':y_test\n",
    "    ,'pred':preds\n",
    "    ,'p_0':preds_prob[:,0]\n",
    "    ,'p_1':preds_prob[:,1]\n",
    "    ,'p_2':preds_prob[:,2]\n",
    "})\n",
    "\n",
    "ConfusionMatrixDisplay.from_estimator(trial_model,X_test,y_test, cmap='Greens');"
   ]
  },
  {
   "cell_type": "code",
   "execution_count": null,
   "id": "ddc4d9e6",
   "metadata": {},
   "outputs": [],
   "source": [
    "class_twos = confusion_matrix(y_test, preds)[2]\n",
    "class_ones = confusion_matrix(y_test, preds)[1]\n",
    "(cw_values[1]*(class_ones[1]/sum(class_ones))+cw_values[2]*(class_twos[2]/sum(class_twos)))/sum(cw_values[1:])"
   ]
  },
  {
   "cell_type": "code",
   "execution_count": null,
   "id": "eca270aa",
   "metadata": {},
   "outputs": [],
   "source": [
    "pipe = Pipeline([\n",
    "    ('tvec', TfidfVectorizer(lowercase=False))\n",
    "    ,('to_dense', FunctionTransformer(lambda x: x.toarray(), accept_sparse=True))\n",
    "    ,('gnb', GaussianNB())\n",
    "])\n",
    "pipe_params = {'tvec__min_df' : [.0]\n",
    "               ,'tvec__max_df' : [.95]\n",
    "               ,'tvec__ngram_range' : [(1,2)]\n",
    "               ,'tvec__max_features' : [14825, 14925, 14875]\n",
    "               ,'tvec__stop_words' : [None]\n",
    "              }\n",
    "scorer = make_scorer(custom_recall, weight_list=cw_values[1:]) #Note the 1: as we're now ignoring 0 for the scoring\n",
    "gs = GridSearchCV(pipe\n",
    "                  ,param_grid=pipe_params\n",
    "                  ,cv=5\n",
    "                  ,scoring=scorer\n",
    "                 )\n",
    "\n",
    "gs.fit(X_train, y_train)\n",
    "\n",
    "print(gs.score(X_train, y_train), gs.score(X_test, y_test))\n",
    "print(gs.best_score_)\n",
    "print(gs.best_params_)"
   ]
  },
  {
   "cell_type": "code",
   "execution_count": null,
   "id": "1633ccbb",
   "metadata": {},
   "outputs": [],
   "source": [
    "trial_model = gs.best_estimator_\n",
    "trial_model.fit(X_train,y_train)\n",
    "print(trial_model.score(X_train, y_train), trial_model.score(X_test, y_test))\n",
    "print(trial_model.get_params)\n",
    "\n",
    "preds = trial_model.predict(X_test)\n",
    "preds_prob = trial_model.predict_proba(X_test)\n",
    "hyper_pred_comparer = pd.DataFrame({\n",
    "    'cleaned_text':X_test\n",
    "    ,'actual':y_test\n",
    "    ,'pred':preds\n",
    "    ,'p_0':preds_prob[:,0]\n",
    "    ,'p_1':preds_prob[:,1]\n",
    "    ,'p_2':preds_prob[:,2]\n",
    "})\n",
    "\n",
    "ConfusionMatrixDisplay.from_estimator(trial_model,X_test,y_test, cmap='Greens');"
   ]
  },
  {
   "cell_type": "code",
   "execution_count": null,
   "id": "19d707d6",
   "metadata": {},
   "outputs": [],
   "source": [
    "class_twos = confusion_matrix(y_test, preds)[2]\n",
    "class_ones = confusion_matrix(y_test, preds)[1]\n",
    "(cw_values[1]*(class_ones[1]/sum(class_ones))+cw_values[2]*(class_twos[2]/sum(class_twos)))/sum(cw_values[1:])"
   ]
  },
  {
   "cell_type": "markdown",
   "id": "b5e152c6",
   "metadata": {},
   "source": [
    "A new day and a new model to try, albeit it is in the family of the others. Might as well try. Fun fact when I was schmoozing earlier today with Eric, \"More often than not, the logreg does as well if not better than the fancier models.\""
   ]
  },
  {
   "cell_type": "code",
   "execution_count": null,
   "id": "7f5748a8",
   "metadata": {},
   "outputs": [],
   "source": [
    "#There's honestly more tuning to do, but given that we're still in the 31% range...\n",
    "pipe = Pipeline([\n",
    "    ('cvec', CountVectorizer(lowercase=False))\n",
    "    ,('to_dense', FunctionTransformer(lambda x: x.toarray(), accept_sparse=True))\n",
    "    ,('conb', ComplementNB())\n",
    "])\n",
    "pipe_params = {'cvec__min_df' : [.0]\n",
    "               ,'cvec__max_df' : [.95]\n",
    "               ,'cvec__ngram_range' : [(1,3)]\n",
    "               ,'cvec__max_features' : [16000, 20000]\n",
    "               ,'cvec__stop_words' : ['english']\n",
    "               ,'conb__alpha': [.9, .85]\n",
    "              }\n",
    "scorer = make_scorer(custom_recall, weight_list=cw_values[1:]) #Note the 1: as we're now ignoring 0 for the scoring\n",
    "gs = GridSearchCV(pipe\n",
    "                  ,param_grid=pipe_params\n",
    "                  ,cv=5\n",
    "                  ,scoring=scorer\n",
    "                 )\n",
    "\n",
    "gs.fit(X_train, y_train)\n",
    "\n",
    "print(gs.score(X_train, y_train), gs.score(X_test, y_test))\n",
    "print(gs.best_score_)\n",
    "print(gs.best_params_)"
   ]
  },
  {
   "cell_type": "code",
   "execution_count": null,
   "id": "d22dcbe6",
   "metadata": {},
   "outputs": [],
   "source": [
    "trial_model = gs.best_estimator_\n",
    "trial_model.fit(X_train,y_train)\n",
    "print(trial_model.score(X_train, y_train), trial_model.score(X_test, y_test))\n",
    "print(trial_model.get_params)\n",
    "\n",
    "preds = trial_model.predict(X_test)\n",
    "preds_prob = trial_model.predict_proba(X_test)\n",
    "hyper_pred_comparer = pd.DataFrame({\n",
    "    'cleaned_text':X_test\n",
    "    ,'actual':y_test\n",
    "    ,'pred':preds\n",
    "    ,'p_0':preds_prob[:,0]\n",
    "    ,'p_1':preds_prob[:,1]\n",
    "    ,'p_2':preds_prob[:,2]\n",
    "})\n",
    "\n",
    "ConfusionMatrixDisplay.from_estimator(trial_model,X_test,y_test, cmap='Greens');"
   ]
  },
  {
   "cell_type": "code",
   "execution_count": null,
   "id": "72f56578",
   "metadata": {},
   "outputs": [],
   "source": [
    "class_twos = confusion_matrix(y_test, preds)[2]\n",
    "class_ones = confusion_matrix(y_test, preds)[1]\n",
    "(cw_values[1]*(class_ones[1]/sum(class_ones))+cw_values[2]*(class_twos[2]/sum(class_twos)))/sum(cw_values[1:])"
   ]
  },
  {
   "cell_type": "code",
   "execution_count": null,
   "id": "2c1c2686",
   "metadata": {},
   "outputs": [],
   "source": [
    "pipe = Pipeline([\n",
    "    ('tvec', TfidfVectorizer(lowercase=False))\n",
    "    ,('to_dense', FunctionTransformer(lambda x: x.toarray(), accept_sparse=True))\n",
    "    ,('cong', ComplementNB())\n",
    "])\n",
    "pipe_params = {'tvec__min_df' : [.0]\n",
    "               ,'tvec__max_df' : [.95]\n",
    "               ,'tvec__ngram_range' : [(1,3), (1,4)]\n",
    "               ,'tvec__max_features' : [16000, 20000, 12000]\n",
    "               ,'tvec__stop_words' : ['english']\n",
    "               ,'cong__alpha': [1.0]\n",
    "              }\n",
    "scorer = make_scorer(custom_recall, weight_list=cw_values[1:]) #Note the 1: as we're now ignoring 0 for the scoring\n",
    "gs = GridSearchCV(pipe\n",
    "                  ,param_grid=pipe_params\n",
    "                  ,cv=5\n",
    "                  ,scoring=scorer\n",
    "                 )\n",
    "\n",
    "gs.fit(X_train, y_train)\n",
    "\n",
    "print(gs.score(X_train, y_train), gs.score(X_test, y_test))\n",
    "print(gs.best_score_)\n",
    "print(gs.best_params_)"
   ]
  },
  {
   "cell_type": "code",
   "execution_count": null,
   "id": "35a7339f",
   "metadata": {},
   "outputs": [],
   "source": [
    "trial_model = gs.best_estimator_\n",
    "trial_model.fit(X_train,y_train)\n",
    "print(trial_model.score(X_train, y_train), trial_model.score(X_test, y_test))\n",
    "print(trial_model.get_params)\n",
    "\n",
    "preds = trial_model.predict(X_test)\n",
    "preds_prob = trial_model.predict_proba(X_test)\n",
    "hyper_pred_comparer = pd.DataFrame({\n",
    "    'cleaned_text':X_test\n",
    "    ,'actual':y_test\n",
    "    ,'pred':preds\n",
    "    ,'p_0':preds_prob[:,0]\n",
    "    ,'p_1':preds_prob[:,1]\n",
    "    ,'p_2':preds_prob[:,2]\n",
    "})\n",
    "\n",
    "ConfusionMatrixDisplay.from_estimator(trial_model,X_test,y_test, cmap='Greens');"
   ]
  },
  {
   "cell_type": "code",
   "execution_count": null,
   "id": "2765c412",
   "metadata": {},
   "outputs": [],
   "source": [
    "class_twos = confusion_matrix(y_test, preds)[2]\n",
    "class_ones = confusion_matrix(y_test, preds)[1]\n",
    "(cw_values[1]*(class_ones[1]/sum(class_ones))+cw_values[2]*(class_twos[2]/sum(class_twos)))/sum(cw_values[1:])"
   ]
  },
  {
   "cell_type": "markdown",
   "id": "e494eb92",
   "metadata": {},
   "source": [
    "Yeah, that last one is the worst thus far... More and more it seems that the weighting is critical. Fortunately, the Good Lord has spared us with SVC having a probability parameter. On principal I'll first try without it though."
   ]
  },
  {
   "cell_type": "code",
   "execution_count": null,
   "id": "e1dae707",
   "metadata": {},
   "outputs": [],
   "source": [
    "#NOTE that we need to turn probability to being true...\n",
    "\n",
    "pipe = Pipeline([\n",
    "    ('cvec', CountVectorizer(lowercase=False))\n",
    "    ,('to_dense', FunctionTransformer(lambda x: x.toarray(), accept_sparse=True))\n",
    "    ,('svc', SVC(probability=True, class_weight=current_weights))\n",
    "])\n",
    "pipe_params = {'cvec__min_df' : [.0]\n",
    "               ,'cvec__max_df' : [1.0]\n",
    "               ,'cvec__ngram_range' : [(1,2)]\n",
    "               ,'cvec__max_features' : [2000]\n",
    "               ,'cvec__stop_words' : ['english']\n",
    "               ,'svc__kernel': ['linear']\n",
    "               ,'svc__C': [.95]\n",
    "              }\n",
    "scorer = make_scorer(custom_recall, weight_list=cw_values[1:]) #Note the 1: as we're now ignoring 0 for the scoring\n",
    "gs = GridSearchCV(pipe\n",
    "                  ,param_grid=pipe_params\n",
    "                  ,cv=5\n",
    "                  ,scoring=scorer\n",
    "                  ,verbose=3\n",
    "                 )\n",
    "\n",
    "gs.fit(X_train, y_train)\n",
    "\n",
    "print(gs.score(X_train, y_train), gs.score(X_test, y_test))\n",
    "print(gs.best_score_)\n",
    "print(gs.best_params_)"
   ]
  },
  {
   "cell_type": "code",
   "execution_count": null,
   "id": "e7398275",
   "metadata": {},
   "outputs": [],
   "source": [
    "trial_model = gs.best_estimator_\n",
    "trial_model.fit(X_train,y_train)\n",
    "print(trial_model.score(X_train, y_train), trial_model.score(X_test, y_test))\n",
    "print(trial_model.get_params)\n",
    "\n",
    "preds = trial_model.predict(X_test)\n",
    "preds_prob = trial_model.predict_proba(X_test)\n",
    "hyper_pred_comparer = pd.DataFrame({\n",
    "    'cleaned_text':X_test\n",
    "    ,'actual':y_test\n",
    "    ,'pred':preds\n",
    "    ,'p_0':preds_prob[:,0]\n",
    "    ,'p_1':preds_prob[:,1]\n",
    "    ,'p_2':preds_prob[:,2]\n",
    "})\n",
    "\n",
    "ConfusionMatrixDisplay.from_estimator(trial_model,X_test,y_test, cmap='Greens');"
   ]
  },
  {
   "cell_type": "code",
   "execution_count": null,
   "id": "3fc41770",
   "metadata": {},
   "outputs": [],
   "source": [
    "class_twos = confusion_matrix(y_test, preds)[2]\n",
    "class_ones = confusion_matrix(y_test, preds)[1]\n",
    "(cw_values[1]*(class_ones[1]/sum(class_ones))+cw_values[2]*(class_twos[2]/sum(class_twos)))/sum(cw_values[1:])"
   ]
  },
  {
   "cell_type": "code",
   "execution_count": null,
   "id": "dd4e4b3f",
   "metadata": {},
   "outputs": [],
   "source": [
    "#A meager .48, however compared to other models... Plus, the fact that this was essentially untuned... However,t his is obviously\n",
    "#too cumbersome to implement, especially given that we won't make decisions from a sole tweet. However, definitely worth\n",
    "#future investigations. Oh, such a shame we do not have the luxury to explore it.\n",
    "\n",
    "#Now, let us at least do one attempt with Tiffany. Fortunately, we'll trim down some of the time, albeit with a loss in accuracy,\n",
    "#by just using 3 cvs. Although computations it's likly also not reasonabl with present conditions, 3/5/24, the idea of\n",
    "#seeing Tiffany wtih with SVec is too tempting to pass up. Recall how well she did earlier with LogReg (.63)!\n",
    "\n",
    "#So, let this arduous journey continue!"
   ]
  },
  {
   "cell_type": "code",
   "execution_count": null,
   "id": "abd53b60",
   "metadata": {},
   "outputs": [],
   "source": [
    "pipe = Pipeline([\n",
    "    ('tvec', TfidfVectorizer(lowercase=False))\n",
    "    ,('to_dense', FunctionTransformer(lambda x: x.toarray(), accept_sparse=True))\n",
    "    ,('svc', SVC(probability=True, class_weight=current_weights))\n",
    "])\n",
    "pipe_params = {'tvec__min_df' : [.0]\n",
    "               ,'tvec__max_df' : [1.0]\n",
    "               ,'tvec__ngram_range' : [(1,2)]\n",
    "               ,'tvec__max_features' : [6000]\n",
    "               ,'tvec__stop_words' : ['english']\n",
    "               ,'svc__kernel': ['linear']\n",
    "               ,'svc__C': [.95]\n",
    "              }\n",
    "scorer = make_scorer(custom_recall, weight_list=cw_values[1:]) #Note the 1: as we're now ignoring 0 for the scoring\n",
    "gs = GridSearchCV(pipe\n",
    "                  ,param_grid=pipe_params\n",
    "                  ,cv=3 #For the sake of actually trying to get at least some model...\n",
    "                  ,scoring=scorer\n",
    "                  ,verbose=3\n",
    "                 )\n",
    "\n",
    "gs.fit(X_train, y_train)\n",
    "\n",
    "print(gs.score(X_train, y_train), gs.score(X_test, y_test))\n",
    "print(gs.best_score_)\n",
    "print(gs.best_params_)"
   ]
  },
  {
   "cell_type": "code",
   "execution_count": null,
   "id": "557513dd",
   "metadata": {},
   "outputs": [],
   "source": [
    "trial_model = gs.best_estimator_\n",
    "trial_model.fit(X_train,y_train)\n",
    "print(trial_model.score(X_train, y_train), trial_model.score(X_test, y_test))\n",
    "print(trial_model.get_params)\n",
    "\n",
    "preds = trial_model.predict(X_test)\n",
    "preds_prob = trial_model.predict_proba(X_test)\n",
    "hyper_pred_comparer = pd.DataFrame({\n",
    "    'cleaned_text':X_test\n",
    "    ,'actual':y_test\n",
    "    ,'pred':preds\n",
    "    ,'p_0':preds_prob[:,0]\n",
    "    ,'p_1':preds_prob[:,1]\n",
    "    ,'p_2':preds_prob[:,2]\n",
    "})\n",
    "\n",
    "ConfusionMatrixDisplay.from_estimator(trial_model,X_test,y_test, cmap='Greens');"
   ]
  },
  {
   "cell_type": "code",
   "execution_count": null,
   "id": "86692be6",
   "metadata": {},
   "outputs": [],
   "source": [
    "class_twos = confusion_matrix(y_test, preds)[2]\n",
    "class_ones = confusion_matrix(y_test, preds)[1]\n",
    "(cw_values[1]*(class_ones[1]/sum(class_ones))+cw_values[2]*(class_twos[2]/sum(class_twos)))/sum(cw_values[1:])"
   ]
  },
  {
   "cell_type": "code",
   "execution_count": null,
   "id": "1fd97c74",
   "metadata": {},
   "outputs": [],
   "source": [
    "#This one totally has potential; eh wasn't that much higher than cvc. Regardless, feel the potential in them. I don't recall\n",
    "#the relative recallfor 6k features with Tiffany x LogReg, but I think it was close to this. Regardless, unfortunately, the reality\n",
    "#of our current computer computation makes this unfeasaible in the present."
   ]
  },
  {
   "cell_type": "markdown",
   "id": "8b6bfd9d",
   "metadata": {},
   "source": [
    "Eh, you never know... As, we already have a huge overfitting problem, in general and exasperated via the repeated data. However, I am forcing myself to do at least one tree based model, on principal of not having used them before in my work at GA."
   ]
  },
  {
   "cell_type": "markdown",
   "id": "f4e4b1a8",
   "metadata": {},
   "source": [
    "## Moving on\n",
    "\n",
    "So, unsurprisingly we'll be going with TIffany's LogReg. However, let's try to see if we can improve accuracy by a number of other features:"
   ]
  },
  {
   "cell_type": "code",
   "execution_count": null,
   "id": "649ab372",
   "metadata": {},
   "outputs": [],
   "source": [
    "df = pd.read_csv('../data/cleaned_02_ii.csv')\n",
    "print(df.shape)\n",
    "df.head()"
   ]
  },
  {
   "cell_type": "markdown",
   "id": "dde6d323",
   "metadata": {},
   "source": [
    "Besides what we laboured for re. text, we have:<br>\n",
    "Platform<br>\n",
    "Capital Sentance<br>\n",
    "WC Cleaned Text<br>\n",
    "\n",
    "Yeah, it's time for a new notebook. I'll go back aboveand pickle the model then."
   ]
  }
 ],
 "metadata": {
  "kernelspec": {
   "display_name": "Python 3 (ipykernel)",
   "language": "python",
   "name": "python3"
  },
  "language_info": {
   "codemirror_mode": {
    "name": "ipython",
    "version": 3
   },
   "file_extension": ".py",
   "mimetype": "text/x-python",
   "name": "python",
   "nbconvert_exporter": "python",
   "pygments_lexer": "ipython3",
   "version": "3.11.5"
  }
 },
 "nbformat": 4,
 "nbformat_minor": 5
}
