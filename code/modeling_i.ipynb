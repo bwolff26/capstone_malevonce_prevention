{
 "cells": [
  {
   "cell_type": "code",
   "execution_count": 1,
   "id": "020d6110",
   "metadata": {},
   "outputs": [],
   "source": [
    "import pandas as pd\n",
    "import matplotlib.pyplot as plt\n",
    "import numpy as np\n",
    "import scipy.sparse as ss"
   ]
  },
  {
   "cell_type": "code",
   "execution_count": 2,
   "id": "bcef7492",
   "metadata": {},
   "outputs": [],
   "source": [
    "from nltk.corpus import stopwords\n",
    "import regex as re\n",
    "\n",
    "from sklearn.pipeline import Pipeline\n",
    "from sklearn.model_selection import GridSearchCV\n",
    "from sklearn.model_selection import train_test_split\n",
    "from sklearn.preprocessing import FunctionTransformer\n",
    "\n",
    "from sklearn.feature_extraction.text import CountVectorizer\n",
    "from sklearn.feature_extraction.text import TfidfVectorizer\n",
    "\n",
    "from sklearn.linear_model import LogisticRegression\n",
    "#from sklearn.neighbors import KNeighborsClassifier\n",
    "from sklearn.naive_bayes import MultinomialNB, GaussianNB, ComplementNB\n",
    "from sklearn.svm import SVC\n",
    "#Forests\n",
    "\n",
    "import warnings\n",
    "warnings.simplefilter(action='ignore', category=FutureWarning);\n",
    "\n",
    "from sklearn.metrics import confusion_matrix, ConfusionMatrixDisplay"
   ]
  },
  {
   "cell_type": "code",
   "execution_count": 3,
   "id": "96bd8a95",
   "metadata": {},
   "outputs": [],
   "source": [
    "from imblearn.pipeline import make_pipeline\n",
    "from imblearn.over_sampling import RandomOverSampler\n",
    "from imblearn.over_sampling import SMOTE\n",
    "from sklearn.metrics import make_scorer\n",
    "from sklearn.metrics import recall_score"
   ]
  },
  {
   "cell_type": "code",
   "execution_count": 4,
   "id": "8a6a1d25",
   "metadata": {},
   "outputs": [],
   "source": [
    "from random import choices"
   ]
  },
  {
   "cell_type": "code",
   "execution_count": 5,
   "id": "534221c5",
   "metadata": {},
   "outputs": [
    {
     "name": "stdout",
     "output_type": "stream",
     "text": [
      "(39565, 63)\n"
     ]
    },
    {
     "data": {
      "text/html": [
       "<div>\n",
       "<style scoped>\n",
       "    .dataframe tbody tr th:only-of-type {\n",
       "        vertical-align: middle;\n",
       "    }\n",
       "\n",
       "    .dataframe tbody tr th {\n",
       "        vertical-align: top;\n",
       "    }\n",
       "\n",
       "    .dataframe thead th {\n",
       "        text-align: right;\n",
       "    }\n",
       "</style>\n",
       "<table border=\"1\" class=\"dataframe\">\n",
       "  <thead>\n",
       "    <tr style=\"text-align: right;\">\n",
       "      <th></th>\n",
       "      <th>Unnamed: 0.2</th>\n",
       "      <th>Unnamed: 0.1</th>\n",
       "      <th>Unnamed: 0</th>\n",
       "      <th>platform</th>\n",
       "      <th>text</th>\n",
       "      <th>hate_speech_score</th>\n",
       "      <th>target_race_asian</th>\n",
       "      <th>target_race_black</th>\n",
       "      <th>target_race_latinx</th>\n",
       "      <th>target_race_middle_eastern</th>\n",
       "      <th>...</th>\n",
       "      <th>target_disability_neurological</th>\n",
       "      <th>target_disability_visually_impaired</th>\n",
       "      <th>target_disability_hearing_impaired</th>\n",
       "      <th>target_disability_unspecific</th>\n",
       "      <th>target_disability_other</th>\n",
       "      <th>target_disability</th>\n",
       "      <th>hate_rank</th>\n",
       "      <th>capital_sentance</th>\n",
       "      <th>cleaned_text</th>\n",
       "      <th>wc_cleaned_text</th>\n",
       "    </tr>\n",
       "  </thead>\n",
       "  <tbody>\n",
       "    <tr>\n",
       "      <th>0</th>\n",
       "      <td>0</td>\n",
       "      <td>0</td>\n",
       "      <td>0</td>\n",
       "      <td>0</td>\n",
       "      <td>White people are trash.</td>\n",
       "      <td>0.46</td>\n",
       "      <td>0.0</td>\n",
       "      <td>0.0</td>\n",
       "      <td>0.0</td>\n",
       "      <td>0.0</td>\n",
       "      <td>...</td>\n",
       "      <td>0.0</td>\n",
       "      <td>0.0</td>\n",
       "      <td>0.0</td>\n",
       "      <td>0.0</td>\n",
       "      <td>0.0</td>\n",
       "      <td>0.0</td>\n",
       "      <td>0</td>\n",
       "      <td>0</td>\n",
       "      <td>white peopl are trash</td>\n",
       "      <td>4</td>\n",
       "    </tr>\n",
       "    <tr>\n",
       "      <th>1</th>\n",
       "      <td>1</td>\n",
       "      <td>1</td>\n",
       "      <td>1</td>\n",
       "      <td>0</td>\n",
       "      <td>You've caught the big gay, it's known to be ai...</td>\n",
       "      <td>0.03</td>\n",
       "      <td>0.0</td>\n",
       "      <td>0.0</td>\n",
       "      <td>0.0</td>\n",
       "      <td>0.0</td>\n",
       "      <td>...</td>\n",
       "      <td>0.0</td>\n",
       "      <td>0.0</td>\n",
       "      <td>0.0</td>\n",
       "      <td>0.0</td>\n",
       "      <td>0.0</td>\n",
       "      <td>0.0</td>\n",
       "      <td>0</td>\n",
       "      <td>0</td>\n",
       "      <td>you ve caught the big gay it s known to be air...</td>\n",
       "      <td>14</td>\n",
       "    </tr>\n",
       "    <tr>\n",
       "      <th>2</th>\n",
       "      <td>2</td>\n",
       "      <td>2</td>\n",
       "      <td>2</td>\n",
       "      <td>0</td>\n",
       "      <td>I'm not saying you said that, I'm just saying ...</td>\n",
       "      <td>-1.29</td>\n",
       "      <td>0.0</td>\n",
       "      <td>1.0</td>\n",
       "      <td>0.0</td>\n",
       "      <td>0.0</td>\n",
       "      <td>...</td>\n",
       "      <td>0.0</td>\n",
       "      <td>0.0</td>\n",
       "      <td>0.0</td>\n",
       "      <td>0.0</td>\n",
       "      <td>0.0</td>\n",
       "      <td>0.0</td>\n",
       "      <td>0</td>\n",
       "      <td>0</td>\n",
       "      <td>i m not say you said that i m just say that if...</td>\n",
       "      <td>75</td>\n",
       "    </tr>\n",
       "    <tr>\n",
       "      <th>3</th>\n",
       "      <td>3</td>\n",
       "      <td>3</td>\n",
       "      <td>3</td>\n",
       "      <td>0</td>\n",
       "      <td>Donald Trump. Yeet myself off a building onto ...</td>\n",
       "      <td>-0.24</td>\n",
       "      <td>0.0</td>\n",
       "      <td>0.0</td>\n",
       "      <td>0.0</td>\n",
       "      <td>0.0</td>\n",
       "      <td>...</td>\n",
       "      <td>0.0</td>\n",
       "      <td>0.0</td>\n",
       "      <td>0.0</td>\n",
       "      <td>0.0</td>\n",
       "      <td>0.0</td>\n",
       "      <td>0.0</td>\n",
       "      <td>0</td>\n",
       "      <td>0</td>\n",
       "      <td>donald trump yeet myself off a build onto a ga...</td>\n",
       "      <td>20</td>\n",
       "    </tr>\n",
       "    <tr>\n",
       "      <th>4</th>\n",
       "      <td>4</td>\n",
       "      <td>4</td>\n",
       "      <td>4</td>\n",
       "      <td>0</td>\n",
       "      <td>Fabrice Fabrice is ostensibly black or black/l...</td>\n",
       "      <td>-2.84</td>\n",
       "      <td>0.0</td>\n",
       "      <td>1.0</td>\n",
       "      <td>1.0</td>\n",
       "      <td>0.0</td>\n",
       "      <td>...</td>\n",
       "      <td>0.0</td>\n",
       "      <td>0.0</td>\n",
       "      <td>0.0</td>\n",
       "      <td>0.0</td>\n",
       "      <td>0.0</td>\n",
       "      <td>0.0</td>\n",
       "      <td>0</td>\n",
       "      <td>0</td>\n",
       "      <td>fabric fabric is ostens black or black latino ...</td>\n",
       "      <td>19</td>\n",
       "    </tr>\n",
       "  </tbody>\n",
       "</table>\n",
       "<p>5 rows × 63 columns</p>\n",
       "</div>"
      ],
      "text/plain": [
       "   Unnamed: 0.2  Unnamed: 0.1  Unnamed: 0  platform  \\\n",
       "0             0             0           0         0   \n",
       "1             1             1           1         0   \n",
       "2             2             2           2         0   \n",
       "3             3             3           3         0   \n",
       "4             4             4           4         0   \n",
       "\n",
       "                                                text  hate_speech_score  \\\n",
       "0                            White people are trash.               0.46   \n",
       "1  You've caught the big gay, it's known to be ai...               0.03   \n",
       "2  I'm not saying you said that, I'm just saying ...              -1.29   \n",
       "3  Donald Trump. Yeet myself off a building onto ...              -0.24   \n",
       "4  Fabrice Fabrice is ostensibly black or black/l...              -2.84   \n",
       "\n",
       "   target_race_asian  target_race_black  target_race_latinx  \\\n",
       "0                0.0                0.0                 0.0   \n",
       "1                0.0                0.0                 0.0   \n",
       "2                0.0                1.0                 0.0   \n",
       "3                0.0                0.0                 0.0   \n",
       "4                0.0                1.0                 1.0   \n",
       "\n",
       "   target_race_middle_eastern  ...  target_disability_neurological  \\\n",
       "0                         0.0  ...                             0.0   \n",
       "1                         0.0  ...                             0.0   \n",
       "2                         0.0  ...                             0.0   \n",
       "3                         0.0  ...                             0.0   \n",
       "4                         0.0  ...                             0.0   \n",
       "\n",
       "   target_disability_visually_impaired  target_disability_hearing_impaired  \\\n",
       "0                                  0.0                                 0.0   \n",
       "1                                  0.0                                 0.0   \n",
       "2                                  0.0                                 0.0   \n",
       "3                                  0.0                                 0.0   \n",
       "4                                  0.0                                 0.0   \n",
       "\n",
       "   target_disability_unspecific  target_disability_other  target_disability  \\\n",
       "0                           0.0                      0.0                0.0   \n",
       "1                           0.0                      0.0                0.0   \n",
       "2                           0.0                      0.0                0.0   \n",
       "3                           0.0                      0.0                0.0   \n",
       "4                           0.0                      0.0                0.0   \n",
       "\n",
       "   hate_rank  capital_sentance  \\\n",
       "0          0                 0   \n",
       "1          0                 0   \n",
       "2          0                 0   \n",
       "3          0                 0   \n",
       "4          0                 0   \n",
       "\n",
       "                                        cleaned_text  wc_cleaned_text  \n",
       "0                              white peopl are trash                4  \n",
       "1  you ve caught the big gay it s known to be air...               14  \n",
       "2  i m not say you said that i m just say that if...               75  \n",
       "3  donald trump yeet myself off a build onto a ga...               20  \n",
       "4  fabric fabric is ostens black or black latino ...               19  \n",
       "\n",
       "[5 rows x 63 columns]"
      ]
     },
     "execution_count": 5,
     "metadata": {},
     "output_type": "execute_result"
    }
   ],
   "source": [
    "df = pd.read_csv('../data/cleaned_02_ii.csv')\n",
    "print(df.shape)\n",
    "df.head()"
   ]
  },
  {
   "cell_type": "code",
   "execution_count": 6,
   "id": "871b9cb8",
   "metadata": {},
   "outputs": [
    {
     "data": {
      "text/plain": [
       "hate_rank\n",
       "0    0.738304\n",
       "1    0.208973\n",
       "2    0.052723\n",
       "Name: proportion, dtype: float64"
      ]
     },
     "execution_count": 6,
     "metadata": {},
     "output_type": "execute_result"
    }
   ],
   "source": [
    "# h wait, let me copy over the fllowing:\n",
    "# hate_speech_score - continuous hate speech measure, where higher = more hateful and lower = less hateful. \n",
    "# > 0.5 is approximately hate speech, < -1 is counter or supportive speech, and -1 to +0.5 is neutral or ambiguous.\n",
    "\n",
    "# ...Misread this - ambiguous also goes below...\n",
    "\n",
    "lower_limit, upper_limit = .5, 2\n",
    "df['hate_rank'] = [2 if i > upper_limit\n",
    "                  else 1 if i > lower_limit else 0\n",
    "                  for i in df['hate_speech_score']]\n",
    "df['hate_rank'].value_counts(normalize=True)"
   ]
  },
  {
   "cell_type": "markdown",
   "id": "37e15fe5",
   "metadata": {},
   "source": [
    "# Round I of modeling!\n",
    "\n",
    "Reminder again that our target is somewhat ambiguous, tweaks to be adjusted to the 'cleaned text' among other things before the anticipated 'fun' of adding in other factors such as platform and target."
   ]
  },
  {
   "cell_type": "code",
   "execution_count": 8,
   "id": "9c091129",
   "metadata": {},
   "outputs": [],
   "source": [
    "X = df['cleaned_text']\n",
    "y = df['hate_rank']\n",
    "\n",
    "X_train, X_test, y_train, y_test = train_test_split(X,\n",
    "                                                    y,\n",
    "                                                    test_size = 0.25, #Given the size we'll start with this, a bit larger than what I'd usually do\n",
    "                                                    random_state = 26, #I like this number\n",
    "                                                    stratify=y) #Particularly important in this case with 3 targets"
   ]
  },
  {
   "cell_type": "code",
   "execution_count": 22,
   "id": "b191bbe6",
   "metadata": {},
   "outputs": [
    {
     "data": {
      "image/png": "[encoded data removed]",
      "text/plain": [
       "<Figure size 640x480 with 1 Axes>"
      ]
     },
     "metadata": {},
     "output_type": "display_data"
    }
   ],
   "source": [
    "#For kicks, to get a bit of a taste of the upcoming data. \n",
    "cvec_ex = CountVectorizer(stop_words='english')\n",
    "X_train_cvec_ex = cvec_ex.fit_transform(X_train)\n",
    "X_train_ex = pd.DataFrame(X_train_cvec_ex.todense(),\n",
    "                          columns=cvec_ex.get_feature_names_out())\n",
    "\n",
    "X_train_ex.sum().sort_values().tail(30).plot(kind=\"barh\");"
   ]
  },
  {
   "cell_type": "markdown",
   "id": "5e039b36",
   "metadata": {},
   "source": [
    "Unsurprising, the 'f' word is high up there being the second mst common (only behind 'this'). Likely its presence, along with any other similar word, is more indicative of hate speech.\n",
    "\n",
    "Other interesting words (tokens) include: just, b****, a**, white, black, woman, countri, n****, gay, men, and girl. Of particular interst to me is 'just'. Albeit it is a stopword, however"
   ]
  },
  {
   "cell_type": "code",
   "execution_count": 16,
   "id": "0446e0c5",
   "metadata": {},
   "outputs": [
    {
     "data": {
      "text/plain": [
       "3083"
      ]
     },
     "execution_count": 16,
     "metadata": {},
     "output_type": "execute_result"
    }
   ],
   "source": [
    "# stopwords.words().index('just')"
   ]
  },
  {
   "cell_type": "code",
   "execution_count": 18,
   "id": "fc0d26ff",
   "metadata": {},
   "outputs": [
    {
     "data": {
      "text/plain": [
       "28445"
      ]
     },
     "execution_count": 18,
     "metadata": {},
     "output_type": "execute_result"
    }
   ],
   "source": [
    "X_train_ex.shape[1]#Ww, quite a lot of words..."
   ]
  },
  {
   "cell_type": "code",
   "execution_count": null,
   "id": "ce80738c",
   "metadata": {},
   "outputs": [],
   "source": [
    "# pipe = Pipeline([\n",
    "#     ('cvec', CountVectorizer(lowercase=False))\n",
    "#     ,('lr', LogisticRegression(max_iter=2500, multi_class='multinomial'))\n",
    "# ])\n",
    "\n",
    "# pipe_params = {'cvec__min_df' : [.05, .00]\n",
    "#                ,'cvec__max_df' : [.95, 1.00]\n",
    "#                ,'cvec__ngram_range' : [(1, 1)]\n",
    "#                ,'cvec__max_features' : [2000, 5000]\n",
    "#                ,'cvec__stop_words' : ['english', None]\n",
    "#               }\n",
    "\n",
    "# gs = GridSearchCV(pipe,\n",
    "#                   param_grid=pipe_params,\n",
    "#                   cv=5)\n",
    "# gs.fit(X_train, y_train)\n",
    "\n",
    "# print(gs.score(X_train, y_train), gs.score(X_test, y_test))\n",
    "# print(gs.best_score_)\n",
    "# print(gs.best_params_)\n",
    "\n",
    "# #Output:\n",
    "# 0.7661510464058234 0.7093610998786899\n",
    "# 0.7039399584704426\n",
    "# {'cvec__max_df': 0.95, 'cvec__max_features': 2000, 'cvec__min_df': 0.0, 'cvec__ngram_range': (1, 1), 'cvec__stop_words': None}"
   ]
  },
  {
   "cell_type": "markdown",
   "id": "82d0ee9c",
   "metadata": {},
   "source": [
    "Above is a copy of the first iteration I ran, and will serve as a general template describing my thought process for the rest of this project:\n",
    "\n",
    "Well, we got a nice bit of overfitting and overall not the greatest accuracy. Recall how we're\n",
    "dealng with multi-class classification and would need to properly address the metrics - as now sensitivity seems a bit more abstruse.\n",
    "\n",
    "Regardless, I'll keep the metrics as overall accuracy for now, as I want to do a lot better than a mere 70%.\n",
    "\n",
    "Anyways, regarding going forward with hyper-parameters: Notice the selection of specific feature and explore that trend more. Ex. we chose .95 for max df when we had two options: .95 and 1.00. Likely let us explor if that .95 preference is even lower (such as next trying maybe .925) or a bit higher (such as .975) yet not as big as the original alternative of 1.00.\n",
    "\n",
    "Only other parameter I'll call attention to is rejection of using English stopwords. Among other theories, perhaps related to the trend we noticed of more positive posts often being longer in length."
   ]
  },
  {
   "cell_type": "code",
   "execution_count": 56,
   "id": "46c656dd",
   "metadata": {},
   "outputs": [
    {
     "name": "stdout",
     "output_type": "stream",
     "text": [
      "0.7661510464058234 0.7093610998786899\n"
     ]
    }
   ],
   "source": [
    "# trial_model = gs.best_estimator_\n",
    "# trial_model.fit(X_train,y_train)\n",
    "# print(trial_model.score(X_train, y_train), trial_model.score(X_test, y_test))\n",
    "\n",
    "# preds = gs.predict(X_test)\n",
    "# preds_prob = gs.predict_proba(X_test)\n",
    "# hyper_pred_comparer = pd.DataFrame({\n",
    "#     'cleaned_text':X_test\n",
    "#     ,'actual':y_test\n",
    "#     ,'pred':preds\n",
    "#     ,'p_0':preds_prob[:,0]\n",
    "#     ,'p_1':preds_prob[:,1]\n",
    "#     ,'p_2':preds_prob[:,2]\n",
    "# })"
   ]
  },
  {
   "cell_type": "code",
   "execution_count": 57,
   "id": "e2b6a9f6",
   "metadata": {},
   "outputs": [],
   "source": [
    "# hyper_misses = hyper_pred_comparer[hyper_pred_comparer['actual']!=hyper_pred_comparer['pred']]\n",
    "# i = -1"
   ]
  },
  {
   "cell_type": "code",
   "execution_count": 59,
   "id": "d7cd04dd",
   "metadata": {},
   "outputs": [
    {
     "name": "stdout",
     "output_type": "stream",
     "text": [
      "1\n",
      "actual    0\n",
      "pred      2\n",
      "Name: 37719, dtype: object\n",
      "p_0    0.006897\n",
      "p_1    0.490072\n",
      "p_2    0.503031\n",
      "Name: 37719, dtype: object\n"
     ]
    },
    {
     "data": {
      "text/plain": [
       "'non white american pleas relax and don t worri about what crazi trump and hi mental sick support are say becaus thi countri is your and will be onli your soon these ignor pig will disappear soon if you want them to go you are go too'"
      ]
     },
     "execution_count": 59,
     "metadata": {},
     "output_type": "execute_result"
    }
   ],
   "source": [
    "# i += 1\n",
    "# print(i)\n",
    "# print(hyper_misses.iloc[i, 1:3])\n",
    "# print(hyper_misses.iloc[i, 3:6])\n",
    "# hyper_misses.iloc[i, 0]"
   ]
  },
  {
   "cell_type": "code",
   "execution_count": 60,
   "id": "05714afc",
   "metadata": {},
   "outputs": [
    {
     "name": "stdout",
     "output_type": "stream",
     "text": [
      "1\n",
      "actual    0\n",
      "pred      2\n",
      "Name: 37719, dtype: object\n",
      "p_0    0.006897\n",
      "p_1    0.490072\n",
      "p_2    0.503031\n",
      "Name: 37719, dtype: object\n"
     ]
    },
    {
     "data": {
      "text/plain": [
       "'non white american pleas relax and don t worri about what crazi trump and hi mental sick support are say becaus thi countri is your and will be onli your soon these ignor pig will disappear soon if you want them to go you are go too'"
      ]
     },
     "execution_count": 60,
     "metadata": {},
     "output_type": "execute_result"
    }
   ],
   "source": [
    "# print(1)\n",
    "# print(hyper_misses.iloc[1, 1:3])\n",
    "# print(hyper_misses.iloc[i, 3:6])\n",
    "# hyper_misses.iloc[1, 0]\n",
    "# We'll look at this example (current per the - our model thought it was a 2:\n",
    "\n",
    "#Yeah, I'm not surprised when it makes references to say many groups AND in a somewhat edgy way.\n",
    "#Ie 'disappear' 'soon' 'crazi' 'mental/sick',etc."
   ]
  },
  {
   "cell_type": "code",
   "execution_count": 66,
   "id": "57d7f71f",
   "metadata": {},
   "outputs": [
    {
     "name": "stdout",
     "output_type": "stream",
     "text": [
      "0.7487952010245004 0.7071370804690659\n",
      "0.7110505535617999\n",
      "{'cvec__max_df': 0.95, 'cvec__max_features': 1200, 'cvec__min_df': 0.0, 'cvec__ngram_range': (1, 1), 'cvec__stop_words': None}\n"
     ]
    }
   ],
   "source": [
    "# #All right, we got our basic methodology done. It's tuning time!!!!!!\n",
    "# #Think I'm excited?\n",
    "\n",
    "# pipe = Pipeline([\n",
    "#     ('cvec', CountVectorizer(lowercase=False))\n",
    "#     ,('lr', LogisticRegression(max_iter=2500, multi_class='multinomial'))\n",
    "# ])\n",
    "\n",
    "# pipe_params = {'cvec__min_df' : [.00]\n",
    "#                ,'cvec__max_df' : [.95]\n",
    "#                ,'cvec__ngram_range' : [(1, 1)]\n",
    "#                ,'cvec__max_features' : [1175, 1225, 1200]\n",
    "#                ,'cvec__stop_words' : [None]\n",
    "#               }\n",
    "# gs = GridSearchCV(pipe\n",
    "#                   ,param_grid=pipe_params\n",
    "#                   ,cv=5)\n",
    "# gs.fit(X_train, y_train)\n",
    "\n",
    "# print(gs.score(X_train, y_train), gs.score(X_test, y_test))\n",
    "# print(gs.best_score_)\n",
    "# print(gs.best_params_)"
   ]
  },
  {
   "cell_type": "code",
   "execution_count": 67,
   "id": "cc0de94d",
   "metadata": {},
   "outputs": [],
   "source": [
    "#Hmm, it looks like this is the best we're going to get... a mere 70%... For now we'll take it.\n",
    "#Note, that even with the cvec we can hopefully improve accuracy via the addition of the other featues\n",
    "#such as word count, type of discrimination, etc."
   ]
  },
  {
   "cell_type": "code",
   "execution_count": 72,
   "id": "0d9f9d24",
   "metadata": {},
   "outputs": [
    {
     "name": "stdout",
     "output_type": "stream",
     "text": [
      "0.7571529673440501 0.7175495349777598\n",
      "0.7184985244882702\n",
      "{'tvec__max_df': 0.95, 'tvec__max_features': 2125, 'tvec__min_df': 0.0, 'tvec__ngram_range': (1, 1), 'tvec__stop_words': None}\n"
     ]
    }
   ],
   "source": [
    "# #Continuing with Tiffany:\n",
    "# pipe = Pipeline([\n",
    "#     ('tvec', TfidfVectorizer(lowercase=False))\n",
    "#     ,('lr', LogisticRegression(max_iter=3000, multi_class='multinomial'))\n",
    "# ])\n",
    "# pipe_params = {'tvec__min_df' : [.0]\n",
    "#                ,'tvec__max_df' : [.95]\n",
    "#                ,'tvec__ngram_range' : [(1,1)]\n",
    "#                ,'tvec__max_features' : [2100, 2150, 2125]\n",
    "#                ,'tvec__stop_words' : [None]\n",
    "#                }\n",
    "# gs = GridSearchCV(pipe\n",
    "#                   ,param_grid=pipe_params\n",
    "#                   ,cv=5)\n",
    "\n",
    "# gs.fit(X_train, y_train)\n",
    "\n",
    "# print(gs.score(X_train, y_train), gs.score(X_test, y_test))\n",
    "# print(gs.best_score_)\n",
    "# print(gs.best_params_)"
   ]
  },
  {
   "cell_type": "code",
   "execution_count": null,
   "id": "23788cf5",
   "metadata": {},
   "outputs": [],
   "source": [
    "#Gah, honestly also lackluster. A bit better albit, now being over 71%. #I'll still continue a bt\n",
    "#more in this brutish approach."
   ]
  },
  {
   "cell_type": "code",
   "execution_count": null,
   "id": "43d6d4b7",
   "metadata": {},
   "outputs": [],
   "source": []
  },
  {
   "cell_type": "code",
   "execution_count": 76,
   "id": "3efdc697",
   "metadata": {},
   "outputs": [
    {
     "name": "stdout",
     "output_type": "stream",
     "text": [
      "0.7473123715161931 0.7098665588354226\n",
      "0.7110843655384744\n",
      "{'cvec__max_df': 0.95, 'cvec__max_features': 4500, 'cvec__min_df': 0.0, 'cvec__ngram_range': (1, 1), 'cvec__stop_words': 'english', 'mnb__alpha': 1.0}\n"
     ]
    }
   ],
   "source": [
    "# pipe = Pipeline([\n",
    "#     ('cvec', CountVectorizer(lowercase=False))\n",
    "#     ,('to_dense', FunctionTransformer(lambda x: x.toarray(), accept_sparse=True))\n",
    "#     ,('mnb', MultinomialNB())\n",
    "# ])\n",
    "# pipe_params = {'cvec__min_df' : [.0]\n",
    "#                ,'cvec__max_df' : [.95]\n",
    "#                ,'cvec__ngram_range' : [(1, 1)]\n",
    "#                ,'cvec__max_features' : [4500, 4600, 4400]\n",
    "#                ,'cvec__stop_words' : ['english']\n",
    "#                ,'mnb__alpha': [1.0]\n",
    "#               }\n",
    "# gs = GridSearchCV(pipe\n",
    "#                   ,param_grid=pipe_params\n",
    "#                   ,cv=5)\n",
    "\n",
    "# gs.fit(X_train, y_train)\n",
    "\n",
    "# print(gs.score(X_train, y_train), gs.score(X_test, y_test))\n",
    "# print(gs.best_score_)\n",
    "# print(gs.best_params_)"
   ]
  },
  {
   "cell_type": "code",
   "execution_count": null,
   "id": "bf1d22b4",
   "metadata": {},
   "outputs": [],
   "source": [
    "#Might as well try also with Tiffany, especially when I'm just grasping for at least an itial\n",
    "#guess model to be above80%..."
   ]
  },
  {
   "cell_type": "code",
   "execution_count": 80,
   "id": "3fc1bd61",
   "metadata": {},
   "outputs": [
    {
     "name": "stdout",
     "output_type": "stream",
     "text": [
      "0.7474134735281233 0.7213910230489284\n",
      "0.7207563740317886\n",
      "{'mnb__alpha': 0.98, 'tvec__max_df': 0.95, 'tvec__max_features': 4400, 'tvec__min_df': 0.0, 'tvec__ngram_range': (1, 1), 'tvec__stop_words': None}\n"
     ]
    }
   ],
   "source": [
    "# #TBD if we'll do pipes for both cvec and Tiffany, but we have to at least try the others:\n",
    "# pipe = Pipeline([\n",
    "#     ('tvec', TfidfVectorizer(lowercase=False))\n",
    "#     ,('to_dense', FunctionTransformer(lambda x: x.toarray(), accept_sparse=True))\n",
    "#     ,('mnb', MultinomialNB())\n",
    "# ])\n",
    "# pipe_params = {'tvec__min_df' : [.0]\n",
    "#                ,'tvec__max_df' : [.95]\n",
    "#                ,'tvec__ngram_range' : [(1,1)]\n",
    "#                ,'tvec__max_features' : [4500, 4400, 4600]\n",
    "#                ,'tvec__stop_words' : ['english', None]\n",
    "#                ,'mnb__alpha': [.98]\n",
    "#               }\n",
    "# gs = GridSearchCV(pipe\n",
    "#                   ,param_grid=pipe_params\n",
    "#                   ,cv=5)\n",
    "\n",
    "# gs.fit(X_train, y_train)\n",
    "\n",
    "# print(gs.score(X_train, y_train), gs.score(X_test, y_test))\n",
    "# print(gs.best_score_)\n",
    "# print(gs.best_params_)"
   ]
  },
  {
   "cell_type": "code",
   "execution_count": 88,
   "id": "36b0df2e",
   "metadata": {},
   "outputs": [
    {
     "name": "stdout",
     "output_type": "stream",
     "text": [
      "0.5166986823037778 0.5109179134654266\n",
      "0.5184172712530903\n",
      "{'cvec__max_df': 0.95, 'cvec__max_features': 1750, 'cvec__min_df': 0.05, 'cvec__ngram_range': (1, 1), 'cvec__stop_words': 'english'}\n"
     ]
    }
   ],
   "source": [
    "# pipe = Pipeline([\n",
    "#     ('cvec', CountVectorizer(lowercase=False))\n",
    "#     ,('to_dense', FunctionTransformer(lambda x: x.toarray(), accept_sparse=True))\n",
    "#     ,('gnb', GaussianNB())\n",
    "# ])\n",
    "# pipe_params = {'cvec__min_df' : [.05]\n",
    "#                ,'cvec__max_df' : [.95]\n",
    "#                ,'cvec__ngram_range' : [(1, 1)]\n",
    "#                ,'cvec__max_features' : [1750, 1775, 1725]\n",
    "#                ,'cvec__stop_words' : ['english']\n",
    "#               }\n",
    "# gs = GridSearchCV(pipe\n",
    "#                   ,param_grid=pipe_params\n",
    "#                   ,cv=5)\n",
    "\n",
    "# gs.fit(X_train, y_train)\n",
    "\n",
    "# print(gs.score(X_train, y_train), gs.score(X_test, y_test))\n",
    "# print(gs.best_score_)\n",
    "# print(gs.best_params_)\n",
    "# #Oh wow, this one did terrible... did I forget a paramter to tune?!?!Seemngly not..."
   ]
  },
  {
   "cell_type": "code",
   "execution_count": 10,
   "id": "38f386d8",
   "metadata": {},
   "outputs": [
    {
     "name": "stdout",
     "output_type": "stream",
     "text": [
      "0.7402015300104472 0.715729882733522\n",
      "0.7165437560994585\n",
      "{'conb__alpha': 1.0, 'cvec__max_df': 0.95, 'cvec__max_features': 4400, 'cvec__min_df': 0.0, 'cvec__ngram_range': (1, 1), 'cvec__stop_words': None}\n"
     ]
    }
   ],
   "source": [
    "# pipe = Pipeline([\n",
    "#     ('cvec', CountVectorizer(lowercase=False))\n",
    "#     ,('to_dense', FunctionTransformer(lambda x: x.toarray(), accept_sparse=True))\n",
    "#     ,('conb', ComplementNB())\n",
    "# ])\n",
    "# pipe_params = {'cvec__min_df' : [.0]\n",
    "#                ,'cvec__max_df' : [.95]\n",
    "#                ,'cvec__ngram_range' : [(1, 1)]\n",
    "#                ,'cvec__max_features' : [4400, 4350, 4450]\n",
    "#                ,'cvec__stop_words' : [None]\n",
    "#                ,'conb__alpha': [1.0]\n",
    "#               }\n",
    "# gs = GridSearchCV(pipe\n",
    "#                   ,param_grid=pipe_params\n",
    "#                   ,cv=5)\n",
    "\n",
    "# gs.fit(X_train, y_train)\n",
    "\n",
    "# print(gs.score(X_train, y_train), gs.score(X_test, y_test))\n",
    "# print(gs.best_score_)\n",
    "# print(gs.best_params_)"
   ]
  },
  {
   "cell_type": "code",
   "execution_count": null,
   "id": "b03e37d8",
   "metadata": {},
   "outputs": [],
   "source": []
  },
  {
   "cell_type": "code",
   "execution_count": null,
   "id": "d88fb54a",
   "metadata": {},
   "outputs": [],
   "source": [
    "#Reminder for the the others... we have to do them this time..."
   ]
  },
  {
   "cell_type": "code",
   "execution_count": 12,
   "id": "8593293c",
   "metadata": {},
   "outputs": [],
   "source": [
    "##Also didn't get this one either...\n",
    "# pipe = Pipeline([\n",
    "#     ('cvec', CountVectorizer(lowercase=False))\n",
    "#     ,('to_dense', FunctionTransformer(lambda x: x.toarray(), accept_sparse=True))\n",
    "#     ,('svc', SVC())\n",
    "# ])\n",
    "# pipe_params = {'cvec__min_df' : [.0]\n",
    "#                ,'cvec__max_df' : [1.0]\n",
    "#                ,'cvec__ngram_range' : [(1,1), (1,2)]\n",
    "#                ,'cvec__max_features' : [2000, 4000]\n",
    "#                ,'cvec__stop_words' : ['english', None]\n",
    "#                ,'svc__kernel': ['linear']\n",
    "#                ,'svc__C': [.95, .1]\n",
    "#               }\n",
    "# gs = GridSearchCV(pipe\n",
    "#                   ,param_grid=pipe_params\n",
    "#                   ,cv=5)\n",
    "# gs.fit(X_train, y_train)\n",
    "\n",
    "# print(gs.score(X_train, y_train), gs.score(X_test, y_test))\n",
    "# print(gs.best_score_)\n",
    "# print(gs.best_params_)"
   ]
  },
  {
   "cell_type": "code",
   "execution_count": 13,
   "id": "c8dc4e84",
   "metadata": {},
   "outputs": [],
   "source": [
    "# #Won't even bother...\n",
    "# pipe = Pipeline([\n",
    "#     ('tvec', TfidfVectorizer(lowercase=False))\n",
    "#     ,('to_dense', FunctionTransformer(lambda x: x.toarray(), accept_sparse=True))\n",
    "#     ,('svc', SVC())\n",
    "# ])\n",
    "# pipe_params = {'tvec__min_df' : [.0]\n",
    "#                ,'tvec__max_df' : [1.0]\n",
    "#                ,'tvec__ngram_range' : [(1,2), (1,1)]\n",
    "#                ,'tvec__max_features' : [2000, 4000]\n",
    "#                ,'tvec__stop_words' : ['english']\n",
    "#                ,'svc__kernel': ['linear']\n",
    "#                ,'svc__C': [.95]\n",
    "#               }\n",
    "# gs = GridSearchCV(pipe\n",
    "#                   ,param_grid=pipe_params\n",
    "#                   ,cv=5)\n",
    "# gs.fit(X_train, y_train)\n",
    "\n",
    "# print(gs.score(X_train, y_train), gs.score(X_test, y_test))\n",
    "# print(gs.best_score_)\n",
    "# print(gs.best_params_)"
   ]
  },
  {
   "cell_type": "markdown",
   "id": "98cb4456",
   "metadata": {},
   "source": [
    "## Re-evaluation\n",
    "\n",
    "So, this approach cleearly isn't working with bottom line getting accuracies in the mere 70s. Sure, perhaps we should\n",
    "redefine the borderline of hateful speach, but still...\n",
    "\n",
    "I'll do at least one redefine before trying something else...\n",
    "\n",
    "Recall from camp we had a few approaches with underrepresented classes. The fourth was something we'll explore momentarily."
   ]
  },
  {
   "cell_type": "code",
   "execution_count": 15,
   "id": "f163acb0",
   "metadata": {},
   "outputs": [
    {
     "data": {
      "text/plain": [
       "count    39565.000000\n",
       "mean        -0.943911\n",
       "std          2.073087\n",
       "min         -8.340000\n",
       "25%         -2.330000\n",
       "50%         -0.700000\n",
       "75%          0.570000\n",
       "max          6.300000\n",
       "Name: hate_speech_score, dtype: float64"
      ]
     },
     "execution_count": 15,
     "metadata": {},
     "output_type": "execute_result"
    }
   ],
   "source": [
    "df['hate_speech_score'].describe()"
   ]
  },
  {
   "cell_type": "code",
   "execution_count": 19,
   "id": "f8601649",
   "metadata": {},
   "outputs": [
    {
     "data": {
      "text/plain": [
       "2.04"
      ]
     },
     "execution_count": 19,
     "metadata": {},
     "output_type": "execute_result"
    }
   ],
   "source": [
    "df['hate_speech_score'].quantile(.95) #Eh, we'll keep it as is... \n",
    "\n",
    "#So, before we go again, I want to run again the 'baseline' logistic regression with a few changes:"
   ]
  },
  {
   "cell_type": "code",
   "execution_count": null,
   "id": "0a153a71",
   "metadata": {},
   "outputs": [],
   "source": []
  },
  {
   "cell_type": "code",
   "execution_count": null,
   "id": "423877fb",
   "metadata": {},
   "outputs": [],
   "source": []
  },
  {
   "cell_type": "code",
   "execution_count": 47,
   "id": "60007e32",
   "metadata": {},
   "outputs": [],
   "source": [
    "# #Wait, will this even work with a sparse matrix?.... Let me try with weights first...\n",
    "# ros = RandomOverSampler(random_state=26)\n",
    "# X_ros, y_ros = ros.fit_resample(X, y)\n",
    "# X_train_ros, X_test_ros, y_train_ros, y_test_ros = train_test_split(X\n",
    "#                                                     ,y\n",
    "#                                                     ,test_size = 0.25\n",
    "#                                                     ,random_state = 26\n",
    "#                                                     ,stratify=y_ros)"
   ]
  },
  {
   "cell_type": "code",
   "execution_count": 50,
   "id": "cfed81ad",
   "metadata": {},
   "outputs": [
    {
     "data": {
      "text/plain": [
       "((39565,), (39565,))"
      ]
     },
     "execution_count": 50,
     "metadata": {},
     "output_type": "execute_result"
    }
   ],
   "source": [
    "X.shape, y.shape"
   ]
  },
  {
   "cell_type": "code",
   "execution_count": 18,
   "id": "950ab0a3",
   "metadata": {},
   "outputs": [],
   "source": [
    "# smote = SMOTE(random_state=26)\n",
    "# X_smote, y_smote = smote.fit_resample(X, y)\n",
    "# X_train_smote, X_test_smote, y_train_smote, y_test_smote = train_test_split(X\n",
    "#                                                     ,y\n",
    "#                                                     ,test_size = 0.25\n",
    "#                                                     ,random_state = 26\n",
    "#                                                     ,stratify=y_smote)"
   ]
  },
  {
   "cell_type": "code",
   "execution_count": 69,
   "id": "342c6b49",
   "metadata": {},
   "outputs": [],
   "source": [
    "# pipe = Pipeline([\n",
    "#     ('tvec', TfidfVectorizer(lowercase=False))\n",
    "#     ,('lr', LogisticRegression(max_iter=3000, multi_class='multinomial'))\n",
    "# ])\n",
    "# pipe_params = {'tvec__min_df' : [.0]\n",
    "#                ,'tvec__max_df' : [.95]\n",
    "#                ,'tvec__ngram_range' : [(1,1)]\n",
    "#                ,'tvec__max_features' : [2125]\n",
    "#                ,'tvec__stop_words' : [None]\n",
    "#                }\n",
    "# scorer = make_scorer(recall_score, average = None) #Syntax essentially from Gunes of StackExchange\n",
    "# gs = GridSearchCV(pipe\n",
    "#                   ,param_grid=pipe_params\n",
    "#                   ,cv=5\n",
    "#                  ,scoring=scorer)\n",
    "\n",
    "# gs.fit(X_train, y_train)\n",
    "\n",
    "# print(gs.score(X_train, y_train), gs.score(X_test, y_test))\n",
    "# print(gs.best_score_)\n",
    "# print(gs.best_params_)"
   ]
  },
  {
   "cell_type": "code",
   "execution_count": 96,
   "id": "be9d9574",
   "metadata": {},
   "outputs": [],
   "source": [
    "# def class_recall(class_location):\n",
    "#     score = recall_score(y_true, y_pred, average = None)\n",
    "#     return score[class_location]"
   ]
  },
  {
   "cell_type": "code",
   "execution_count": 79,
   "id": "6fcc5d3b",
   "metadata": {},
   "outputs": [
    {
     "name": "stdout",
     "output_type": "stream",
     "text": [
      "0.7942237050517306 0.7551556813586737\n",
      "0.7548275796468256\n",
      "{'tvec__max_df': 0.95, 'tvec__max_features': 2125, 'tvec__min_df': 0.0, 'tvec__ngram_range': (1, 1), 'tvec__stop_words': None}\n"
     ]
    }
   ],
   "source": [
    "# pipe = Pipeline([\n",
    "#     ('tvec', TfidfVectorizer(lowercase=False))\n",
    "#     ,('lr', LogisticRegression(max_iter=3000, multi_class='multinomial', class_weight={0:1,1:1.25,2:4}))\n",
    "# ])\n",
    "# pipe_params = {'tvec__min_df' : [.0]\n",
    "#                ,'tvec__max_df' : [.95]\n",
    "#                ,'tvec__ngram_range' : [(1,1)]\n",
    "#                ,'tvec__max_features' : [2125]\n",
    "#                ,'tvec__stop_words' : [None]\n",
    "#                }\n",
    "# scorer = make_scorer(recall_score, average = 'weighted')#Syntax essentially from Gunes of StackExchange\n",
    "# gs = GridSearchCV(pipe\n",
    "#                   ,param_grid=pipe_params\n",
    "#                   ,cv=5\n",
    "#                   ,scoring=scorer\n",
    "#                  )\n",
    "\n",
    "# gs.fit(X_train, y_train)\n",
    "\n",
    "# print(gs.score(X_train, y_train), gs.score(X_test, y_test))\n",
    "# print(gs.best_score_)\n",
    "# print(gs.best_params_)"
   ]
  },
  {
   "cell_type": "code",
   "execution_count": 80,
   "id": "3102e3e5",
   "metadata": {},
   "outputs": [
    {
     "name": "stdout",
     "output_type": "stream",
     "text": [
      "0.7942237050517306 0.7551556813586737\n"
     ]
    }
   ],
   "source": [
    "# trial_model = gs.best_estimator_\n",
    "# trial_model.fit(X_train,y_train)\n",
    "# print(trial_model.score(X_train, y_train), trial_model.score(X_test, y_test))\n",
    "\n",
    "# preds = trial_model.predict(X_test)\n",
    "# preds_prob = trial_model.predict_proba(X_test)\n",
    "# hyper_pred_comparer = pd.DataFrame({\n",
    "#     'cleaned_text':X_test\n",
    "#     ,'actual':y_test\n",
    "#     ,'pred':preds\n",
    "#     ,'p_0':preds_prob[:,0]\n",
    "#     ,'p_1':preds_prob[:,1]\n",
    "#     ,'p_2':preds_prob[:,2]\n",
    "# })"
   ]
  },
  {
   "cell_type": "code",
   "execution_count": 81,
   "id": "b811dac0",
   "metadata": {},
   "outputs": [
    {
     "data": {
      "image/png": "[encoded data removed]",
      "text/plain": [
       "<Figure size 640x480 with 2 Axes>"
      ]
     },
     "metadata": {},
     "output_type": "display_data"
    }
   ],
   "source": [
    "# ConfusionMatrixDisplay.from_estimator(trial_model,X_test,y_test, cmap='Greens');"
   ]
  },
  {
   "cell_type": "code",
   "execution_count": 13,
   "id": "52098e52",
   "metadata": {},
   "outputs": [
    {
     "data": {
      "text/plain": [
       "array([185, 134, 203], dtype=int64)"
      ]
     },
     "execution_count": 13,
     "metadata": {},
     "output_type": "execute_result"
    }
   ],
   "source": [
    "# confusion_matrix(y_test, preds)[2]"
   ]
  },
  {
   "cell_type": "code",
   "execution_count": null,
   "id": "07f597e5",
   "metadata": {},
   "outputs": [],
   "source": [
    "#Hmm, let's finally get the scoring down. We're most interested in category 2; however, per revisioning the problm statement\n",
    "#likely a focus on one is enough. So, this would basically be correctly identifying the negatives of 0, is tn/tn+fp is specificity\n",
    "    #Ie specificity of 2s.\n",
    "#Alt, go back to focusing on the most toxic 2s: tp/tp+fn sensitivity of 2s."
   ]
  },
  {
   "cell_type": "code",
   "execution_count": 83,
   "id": "90362f98",
   "metadata": {},
   "outputs": [
    {
     "data": {
      "text/plain": [
       "hate_rank\n",
       "0    29211\n",
       "1     8268\n",
       "2     2086\n",
       "Name: count, dtype: int64"
      ]
     },
     "execution_count": 83,
     "metadata": {},
     "output_type": "execute_result"
    }
   ],
   "source": [
    "#Hmm, so after the ponderings and wanderings let us go back to our original dataframe, resample 1s and 2s, then run everything anew\n",
    "# df['hate_rank'].value_counts()"
   ]
  },
  {
   "cell_type": "code",
   "execution_count": 87,
   "id": "ca236725",
   "metadata": {},
   "outputs": [
    {
     "data": {
      "text/plain": [
       "14"
      ]
     },
     "execution_count": 87,
     "metadata": {},
     "output_type": "execute_result"
    }
   ],
   "source": [
    "(df.shape[0]//3000)+1 #Somewhat arbitrary number, but in short I want to: \n",
    "#1) Limit the 0 category\n",
    "#2) Resample the 1 and 2 category\n",
    "#14k per group was chosen to be 'as big as the original' yet still being small enough to practically work with.\n",
    "    #I might change this later, as now group 2 is sooo overused. I'd be comfortable off hand with 6kish, with each post\n",
    "    #likly being used 3 times each, but an on-average of 7 seems excesive... And, for whatever it matters: The other\n",
    "    #big project we did with Reddit titles had 1.5kish per group...\n",
    "#For consistency's sake, I will also sample 0 with replacement.\n",
    "\n",
    "#Also, I don't think I'll bother to worry aobut original comment id. But we'll see."
   ]
  },
  {
   "cell_type": "code",
   "execution_count": 8,
   "id": "28b206ba",
   "metadata": {},
   "outputs": [],
   "source": [
    "# df_0 = df[df['hate_rank']==0].sample(14_000, replace=True, random_state=26)\n",
    "# df_0.head()"
   ]
  },
  {
   "cell_type": "code",
   "execution_count": 9,
   "id": "b1e07111",
   "metadata": {},
   "outputs": [],
   "source": [
    "# df_1 = df[df['hate_rank']==1].sample(14_000, replace=True, random_state=26) #Eh, just three so I won't bother making a for loop\n",
    "# df_1.head()"
   ]
  },
  {
   "cell_type": "code",
   "execution_count": 10,
   "id": "7f649f60",
   "metadata": {},
   "outputs": [],
   "source": [
    "# df_2 = df[df['hate_rank']==2].sample(14_000, replace=True, random_state=26)\n",
    "# df_2.head()"
   ]
  },
  {
   "cell_type": "code",
   "execution_count": 11,
   "id": "4f6a9a50",
   "metadata": {},
   "outputs": [],
   "source": [
    "# data = pd.concat([df_0, df_1, df_2])\n",
    "# print(data.shape)\n",
    "# data['hate_rank'].value_counts(normalize=True) #All right. Now let's do this."
   ]
  },
  {
   "cell_type": "code",
   "execution_count": 102,
   "id": "7d7ca2c0",
   "metadata": {},
   "outputs": [
    {
     "data": {
      "text/plain": [
       "500.0"
      ]
     },
     "execution_count": 102,
     "metadata": {},
     "output_type": "execute_result"
    }
   ],
   "source": [
    "#Oh wait, I just realized that likly many of the \"test\" results are being also used in train... hmm, yeah we need\n",
    "#to do the split afterwards. Hmm, with a stratified split we'd get like .05 to be 2...\n",
    "10_000/20"
   ]
  },
  {
   "cell_type": "markdown",
   "id": "892c94e9",
   "metadata": {},
   "source": [
    "## The revival"
   ]
  },
  {
   "cell_type": "markdown",
   "id": "84b90051",
   "metadata": {},
   "source": [
    "A note I'd like to make before contiuing: A very practical application and need I see for this project is the assumption that a user will post multiple messages. So, even if ONE message is not caught, when you consider more and more...\n",
    "\n",
    "In a way, that assumption arguably helps the cause to sampe with replacement, as likly hate messages would be spammed multiple times..."
   ]
  },
  {
   "cell_type": "code",
   "execution_count": 7,
   "id": "6ba2603d",
   "metadata": {},
   "outputs": [],
   "source": [
    "X = df['cleaned_text']\n",
    "y = df['hate_rank']\n",
    "\n",
    "X_train, X_test, y_train, y_test = train_test_split(X,\n",
    "                                                    y,\n",
    "                                                    test_size = 3785, #To have a clean 200 2s in the test 3785 pref\n",
    "                                                    random_state = 26, #I like this number\n",
    "                                                    stratify=y) #Particularly important in this case with 3 targets\n",
    "\n",
    "# Hmm, as it stands right now y_test has mostly 0s... eh, I think htat's fine as it's like new data. So, cvs might be a little\n",
    "# scruff now with seeing thet sam thing,b ut eh, better htan nothing.... And, likely such is the inhernt issue of\n",
    "# using such methodologies..."
   ]
  },
  {
   "cell_type": "code",
   "execution_count": 8,
   "id": "4003799c",
   "metadata": {},
   "outputs": [
    {
     "data": {
      "text/plain": [
       "200"
      ]
     },
     "execution_count": 8,
     "metadata": {},
     "output_type": "execute_result"
    }
   ],
   "source": [
    "len(y_test[y_test==2])"
   ]
  },
  {
   "cell_type": "code",
   "execution_count": 9,
   "id": "e18838be",
   "metadata": {},
   "outputs": [
    {
     "data": {
      "text/html": [
       "<div>\n",
       "<style scoped>\n",
       "    .dataframe tbody tr th:only-of-type {\n",
       "        vertical-align: middle;\n",
       "    }\n",
       "\n",
       "    .dataframe tbody tr th {\n",
       "        vertical-align: top;\n",
       "    }\n",
       "\n",
       "    .dataframe thead th {\n",
       "        text-align: right;\n",
       "    }\n",
       "</style>\n",
       "<table border=\"1\" class=\"dataframe\">\n",
       "  <thead>\n",
       "    <tr style=\"text-align: right;\">\n",
       "      <th></th>\n",
       "      <th>cleaned_text</th>\n",
       "      <th>hate_rank</th>\n",
       "    </tr>\n",
       "  </thead>\n",
       "  <tbody>\n",
       "    <tr>\n",
       "      <th>33114</th>\n",
       "      <td>yea those lino do need to be turn straight bec...</td>\n",
       "      <td>1</td>\n",
       "    </tr>\n",
       "    <tr>\n",
       "      <th>36787</th>\n",
       "      <td>the world is come un kill billion of peopl nw ...</td>\n",
       "      <td>0</td>\n",
       "    </tr>\n",
       "    <tr>\n",
       "      <th>4386</th>\n",
       "      <td>grant all thot are gone except you you are the...</td>\n",
       "      <td>1</td>\n",
       "    </tr>\n",
       "    <tr>\n",
       "      <th>36692</th>\n",
       "      <td>i m atheist but my famili is christian</td>\n",
       "      <td>0</td>\n",
       "    </tr>\n",
       "    <tr>\n",
       "      <th>24323</th>\n",
       "      <td>norballin hpluckros but again by place such a ...</td>\n",
       "      <td>0</td>\n",
       "    </tr>\n",
       "  </tbody>\n",
       "</table>\n",
       "</div>"
      ],
      "text/plain": [
       "                                            cleaned_text  hate_rank\n",
       "33114  yea those lino do need to be turn straight bec...          1\n",
       "36787  the world is come un kill billion of peopl nw ...          0\n",
       "4386   grant all thot are gone except you you are the...          1\n",
       "36692             i m atheist but my famili is christian          0\n",
       "24323  norballin hpluckros but again by place such a ...          0"
      ]
     },
     "execution_count": 9,
     "metadata": {},
     "output_type": "execute_result"
    }
   ],
   "source": [
    "data = pd.DataFrame(X_train)\n",
    "data['hate_rank'] = y_train\n",
    "data.head()"
   ]
  },
  {
   "cell_type": "code",
   "execution_count": 10,
   "id": "e7f7ce15",
   "metadata": {},
   "outputs": [
    {
     "data": {
      "text/plain": [
       "hate_rank\n",
       "0    0.738317\n",
       "1    0.208971\n",
       "2    0.052711\n",
       "Name: proportion, dtype: float64"
      ]
     },
     "execution_count": 10,
     "metadata": {},
     "output_type": "execute_result"
    }
   ],
   "source": [
    "data['hate_rank'].value_counts(normalize=True)"
   ]
  },
  {
   "cell_type": "code",
   "execution_count": 11,
   "id": "d66f4155",
   "metadata": {},
   "outputs": [
    {
     "data": {
      "text/plain": [
       "((35780,), (3785,))"
      ]
     },
     "execution_count": 11,
     "metadata": {},
     "output_type": "execute_result"
    }
   ],
   "source": [
    "y_train.shape, y_test.shape"
   ]
  },
  {
   "cell_type": "code",
   "execution_count": 12,
   "id": "52c48dd0",
   "metadata": {},
   "outputs": [
    {
     "data": {
      "text/plain": [
       "4000"
      ]
     },
     "execution_count": 12,
     "metadata": {},
     "output_type": "execute_result"
    }
   ],
   "source": [
    "#Hmm, originally we wanted to do 10k... eh\n",
    "# col_size = int((42000-y_test.shape[0])/3)\n",
    "col_size = 4000 #testing now lke this... we'll\n",
    "col_size"
   ]
  },
  {
   "cell_type": "code",
   "execution_count": 13,
   "id": "05182ef3",
   "metadata": {},
   "outputs": [
    {
     "data": {
      "text/plain": [
       "['data_0', 'data_1', 'data_2']"
      ]
     },
     "execution_count": 13,
     "metadata": {},
     "output_type": "execute_result"
    }
   ],
   "source": [
    "data_names = []\n",
    "for i in range(3):\n",
    "    data_names.append(f\"data_{i}\")\n",
    "data_names"
   ]
  },
  {
   "cell_type": "code",
   "execution_count": 14,
   "id": "c519fdc8",
   "metadata": {},
   "outputs": [],
   "source": [
    "for i in range(len(data_names)):#Recall that we're still planning on doing replace=True even for 0.\n",
    "    data_names[i] = data[data['hate_rank']==i].sample(col_size, replace=True, random_state=26)"
   ]
  },
  {
   "cell_type": "code",
   "execution_count": 15,
   "id": "7b334441",
   "metadata": {},
   "outputs": [
    {
     "name": "stdout",
     "output_type": "stream",
     "text": [
      "(12000, 2)\n"
     ]
    },
    {
     "data": {
      "text/html": [
       "<div>\n",
       "<style scoped>\n",
       "    .dataframe tbody tr th:only-of-type {\n",
       "        vertical-align: middle;\n",
       "    }\n",
       "\n",
       "    .dataframe tbody tr th {\n",
       "        vertical-align: top;\n",
       "    }\n",
       "\n",
       "    .dataframe thead th {\n",
       "        text-align: right;\n",
       "    }\n",
       "</style>\n",
       "<table border=\"1\" class=\"dataframe\">\n",
       "  <thead>\n",
       "    <tr style=\"text-align: right;\">\n",
       "      <th></th>\n",
       "      <th>cleaned_text</th>\n",
       "      <th>hate_rank</th>\n",
       "    </tr>\n",
       "  </thead>\n",
       "  <tbody>\n",
       "    <tr>\n",
       "      <th>9021</th>\n",
       "      <td>i doubt satan ha ani author to bargain with go...</td>\n",
       "      <td>0</td>\n",
       "    </tr>\n",
       "    <tr>\n",
       "      <th>10138</th>\n",
       "      <td>how are there still peopl in 2019 who think th...</td>\n",
       "      <td>0</td>\n",
       "    </tr>\n",
       "    <tr>\n",
       "      <th>7384</th>\n",
       "      <td>i never said becom a minor holi shit i just wa...</td>\n",
       "      <td>0</td>\n",
       "    </tr>\n",
       "    <tr>\n",
       "      <th>7309</th>\n",
       "      <td>if she can perform the part well she wa a good...</td>\n",
       "      <td>0</td>\n",
       "    </tr>\n",
       "    <tr>\n",
       "      <th>7534</th>\n",
       "      <td>jesu that a name i havent heard in a long time...</td>\n",
       "      <td>0</td>\n",
       "    </tr>\n",
       "  </tbody>\n",
       "</table>\n",
       "</div>"
      ],
      "text/plain": [
       "                                            cleaned_text  hate_rank\n",
       "9021   i doubt satan ha ani author to bargain with go...          0\n",
       "10138  how are there still peopl in 2019 who think th...          0\n",
       "7384   i never said becom a minor holi shit i just wa...          0\n",
       "7309   if she can perform the part well she wa a good...          0\n",
       "7534   jesu that a name i havent heard in a long time...          0"
      ]
     },
     "execution_count": 15,
     "metadata": {},
     "output_type": "execute_result"
    }
   ],
   "source": [
    "data = pd.concat(data_names)\n",
    "print(data.shape)\n",
    "data.head()"
   ]
  },
  {
   "cell_type": "code",
   "execution_count": 16,
   "id": "1ff2e347",
   "metadata": {},
   "outputs": [
    {
     "data": {
      "text/plain": [
       "hate_rank\n",
       "0    4000\n",
       "1    4000\n",
       "2    4000\n",
       "Name: count, dtype: int64"
      ]
     },
     "execution_count": 16,
     "metadata": {},
     "output_type": "execute_result"
    }
   ],
   "source": [
    "data['hate_rank'].value_counts() #There we go! Now let's do this!"
   ]
  },
  {
   "cell_type": "code",
   "execution_count": 17,
   "id": "1e5ae253",
   "metadata": {},
   "outputs": [
    {
     "data": {
      "text/plain": [
       "1644"
      ]
     },
     "execution_count": 17,
     "metadata": {},
     "output_type": "execute_result"
    }
   ],
   "source": [
    "len(data[data['hate_rank']==2]['cleaned_text'].unique()) #Didn't track this before, but eh, hopefully a lot bette. Now\n",
    "#A typicalpost would be repeated only 2.5 times..."
   ]
  },
  {
   "cell_type": "code",
   "execution_count": 18,
   "id": "673aa356",
   "metadata": {},
   "outputs": [],
   "source": [
    "#Awww yeah.... almost there! Now, let's return to the X_train and y_train:\n",
    "X_train = data['cleaned_text']\n",
    "y_train = data['hate_rank']"
   ]
  },
  {
   "cell_type": "code",
   "execution_count": 44,
   "id": "534e2513",
   "metadata": {},
   "outputs": [],
   "source": [
    "# def custom_recall(y, ypred, pos_index=1, tar_average=None):\n",
    "#     return recall_score(y, ypred, average=tar_average)[pos_index] #Awwww yeah we did it.#Hmm, I wonder if I want\n",
    "# #to tweak this a bit - ie I do care also about correctly identifying 1s... And, inclined to make whatever emphasis placed\n",
    "# #on them the same with class weights.And, on that topic - I mean we still care about 0s.... Hmm"
   ]
  },
  {
   "cell_type": "code",
   "execution_count": 19,
   "id": "21e319c6",
   "metadata": {},
   "outputs": [],
   "source": [
    "# def custom_recall(y, ypred, weight_list):\n",
    "#     numer = 0\n",
    "#     for i in range(len(weight_list)):\n",
    "#         numer += weight_list[i] * recall_base[i]\n",
    "#     return numer/sum(weight_list)\n",
    "# #Although I love the original, I think we need to tweak this as parameter tuning only leads to focuisn on 0... then we\n",
    "# #lose our focus.\n",
    "# #I'll try at least one joint 1-2, otherwise back to just focusing on 2s and hopefully 1s are decent.\n",
    "# #Oh wait.... I can just do 1: ...\n",
    "# #And, on hte topic, can similarily restrict it to just on class via [2]"
   ]
  },
  {
   "cell_type": "code",
   "execution_count": 40,
   "id": "1087229f",
   "metadata": {},
   "outputs": [],
   "source": [
    "def custom_recall(y, ypred, weight_list):   \n",
    "    num = 0\n",
    "    recall_base = recall_score(y, ypred, average=None)[1:]\n",
    "    for i in range(len(weight_list)):\n",
    "        num += recall_base[i] * weight_list[i]\n",
    "    return num/sum(weight_list)"
   ]
  },
  {
   "cell_type": "code",
   "execution_count": 36,
   "id": "eccbcc4d",
   "metadata": {},
   "outputs": [
    {
     "name": "stdout",
     "output_type": "stream",
     "text": [
      "[3, 6]\n"
     ]
    }
   ],
   "source": [
    "current_weights={\n",
    "    0:.8\n",
    "    ,1:3\n",
    "    ,2:6\n",
    "}\n",
    "cw_values = list(current_weights.values())[1:]\n",
    "print(cw_values)"
   ]
  },
  {
   "cell_type": "code",
   "execution_count": 22,
   "id": "019d6d46",
   "metadata": {},
   "outputs": [
    {
     "data": {
      "text/plain": [
       "[3, 6]"
      ]
     },
     "execution_count": 22,
     "metadata": {},
     "output_type": "execute_result"
    }
   ],
   "source": [
    "cw_values[1:]"
   ]
  },
  {
   "cell_type": "code",
   "execution_count": null,
   "id": "e909190f",
   "metadata": {},
   "outputs": [],
   "source": []
  },
  {
   "cell_type": "code",
   "execution_count": null,
   "id": "18e9d36e",
   "metadata": {},
   "outputs": [],
   "source": []
  },
  {
   "cell_type": "code",
   "execution_count": 43,
   "id": "4250055c",
   "metadata": {},
   "outputs": [
    {
     "name": "stdout",
     "output_type": "stream",
     "text": [
      "0.9962500000000001 0.6277581120943954\n",
      "0.8456666666666667\n",
      "{'tvec__max_df': 0.95, 'tvec__max_features': None, 'tvec__min_df': 0.0, 'tvec__ngram_range': (1, 2), 'tvec__stop_words': None}\n"
     ]
    }
   ],
   "source": [
    "pipe = Pipeline([\n",
    "    ('tvec', TfidfVectorizer(lowercase=False))\n",
    "    ,('lr', LogisticRegression(max_iter=3000, multi_class='multinomial', class_weight=current_weights))\n",
    "])\n",
    "pipe_params = {'tvec__min_df' : [.0]\n",
    "               ,'tvec__max_df' : [.95]\n",
    "               ,'tvec__ngram_range' : [(1,2), (1,3)]\n",
    "               ,'tvec__max_features' : [4000, 8000, 12000, None]\n",
    "               ,'tvec__stop_words' : [None]\n",
    "               }\n",
    "scorer = make_scorer(custom_recall, weight_list=cw_values) #Note the 1: as we're now ignoring 0 for the scoring\n",
    "gs = GridSearchCV(pipe\n",
    "                  ,param_grid=pipe_params\n",
    "                  ,cv=5\n",
    "                  ,scoring=scorer\n",
    "                 )\n",
    "\n",
    "gs.fit(X_train, y_train)\n",
    "\n",
    "print(gs.score(X_train, y_train), gs.score(X_test, y_test))\n",
    "print(gs.best_score_)\n",
    "print(gs.best_params_)"
   ]
  },
  {
   "cell_type": "markdown",
   "id": "7eebdd2c",
   "metadata": {},
   "source": [
    "Despite finally having a nice aproach to the scoring issue, focusing on both 2 and 1 is not effective with the current gridsearch. Ex. From 8k to 11k features, with the trend indicating to keep on going upwards, our nuaned weighted scorer is actually getting worse... With no end in sight I was pondering what it was, then it dawned on me - Recall that the cross val is using repeated data! Hence, with 7k posts per category in train and a total of 10500 in the the test there should be approximately 4.5 of the same 2 post in the train... So, far more often then not a post was already seen n each of the cvals so what a surprise that in the 'test' cval it would get it right... Hence, from the cval point of view things would be good and it's like hey, we got this - pound more features! Yet, henc the drop in test as those were all new.\n",
    "\n",
    "So, we have 2 things I immediately see to ponder: Wiggle around with the data size:\n",
    "1) Drop test size, giving more potential targets to use for 2 (and 1)\n",
    "2) Drop train size, having less repetition in 2s and 1s\n",
    "2.5) On the topic, potentially turn replace=False for the 0s...\n",
    "\n",
    "And, of recent revelation, and likly the core of the issue - Decrease the number of cvals. However, I'm a bit hesitant with this one. Eric Bayless made an interesting reminder to me to view the variance of the cval scores. Likely we won't need to get into it though, howeve indeed it is quite interesting.\n",
    "\n",
    "Finally, perhaps we will just have to focus on 2s. However, let's try this first."
   ]
  },
  {
   "cell_type": "code",
   "execution_count": 32,
   "id": "1eb59663",
   "metadata": {},
   "outputs": [
    {
     "name": "stdout",
     "output_type": "stream",
     "text": [
      "0.9036666666666666 0.4501981505944518\n"
     ]
    },
    {
     "data": {
      "image/png": "[encoded data removed]",
      "text/plain": [
       "<Figure size 640x480 with 2 Axes>"
      ]
     },
     "metadata": {},
     "output_type": "display_data"
    }
   ],
   "source": [
    "trial_model = gs.best_estimator_\n",
    "trial_model.fit(X_train,y_train)\n",
    "print(trial_model.score(X_train, y_train), trial_model.score(X_test, y_test))\n",
    "\n",
    "preds = trial_model.predict(X_test)\n",
    "preds_prob = trial_model.predict_proba(X_test)\n",
    "hyper_pred_comparer = pd.DataFrame({\n",
    "    'cleaned_text':X_test\n",
    "    ,'actual':y_test\n",
    "    ,'pred':preds\n",
    "    ,'p_0':preds_prob[:,0]\n",
    "    ,'p_1':preds_prob[:,1]\n",
    "    ,'p_2':preds_prob[:,2]\n",
    "})\n",
    "\n",
    "ConfusionMatrixDisplay.from_estimator(trial_model,X_test,y_test, cmap='Greens');"
   ]
  },
  {
   "cell_type": "code",
   "execution_count": 33,
   "id": "d334ffcf",
   "metadata": {},
   "outputs": [
    {
     "data": {
      "text/plain": [
       "0.6277581120943954"
      ]
     },
     "execution_count": 33,
     "metadata": {},
     "output_type": "execute_result"
    }
   ],
   "source": [
    "class_twos = confusion_matrix(y_test, preds)[2]\n",
    "class_ones = confusion_matrix(y_test, preds)[1]\n",
    "(cw_values[1]*(class_ones[1]/sum(class_ones))+cw_values[2]*(class_twos[2]/sum(class_twos)))/sum(cw_values[1:]) \n",
    "#oh boy.... I just did the 8k one by hand and that was .52ish.... yeah, this is not getting tuned for some reason..."
   ]
  },
  {
   "cell_type": "code",
   "execution_count": 41,
   "id": "e682e9ed",
   "metadata": {},
   "outputs": [
    {
     "data": {
      "text/plain": [
       "0.6277581120943954"
      ]
     },
     "execution_count": 41,
     "metadata": {},
     "output_type": "execute_result"
    }
   ],
   "source": [
    "custom_recall(y_test, preds, cw_values)"
   ]
  },
  {
   "cell_type": "code",
   "execution_count": 1,
   "id": "118545c2",
   "metadata": {},
   "outputs": [
    {
     "data": {
      "text/plain": [
       "(791, 200)"
      ]
     },
     "execution_count": 1,
     "metadata": {},
     "output_type": "execute_result"
    }
   ],
   "source": [
    "50+406+335,7+56+137"
   ]
  },
  {
   "cell_type": "code",
   "execution_count": 2,
   "id": "0fc446b2",
   "metadata": {},
   "outputs": [
    {
     "data": {
      "text/plain": [
       "0.9424823410696266"
      ]
     },
     "execution_count": 2,
     "metadata": {},
     "output_type": "execute_result"
    }
   ],
   "source": [
    "1-(57/991)"
   ]
  },
  {
   "cell_type": "code",
   "execution_count": 49,
   "id": "4337c699",
   "metadata": {},
   "outputs": [],
   "source": [
    "import pickle\n",
    "with open('model_base.pkl', 'wb') as f:#wb ie write bytes\n",
    "    pickle.dump(trial_model, f)"
   ]
  },
  {
   "cell_type": "code",
   "execution_count": 153,
   "id": "d209b5e3",
   "metadata": {},
   "outputs": [],
   "source": [
    "# trial_model.named_steps['lr'].coef_[0]"
   ]
  },
  {
   "cell_type": "code",
   "execution_count": 154,
   "id": "46e951d3",
   "metadata": {},
   "outputs": [],
   "source": [
    "# trial_model.named_steps['lr'].coef_[2]"
   ]
  },
  {
   "cell_type": "code",
   "execution_count": 143,
   "id": "d7f168ba",
   "metadata": {},
   "outputs": [],
   "source": [
    "# len(trial_model.named_steps['lr'].coef_[2]) == len(trial_model.named_steps['tvec'].get_feature_names_out())"
   ]
  },
  {
   "cell_type": "code",
   "execution_count": 155,
   "id": "f53b288b",
   "metadata": {},
   "outputs": [],
   "source": [
    "# trial_model.named_steps['tvec'].get_feature_names_out()"
   ]
  },
  {
   "cell_type": "code",
   "execution_count": 149,
   "id": "caa0954c",
   "metadata": {},
   "outputs": [
    {
     "data": {
      "text/plain": [
       "array([[3666, 2995, 1091],\n",
       "       [ 190, 1236,  768],\n",
       "       [  15,  251,  288]], dtype=int64)"
      ]
     },
     "execution_count": 149,
     "metadata": {},
     "output_type": "execute_result"
    }
   ],
   "source": [
    "confusion_matrix(y_test, preds)"
   ]
  },
  {
   "cell_type": "code",
   "execution_count": 150,
   "id": "85474ef5",
   "metadata": {},
   "outputs": [
    {
     "name": "stdout",
     "output_type": "stream",
     "text": [
      "0.7463898916967509 0.9729241877256317\n",
      "0.7383773928896992 0.9134001823154057\n",
      "0.4729102167182663 0.6660861713106295\n"
     ]
    }
   ],
   "source": [
    "three = confusion_matrix(y_test, preds)[2]\n",
    "print((three[2]+three[1]*.5)/sum(three), (three[2]+three[1])/sum(three))\n",
    "two = confusion_matrix(y_test, preds)[1]\n",
    "print((two[2]*.5+two[1])/sum(two), (two[2]+two[1])/sum(two))\n",
    "one = confusion_matrix(y_test, preds)[0]\n",
    "print((one[0])/sum(one), (one[0]+one[1]*.5)/sum(one))"
   ]
  },
  {
   "cell_type": "code",
   "execution_count": null,
   "id": "481a584f",
   "metadata": {},
   "outputs": [],
   "source": [
    "#Hmm, I'm honstly pretty pleased with those... Ie obviously, the higher the better. However, we have a lot of issues:\n",
    "#1 is that often neutral or defensive language is unclear/smudges between the more extreme categories.\n",
    "#2 Incitement aside, speach is not a crime. So, a one time offense woudln't likely call for confrontation. However,\n",
    "#depending upon the severity[ie really really bad....] AND most importantly frequently...\n",
    "\n",
    "#Let's examine a bit more. Maybe later we'll work on graphs... However, I think we'll keep this base approach.\n",
    "#Ie weights seem to be the way to go and just make sure to check like we've been ding that we don't keep on adding more features\n",
    "#and lose the 2 accuracy.\n",
    "\n",
    "#I'll make a graph later, but for now let's look at the relative probabilities. Ie the plan is to go with whatever model,\n",
    "#then have a variable of how many messages were sent like this? Ie let us confirm a few things:\n",
    "#1 Anyhing misclassified is NOT 'decently/significantly' misclassifid.\n",
    "    #or just hard things like a positive/defensive post that is vulgar...\n",
    "#2 That anything classified correctly is also 'decently/significantly' such."
   ]
  },
  {
   "cell_type": "code",
   "execution_count": 27,
   "id": "b8e54d78",
   "metadata": {},
   "outputs": [
    {
     "data": {
      "text/html": [
       "<div>\n",
       "<style scoped>\n",
       "    .dataframe tbody tr th:only-of-type {\n",
       "        vertical-align: middle;\n",
       "    }\n",
       "\n",
       "    .dataframe tbody tr th {\n",
       "        vertical-align: top;\n",
       "    }\n",
       "\n",
       "    .dataframe thead th {\n",
       "        text-align: right;\n",
       "    }\n",
       "</style>\n",
       "<table border=\"1\" class=\"dataframe\">\n",
       "  <thead>\n",
       "    <tr style=\"text-align: right;\">\n",
       "      <th></th>\n",
       "      <th>cleaned_text</th>\n",
       "      <th>actual</th>\n",
       "      <th>pred</th>\n",
       "      <th>p_0</th>\n",
       "      <th>p_1</th>\n",
       "      <th>p_2</th>\n",
       "    </tr>\n",
       "  </thead>\n",
       "  <tbody>\n",
       "    <tr>\n",
       "      <th>6655</th>\n",
       "      <td>like right gun are suddenli bad when brown peo...</td>\n",
       "      <td>0</td>\n",
       "      <td>0</td>\n",
       "      <td>0.690934</td>\n",
       "      <td>0.273799</td>\n",
       "      <td>0.035268</td>\n",
       "    </tr>\n",
       "    <tr>\n",
       "      <th>4452</th>\n",
       "      <td>you forgot about kill of the non believ</td>\n",
       "      <td>1</td>\n",
       "      <td>1</td>\n",
       "      <td>0.404492</td>\n",
       "      <td>0.512790</td>\n",
       "      <td>0.082718</td>\n",
       "    </tr>\n",
       "    <tr>\n",
       "      <th>8543</th>\n",
       "      <td>but will not be abl to yeah and they won t get...</td>\n",
       "      <td>0</td>\n",
       "      <td>0</td>\n",
       "      <td>0.890687</td>\n",
       "      <td>0.103951</td>\n",
       "      <td>0.005361</td>\n",
       "    </tr>\n",
       "    <tr>\n",
       "      <th>28928</th>\n",
       "      <td>jacti0nj2 sheisyoana u gon fall back and lose ...</td>\n",
       "      <td>0</td>\n",
       "      <td>1</td>\n",
       "      <td>0.255760</td>\n",
       "      <td>0.645330</td>\n",
       "      <td>0.098910</td>\n",
       "    </tr>\n",
       "    <tr>\n",
       "      <th>22644</th>\n",
       "      <td>women with masculin spirit are trash</td>\n",
       "      <td>1</td>\n",
       "      <td>0</td>\n",
       "      <td>0.737607</td>\n",
       "      <td>0.254461</td>\n",
       "      <td>0.007932</td>\n",
       "    </tr>\n",
       "    <tr>\n",
       "      <th>...</th>\n",
       "      <td>...</td>\n",
       "      <td>...</td>\n",
       "      <td>...</td>\n",
       "      <td>...</td>\n",
       "      <td>...</td>\n",
       "      <td>...</td>\n",
       "    </tr>\n",
       "    <tr>\n",
       "      <th>21363</th>\n",
       "      <td>pussi nigga make me sick bitch you make me sick</td>\n",
       "      <td>0</td>\n",
       "      <td>2</td>\n",
       "      <td>0.062837</td>\n",
       "      <td>0.380289</td>\n",
       "      <td>0.556874</td>\n",
       "    </tr>\n",
       "    <tr>\n",
       "      <th>9744</th>\n",
       "      <td>yea anybodi who talk about grab pussi or galva...</td>\n",
       "      <td>0</td>\n",
       "      <td>1</td>\n",
       "      <td>0.037149</td>\n",
       "      <td>0.641160</td>\n",
       "      <td>0.321691</td>\n",
       "    </tr>\n",
       "    <tr>\n",
       "      <th>38623</th>\n",
       "      <td>i love it women turn to rule</td>\n",
       "      <td>0</td>\n",
       "      <td>0</td>\n",
       "      <td>0.716081</td>\n",
       "      <td>0.280192</td>\n",
       "      <td>0.003728</td>\n",
       "    </tr>\n",
       "    <tr>\n",
       "      <th>29958</th>\n",
       "      <td>badh badh baba ertugru66904008 lndianpresid ja...</td>\n",
       "      <td>1</td>\n",
       "      <td>2</td>\n",
       "      <td>0.288596</td>\n",
       "      <td>0.301773</td>\n",
       "      <td>0.409631</td>\n",
       "    </tr>\n",
       "    <tr>\n",
       "      <th>1534</th>\n",
       "      <td>there are far more japanes in my home countri ...</td>\n",
       "      <td>0</td>\n",
       "      <td>0</td>\n",
       "      <td>0.647224</td>\n",
       "      <td>0.103408</td>\n",
       "      <td>0.249368</td>\n",
       "    </tr>\n",
       "  </tbody>\n",
       "</table>\n",
       "<p>10500 rows × 6 columns</p>\n",
       "</div>"
      ],
      "text/plain": [
       "                                            cleaned_text  actual  pred  \\\n",
       "6655   like right gun are suddenli bad when brown peo...       0     0   \n",
       "4452             you forgot about kill of the non believ       1     1   \n",
       "8543   but will not be abl to yeah and they won t get...       0     0   \n",
       "28928  jacti0nj2 sheisyoana u gon fall back and lose ...       0     1   \n",
       "22644               women with masculin spirit are trash       1     0   \n",
       "...                                                  ...     ...   ...   \n",
       "21363    pussi nigga make me sick bitch you make me sick       0     2   \n",
       "9744   yea anybodi who talk about grab pussi or galva...       0     1   \n",
       "38623                       i love it women turn to rule       0     0   \n",
       "29958  badh badh baba ertugru66904008 lndianpresid ja...       1     2   \n",
       "1534   there are far more japanes in my home countri ...       0     0   \n",
       "\n",
       "            p_0       p_1       p_2  \n",
       "6655   0.690934  0.273799  0.035268  \n",
       "4452   0.404492  0.512790  0.082718  \n",
       "8543   0.890687  0.103951  0.005361  \n",
       "28928  0.255760  0.645330  0.098910  \n",
       "22644  0.737607  0.254461  0.007932  \n",
       "...         ...       ...       ...  \n",
       "21363  0.062837  0.380289  0.556874  \n",
       "9744   0.037149  0.641160  0.321691  \n",
       "38623  0.716081  0.280192  0.003728  \n",
       "29958  0.288596  0.301773  0.409631  \n",
       "1534   0.647224  0.103408  0.249368  \n",
       "\n",
       "[10500 rows x 6 columns]"
      ]
     },
     "execution_count": 27,
     "metadata": {},
     "output_type": "execute_result"
    }
   ],
   "source": [
    "hyper_pred_comparer"
   ]
  },
  {
   "cell_type": "code",
   "execution_count": null,
   "id": "0d4fb6ee",
   "metadata": {},
   "outputs": [],
   "source": []
  },
  {
   "cell_type": "markdown",
   "id": "b48ba425",
   "metadata": {},
   "source": [
    "## A second wind - continuing with modeling\n",
    "\n",
    "We'll keep the current data size, train test split, and weights. Now that we finally have a proper metric we're tuning for\n",
    "we got this.\n",
    "\n",
    "Note that I played around quite a bit with test size and noticed such great changes as it changed. Ie we were hovering\n",
    "at around .52 'originally' when test size was 10.5k; .63 with the current 3845; a shocking .34ish with 2735. So, this definitely would seem to be a hyperparameer to tune, being based upon the relative resample distribution, however I am satisfied with the current results. As, accordingly to everybody - this is quite a difficult issue to do. And, in all honesty, a model'sperformance isn't so critical when it's going to have multiple messages to compare each other with AND finally have a human visually inspect the messages...\n",
    "    Reminder that the above custom_recall accuracies were based upon Tiffany with Logreg.\n",
    "\n",
    "I think I had another proclaimation but whatever. Let us continue and finally build the models. Oh, perhaps it was the acceptance that likely we will end up using all the features. Perhaps that'll change with forests and the like, but I suspect that trend will continue by cvec x logreg at least."
   ]
  },
  {
   "cell_type": "code",
   "execution_count": 44,
   "id": "f96354eb",
   "metadata": {},
   "outputs": [
    {
     "name": "stdout",
     "output_type": "stream",
     "text": [
      "0.9983333333333333 0.47143278550358203\n",
      "0.8344166666666666\n",
      "{'cvec__max_df': 0.95, 'cvec__max_features': None, 'cvec__min_df': 0.0, 'cvec__ngram_range': (1, 3), 'cvec__stop_words': 'english'}\n"
     ]
    }
   ],
   "source": [
    "pipe = Pipeline([\n",
    "    ('cvec', CountVectorizer(lowercase=False))\n",
    "    ,('lr', LogisticRegression(max_iter=2500, multi_class='multinomial', class_weight=current_weights))\n",
    "])\n",
    "\n",
    "pipe_params = {'cvec__min_df' : [.00]\n",
    "               ,'cvec__max_df' : [.95]\n",
    "               ,'cvec__ngram_range' : [(1, 1),(1,2),(1,3)]\n",
    "               ,'cvec__max_features' : [2000, 4000, 8000, None]\n",
    "               ,'cvec__stop_words' : [None, 'english']\n",
    "               }\n",
    "scorer = make_scorer(custom_recall, weight_list=cw_values) #Note the 1: as we're now ignoring 0 for the scoring\n",
    "gs = GridSearchCV(pipe\n",
    "                  ,param_grid=pipe_params\n",
    "                  ,cv=5\n",
    "                  ,scoring=scorer\n",
    "                 )\n",
    "\n",
    "gs.fit(X_train, y_train)\n",
    "\n",
    "print(gs.score(X_train, y_train), gs.score(X_test, y_test))\n",
    "print(gs.best_score_)\n",
    "print(gs.best_params_)"
   ]
  },
  {
   "cell_type": "code",
   "execution_count": 245,
   "id": "cac5d9a8",
   "metadata": {},
   "outputs": [
    {
     "name": "stdout",
     "output_type": "stream",
     "text": [
      "0.998 0.6459709379128138\n"
     ]
    },
    {
     "data": {
      "image/png": "[encoded data removed]",
      "text/plain": [
       "<Figure size 640x480 with 2 Axes>"
      ]
     },
     "metadata": {},
     "output_type": "display_data"
    }
   ],
   "source": [
    "trial_model = gs.best_estimator_\n",
    "trial_model.fit(X_train,y_train)\n",
    "print(trial_model.score(X_train, y_train), trial_model.score(X_test, y_test))\n",
    "\n",
    "preds = trial_model.predict(X_test)\n",
    "preds_prob = trial_model.predict_proba(X_test)\n",
    "hyper_pred_comparer = pd.DataFrame({\n",
    "    'cleaned_text':X_test\n",
    "    ,'actual':y_test\n",
    "    ,'pred':preds\n",
    "    ,'p_0':preds_prob[:,0]\n",
    "    ,'p_1':preds_prob[:,1]\n",
    "    ,'p_2':preds_prob[:,2]\n",
    "})\n",
    "\n",
    "ConfusionMatrixDisplay.from_estimator(trial_model,X_test,y_test, cmap='Greens');"
   ]
  },
  {
   "cell_type": "code",
   "execution_count": 246,
   "id": "26f1d38d",
   "metadata": {},
   "outputs": [
    {
     "data": {
      "text/plain": [
       "0.4813190054782975"
      ]
     },
     "execution_count": 246,
     "metadata": {},
     "output_type": "execute_result"
    }
   ],
   "source": [
    "class_twos = confusion_matrix(y_test, preds)[2]\n",
    "class_ones = confusion_matrix(y_test, preds)[1]\n",
    "(cw_values[1]*(class_ones[1]/sum(class_ones))+cw_values[2]*(class_twos[2]/sum(class_twos)))/sum(cw_values[1:])\n",
    "\n",
    "#Not up to the challenge, but still 'decent'. Note the '1,3'"
   ]
  },
  {
   "cell_type": "markdown",
   "id": "081fd4bd",
   "metadata": {},
   "source": [
    "For the pevious cvec x logreg, as well as the many to com, they in short came disapointingly short of accurately predicting the matters. Perhaps I need to play with more hyperparameters though before I abandon thm.\n",
    "\n",
    "However,please bear in mind - unlike logreg the following don't have a class_weight parameter. So, as we noticed above, how much of a part that plays IN ADDITION to the theortical encouragement of our pipe to go for the customer. "
   ]
  },
  {
   "cell_type": "code",
   "execution_count": 256,
   "id": "d9ddba63",
   "metadata": {},
   "outputs": [
    {
     "name": "stdout",
     "output_type": "stream",
     "text": [
      "0.8178333333333332 0.6782481333035302\n",
      "0.6955833333333332\n",
      "{'cvec__max_df': 0.95, 'cvec__max_features': 14850, 'cvec__min_df': 0.0, 'cvec__ngram_range': (1, 3), 'cvec__stop_words': 'english', 'mnb__alpha': 1.0}\n"
     ]
    }
   ],
   "source": [
    "pipe = Pipeline([\n",
    "    ('cvec', CountVectorizer(lowercase=False))\n",
    "    ,('to_dense', FunctionTransformer(lambda x: x.toarray(), accept_sparse=True))\n",
    "    ,('mnb', MultinomialNB())\n",
    "])\n",
    "pipe_params = {'cvec__min_df' : [.0]\n",
    "               ,'cvec__max_df' : [.95]\n",
    "               ,'cvec__ngram_range' : [(1,3)]\n",
    "               ,'cvec__max_features' : [14850, 14875, 14900]\n",
    "               ,'cvec__stop_words' : ['english']\n",
    "               ,'mnb__alpha': [1.0]\n",
    "              }\n",
    "scorer = make_scorer(custom_recall, weight_list=cw_values[1:]) #Note the 1: as we're now ignoring 0 for the scoring\n",
    "gs = GridSearchCV(pipe\n",
    "                  ,param_grid=pipe_params\n",
    "                  ,cv=5\n",
    "                  ,scoring=scorer\n",
    "                 )\n",
    "\n",
    "gs.fit(X_train, y_train)\n",
    "\n",
    "print(gs.score(X_train, y_train), gs.score(X_test, y_test))\n",
    "print(gs.best_score_)\n",
    "print(gs.best_params_)"
   ]
  },
  {
   "cell_type": "code",
   "execution_count": 259,
   "id": "cdb8c727",
   "metadata": {},
   "outputs": [
    {
     "name": "stdout",
     "output_type": "stream",
     "text": [
      "0.7615833333333333 0.6874504623513871\n",
      "<bound method Pipeline.get_params of Pipeline(steps=[('cvec',\n",
      "                 CountVectorizer(lowercase=False, max_df=0.95,\n",
      "                                 max_features=14850, min_df=0.0,\n",
      "                                 ngram_range=(1, 3), stop_words='english')),\n",
      "                ('to_dense',\n",
      "                 FunctionTransformer(accept_sparse=True,\n",
      "                                     func=<function <lambda> at 0x0000024B6B2BCFE0>)),\n",
      "                ('mnb', MultinomialNB())])>\n"
     ]
    },
    {
     "data": {
      "image/png": "[encoded data removed]",
      "text/plain": [
       "<Figure size 640x480 with 2 Axes>"
      ]
     },
     "metadata": {},
     "output_type": "display_data"
    }
   ],
   "source": [
    "trial_model = gs.best_estimator_\n",
    "trial_model.fit(X_train,y_train)\n",
    "print(trial_model.score(X_train, y_train), trial_model.score(X_test, y_test))\n",
    "print(trial_model.get_params)\n",
    "\n",
    "preds = trial_model.predict(X_test)\n",
    "preds_prob = trial_model.predict_proba(X_test)\n",
    "hyper_pred_comparer = pd.DataFrame({\n",
    "    'cleaned_text':X_test\n",
    "    ,'actual':y_test\n",
    "    ,'pred':preds\n",
    "    ,'p_0':preds_prob[:,0]\n",
    "    ,'p_1':preds_prob[:,1]\n",
    "    ,'p_2':preds_prob[:,2]\n",
    "})\n",
    "\n",
    "ConfusionMatrixDisplay.from_estimator(trial_model,X_test,y_test, cmap='Greens');"
   ]
  },
  {
   "cell_type": "code",
   "execution_count": 258,
   "id": "49c1228c",
   "metadata": {},
   "outputs": [
    {
     "data": {
      "text/plain": [
       "0.3095153813737885"
      ]
     },
     "execution_count": 258,
     "metadata": {},
     "output_type": "execute_result"
    }
   ],
   "source": [
    "class_twos = confusion_matrix(y_test, preds)[2]\n",
    "class_ones = confusion_matrix(y_test, preds)[1]\n",
    "(cw_values[1]*(class_ones[1]/sum(class_ones))+cw_values[2]*(class_twos[2]/sum(class_twos)))/sum(cw_values[1:])\n",
    "#Hmm, yeah that's not good... decent on 1s though. Notice i the documentations that the "
   ]
  },
  {
   "cell_type": "code",
   "execution_count": null,
   "id": "f9244056",
   "metadata": {},
   "outputs": [],
   "source": []
  },
  {
   "cell_type": "code",
   "execution_count": 279,
   "id": "533d0d19",
   "metadata": {},
   "outputs": [
    {
     "name": "stdout",
     "output_type": "stream",
     "text": [
      "0.8269166666666667 0.6770744063267232\n",
      "0.6980000000000001\n",
      "{'mnb__alpha': 0.98, 'tvec__max_df': 0.95, 'tvec__max_features': 18050, 'tvec__min_df': 0.0, 'tvec__ngram_range': (1, 4), 'tvec__stop_words': 'english'}\n"
     ]
    }
   ],
   "source": [
    "pipe = Pipeline([\n",
    "    ('tvec', TfidfVectorizer(lowercase=False))\n",
    "    ,('to_dense', FunctionTransformer(lambda x: x.toarray(), accept_sparse=True))\n",
    "    ,('mnb', MultinomialNB())\n",
    "])\n",
    "pipe_params = {'tvec__min_df' : [.0]\n",
    "               ,'tvec__max_df' : [.95]\n",
    "               ,'tvec__ngram_range' : [(1,3), (2,3),(1,4)]\n",
    "               ,'tvec__max_features' : [18000, 18050, 17950]\n",
    "               ,'tvec__stop_words' : ['english']\n",
    "               ,'mnb__alpha': [.98]\n",
    "              }\n",
    "scorer = make_scorer(custom_recall, weight_list=cw_values[1:]) #Note the 1: as we're now ignoring 0 for the scoring\n",
    "gs = GridSearchCV(pipe\n",
    "                  ,param_grid=pipe_params\n",
    "                  ,cv=5\n",
    "                  ,scoring=scorer\n",
    "                 )\n",
    "\n",
    "gs.fit(X_train, y_train)\n",
    "\n",
    "print(gs.score(X_train, y_train), gs.score(X_test, y_test))\n",
    "print(gs.best_score_)\n",
    "print(gs.best_params_)"
   ]
  },
  {
   "cell_type": "code",
   "execution_count": 280,
   "id": "f3593ce5",
   "metadata": {},
   "outputs": [
    {
     "name": "stdout",
     "output_type": "stream",
     "text": [
      "0.7813333333333333 0.7064729194187582\n",
      "<bound method Pipeline.get_params of Pipeline(steps=[('tvec',\n",
      "                 TfidfVectorizer(lowercase=False, max_df=0.95,\n",
      "                                 max_features=18050, min_df=0.0,\n",
      "                                 ngram_range=(1, 4), stop_words='english')),\n",
      "                ('to_dense',\n",
      "                 FunctionTransformer(accept_sparse=True,\n",
      "                                     func=<function <lambda> at 0x0000024B13F77880>)),\n",
      "                ('mnb', MultinomialNB(alpha=0.98))])>\n"
     ]
    },
    {
     "data": {
      "image/png": "[encoded data removed]",
      "text/plain": [
       "<Figure size 640x480 with 2 Axes>"
      ]
     },
     "metadata": {},
     "output_type": "display_data"
    }
   ],
   "source": [
    "trial_model = gs.best_estimator_\n",
    "trial_model.fit(X_train,y_train)\n",
    "print(trial_model.score(X_train, y_train), trial_model.score(X_test, y_test))\n",
    "print(trial_model.get_params)\n",
    "\n",
    "preds = trial_model.predict(X_test)\n",
    "preds_prob = trial_model.predict_proba(X_test)\n",
    "hyper_pred_comparer = pd.DataFrame({\n",
    "    'cleaned_text':X_test\n",
    "    ,'actual':y_test\n",
    "    ,'pred':preds\n",
    "    ,'p_0':preds_prob[:,0]\n",
    "    ,'p_1':preds_prob[:,1]\n",
    "    ,'p_2':preds_prob[:,2]\n",
    "})\n",
    "\n",
    "ConfusionMatrixDisplay.from_estimator(trial_model,X_test,y_test, cmap='Greens');"
   ]
  },
  {
   "cell_type": "code",
   "execution_count": 281,
   "id": "ad846788",
   "metadata": {},
   "outputs": [
    {
     "data": {
      "text/plain": [
       "0.3140370838600927"
      ]
     },
     "execution_count": 281,
     "metadata": {},
     "output_type": "execute_result"
    }
   ],
   "source": [
    "class_twos = confusion_matrix(y_test, preds)[2]\n",
    "class_ones = confusion_matrix(y_test, preds)[1]\n",
    "(cw_values[1]*(class_ones[1]/sum(class_ones))+cw_values[2]*(class_twos[2]/sum(class_twos)))/sum(cw_values[1:])"
   ]
  },
  {
   "cell_type": "code",
   "execution_count": 287,
   "id": "65aab70f",
   "metadata": {},
   "outputs": [
    {
     "name": "stdout",
     "output_type": "stream",
     "text": [
      "0.5446666666666666 0.5435011995182017\n",
      "0.5385833333333334\n",
      "{'cvec__max_df': 0.95, 'cvec__max_features': 2000, 'cvec__min_df': 0.05, 'cvec__ngram_range': (1, 2), 'cvec__stop_words': None}\n"
     ]
    }
   ],
   "source": [
    "#ote, this one ran pretty quickly.\n",
    "pipe = Pipeline([\n",
    "    ('cvec', CountVectorizer(lowercase=False))\n",
    "    ,('to_dense', FunctionTransformer(lambda x: x.toarray(), accept_sparse=True))\n",
    "    ,('gnb', GaussianNB())\n",
    "])\n",
    "pipe_params = {'cvec__min_df' : [.05]\n",
    "               ,'cvec__max_df' : [.95]\n",
    "               ,'cvec__ngram_range' : [(1,2)]\n",
    "               ,'cvec__max_features' : [2000, 1975, 2025]\n",
    "               ,'cvec__stop_words' : [None]\n",
    "              }\n",
    "scorer = make_scorer(custom_recall, weight_list=cw_values[1:]) #Note the 1: as we're now ignoring 0 for the scoring\n",
    "gs = GridSearchCV(pipe\n",
    "                  ,param_grid=pipe_params\n",
    "                  ,cv=5\n",
    "                  ,scoring=scorer\n",
    "                 )\n",
    "\n",
    "gs.fit(X_train, y_train)\n",
    "\n",
    "print(gs.score(X_train, y_train), gs.score(X_test, y_test))\n",
    "print(gs.best_score_)\n",
    "print(gs.best_params_)"
   ]
  },
  {
   "cell_type": "code",
   "execution_count": 288,
   "id": "ec57f967",
   "metadata": {},
   "outputs": [
    {
     "name": "stdout",
     "output_type": "stream",
     "text": [
      "0.47541666666666665 0.5128137384412154\n",
      "<bound method Pipeline.get_params of Pipeline(steps=[('cvec',\n",
      "                 CountVectorizer(lowercase=False, max_df=0.95,\n",
      "                                 max_features=2000, min_df=0.05,\n",
      "                                 ngram_range=(1, 2))),\n",
      "                ('to_dense',\n",
      "                 FunctionTransformer(accept_sparse=True,\n",
      "                                     func=<function <lambda> at 0x0000024B1C2CA3E0>)),\n",
      "                ('gnb', GaussianNB())])>\n"
     ]
    },
    {
     "data": {
      "image/png": "[encoded data removed]",
      "text/plain": [
       "<Figure size 640x480 with 2 Axes>"
      ]
     },
     "metadata": {},
     "output_type": "display_data"
    }
   ],
   "source": [
    "trial_model = gs.best_estimator_\n",
    "trial_model.fit(X_train,y_train)\n",
    "print(trial_model.score(X_train, y_train), trial_model.score(X_test, y_test))\n",
    "print(trial_model.get_params)\n",
    "\n",
    "preds = trial_model.predict(X_test)\n",
    "preds_prob = trial_model.predict_proba(X_test)\n",
    "hyper_pred_comparer = pd.DataFrame({\n",
    "    'cleaned_text':X_test\n",
    "    ,'actual':y_test\n",
    "    ,'pred':preds\n",
    "    ,'p_0':preds_prob[:,0]\n",
    "    ,'p_1':preds_prob[:,1]\n",
    "    ,'p_2':preds_prob[:,2]\n",
    "})\n",
    "\n",
    "ConfusionMatrixDisplay.from_estimator(trial_model,X_test,y_test, cmap='Greens');"
   ]
  },
  {
   "cell_type": "code",
   "execution_count": 289,
   "id": "ddc4d9e6",
   "metadata": {},
   "outputs": [
    {
     "data": {
      "text/plain": [
       "0.4471049304677623"
      ]
     },
     "execution_count": 289,
     "metadata": {},
     "output_type": "execute_result"
    }
   ],
   "source": [
    "class_twos = confusion_matrix(y_test, preds)[2]\n",
    "class_ones = confusion_matrix(y_test, preds)[1]\n",
    "(cw_values[1]*(class_ones[1]/sum(class_ones))+cw_values[2]*(class_twos[2]/sum(class_twos)))/sum(cw_values[1:])"
   ]
  },
  {
   "cell_type": "code",
   "execution_count": 298,
   "id": "eca270aa",
   "metadata": {},
   "outputs": [
    {
     "name": "stdout",
     "output_type": "stream",
     "text": [
      "0.9605000000000001 0.5833985655252465\n",
      "0.68225\n",
      "{'tvec__max_df': 0.95, 'tvec__max_features': 14875, 'tvec__min_df': 0.0, 'tvec__ngram_range': (1, 2), 'tvec__stop_words': None}\n"
     ]
    }
   ],
   "source": [
    "pipe = Pipeline([\n",
    "    ('tvec', TfidfVectorizer(lowercase=False))\n",
    "    ,('to_dense', FunctionTransformer(lambda x: x.toarray(), accept_sparse=True))\n",
    "    ,('gnb', GaussianNB())\n",
    "])\n",
    "pipe_params = {'tvec__min_df' : [.0]\n",
    "               ,'tvec__max_df' : [.95]\n",
    "               ,'tvec__ngram_range' : [(1,2)]\n",
    "               ,'tvec__max_features' : [14825, 14925, 14875]\n",
    "               ,'tvec__stop_words' : [None]\n",
    "              }\n",
    "scorer = make_scorer(custom_recall, weight_list=cw_values[1:]) #Note the 1: as we're now ignoring 0 for the scoring\n",
    "gs = GridSearchCV(pipe\n",
    "                  ,param_grid=pipe_params\n",
    "                  ,cv=5\n",
    "                  ,scoring=scorer\n",
    "                 )\n",
    "\n",
    "gs.fit(X_train, y_train)\n",
    "\n",
    "print(gs.score(X_train, y_train), gs.score(X_test, y_test))\n",
    "print(gs.best_score_)\n",
    "print(gs.best_params_)"
   ]
  },
  {
   "cell_type": "code",
   "execution_count": 299,
   "id": "1633ccbb",
   "metadata": {},
   "outputs": [
    {
     "name": "stdout",
     "output_type": "stream",
     "text": [
      "0.9036666666666666 0.6050198150594451\n",
      "<bound method Pipeline.get_params of Pipeline(steps=[('tvec',\n",
      "                 TfidfVectorizer(lowercase=False, max_df=0.95,\n",
      "                                 max_features=14875, min_df=0.0,\n",
      "                                 ngram_range=(1, 2))),\n",
      "                ('to_dense',\n",
      "                 FunctionTransformer(accept_sparse=True,\n",
      "                                     func=<function <lambda> at 0x0000024B13F76FC0>)),\n",
      "                ('gnb', GaussianNB())])>\n"
     ]
    },
    {
     "data": {
      "image/png": "[encoded data removed]",
      "text/plain": [
       "<Figure size 640x480 with 2 Axes>"
      ]
     },
     "metadata": {},
     "output_type": "display_data"
    }
   ],
   "source": [
    "trial_model = gs.best_estimator_\n",
    "trial_model.fit(X_train,y_train)\n",
    "print(trial_model.score(X_train, y_train), trial_model.score(X_test, y_test))\n",
    "print(trial_model.get_params)\n",
    "\n",
    "preds = trial_model.predict(X_test)\n",
    "preds_prob = trial_model.predict_proba(X_test)\n",
    "hyper_pred_comparer = pd.DataFrame({\n",
    "    'cleaned_text':X_test\n",
    "    ,'actual':y_test\n",
    "    ,'pred':preds\n",
    "    ,'p_0':preds_prob[:,0]\n",
    "    ,'p_1':preds_prob[:,1]\n",
    "    ,'p_2':preds_prob[:,2]\n",
    "})\n",
    "\n",
    "ConfusionMatrixDisplay.from_estimator(trial_model,X_test,y_test, cmap='Greens');"
   ]
  },
  {
   "cell_type": "code",
   "execution_count": 300,
   "id": "19d707d6",
   "metadata": {},
   "outputs": [
    {
     "data": {
      "text/plain": [
       "0.30997892962494733"
      ]
     },
     "execution_count": 300,
     "metadata": {},
     "output_type": "execute_result"
    }
   ],
   "source": [
    "class_twos = confusion_matrix(y_test, preds)[2]\n",
    "class_ones = confusion_matrix(y_test, preds)[1]\n",
    "(cw_values[1]*(class_ones[1]/sum(class_ones))+cw_values[2]*(class_twos[2]/sum(class_twos)))/sum(cw_values[1:])"
   ]
  },
  {
   "cell_type": "markdown",
   "id": "b5e152c6",
   "metadata": {},
   "source": [
    "A new day and a new model to try, albeit it is in the family of the others. Might as well try. Fun fact when I was schmoozing earlier today with Eric, \"More often than not, the logreg does as well if not better than the fancier models.\""
   ]
  },
  {
   "cell_type": "code",
   "execution_count": 23,
   "id": "7f5748a8",
   "metadata": {},
   "outputs": [
    {
     "name": "stdout",
     "output_type": "stream",
     "text": [
      "0.78125 0.5822212187273855\n",
      "0.6199166666666667\n",
      "{'conb__alpha': 0.85, 'cvec__max_df': 0.95, 'cvec__max_features': 20000, 'cvec__min_df': 0.0, 'cvec__ngram_range': (1, 3), 'cvec__stop_words': 'english'}\n"
     ]
    }
   ],
   "source": [
    "#There's honestly more tuning to do, but given that we're still in the 31% range...\n",
    "pipe = Pipeline([\n",
    "    ('cvec', CountVectorizer(lowercase=False))\n",
    "    ,('to_dense', FunctionTransformer(lambda x: x.toarray(), accept_sparse=True))\n",
    "    ,('conb', ComplementNB())\n",
    "])\n",
    "pipe_params = {'cvec__min_df' : [.0]\n",
    "               ,'cvec__max_df' : [.95]\n",
    "               ,'cvec__ngram_range' : [(1,3)]\n",
    "               ,'cvec__max_features' : [16000, 20000]\n",
    "               ,'cvec__stop_words' : ['english']\n",
    "               ,'conb__alpha': [.9, .85]\n",
    "              }\n",
    "scorer = make_scorer(custom_recall, weight_list=cw_values[1:]) #Note the 1: as we're now ignoring 0 for the scoring\n",
    "gs = GridSearchCV(pipe\n",
    "                  ,param_grid=pipe_params\n",
    "                  ,cv=5\n",
    "                  ,scoring=scorer\n",
    "                 )\n",
    "\n",
    "gs.fit(X_train, y_train)\n",
    "\n",
    "print(gs.score(X_train, y_train), gs.score(X_test, y_test))\n",
    "print(gs.best_score_)\n",
    "print(gs.best_params_)"
   ]
  },
  {
   "cell_type": "code",
   "execution_count": 24,
   "id": "d22dcbe6",
   "metadata": {},
   "outputs": [
    {
     "name": "stdout",
     "output_type": "stream",
     "text": [
      "0.7941666666666667 0.7003963011889036\n",
      "<bound method Pipeline.get_params of Pipeline(steps=[('cvec',\n",
      "                 CountVectorizer(lowercase=False, max_df=0.95,\n",
      "                                 max_features=20000, min_df=0.0,\n",
      "                                 ngram_range=(1, 3), stop_words='english')),\n",
      "                ('to_dense',\n",
      "                 FunctionTransformer(accept_sparse=True,\n",
      "                                     func=<function <lambda> at 0x000001BE23E4AFC0>)),\n",
      "                ('conb', ComplementNB(alpha=0.85))])>\n"
     ]
    },
    {
     "data": {
      "image/png": "[encoded data removed]",
      "text/plain": [
       "<Figure size 640x480 with 2 Axes>"
      ]
     },
     "metadata": {},
     "output_type": "display_data"
    }
   ],
   "source": [
    "trial_model = gs.best_estimator_\n",
    "trial_model.fit(X_train,y_train)\n",
    "print(trial_model.score(X_train, y_train), trial_model.score(X_test, y_test))\n",
    "print(trial_model.get_params)\n",
    "\n",
    "preds = trial_model.predict(X_test)\n",
    "preds_prob = trial_model.predict_proba(X_test)\n",
    "hyper_pred_comparer = pd.DataFrame({\n",
    "    'cleaned_text':X_test\n",
    "    ,'actual':y_test\n",
    "    ,'pred':preds\n",
    "    ,'p_0':preds_prob[:,0]\n",
    "    ,'p_1':preds_prob[:,1]\n",
    "    ,'p_2':preds_prob[:,2]\n",
    "})\n",
    "\n",
    "ConfusionMatrixDisplay.from_estimator(trial_model,X_test,y_test, cmap='Greens');"
   ]
  },
  {
   "cell_type": "code",
   "execution_count": 25,
   "id": "72f56578",
   "metadata": {},
   "outputs": [
    {
     "data": {
      "text/plain": [
       "0.30802781289506953"
      ]
     },
     "execution_count": 25,
     "metadata": {},
     "output_type": "execute_result"
    }
   ],
   "source": [
    "class_twos = confusion_matrix(y_test, preds)[2]\n",
    "class_ones = confusion_matrix(y_test, preds)[1]\n",
    "(cw_values[1]*(class_ones[1]/sum(class_ones))+cw_values[2]*(class_twos[2]/sum(class_twos)))/sum(cw_values[1:])"
   ]
  },
  {
   "cell_type": "code",
   "execution_count": 28,
   "id": "2c1c2686",
   "metadata": {},
   "outputs": [
    {
     "name": "stdout",
     "output_type": "stream",
     "text": [
      "0.8045833333333333 0.612620325114228\n",
      "0.6509166666666667\n",
      "{'cong__alpha': 1.0, 'tvec__max_df': 0.95, 'tvec__max_features': 20000, 'tvec__min_df': 0.0, 'tvec__ngram_range': (1, 4), 'tvec__stop_words': 'english'}\n"
     ]
    }
   ],
   "source": [
    "pipe = Pipeline([\n",
    "    ('tvec', TfidfVectorizer(lowercase=False))\n",
    "    ,('to_dense', FunctionTransformer(lambda x: x.toarray(), accept_sparse=True))\n",
    "    ,('cong', ComplementNB())\n",
    "])\n",
    "pipe_params = {'tvec__min_df' : [.0]\n",
    "               ,'tvec__max_df' : [.95]\n",
    "               ,'tvec__ngram_range' : [(1,3), (1,4)]\n",
    "               ,'tvec__max_features' : [16000, 20000, 12000]\n",
    "               ,'tvec__stop_words' : ['english']\n",
    "               ,'cong__alpha': [1.0]\n",
    "              }\n",
    "scorer = make_scorer(custom_recall, weight_list=cw_values[1:]) #Note the 1: as we're now ignoring 0 for the scoring\n",
    "gs = GridSearchCV(pipe\n",
    "                  ,param_grid=pipe_params\n",
    "                  ,cv=5\n",
    "                  ,scoring=scorer\n",
    "                 )\n",
    "\n",
    "gs.fit(X_train, y_train)\n",
    "\n",
    "print(gs.score(X_train, y_train), gs.score(X_test, y_test))\n",
    "print(gs.best_score_)\n",
    "print(gs.best_params_)"
   ]
  },
  {
   "cell_type": "code",
   "execution_count": 29,
   "id": "35a7339f",
   "metadata": {},
   "outputs": [
    {
     "name": "stdout",
     "output_type": "stream",
     "text": [
      "0.8024166666666667 0.7191545574636724\n",
      "<bound method Pipeline.get_params of Pipeline(steps=[('tvec',\n",
      "                 TfidfVectorizer(lowercase=False, max_df=0.95,\n",
      "                                 max_features=20000, min_df=0.0,\n",
      "                                 ngram_range=(1, 4), stop_words='english')),\n",
      "                ('to_dense',\n",
      "                 FunctionTransformer(accept_sparse=True,\n",
      "                                     func=<function <lambda> at 0x000001BE30674F40>)),\n",
      "                ('cong', ComplementNB())])>\n"
     ]
    },
    {
     "data": {
      "image/png": "[encoded data removed]",
      "text/plain": [
       "<Figure size 640x480 with 2 Axes>"
      ]
     },
     "metadata": {},
     "output_type": "display_data"
    }
   ],
   "source": [
    "trial_model = gs.best_estimator_\n",
    "trial_model.fit(X_train,y_train)\n",
    "print(trial_model.score(X_train, y_train), trial_model.score(X_test, y_test))\n",
    "print(trial_model.get_params)\n",
    "\n",
    "preds = trial_model.predict(X_test)\n",
    "preds_prob = trial_model.predict_proba(X_test)\n",
    "hyper_pred_comparer = pd.DataFrame({\n",
    "    'cleaned_text':X_test\n",
    "    ,'actual':y_test\n",
    "    ,'pred':preds\n",
    "    ,'p_0':preds_prob[:,0]\n",
    "    ,'p_1':preds_prob[:,1]\n",
    "    ,'p_2':preds_prob[:,2]\n",
    "})\n",
    "\n",
    "ConfusionMatrixDisplay.from_estimator(trial_model,X_test,y_test, cmap='Greens');"
   ]
  },
  {
   "cell_type": "code",
   "execution_count": 30,
   "id": "2765c412",
   "metadata": {},
   "outputs": [
    {
     "data": {
      "text/plain": [
       "0.2731605562579014"
      ]
     },
     "execution_count": 30,
     "metadata": {},
     "output_type": "execute_result"
    }
   ],
   "source": [
    "class_twos = confusion_matrix(y_test, preds)[2]\n",
    "class_ones = confusion_matrix(y_test, preds)[1]\n",
    "(cw_values[1]*(class_ones[1]/sum(class_ones))+cw_values[2]*(class_twos[2]/sum(class_twos)))/sum(cw_values[1:])"
   ]
  },
  {
   "cell_type": "markdown",
   "id": "e494eb92",
   "metadata": {},
   "source": [
    "Yeah, that last one is the worst thus far... More and more it seems that the weighting is critical. Fortunately, the Good Lord has spared us with SVC having a probability parameter. On principal I'll first try without it though."
   ]
  },
  {
   "cell_type": "code",
   "execution_count": 37,
   "id": "e1dae707",
   "metadata": {},
   "outputs": [
    {
     "name": "stdout",
     "output_type": "stream",
     "text": [
      "Fitting 5 folds for each of 1 candidates, totalling 5 fits\n",
      "[CV 1/5] END cvec__max_df=1.0, cvec__max_features=2000, cvec__min_df=0.0, cvec__ngram_range=(1, 2), cvec__stop_words=english, svc__C=0.95, svc__kernel=linear;, score=0.556 total time= 7.8min\n",
      "[CV 2/5] END cvec__max_df=1.0, cvec__max_features=2000, cvec__min_df=0.0, cvec__ngram_range=(1, 2), cvec__stop_words=english, svc__C=0.95, svc__kernel=linear;, score=0.559 total time= 7.3min\n",
      "[CV 3/5] END cvec__max_df=1.0, cvec__max_features=2000, cvec__min_df=0.0, cvec__ngram_range=(1, 2), cvec__stop_words=english, svc__C=0.95, svc__kernel=linear;, score=0.575 total time= 7.2min\n",
      "[CV 4/5] END cvec__max_df=1.0, cvec__max_features=2000, cvec__min_df=0.0, cvec__ngram_range=(1, 2), cvec__stop_words=english, svc__C=0.95, svc__kernel=linear;, score=0.560 total time= 6.9min\n",
      "[CV 5/5] END cvec__max_df=1.0, cvec__max_features=2000, cvec__min_df=0.0, cvec__ngram_range=(1, 2), cvec__stop_words=english, svc__C=0.95, svc__kernel=linear;, score=0.558 total time= 8.7min\n",
      "0.7518333333333334 0.5131137067239081\n",
      "0.56175\n",
      "{'cvec__max_df': 1.0, 'cvec__max_features': 2000, 'cvec__min_df': 0.0, 'cvec__ngram_range': (1, 2), 'cvec__stop_words': 'english', 'svc__C': 0.95, 'svc__kernel': 'linear'}\n"
     ]
    }
   ],
   "source": [
    "#NOTE that we need to turn probability to being true...\n",
    "\n",
    "pipe = Pipeline([\n",
    "    ('cvec', CountVectorizer(lowercase=False))\n",
    "    ,('to_dense', FunctionTransformer(lambda x: x.toarray(), accept_sparse=True))\n",
    "    ,('svc', SVC(probability=True, class_weight=current_weights))\n",
    "])\n",
    "pipe_params = {'cvec__min_df' : [.0]\n",
    "               ,'cvec__max_df' : [1.0]\n",
    "               ,'cvec__ngram_range' : [(1,2)]\n",
    "               ,'cvec__max_features' : [2000]\n",
    "               ,'cvec__stop_words' : ['english']\n",
    "               ,'svc__kernel': ['linear']\n",
    "               ,'svc__C': [.95]\n",
    "              }\n",
    "scorer = make_scorer(custom_recall, weight_list=cw_values[1:]) #Note the 1: as we're now ignoring 0 for the scoring\n",
    "gs = GridSearchCV(pipe\n",
    "                  ,param_grid=pipe_params\n",
    "                  ,cv=5\n",
    "                  ,scoring=scorer\n",
    "                  ,verbose=3\n",
    "                 )\n",
    "\n",
    "gs.fit(X_train, y_train)\n",
    "\n",
    "print(gs.score(X_train, y_train), gs.score(X_test, y_test))\n",
    "print(gs.best_score_)\n",
    "print(gs.best_params_)"
   ]
  },
  {
   "cell_type": "code",
   "execution_count": 39,
   "id": "e7398275",
   "metadata": {},
   "outputs": [
    {
     "name": "stdout",
     "output_type": "stream",
     "text": [
      "0.81025 0.516776750330251\n",
      "<bound method Pipeline.get_params of Pipeline(steps=[('cvec',\n",
      "                 CountVectorizer(lowercase=False, max_features=2000, min_df=0.0,\n",
      "                                 ngram_range=(1, 2), stop_words='english')),\n",
      "                ('to_dense',\n",
      "                 FunctionTransformer(accept_sparse=True,\n",
      "                                     func=<function <lambda> at 0x000001BE387C85E0>)),\n",
      "                ('svc',\n",
      "                 SVC(C=0.95, class_weight={0: 0.8, 1: 3, 2: 6}, kernel='linear',\n",
      "                     probability=True))])>\n"
     ]
    },
    {
     "data": {
      "image/png": "[encoded data removed]",
      "text/plain": [
       "<Figure size 640x480 with 2 Axes>"
      ]
     },
     "metadata": {},
     "output_type": "display_data"
    }
   ],
   "source": [
    "trial_model = gs.best_estimator_\n",
    "trial_model.fit(X_train,y_train)\n",
    "print(trial_model.score(X_train, y_train), trial_model.score(X_test, y_test))\n",
    "print(trial_model.get_params)\n",
    "\n",
    "preds = trial_model.predict(X_test)\n",
    "preds_prob = trial_model.predict_proba(X_test)\n",
    "hyper_pred_comparer = pd.DataFrame({\n",
    "    'cleaned_text':X_test\n",
    "    ,'actual':y_test\n",
    "    ,'pred':preds\n",
    "    ,'p_0':preds_prob[:,0]\n",
    "    ,'p_1':preds_prob[:,1]\n",
    "    ,'p_2':preds_prob[:,2]\n",
    "})\n",
    "\n",
    "ConfusionMatrixDisplay.from_estimator(trial_model,X_test,y_test, cmap='Greens');"
   ]
  },
  {
   "cell_type": "code",
   "execution_count": 40,
   "id": "3fc41770",
   "metadata": {},
   "outputs": [
    {
     "data": {
      "text/plain": [
       "0.47940581542351457"
      ]
     },
     "execution_count": 40,
     "metadata": {},
     "output_type": "execute_result"
    }
   ],
   "source": [
    "class_twos = confusion_matrix(y_test, preds)[2]\n",
    "class_ones = confusion_matrix(y_test, preds)[1]\n",
    "(cw_values[1]*(class_ones[1]/sum(class_ones))+cw_values[2]*(class_twos[2]/sum(class_twos)))/sum(cw_values[1:])"
   ]
  },
  {
   "cell_type": "code",
   "execution_count": 41,
   "id": "dd4e4b3f",
   "metadata": {},
   "outputs": [],
   "source": [
    "#A meager .48, however compared to other models... Plus, the fact that this was essentially untuned... However,t his is obviously\n",
    "#too cumbersome to implement, especially given that we won't make decisions from a sole tweet. However, definitely worth\n",
    "#future investigations. Oh, such a shame we do not have the luxury to explore it.\n",
    "\n",
    "#Now, let us at least do one attempt with Tiffany. Fortunately, we'll trim down some of the time, albeit with a loss in accuracy,\n",
    "#by just using 3 cvs. Although computations it's likly also not reasonabl with present conditions, 3/5/24, the idea of\n",
    "#seeing Tiffany wtih with SVec is too tempting to pass up. Recall how well she did earlier with LogReg (.63)!\n",
    "\n",
    "#So, let this arduous journey continue!"
   ]
  },
  {
   "cell_type": "code",
   "execution_count": 42,
   "id": "abd53b60",
   "metadata": {},
   "outputs": [
    {
     "name": "stdout",
     "output_type": "stream",
     "text": [
      "Fitting 3 folds for each of 1 candidates, totalling 3 fits\n",
      "[CV 1/3] END svc__C=0.95, svc__kernel=linear, tvec__max_df=1.0, tvec__max_features=6000, tvec__min_df=0.0, tvec__ngram_range=(1, 2), tvec__stop_words=english;, score=0.581 total time=18.3min\n",
      "[CV 2/3] END svc__C=0.95, svc__kernel=linear, tvec__max_df=1.0, tvec__max_features=6000, tvec__min_df=0.0, tvec__ngram_range=(1, 2), tvec__stop_words=english;, score=0.591 total time=19.8min\n",
      "[CV 3/3] END svc__C=0.95, svc__kernel=linear, tvec__max_df=1.0, tvec__max_features=6000, tvec__min_df=0.0, tvec__ngram_range=(1, 2), tvec__stop_words=english;, score=0.608 total time=23.4min\n",
      "0.8189166666666666 0.5501474926253687\n",
      "0.5933346155129486\n",
      "{'svc__C': 0.95, 'svc__kernel': 'linear', 'tvec__max_df': 1.0, 'tvec__max_features': 6000, 'tvec__min_df': 0.0, 'tvec__ngram_range': (1, 2), 'tvec__stop_words': 'english'}\n"
     ]
    }
   ],
   "source": [
    "pipe = Pipeline([\n",
    "    ('tvec', TfidfVectorizer(lowercase=False))\n",
    "    ,('to_dense', FunctionTransformer(lambda x: x.toarray(), accept_sparse=True))\n",
    "    ,('svc', SVC(probability=True, class_weight=current_weights))\n",
    "])\n",
    "pipe_params = {'tvec__min_df' : [.0]\n",
    "               ,'tvec__max_df' : [1.0]\n",
    "               ,'tvec__ngram_range' : [(1,2)]\n",
    "               ,'tvec__max_features' : [6000]\n",
    "               ,'tvec__stop_words' : ['english']\n",
    "               ,'svc__kernel': ['linear']\n",
    "               ,'svc__C': [.95]\n",
    "              }\n",
    "scorer = make_scorer(custom_recall, weight_list=cw_values[1:]) #Note the 1: as we're now ignoring 0 for the scoring\n",
    "gs = GridSearchCV(pipe\n",
    "                  ,param_grid=pipe_params\n",
    "                  ,cv=3 #For the sake of actually trying to get at least some model...\n",
    "                  ,scoring=scorer\n",
    "                  ,verbose=3\n",
    "                 )\n",
    "\n",
    "gs.fit(X_train, y_train)\n",
    "\n",
    "print(gs.score(X_train, y_train), gs.score(X_test, y_test))\n",
    "print(gs.best_score_)\n",
    "print(gs.best_params_)"
   ]
  },
  {
   "cell_type": "code",
   "execution_count": 43,
   "id": "557513dd",
   "metadata": {},
   "outputs": [
    {
     "name": "stdout",
     "output_type": "stream",
     "text": [
      "0.8495833333333334 0.5143989431968296\n",
      "<bound method Pipeline.get_params of Pipeline(steps=[('tvec',\n",
      "                 TfidfVectorizer(lowercase=False, max_features=6000, min_df=0.0,\n",
      "                                 ngram_range=(1, 2), stop_words='english')),\n",
      "                ('to_dense',\n",
      "                 FunctionTransformer(accept_sparse=True,\n",
      "                                     func=<function <lambda> at 0x000001BE37D9AFC0>)),\n",
      "                ('svc',\n",
      "                 SVC(C=0.95, class_weight={0: 0.8, 1: 3, 2: 6}, kernel='linear',\n",
      "                     probability=True))])>\n"
     ]
    },
    {
     "data": {
      "image/png": "[encoded data removed]",
      "text/plain": [
       "<Figure size 640x480 with 2 Axes>"
      ]
     },
     "metadata": {},
     "output_type": "display_data"
    }
   ],
   "source": [
    "trial_model = gs.best_estimator_\n",
    "trial_model.fit(X_train,y_train)\n",
    "print(trial_model.score(X_train, y_train), trial_model.score(X_test, y_test))\n",
    "print(trial_model.get_params)\n",
    "\n",
    "preds = trial_model.predict(X_test)\n",
    "preds_prob = trial_model.predict_proba(X_test)\n",
    "hyper_pred_comparer = pd.DataFrame({\n",
    "    'cleaned_text':X_test\n",
    "    ,'actual':y_test\n",
    "    ,'pred':preds\n",
    "    ,'p_0':preds_prob[:,0]\n",
    "    ,'p_1':preds_prob[:,1]\n",
    "    ,'p_2':preds_prob[:,2]\n",
    "})\n",
    "\n",
    "ConfusionMatrixDisplay.from_estimator(trial_model,X_test,y_test, cmap='Greens');"
   ]
  },
  {
   "cell_type": "code",
   "execution_count": 44,
   "id": "86692be6",
   "metadata": {},
   "outputs": [
    {
     "data": {
      "text/plain": [
       "0.5084070796460176"
      ]
     },
     "execution_count": 44,
     "metadata": {},
     "output_type": "execute_result"
    }
   ],
   "source": [
    "class_twos = confusion_matrix(y_test, preds)[2]\n",
    "class_ones = confusion_matrix(y_test, preds)[1]\n",
    "(cw_values[1]*(class_ones[1]/sum(class_ones))+cw_values[2]*(class_twos[2]/sum(class_twos)))/sum(cw_values[1:])"
   ]
  },
  {
   "cell_type": "code",
   "execution_count": null,
   "id": "1fd97c74",
   "metadata": {},
   "outputs": [],
   "source": [
    "#This one totally has potential; eh wasn't that much higher than cvc. Regardless, feel the potential in them. I don't recall\n",
    "#the relative recallfor 6k features with Tiffany x LogReg, but I think it was close to this. Regardless, unfortunately, the reality\n",
    "#of our current computer computation makes this unfeasaible in the present."
   ]
  },
  {
   "cell_type": "markdown",
   "id": "8b6bfd9d",
   "metadata": {},
   "source": [
    "Per the nature of trees to overfit, I'm quite afraid this will not go anywhere. As, we already have a huge overfitting problem, in general and exapserated (sp?) via the repeated data. However, I am forcing myself to do at least one tree based model, on principal of not having used them before in my work at GA."
   ]
  },
  {
   "cell_type": "code",
   "execution_count": null,
   "id": "c50c855e",
   "metadata": {},
   "outputs": [],
   "source": [
    "#Future ground for forests\n",
    "pipe = Pipeline([\n",
    "    ('cvec', CountVectorizer(lowercase=False))\n",
    "    ,('to_dense', FunctionTransformer(lambda x: x.toarray(), accept_sparse=True))\n",
    "    ,('conb', ComplementNB())\n",
    "])\n",
    "pipe_params = {'cvec__min_df' : [.0]\n",
    "               ,'cvec__max_df' : [.95]\n",
    "               ,'cvec__ngram_range' : [(1,3)]\n",
    "               ,'cvec__max_features' : [16000, 20000]\n",
    "               ,'cvec__stop_words' : ['english']\n",
    "               ,'conb__alpha': [.9, .85]\n",
    "              }\n",
    "scorer = make_scorer(custom_recall, weight_list=cw_values[1:]) #Note the 1: as we're now ignoring 0 for the scoring\n",
    "gs = GridSearchCV(pipe\n",
    "                  ,param_grid=pipe_params\n",
    "                  ,cv=5\n",
    "                  ,scoring=scorer\n",
    "                 )\n",
    "\n",
    "gs.fit(X_train, y_train)\n",
    "\n",
    "print(gs.score(X_train, y_train), gs.score(X_test, y_test))\n",
    "print(gs.best_score_)\n",
    "print(gs.best_params_)"
   ]
  },
  {
   "cell_type": "code",
   "execution_count": null,
   "id": "4560da3e",
   "metadata": {},
   "outputs": [],
   "source": [
    "trial_model = gs.best_estimator_\n",
    "trial_model.fit(X_train,y_train)\n",
    "print(trial_model.score(X_train, y_train), trial_model.score(X_test, y_test))\n",
    "print(trial_model.get_params)\n",
    "\n",
    "preds = trial_model.predict(X_test)\n",
    "preds_prob = trial_model.predict_proba(X_test)\n",
    "hyper_pred_comparer = pd.DataFrame({\n",
    "    'cleaned_text':X_test\n",
    "    ,'actual':y_test\n",
    "    ,'pred':preds\n",
    "    ,'p_0':preds_prob[:,0]\n",
    "    ,'p_1':preds_prob[:,1]\n",
    "    ,'p_2':preds_prob[:,2]\n",
    "})\n",
    "\n",
    "ConfusionMatrixDisplay.from_estimator(trial_model,X_test,y_test, cmap='Greens');"
   ]
  },
  {
   "cell_type": "code",
   "execution_count": null,
   "id": "363ef947",
   "metadata": {},
   "outputs": [],
   "source": [
    "class_twos = confusion_matrix(y_test, preds)[2]\n",
    "class_ones = confusion_matrix(y_test, preds)[1]\n",
    "(cw_values[1]*(class_ones[1]/sum(class_ones))+cw_values[2]*(class_twos[2]/sum(class_twos)))/sum(cw_values[1:])"
   ]
  },
  {
   "cell_type": "code",
   "execution_count": null,
   "id": "eeb312a3",
   "metadata": {},
   "outputs": [],
   "source": [
    "#Future ground for forests\n",
    "pipe = Pipeline([\n",
    "    ('tvec', TfidfVectorizer(lowercase=False))\n",
    "    ,('to_dense', FunctionTransformer(lambda x: x.toarray(), accept_sparse=True))\n",
    "    ,('svc', SVC())\n",
    "])\n",
    "pipe_params = {'tvec__min_df' : [.0]\n",
    "               ,'tvec__max_df' : [1.0]\n",
    "               ,'tvec__ngram_range' : [(1,2), (1,1)]\n",
    "               ,'tvec__max_features' : [2000, 4000]\n",
    "               ,'tvec__stop_words' : ['english']\n",
    "               ,'svc__kernel': ['linear']\n",
    "               ,'svc__C': [.95]\n",
    "              }\n",
    "scorer = make_scorer(custom_recall, weight_list=cw_values[1:]) #Note the 1: as we're now ignoring 0 for the scoring\n",
    "gs = GridSearchCV(pipe\n",
    "                  ,param_grid=pipe_params\n",
    "                  ,cv=5\n",
    "                  ,scoring=scorer\n",
    "                 )\n",
    "\n",
    "gs.fit(X_train, y_train)\n",
    "\n",
    "print(gs.score(X_train, y_train), gs.score(X_test, y_test))\n",
    "print(gs.best_score_)\n",
    "print(gs.best_params_)"
   ]
  },
  {
   "cell_type": "code",
   "execution_count": null,
   "id": "14a2b171",
   "metadata": {},
   "outputs": [],
   "source": [
    "trial_model = gs.best_estimator_\n",
    "trial_model.fit(X_train,y_train)\n",
    "print(trial_model.score(X_train, y_train), trial_model.score(X_test, y_test))\n",
    "print(trial_model.get_params)\n",
    "\n",
    "preds = trial_model.predict(X_test)\n",
    "preds_prob = trial_model.predict_proba(X_test)\n",
    "hyper_pred_comparer = pd.DataFrame({\n",
    "    'cleaned_text':X_test\n",
    "    ,'actual':y_test\n",
    "    ,'pred':preds\n",
    "    ,'p_0':preds_prob[:,0]\n",
    "    ,'p_1':preds_prob[:,1]\n",
    "    ,'p_2':preds_prob[:,2]\n",
    "})\n",
    "\n",
    "ConfusionMatrixDisplay.from_estimator(trial_model,X_test,y_test, cmap='Greens');"
   ]
  },
  {
   "cell_type": "code",
   "execution_count": null,
   "id": "09e6077d",
   "metadata": {},
   "outputs": [],
   "source": [
    "class_twos = confusion_matrix(y_test, preds)[2]\n",
    "class_ones = confusion_matrix(y_test, preds)[1]\n",
    "(cw_values[1]*(class_ones[1]/sum(class_ones))+cw_values[2]*(class_twos[2]/sum(class_twos)))/sum(cw_values[1:])"
   ]
  },
  {
   "cell_type": "markdown",
   "id": "f4e4b1a8",
   "metadata": {},
   "source": [
    "## Moving on\n",
    "\n",
    "So, unsurprisingly we'll be going with TIffany's LogReg. However, let's try to see if we can improve accuracy by a number of other features:"
   ]
  },
  {
   "cell_type": "code",
   "execution_count": 45,
   "id": "649ab372",
   "metadata": {},
   "outputs": [
    {
     "name": "stdout",
     "output_type": "stream",
     "text": [
      "(39565, 60)\n"
     ]
    },
    {
     "data": {
      "text/html": [
       "<div>\n",
       "<style scoped>\n",
       "    .dataframe tbody tr th:only-of-type {\n",
       "        vertical-align: middle;\n",
       "    }\n",
       "\n",
       "    .dataframe tbody tr th {\n",
       "        vertical-align: top;\n",
       "    }\n",
       "\n",
       "    .dataframe thead th {\n",
       "        text-align: right;\n",
       "    }\n",
       "</style>\n",
       "<table border=\"1\" class=\"dataframe\">\n",
       "  <thead>\n",
       "    <tr style=\"text-align: right;\">\n",
       "      <th></th>\n",
       "      <th>platform</th>\n",
       "      <th>text</th>\n",
       "      <th>hate_speech_score</th>\n",
       "      <th>target_race_asian</th>\n",
       "      <th>target_race_black</th>\n",
       "      <th>target_race_latinx</th>\n",
       "      <th>target_race_middle_eastern</th>\n",
       "      <th>target_race_native_american</th>\n",
       "      <th>target_race_pacific_islander</th>\n",
       "      <th>target_race_white</th>\n",
       "      <th>...</th>\n",
       "      <th>target_disability_neurological</th>\n",
       "      <th>target_disability_visually_impaired</th>\n",
       "      <th>target_disability_hearing_impaired</th>\n",
       "      <th>target_disability_unspecific</th>\n",
       "      <th>target_disability_other</th>\n",
       "      <th>target_disability</th>\n",
       "      <th>hate_rank</th>\n",
       "      <th>capital_sentance</th>\n",
       "      <th>cleaned_text</th>\n",
       "      <th>wc_cleaned_text</th>\n",
       "    </tr>\n",
       "  </thead>\n",
       "  <tbody>\n",
       "    <tr>\n",
       "      <th>0</th>\n",
       "      <td>0</td>\n",
       "      <td>White people are trash.</td>\n",
       "      <td>0.46</td>\n",
       "      <td>0.0</td>\n",
       "      <td>0.0</td>\n",
       "      <td>0.0</td>\n",
       "      <td>0.0</td>\n",
       "      <td>0.0</td>\n",
       "      <td>0.0</td>\n",
       "      <td>1.0</td>\n",
       "      <td>...</td>\n",
       "      <td>0.0</td>\n",
       "      <td>0.0</td>\n",
       "      <td>0.0</td>\n",
       "      <td>0.0</td>\n",
       "      <td>0.0</td>\n",
       "      <td>0.0</td>\n",
       "      <td>0</td>\n",
       "      <td>0</td>\n",
       "      <td>white peopl are trash</td>\n",
       "      <td>4</td>\n",
       "    </tr>\n",
       "    <tr>\n",
       "      <th>1</th>\n",
       "      <td>0</td>\n",
       "      <td>You've caught the big gay, it's known to be ai...</td>\n",
       "      <td>0.03</td>\n",
       "      <td>0.0</td>\n",
       "      <td>0.0</td>\n",
       "      <td>0.0</td>\n",
       "      <td>0.0</td>\n",
       "      <td>0.0</td>\n",
       "      <td>0.0</td>\n",
       "      <td>0.0</td>\n",
       "      <td>...</td>\n",
       "      <td>0.0</td>\n",
       "      <td>0.0</td>\n",
       "      <td>0.0</td>\n",
       "      <td>0.0</td>\n",
       "      <td>0.0</td>\n",
       "      <td>0.0</td>\n",
       "      <td>0</td>\n",
       "      <td>0</td>\n",
       "      <td>you ve caught the big gay it s known to be air...</td>\n",
       "      <td>14</td>\n",
       "    </tr>\n",
       "    <tr>\n",
       "      <th>2</th>\n",
       "      <td>0</td>\n",
       "      <td>I'm not saying you said that, I'm just saying ...</td>\n",
       "      <td>-1.29</td>\n",
       "      <td>0.0</td>\n",
       "      <td>1.0</td>\n",
       "      <td>0.0</td>\n",
       "      <td>0.0</td>\n",
       "      <td>0.0</td>\n",
       "      <td>0.0</td>\n",
       "      <td>0.0</td>\n",
       "      <td>...</td>\n",
       "      <td>0.0</td>\n",
       "      <td>0.0</td>\n",
       "      <td>0.0</td>\n",
       "      <td>0.0</td>\n",
       "      <td>0.0</td>\n",
       "      <td>0.0</td>\n",
       "      <td>0</td>\n",
       "      <td>0</td>\n",
       "      <td>i m not say you said that i m just say that if...</td>\n",
       "      <td>75</td>\n",
       "    </tr>\n",
       "    <tr>\n",
       "      <th>3</th>\n",
       "      <td>0</td>\n",
       "      <td>Donald Trump. Yeet myself off a building onto ...</td>\n",
       "      <td>-0.24</td>\n",
       "      <td>0.0</td>\n",
       "      <td>0.0</td>\n",
       "      <td>0.0</td>\n",
       "      <td>0.0</td>\n",
       "      <td>0.0</td>\n",
       "      <td>0.0</td>\n",
       "      <td>0.0</td>\n",
       "      <td>...</td>\n",
       "      <td>0.0</td>\n",
       "      <td>0.0</td>\n",
       "      <td>0.0</td>\n",
       "      <td>0.0</td>\n",
       "      <td>0.0</td>\n",
       "      <td>0.0</td>\n",
       "      <td>0</td>\n",
       "      <td>0</td>\n",
       "      <td>donald trump yeet myself off a build onto a ga...</td>\n",
       "      <td>20</td>\n",
       "    </tr>\n",
       "    <tr>\n",
       "      <th>4</th>\n",
       "      <td>0</td>\n",
       "      <td>Fabrice Fabrice is ostensibly black or black/l...</td>\n",
       "      <td>-2.84</td>\n",
       "      <td>0.0</td>\n",
       "      <td>1.0</td>\n",
       "      <td>1.0</td>\n",
       "      <td>0.0</td>\n",
       "      <td>0.0</td>\n",
       "      <td>0.0</td>\n",
       "      <td>0.0</td>\n",
       "      <td>...</td>\n",
       "      <td>0.0</td>\n",
       "      <td>0.0</td>\n",
       "      <td>0.0</td>\n",
       "      <td>0.0</td>\n",
       "      <td>0.0</td>\n",
       "      <td>0.0</td>\n",
       "      <td>0</td>\n",
       "      <td>0</td>\n",
       "      <td>fabric fabric is ostens black or black latino ...</td>\n",
       "      <td>19</td>\n",
       "    </tr>\n",
       "  </tbody>\n",
       "</table>\n",
       "<p>5 rows × 60 columns</p>\n",
       "</div>"
      ],
      "text/plain": [
       "   platform                                               text  \\\n",
       "0         0                            White people are trash.   \n",
       "1         0  You've caught the big gay, it's known to be ai...   \n",
       "2         0  I'm not saying you said that, I'm just saying ...   \n",
       "3         0  Donald Trump. Yeet myself off a building onto ...   \n",
       "4         0  Fabrice Fabrice is ostensibly black or black/l...   \n",
       "\n",
       "   hate_speech_score  target_race_asian  target_race_black  \\\n",
       "0               0.46                0.0                0.0   \n",
       "1               0.03                0.0                0.0   \n",
       "2              -1.29                0.0                1.0   \n",
       "3              -0.24                0.0                0.0   \n",
       "4              -2.84                0.0                1.0   \n",
       "\n",
       "   target_race_latinx  target_race_middle_eastern  \\\n",
       "0                 0.0                         0.0   \n",
       "1                 0.0                         0.0   \n",
       "2                 0.0                         0.0   \n",
       "3                 0.0                         0.0   \n",
       "4                 1.0                         0.0   \n",
       "\n",
       "   target_race_native_american  target_race_pacific_islander  \\\n",
       "0                          0.0                           0.0   \n",
       "1                          0.0                           0.0   \n",
       "2                          0.0                           0.0   \n",
       "3                          0.0                           0.0   \n",
       "4                          0.0                           0.0   \n",
       "\n",
       "   target_race_white  ...  target_disability_neurological  \\\n",
       "0                1.0  ...                             0.0   \n",
       "1                0.0  ...                             0.0   \n",
       "2                0.0  ...                             0.0   \n",
       "3                0.0  ...                             0.0   \n",
       "4                0.0  ...                             0.0   \n",
       "\n",
       "   target_disability_visually_impaired  target_disability_hearing_impaired  \\\n",
       "0                                  0.0                                 0.0   \n",
       "1                                  0.0                                 0.0   \n",
       "2                                  0.0                                 0.0   \n",
       "3                                  0.0                                 0.0   \n",
       "4                                  0.0                                 0.0   \n",
       "\n",
       "   target_disability_unspecific  target_disability_other  target_disability  \\\n",
       "0                           0.0                      0.0                0.0   \n",
       "1                           0.0                      0.0                0.0   \n",
       "2                           0.0                      0.0                0.0   \n",
       "3                           0.0                      0.0                0.0   \n",
       "4                           0.0                      0.0                0.0   \n",
       "\n",
       "   hate_rank  capital_sentance  \\\n",
       "0          0                 0   \n",
       "1          0                 0   \n",
       "2          0                 0   \n",
       "3          0                 0   \n",
       "4          0                 0   \n",
       "\n",
       "                                        cleaned_text  wc_cleaned_text  \n",
       "0                              white peopl are trash                4  \n",
       "1  you ve caught the big gay it s known to be air...               14  \n",
       "2  i m not say you said that i m just say that if...               75  \n",
       "3  donald trump yeet myself off a build onto a ga...               20  \n",
       "4  fabric fabric is ostens black or black latino ...               19  \n",
       "\n",
       "[5 rows x 60 columns]"
      ]
     },
     "execution_count": 45,
     "metadata": {},
     "output_type": "execute_result"
    }
   ],
   "source": [
    "df = pd.read_csv('../data/cleaned_02_ii.csv')\n",
    "print(df.shape)\n",
    "df.head()"
   ]
  },
  {
   "cell_type": "markdown",
   "id": "dde6d323",
   "metadata": {},
   "source": [
    "Besides what we laboured for re. text, we have:<br>\n",
    "Platform<br>\n",
    "Capital Sentance<br>\n",
    "WC Cleaned Text<br>\n",
    "\n",
    "Yeah, it's time for a new notebook. I'll go up earlie and pickle the model then."
   ]
  }
 ],
 "metadata": {
  "kernelspec": {
   "display_name": "Python 3 (ipykernel)",
   "language": "python",
   "name": "python3"
  },
  "language_info": {
   "codemirror_mode": {
    "name": "ipython",
    "version": 3
   },
   "file_extension": ".py",
   "mimetype": "text/x-python",
   "name": "python",
   "nbconvert_exporter": "python",
   "pygments_lexer": "ipython3",
   "version": "3.11.5"
  }
 },
 "nbformat": 4,
 "nbformat_minor": 5
}
